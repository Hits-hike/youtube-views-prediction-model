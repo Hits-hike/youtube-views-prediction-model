{
 "cells": [
  {
   "cell_type": "markdown",
   "metadata": {},
   "source": [
    "# Collecting English data using youtube api"
   ]
  },
  {
   "cell_type": "markdown",
   "metadata": {},
   "source": [
    "AWS를 통한 thumbnail text 분석을 위해 영어로 된 정보를 수집한다.\n",
    "1. collect a vedio data list with English keyword\n",
    "2. collect view count\n",
    "3. make csv file"
   ]
  },
  {
   "cell_type": "code",
   "execution_count": 1,
   "metadata": {
    "scrolled": true
   },
   "outputs": [],
   "source": [
    "import pandas as pd\n",
    "from googleapiclient.discovery import build\n",
    "import config\n",
    "from urllib.request import urlopen"
   ]
  },
  {
   "cell_type": "code",
   "execution_count": 2,
   "metadata": {},
   "outputs": [],
   "source": [
    "youtube = build('youtube', 'v3', developerKey = config.API_KEY)"
   ]
  },
  {
   "cell_type": "code",
   "execution_count": 3,
   "metadata": {},
   "outputs": [
    {
     "data": {
      "text/plain": [
       "\"\\ndf = pd.DataFrame(\\n        columns = ['title', 'video_id', 'channel_name', 'channel_id', 'thumbnail', 'publish_time', 'view', 'thumbnail_text'])\\ndf\\n\""
      ]
     },
     "execution_count": 3,
     "metadata": {},
     "output_type": "execute_result"
    }
   ],
   "source": [
    "#첫 수집 시\n",
    "'''\n",
    "df = pd.DataFrame(\n",
    "        columns = ['title', 'video_id', 'channel_name', 'channel_id', 'thumbnail', 'publish_time', 'view', 'thumbnail_text'])\n",
    "df\n",
    "'''"
   ]
  },
  {
   "cell_type": "code",
   "execution_count": 3,
   "metadata": {},
   "outputs": [
    {
     "data": {
      "text/html": [
       "<div>\n",
       "<style scoped>\n",
       "    .dataframe tbody tr th:only-of-type {\n",
       "        vertical-align: middle;\n",
       "    }\n",
       "\n",
       "    .dataframe tbody tr th {\n",
       "        vertical-align: top;\n",
       "    }\n",
       "\n",
       "    .dataframe thead th {\n",
       "        text-align: right;\n",
       "    }\n",
       "</style>\n",
       "<table border=\"1\" class=\"dataframe\">\n",
       "  <thead>\n",
       "    <tr style=\"text-align: right;\">\n",
       "      <th></th>\n",
       "      <th>title</th>\n",
       "      <th>video_id</th>\n",
       "      <th>channel_name</th>\n",
       "      <th>channel_id</th>\n",
       "      <th>thumbnail</th>\n",
       "      <th>publish_time</th>\n",
       "      <th>view</th>\n",
       "      <th>thumbnail_text</th>\n",
       "    </tr>\n",
       "  </thead>\n",
       "  <tbody>\n",
       "    <tr>\n",
       "      <th>0</th>\n",
       "      <td>VLOG: МЫ ТАК ПОДУМАЛИ! 25.05.21</td>\n",
       "      <td>kaibm6LSmb4</td>\n",
       "      <td>Katy LifeVlog</td>\n",
       "      <td>UCpm6vCgiehSKHtMFFS5ukiA</td>\n",
       "      <td>https://i.ytimg.com/vi/kaibm6LSmb4/mqdefault.jpg</td>\n",
       "      <td>2021-05-26T02:30:05Z</td>\n",
       "      <td>101580</td>\n",
       "      <td>{'TextDetections': [{'DetectedText': 'Sweets',...</td>\n",
       "    </tr>\n",
       "    <tr>\n",
       "      <th>1</th>\n",
       "      <td>RC Car with Train Horns on Golf Course</td>\n",
       "      <td>zYgAf2eu8sQ</td>\n",
       "      <td>Vlog Creations</td>\n",
       "      <td>UCR0VLWitB2xM4q7tjkoJUPw</td>\n",
       "      <td>https://i.ytimg.com/vi/zYgAf2eu8sQ/mqdefault.jpg</td>\n",
       "      <td>2021-05-24T16:00:21Z</td>\n",
       "      <td>1147867</td>\n",
       "      <td>{'TextDetections': [{'DetectedText': 'INSURANC...</td>\n",
       "    </tr>\n",
       "    <tr>\n",
       "      <th>2</th>\n",
       "      <td>Brought my FATHER&amp;#39;s PILLOW to sleep | Ss V...</td>\n",
       "      <td>OtACAGFKpn8</td>\n",
       "      <td>Sambhavna Seth Entertainment</td>\n",
       "      <td>UChZ0JmGgyOWSU-1iXxPhsVA</td>\n",
       "      <td>https://i.ytimg.com/vi/OtACAGFKpn8/mqdefault.jpg</td>\n",
       "      <td>2021-05-26T06:25:15Z</td>\n",
       "      <td>429219</td>\n",
       "      <td>{'TextDetections': [{'DetectedText': 'for', 'T...</td>\n",
       "    </tr>\n",
       "    <tr>\n",
       "      <th>3</th>\n",
       "      <td>6AM PRODUCTIVE online school morning routine/v...</td>\n",
       "      <td>2_q4T1abM8Q</td>\n",
       "      <td>Kristy Bae</td>\n",
       "      <td>UCiLSb-cS_0pkjIYsm9oOB0w</td>\n",
       "      <td>https://i.ytimg.com/vi/2_q4T1abM8Q/mqdefault.jpg</td>\n",
       "      <td>2021-04-29T14:00:02Z</td>\n",
       "      <td>607709</td>\n",
       "      <td>{'TextDetections': [{'DetectedText': 'I', 'Typ...</td>\n",
       "    </tr>\n",
       "    <tr>\n",
       "      <th>4</th>\n",
       "      <td>My Funniest Vlog Ever 😂 Ayachi Thakur Vlogs</td>\n",
       "      <td>tHD5ajeSxKQ</td>\n",
       "      <td>Ayachi Thakur Vlogs</td>\n",
       "      <td>UC8RXP2epKG3uiPO5QYQyGqg</td>\n",
       "      <td>https://i.ytimg.com/vi/tHD5ajeSxKQ/mqdefault.jpg</td>\n",
       "      <td>2021-05-26T01:30:07Z</td>\n",
       "      <td>46413</td>\n",
       "      <td>{'TextDetections': [], 'TextModelVersion': '3....</td>\n",
       "    </tr>\n",
       "    <tr>\n",
       "      <th>...</th>\n",
       "      <td>...</td>\n",
       "      <td>...</td>\n",
       "      <td>...</td>\n",
       "      <td>...</td>\n",
       "      <td>...</td>\n",
       "      <td>...</td>\n",
       "      <td>...</td>\n",
       "      <td>...</td>\n",
       "    </tr>\n",
       "    <tr>\n",
       "      <th>8020</th>\n",
       "      <td>SI YO FUERA MADRE | Lyna Vlogs</td>\n",
       "      <td>HG6Qkqv5eBQ</td>\n",
       "      <td>Lyna Vlogs</td>\n",
       "      <td>UCRtkuS3Wz0hYgfJjpvEEP4Q</td>\n",
       "      <td>https://i.ytimg.com/vi/HG6Qkqv5eBQ/default.jpg</td>\n",
       "      <td>2017-10-08T22:39:42Z</td>\n",
       "      <td>4884575</td>\n",
       "      <td>not-yet</td>\n",
       "    </tr>\n",
       "    <tr>\n",
       "      <th>8021</th>\n",
       "      <td>| DHARAN | Dasain Vlog 2017 | Bhedetar</td>\n",
       "      <td>ZqPTPoyr2M4</td>\n",
       "      <td>Sisan Baniya</td>\n",
       "      <td>UC6SEUWgSEUOTKdwdRV7IRhA</td>\n",
       "      <td>https://i.ytimg.com/vi/ZqPTPoyr2M4/default.jpg</td>\n",
       "      <td>2017-10-09T06:36:39Z</td>\n",
       "      <td>296289</td>\n",
       "      <td>not-yet</td>\n",
       "    </tr>\n",
       "    <tr>\n",
       "      <th>8022</th>\n",
       "      <td>VLOG! ALA E TRUMP!</td>\n",
       "      <td>sA3Z_aHJrh8</td>\n",
       "      <td>MaxINFINITE</td>\n",
       "      <td>UCcLZdjaJEC_6RqfM3PhefIw</td>\n",
       "      <td>https://i.ytimg.com/vi/sA3Z_aHJrh8/default.jpg</td>\n",
       "      <td>2017-10-07T08:32:58Z</td>\n",
       "      <td>491894</td>\n",
       "      <td>not-yet</td>\n",
       "    </tr>\n",
       "    <tr>\n",
       "      <th>8023</th>\n",
       "      <td>VLOG #78: Hướng dẫn đi máy bay cho người đi lầ...</td>\n",
       "      <td>cwlD15TESUI</td>\n",
       "      <td>Yêu Máy Bay</td>\n",
       "      <td>UC6iYLWyzdYKMpnWbplhBrxg</td>\n",
       "      <td>https://i.ytimg.com/vi/cwlD15TESUI/default.jpg</td>\n",
       "      <td>2017-10-03T10:07:44Z</td>\n",
       "      <td>512585</td>\n",
       "      <td>not-yet</td>\n",
       "    </tr>\n",
       "    <tr>\n",
       "      <th>8024</th>\n",
       "      <td>ΦΑΡΑΓΓΙ ΣΑΜΑΡΙΑΣ 🏞 ΕΜΠΕΙΡΙΑ ΖΩΗΣ!!!</td>\n",
       "      <td>Z98soCaPJ-s</td>\n",
       "      <td>Ευτύχης Μπλέτσας</td>\n",
       "      <td>UCVO2_vAXqk-84iByks7GvaA</td>\n",
       "      <td>https://i.ytimg.com/vi/Z98soCaPJ-s/default.jpg</td>\n",
       "      <td>2017-10-21T12:00:07Z</td>\n",
       "      <td>92267</td>\n",
       "      <td>not-yet</td>\n",
       "    </tr>\n",
       "  </tbody>\n",
       "</table>\n",
       "<p>8025 rows × 8 columns</p>\n",
       "</div>"
      ],
      "text/plain": [
       "                                                  title     video_id  \\\n",
       "0                       VLOG: МЫ ТАК ПОДУМАЛИ! 25.05.21  kaibm6LSmb4   \n",
       "1                RC Car with Train Horns on Golf Course  zYgAf2eu8sQ   \n",
       "2     Brought my FATHER&#39;s PILLOW to sleep | Ss V...  OtACAGFKpn8   \n",
       "3     6AM PRODUCTIVE online school morning routine/v...  2_q4T1abM8Q   \n",
       "4           My Funniest Vlog Ever 😂 Ayachi Thakur Vlogs  tHD5ajeSxKQ   \n",
       "...                                                 ...          ...   \n",
       "8020                     SI YO FUERA MADRE | Lyna Vlogs  HG6Qkqv5eBQ   \n",
       "8021             | DHARAN | Dasain Vlog 2017 | Bhedetar  ZqPTPoyr2M4   \n",
       "8022                                 VLOG! ALA E TRUMP!  sA3Z_aHJrh8   \n",
       "8023  VLOG #78: Hướng dẫn đi máy bay cho người đi lầ...  cwlD15TESUI   \n",
       "8024                ΦΑΡΑΓΓΙ ΣΑΜΑΡΙΑΣ 🏞 ΕΜΠΕΙΡΙΑ ΖΩΗΣ!!!  Z98soCaPJ-s   \n",
       "\n",
       "                      channel_name                channel_id  \\\n",
       "0                    Katy LifeVlog  UCpm6vCgiehSKHtMFFS5ukiA   \n",
       "1                   Vlog Creations  UCR0VLWitB2xM4q7tjkoJUPw   \n",
       "2     Sambhavna Seth Entertainment  UChZ0JmGgyOWSU-1iXxPhsVA   \n",
       "3                       Kristy Bae  UCiLSb-cS_0pkjIYsm9oOB0w   \n",
       "4              Ayachi Thakur Vlogs  UC8RXP2epKG3uiPO5QYQyGqg   \n",
       "...                            ...                       ...   \n",
       "8020                    Lyna Vlogs  UCRtkuS3Wz0hYgfJjpvEEP4Q   \n",
       "8021                  Sisan Baniya  UC6SEUWgSEUOTKdwdRV7IRhA   \n",
       "8022                   MaxINFINITE  UCcLZdjaJEC_6RqfM3PhefIw   \n",
       "8023                   Yêu Máy Bay  UC6iYLWyzdYKMpnWbplhBrxg   \n",
       "8024              Ευτύχης Μπλέτσας  UCVO2_vAXqk-84iByks7GvaA   \n",
       "\n",
       "                                             thumbnail          publish_time  \\\n",
       "0     https://i.ytimg.com/vi/kaibm6LSmb4/mqdefault.jpg  2021-05-26T02:30:05Z   \n",
       "1     https://i.ytimg.com/vi/zYgAf2eu8sQ/mqdefault.jpg  2021-05-24T16:00:21Z   \n",
       "2     https://i.ytimg.com/vi/OtACAGFKpn8/mqdefault.jpg  2021-05-26T06:25:15Z   \n",
       "3     https://i.ytimg.com/vi/2_q4T1abM8Q/mqdefault.jpg  2021-04-29T14:00:02Z   \n",
       "4     https://i.ytimg.com/vi/tHD5ajeSxKQ/mqdefault.jpg  2021-05-26T01:30:07Z   \n",
       "...                                                ...                   ...   \n",
       "8020    https://i.ytimg.com/vi/HG6Qkqv5eBQ/default.jpg  2017-10-08T22:39:42Z   \n",
       "8021    https://i.ytimg.com/vi/ZqPTPoyr2M4/default.jpg  2017-10-09T06:36:39Z   \n",
       "8022    https://i.ytimg.com/vi/sA3Z_aHJrh8/default.jpg  2017-10-07T08:32:58Z   \n",
       "8023    https://i.ytimg.com/vi/cwlD15TESUI/default.jpg  2017-10-03T10:07:44Z   \n",
       "8024    https://i.ytimg.com/vi/Z98soCaPJ-s/default.jpg  2017-10-21T12:00:07Z   \n",
       "\n",
       "         view                                     thumbnail_text  \n",
       "0      101580  {'TextDetections': [{'DetectedText': 'Sweets',...  \n",
       "1     1147867  {'TextDetections': [{'DetectedText': 'INSURANC...  \n",
       "2      429219  {'TextDetections': [{'DetectedText': 'for', 'T...  \n",
       "3      607709  {'TextDetections': [{'DetectedText': 'I', 'Typ...  \n",
       "4       46413  {'TextDetections': [], 'TextModelVersion': '3....  \n",
       "...       ...                                                ...  \n",
       "8020  4884575                                            not-yet  \n",
       "8021   296289                                            not-yet  \n",
       "8022   491894                                            not-yet  \n",
       "8023   512585                                            not-yet  \n",
       "8024    92267                                            not-yet  \n",
       "\n",
       "[8025 rows x 8 columns]"
      ]
     },
     "execution_count": 3,
     "metadata": {},
     "output_type": "execute_result"
    }
   ],
   "source": [
    "data_original = pd.read_csv(\"./english_data_including_thumbnailtext.csv\")\n",
    "df = pd.DataFrame(data_original)\n",
    "df"
   ]
  },
  {
   "cell_type": "markdown",
   "metadata": {},
   "source": [
    "## 1. Collect a vedio data list with English keyword \n",
    "- title\n",
    "- vedioid\n",
    "- channelname\n",
    "- channelid\n",
    "- thumbnailurl\n",
    "- publish time"
   ]
  },
  {
   "cell_type": "code",
   "execution_count": 5,
   "metadata": {},
   "outputs": [],
   "source": [
    "#들어온 날짜의 바로 이전달 1일 계산\n",
    "def calcuate_next_publish_time(time):\n",
    "    if(time[5:7]=='01'):\n",
    "        return '%04d-12-01T00:00:00Z'%(int(time[:4])-1)\n",
    "    else:\n",
    "        return time[:5]+'%02d-01T00:00:00Z'%(int(time[5:7])-1)"
   ]
  },
  {
   "cell_type": "code",
   "execution_count": 5,
   "metadata": {},
   "outputs": [
    {
     "name": "stdout",
     "output_type": "stream",
     "text": [
      "2018-10-01T00:00:00Z\n"
     ]
    }
   ],
   "source": [
    "start_time = 'today'\n",
    "for index in range(len(df)):\n",
    "    if(df['publish_time'][index]!='not-yet'):\n",
    "        start_time=df['publish_time'][index]\n",
    "    else:\n",
    "        break\n",
    "start_time = start_time[:8]+'01T00:00:00Z'\n",
    "print(start_time)"
   ]
  },
  {
   "cell_type": "code",
   "execution_count": 6,
   "metadata": {},
   "outputs": [
    {
     "name": "stdout",
     "output_type": "stream",
     "text": [
      "2018-09-01T00:00:00Z\n"
     ]
    }
   ],
   "source": [
    "start_time = calcuate_next_publish_time(start_time)\n",
    "print(start_time)"
   ]
  },
  {
   "cell_type": "code",
   "execution_count": 7,
   "metadata": {},
   "outputs": [],
   "source": [
    "def get_youtube_vedio_search_list(keyword, start_time):    \n",
    "    page_token = ''\n",
    "    while(len(df)<8000):\n",
    "        search_response = youtube.search().list(\n",
    "            q = keyword,\n",
    "            type='video',\n",
    "            part = 'snippet, id',\n",
    "            maxResults = 50,\n",
    "            regionCode = 'US',\n",
    "            pageToken = page_token,\n",
    "            publishedBefore = start_time,\n",
    "            publishedAfter = calcuate_next_publish_time(start_time)\n",
    "        ).execute()\n",
    "\n",
    "        new_data = {'title':'not-yet', 'video_id':'not-yet', 'channel_name':'not-yet', 'channel_id':'not-yet', 'thumbnail':'not-yet', 'publish_time':'not-yet', 'view':-1, 'thumbnail_text':'not-yet'}\n",
    "\n",
    "        for item in search_response['items']:\n",
    "            new_data['title'] = item['snippet']['title']\n",
    "            new_data['video_id'] = item['id']['videoId']\n",
    "            new_data['channel_name'] = item['snippet']['channelTitle']\n",
    "            new_data['channel_id'] = item['snippet']['channelId']\n",
    "            new_data['thumbnail'] = item['snippet']['thumbnails']['default']['url']\n",
    "            new_data['publish_time'] = item['snippet']['publishTime']\n",
    "            df.loc[len(df)] = new_data\n",
    "\n",
    "        if ('nextPageToken' in search_response):\n",
    "            page_token = search_response['nextPageToken']\n",
    "        else:\n",
    "            print('count : ', len(df))\n",
    "            start_time = calcuate_next_publish_time(start_time)\n",
    "            page_token=''"
   ]
  },
  {
   "cell_type": "code",
   "execution_count": 8,
   "metadata": {},
   "outputs": [
    {
     "name": "stdout",
     "output_type": "stream",
     "text": [
      "count :  4865\n",
      "count :  5375\n",
      "count :  5624\n",
      "count :  5865\n",
      "count :  6114\n",
      "count :  6628\n",
      "count :  6826\n",
      "count :  7086\n",
      "count :  7591\n",
      "count :  7836\n",
      "unique data num: 8036\n"
     ]
    }
   ],
   "source": [
    "get_youtube_vedio_search_list('vlog', start_time)\n",
    "print('unique data num: ' + str(len(df)))"
   ]
  },
  {
   "cell_type": "code",
   "execution_count": 1,
   "metadata": {},
   "outputs": [
    {
     "data": {
      "text/plain": [
       "\"\\n#url open 불가한 영상 삭제\\n#df['thumbnail_byte']='not-yet'\\n\\nprint(len(df))\\nstart_index = len(df)\\nfor index in range(len(df)):\\n    if(df['thumbnail_text'][index]=='not-yet'):\\n        start_index=index\\n        break\\nprint('start_index:', start_index)\\n\\nfor index in range(start_index, len(df)):\\n    try:\\n        df['thumbnail_text'][index] = urlopen(df['thumbnail'][index]).read()\\n        print(index)\\n    except:\\n        df.drop(index, inplace=True)\\n        print('drop', index)\\n\\nprint(len(df))\\n\""
      ]
     },
     "execution_count": 1,
     "metadata": {},
     "output_type": "execute_result"
    }
   ],
   "source": [
    "'''\n",
    "#url open 불가한 영상 삭제\n",
    "#df['thumbnail_byte']='not-yet'\n",
    "\n",
    "print(len(df))\n",
    "start_index = len(df)\n",
    "for index in range(len(df)):\n",
    "    if(df['thumbnail_text'][index]=='not-yet'):\n",
    "        start_index=index\n",
    "        break\n",
    "print('start_index:', start_index)\n",
    "\n",
    "for index in range(start_index, len(df)):\n",
    "    try:\n",
    "        df['thumbnail_text'][index] = urlopen(df['thumbnail'][index]).read()\n",
    "        print(index)\n",
    "    except:\n",
    "        df.drop(index, inplace=True)\n",
    "        print('drop', index)\n",
    "\n",
    "print(len(df))\n",
    "'''"
   ]
  },
  {
   "cell_type": "markdown",
   "metadata": {},
   "source": [
    "## 2. collect view count"
   ]
  },
  {
   "cell_type": "code",
   "execution_count": 9,
   "metadata": {},
   "outputs": [],
   "source": [
    "start_index=len(df)\n",
    "for index in range(len(df)):\n",
    "    if(df['view'][index]==-1):\n",
    "        start_index=index\n",
    "        break"
   ]
  },
  {
   "cell_type": "code",
   "execution_count": 10,
   "metadata": {
    "scrolled": false
   },
   "outputs": [
    {
     "data": {
      "text/plain": [
       "8036"
      ]
     },
     "execution_count": 10,
     "metadata": {},
     "output_type": "execute_result"
    }
   ],
   "source": [
    "start_index"
   ]
  },
  {
   "cell_type": "code",
   "execution_count": 8,
   "metadata": {},
   "outputs": [],
   "source": [
    "for index in range(start_index, len(df)):\n",
    "    if(df['view'][index]==-1):\n",
    "        response = youtube.videos().list(\n",
    "            part = 'statistics',\n",
    "            id = df.loc[index, 'video_id']\n",
    "        ).execute()\n",
    "\n",
    "        if (response['pageInfo']['totalResults'] > 0):\n",
    "            if('viewCount' in response['items'][0]['statistics']):\n",
    "                df.loc[index, 'view'] = response['items'][0]['statistics']['viewCount']\n",
    "            else: \n",
    "                df.loc[index, 'view'] = -3\n",
    "        else:\n",
    "            df.loc[index, 'view'] = -2"
   ]
  },
  {
   "cell_type": "code",
   "execution_count": 16,
   "metadata": {},
   "outputs": [
    {
     "name": "stdout",
     "output_type": "stream",
     "text": [
      "8026\n",
      "drop 7553\n",
      "8025\n"
     ]
    }
   ],
   "source": [
    "#조회수 조회 불가능한 데이터 삭제\n",
    "print(len(df))\n",
    "for index in range(len(df)):\n",
    "    if(df.loc[index, 'view']<-1):\n",
    "        df.drop(index, inplace=True)\n",
    "        print('drop', index)\n",
    "print(len(df))"
   ]
  },
  {
   "cell_type": "markdown",
   "metadata": {},
   "source": [
    "## 3. make csv file"
   ]
  },
  {
   "cell_type": "code",
   "execution_count": 17,
   "metadata": {},
   "outputs": [
    {
     "data": {
      "text/html": [
       "<div>\n",
       "<style scoped>\n",
       "    .dataframe tbody tr th:only-of-type {\n",
       "        vertical-align: middle;\n",
       "    }\n",
       "\n",
       "    .dataframe tbody tr th {\n",
       "        vertical-align: top;\n",
       "    }\n",
       "\n",
       "    .dataframe thead th {\n",
       "        text-align: right;\n",
       "    }\n",
       "</style>\n",
       "<table border=\"1\" class=\"dataframe\">\n",
       "  <thead>\n",
       "    <tr style=\"text-align: right;\">\n",
       "      <th></th>\n",
       "      <th>title</th>\n",
       "      <th>video_id</th>\n",
       "      <th>channel_name</th>\n",
       "      <th>channel_id</th>\n",
       "      <th>thumbnail</th>\n",
       "      <th>publish_time</th>\n",
       "      <th>view</th>\n",
       "      <th>thumbnail_text</th>\n",
       "    </tr>\n",
       "  </thead>\n",
       "  <tbody>\n",
       "    <tr>\n",
       "      <th>0</th>\n",
       "      <td>VLOG: МЫ ТАК ПОДУМАЛИ! 25.05.21</td>\n",
       "      <td>kaibm6LSmb4</td>\n",
       "      <td>Katy LifeVlog</td>\n",
       "      <td>UCpm6vCgiehSKHtMFFS5ukiA</td>\n",
       "      <td>https://i.ytimg.com/vi/kaibm6LSmb4/mqdefault.jpg</td>\n",
       "      <td>2021-05-26T02:30:05Z</td>\n",
       "      <td>101580</td>\n",
       "      <td>{'TextDetections': [{'DetectedText': 'Sweets',...</td>\n",
       "    </tr>\n",
       "    <tr>\n",
       "      <th>1</th>\n",
       "      <td>RC Car with Train Horns on Golf Course</td>\n",
       "      <td>zYgAf2eu8sQ</td>\n",
       "      <td>Vlog Creations</td>\n",
       "      <td>UCR0VLWitB2xM4q7tjkoJUPw</td>\n",
       "      <td>https://i.ytimg.com/vi/zYgAf2eu8sQ/mqdefault.jpg</td>\n",
       "      <td>2021-05-24T16:00:21Z</td>\n",
       "      <td>1147867</td>\n",
       "      <td>{'TextDetections': [{'DetectedText': 'INSURANC...</td>\n",
       "    </tr>\n",
       "    <tr>\n",
       "      <th>2</th>\n",
       "      <td>Brought my FATHER&amp;#39;s PILLOW to sleep | Ss V...</td>\n",
       "      <td>OtACAGFKpn8</td>\n",
       "      <td>Sambhavna Seth Entertainment</td>\n",
       "      <td>UChZ0JmGgyOWSU-1iXxPhsVA</td>\n",
       "      <td>https://i.ytimg.com/vi/OtACAGFKpn8/mqdefault.jpg</td>\n",
       "      <td>2021-05-26T06:25:15Z</td>\n",
       "      <td>429219</td>\n",
       "      <td>{'TextDetections': [{'DetectedText': 'for', 'T...</td>\n",
       "    </tr>\n",
       "    <tr>\n",
       "      <th>3</th>\n",
       "      <td>6AM PRODUCTIVE online school morning routine/v...</td>\n",
       "      <td>2_q4T1abM8Q</td>\n",
       "      <td>Kristy Bae</td>\n",
       "      <td>UCiLSb-cS_0pkjIYsm9oOB0w</td>\n",
       "      <td>https://i.ytimg.com/vi/2_q4T1abM8Q/mqdefault.jpg</td>\n",
       "      <td>2021-04-29T14:00:02Z</td>\n",
       "      <td>607709</td>\n",
       "      <td>{'TextDetections': [{'DetectedText': 'I', 'Typ...</td>\n",
       "    </tr>\n",
       "    <tr>\n",
       "      <th>4</th>\n",
       "      <td>My Funniest Vlog Ever 😂 Ayachi Thakur Vlogs</td>\n",
       "      <td>tHD5ajeSxKQ</td>\n",
       "      <td>Ayachi Thakur Vlogs</td>\n",
       "      <td>UC8RXP2epKG3uiPO5QYQyGqg</td>\n",
       "      <td>https://i.ytimg.com/vi/tHD5ajeSxKQ/mqdefault.jpg</td>\n",
       "      <td>2021-05-26T01:30:07Z</td>\n",
       "      <td>46413</td>\n",
       "      <td>{'TextDetections': [], 'TextModelVersion': '3....</td>\n",
       "    </tr>\n",
       "    <tr>\n",
       "      <th>...</th>\n",
       "      <td>...</td>\n",
       "      <td>...</td>\n",
       "      <td>...</td>\n",
       "      <td>...</td>\n",
       "      <td>...</td>\n",
       "      <td>...</td>\n",
       "      <td>...</td>\n",
       "      <td>...</td>\n",
       "    </tr>\n",
       "    <tr>\n",
       "      <th>8021</th>\n",
       "      <td>SI YO FUERA MADRE | Lyna Vlogs</td>\n",
       "      <td>HG6Qkqv5eBQ</td>\n",
       "      <td>Lyna Vlogs</td>\n",
       "      <td>UCRtkuS3Wz0hYgfJjpvEEP4Q</td>\n",
       "      <td>https://i.ytimg.com/vi/HG6Qkqv5eBQ/default.jpg</td>\n",
       "      <td>2017-10-08T22:39:42Z</td>\n",
       "      <td>4884575</td>\n",
       "      <td>not-yet</td>\n",
       "    </tr>\n",
       "    <tr>\n",
       "      <th>8022</th>\n",
       "      <td>| DHARAN | Dasain Vlog 2017 | Bhedetar</td>\n",
       "      <td>ZqPTPoyr2M4</td>\n",
       "      <td>Sisan Baniya</td>\n",
       "      <td>UC6SEUWgSEUOTKdwdRV7IRhA</td>\n",
       "      <td>https://i.ytimg.com/vi/ZqPTPoyr2M4/default.jpg</td>\n",
       "      <td>2017-10-09T06:36:39Z</td>\n",
       "      <td>296289</td>\n",
       "      <td>not-yet</td>\n",
       "    </tr>\n",
       "    <tr>\n",
       "      <th>8023</th>\n",
       "      <td>VLOG! ALA E TRUMP!</td>\n",
       "      <td>sA3Z_aHJrh8</td>\n",
       "      <td>MaxINFINITE</td>\n",
       "      <td>UCcLZdjaJEC_6RqfM3PhefIw</td>\n",
       "      <td>https://i.ytimg.com/vi/sA3Z_aHJrh8/default.jpg</td>\n",
       "      <td>2017-10-07T08:32:58Z</td>\n",
       "      <td>491894</td>\n",
       "      <td>not-yet</td>\n",
       "    </tr>\n",
       "    <tr>\n",
       "      <th>8024</th>\n",
       "      <td>VLOG #78: Hướng dẫn đi máy bay cho người đi lầ...</td>\n",
       "      <td>cwlD15TESUI</td>\n",
       "      <td>Yêu Máy Bay</td>\n",
       "      <td>UC6iYLWyzdYKMpnWbplhBrxg</td>\n",
       "      <td>https://i.ytimg.com/vi/cwlD15TESUI/default.jpg</td>\n",
       "      <td>2017-10-03T10:07:44Z</td>\n",
       "      <td>512585</td>\n",
       "      <td>not-yet</td>\n",
       "    </tr>\n",
       "    <tr>\n",
       "      <th>8025</th>\n",
       "      <td>ΦΑΡΑΓΓΙ ΣΑΜΑΡΙΑΣ 🏞 ΕΜΠΕΙΡΙΑ ΖΩΗΣ!!!</td>\n",
       "      <td>Z98soCaPJ-s</td>\n",
       "      <td>Ευτύχης Μπλέτσας</td>\n",
       "      <td>UCVO2_vAXqk-84iByks7GvaA</td>\n",
       "      <td>https://i.ytimg.com/vi/Z98soCaPJ-s/default.jpg</td>\n",
       "      <td>2017-10-21T12:00:07Z</td>\n",
       "      <td>92267</td>\n",
       "      <td>not-yet</td>\n",
       "    </tr>\n",
       "  </tbody>\n",
       "</table>\n",
       "<p>8025 rows × 8 columns</p>\n",
       "</div>"
      ],
      "text/plain": [
       "                                                  title     video_id  \\\n",
       "0                       VLOG: МЫ ТАК ПОДУМАЛИ! 25.05.21  kaibm6LSmb4   \n",
       "1                RC Car with Train Horns on Golf Course  zYgAf2eu8sQ   \n",
       "2     Brought my FATHER&#39;s PILLOW to sleep | Ss V...  OtACAGFKpn8   \n",
       "3     6AM PRODUCTIVE online school morning routine/v...  2_q4T1abM8Q   \n",
       "4           My Funniest Vlog Ever 😂 Ayachi Thakur Vlogs  tHD5ajeSxKQ   \n",
       "...                                                 ...          ...   \n",
       "8021                     SI YO FUERA MADRE | Lyna Vlogs  HG6Qkqv5eBQ   \n",
       "8022             | DHARAN | Dasain Vlog 2017 | Bhedetar  ZqPTPoyr2M4   \n",
       "8023                                 VLOG! ALA E TRUMP!  sA3Z_aHJrh8   \n",
       "8024  VLOG #78: Hướng dẫn đi máy bay cho người đi lầ...  cwlD15TESUI   \n",
       "8025                ΦΑΡΑΓΓΙ ΣΑΜΑΡΙΑΣ 🏞 ΕΜΠΕΙΡΙΑ ΖΩΗΣ!!!  Z98soCaPJ-s   \n",
       "\n",
       "                      channel_name                channel_id  \\\n",
       "0                    Katy LifeVlog  UCpm6vCgiehSKHtMFFS5ukiA   \n",
       "1                   Vlog Creations  UCR0VLWitB2xM4q7tjkoJUPw   \n",
       "2     Sambhavna Seth Entertainment  UChZ0JmGgyOWSU-1iXxPhsVA   \n",
       "3                       Kristy Bae  UCiLSb-cS_0pkjIYsm9oOB0w   \n",
       "4              Ayachi Thakur Vlogs  UC8RXP2epKG3uiPO5QYQyGqg   \n",
       "...                            ...                       ...   \n",
       "8021                    Lyna Vlogs  UCRtkuS3Wz0hYgfJjpvEEP4Q   \n",
       "8022                  Sisan Baniya  UC6SEUWgSEUOTKdwdRV7IRhA   \n",
       "8023                   MaxINFINITE  UCcLZdjaJEC_6RqfM3PhefIw   \n",
       "8024                   Yêu Máy Bay  UC6iYLWyzdYKMpnWbplhBrxg   \n",
       "8025              Ευτύχης Μπλέτσας  UCVO2_vAXqk-84iByks7GvaA   \n",
       "\n",
       "                                             thumbnail          publish_time  \\\n",
       "0     https://i.ytimg.com/vi/kaibm6LSmb4/mqdefault.jpg  2021-05-26T02:30:05Z   \n",
       "1     https://i.ytimg.com/vi/zYgAf2eu8sQ/mqdefault.jpg  2021-05-24T16:00:21Z   \n",
       "2     https://i.ytimg.com/vi/OtACAGFKpn8/mqdefault.jpg  2021-05-26T06:25:15Z   \n",
       "3     https://i.ytimg.com/vi/2_q4T1abM8Q/mqdefault.jpg  2021-04-29T14:00:02Z   \n",
       "4     https://i.ytimg.com/vi/tHD5ajeSxKQ/mqdefault.jpg  2021-05-26T01:30:07Z   \n",
       "...                                                ...                   ...   \n",
       "8021    https://i.ytimg.com/vi/HG6Qkqv5eBQ/default.jpg  2017-10-08T22:39:42Z   \n",
       "8022    https://i.ytimg.com/vi/ZqPTPoyr2M4/default.jpg  2017-10-09T06:36:39Z   \n",
       "8023    https://i.ytimg.com/vi/sA3Z_aHJrh8/default.jpg  2017-10-07T08:32:58Z   \n",
       "8024    https://i.ytimg.com/vi/cwlD15TESUI/default.jpg  2017-10-03T10:07:44Z   \n",
       "8025    https://i.ytimg.com/vi/Z98soCaPJ-s/default.jpg  2017-10-21T12:00:07Z   \n",
       "\n",
       "         view                                     thumbnail_text  \n",
       "0      101580  {'TextDetections': [{'DetectedText': 'Sweets',...  \n",
       "1     1147867  {'TextDetections': [{'DetectedText': 'INSURANC...  \n",
       "2      429219  {'TextDetections': [{'DetectedText': 'for', 'T...  \n",
       "3      607709  {'TextDetections': [{'DetectedText': 'I', 'Typ...  \n",
       "4       46413  {'TextDetections': [], 'TextModelVersion': '3....  \n",
       "...       ...                                                ...  \n",
       "8021  4884575                                            not-yet  \n",
       "8022   296289                                            not-yet  \n",
       "8023   491894                                            not-yet  \n",
       "8024   512585                                            not-yet  \n",
       "8025    92267                                            not-yet  \n",
       "\n",
       "[8025 rows x 8 columns]"
      ]
     },
     "execution_count": 17,
     "metadata": {},
     "output_type": "execute_result"
    }
   ],
   "source": [
    "df.to_csv('english_data_including_thumbnailtext.csv', index = False)\n",
    "df"
   ]
  }
 ],
 "metadata": {
  "kernelspec": {
   "display_name": "Python 3",
   "language": "python",
   "name": "python3"
  },
  "language_info": {
   "codemirror_mode": {
    "name": "ipython",
    "version": 3
   },
   "file_extension": ".py",
   "mimetype": "text/x-python",
   "name": "python",
   "nbconvert_exporter": "python",
   "pygments_lexer": "ipython3",
   "version": "3.8.3"
  }
 },
 "nbformat": 4,
 "nbformat_minor": 4
}
