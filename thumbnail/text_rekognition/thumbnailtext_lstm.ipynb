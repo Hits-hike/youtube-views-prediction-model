{
 "cells": [
  {
   "cell_type": "markdown",
   "metadata": {},
   "source": [
    "## 1. Data 불러오기"
   ]
  },
  {
   "cell_type": "code",
   "execution_count": 1,
   "metadata": {},
   "outputs": [],
   "source": [
    "import pandas as pd"
   ]
  },
  {
   "cell_type": "code",
   "execution_count": 2,
   "metadata": {
    "scrolled": true
   },
   "outputs": [
    {
     "data": {
      "text/html": [
       "<div>\n",
       "<style scoped>\n",
       "    .dataframe tbody tr th:only-of-type {\n",
       "        vertical-align: middle;\n",
       "    }\n",
       "\n",
       "    .dataframe tbody tr th {\n",
       "        vertical-align: top;\n",
       "    }\n",
       "\n",
       "    .dataframe thead th {\n",
       "        text-align: right;\n",
       "    }\n",
       "</style>\n",
       "<table border=\"1\" class=\"dataframe\">\n",
       "  <thead>\n",
       "    <tr style=\"text-align: right;\">\n",
       "      <th></th>\n",
       "      <th>views</th>\n",
       "      <th>content</th>\n",
       "      <th>area</th>\n",
       "      <th>content_tokens</th>\n",
       "    </tr>\n",
       "  </thead>\n",
       "  <tbody>\n",
       "    <tr>\n",
       "      <th>0</th>\n",
       "      <td>3</td>\n",
       "      <td>Sweets How</td>\n",
       "      <td>1125</td>\n",
       "      <td>['sweet', 'how']</td>\n",
       "    </tr>\n",
       "    <tr>\n",
       "      <th>1</th>\n",
       "      <td>4</td>\n",
       "      <td></td>\n",
       "      <td>0</td>\n",
       "      <td>[]</td>\n",
       "    </tr>\n",
       "    <tr>\n",
       "      <th>2</th>\n",
       "      <td>3</td>\n",
       "      <td></td>\n",
       "      <td>0</td>\n",
       "      <td>[]</td>\n",
       "    </tr>\n",
       "  </tbody>\n",
       "</table>\n",
       "</div>"
      ],
      "text/plain": [
       "   views      content  area    content_tokens\n",
       "0      3  Sweets How   1125  ['sweet', 'how']\n",
       "1      4                  0                []\n",
       "2      3                  0                []"
      ]
     },
     "execution_count": 2,
     "metadata": {},
     "output_type": "execute_result"
    }
   ],
   "source": [
    "# 데이터 불러오기\n",
    "df = pd.read_csv('../../data/english_humbnailtext_preprocessed.csv', encoding='UTF-8')\n",
    "df.head(3)"
   ]
  },
  {
   "cell_type": "code",
   "execution_count": 4,
   "metadata": {},
   "outputs": [],
   "source": [
    "from keras.utils import to_categorical #2번 실행하기"
   ]
  },
  {
   "cell_type": "code",
   "execution_count": 5,
   "metadata": {},
   "outputs": [
    {
     "data": {
      "text/plain": [
       "array([[0, 0, 0, 1, 0, 0],\n",
       "       [0, 0, 0, 0, 1, 0],\n",
       "       [0, 0, 0, 1, 0, 0],\n",
       "       ...,\n",
       "       [0, 0, 0, 1, 0, 0],\n",
       "       [0, 0, 0, 1, 0, 0],\n",
       "       [0, 0, 1, 0, 0, 0]], dtype=int64)"
      ]
     },
     "execution_count": 5,
     "metadata": {},
     "output_type": "execute_result"
    }
   ],
   "source": [
    "y = to_categorical(df['views']).astype('int64')\n",
    "y"
   ]
  },
  {
   "cell_type": "code",
   "execution_count": 6,
   "metadata": {},
   "outputs": [
    {
     "name": "stderr",
     "output_type": "stream",
     "text": [
      "<ipython-input-6-20bc793e3162>:3: SettingWithCopyWarning: \n",
      "A value is trying to be set on a copy of a slice from a DataFrame\n",
      "\n",
      "See the caveats in the documentation: https://pandas.pydata.org/pandas-docs/stable/user_guide/indexing.html#returning-a-view-versus-a-copy\n",
      "  df['content_tokens'][index] = [ s.strip(\"'\") for s in df['content_tokens'][index].strip(\"[]\").split(', ')]\n"
     ]
    }
   ],
   "source": [
    "#df['content_tokens'][0].strip(\"[]\").split(', ')[0].strip(\"'\")\n",
    "for index in range(len(df)):\n",
    "    df['content_tokens'][index] = [ s.strip(\"'\") for s in df['content_tokens'][index].strip(\"[]\").split(', ')]"
   ]
  },
  {
   "cell_type": "markdown",
   "metadata": {},
   "source": [
    "## 2 set train & test data"
   ]
  },
  {
   "cell_type": "code",
   "execution_count": 7,
   "metadata": {},
   "outputs": [],
   "source": [
    "from sklearn.model_selection import train_test_split"
   ]
  },
  {
   "cell_type": "code",
   "execution_count": 8,
   "metadata": {
    "scrolled": true
   },
   "outputs": [],
   "source": [
    "X_train, X_test, y_train, y_test = train_test_split(df['content_tokens'], y, test_size = 0.2, random_state = 42)"
   ]
  },
  {
   "cell_type": "code",
   "execution_count": 9,
   "metadata": {},
   "outputs": [
    {
     "data": {
      "text/plain": [
       "3526                         [happen, in, mah, layp, iii]\n",
       "4329                                               [occi]\n",
       "3717                                                [all]\n",
       "23                                     [i, \"'m\", comfort]\n",
       "1833                        [wuhan, ant, del, coronaviru]\n",
       "                              ...                        \n",
       "2481    [pianot, kaitlyn, \"'s\", 1st, piano, lesson, (,...\n",
       "2029                                 [tiktok, life, hack]\n",
       "1967                           [teen, more, natur, birth]\n",
       "2115                                 [nyg, !, !, !, vlog]\n",
       "2653    [senshont, templ, tokyo, tour, part, ii, subsc...\n",
       "Name: content_tokens, Length: 924, dtype: object"
      ]
     },
     "execution_count": 9,
     "metadata": {},
     "output_type": "execute_result"
    }
   ],
   "source": [
    "X_test"
   ]
  },
  {
   "cell_type": "code",
   "execution_count": 10,
   "metadata": {
    "scrolled": true
   },
   "outputs": [
    {
     "data": {
      "text/plain": [
       "array([[0, 0, 0, 1, 0, 0],\n",
       "       [1, 0, 0, 0, 0, 0],\n",
       "       [0, 0, 0, 0, 1, 0],\n",
       "       ...,\n",
       "       [0, 0, 1, 0, 0, 0],\n",
       "       [0, 0, 0, 1, 0, 0],\n",
       "       [0, 0, 0, 1, 0, 0]], dtype=int64)"
      ]
     },
     "execution_count": 10,
     "metadata": {},
     "output_type": "execute_result"
    }
   ],
   "source": [
    "y_train"
   ]
  },
  {
   "cell_type": "code",
   "execution_count": 11,
   "metadata": {},
   "outputs": [],
   "source": [
    "from tensorflow.keras.preprocessing.text import Tokenizer"
   ]
  },
  {
   "cell_type": "code",
   "execution_count": 12,
   "metadata": {},
   "outputs": [
    {
     "name": "stdout",
     "output_type": "stream",
     "text": [
      "{'': 1, 'vlog': 2, '!': 3, 'in': 4, 'a': 5, '?': 6, '#': 7, 'my': 8, 'the': 9, 'no': 10, 'to': 11, '.': 12, 'i': 13, 'day': 14, '\"\\'s\"': 15, '1': 16, 'copyright': 17, 'of': 18, 'life': 19, '&': 20, 'with': 21, '2': 22, 'challeng': 23, ',': 24, 'new': 25, 'de': 26, 'viog': 27, 'tour': 28, '3': 29, 'it': 30, 'part': 31, 'me': 32, 'cambridg': 33, ':': 34, 'first': 35, 'home': 36, 'for': 37, 'do': 38, '24': 39, 'you': 40, 'what': 41, 'week': 42, 'la': 43, ')': 44, 'na': 45, 'birthday': 46, '$': 47, 'school': 48, '5': 49, 'en': 50, '10': 51, 'hous': 52, 'lo': 53, 'univers': 54, '...': 55, 'and': 56, '6': 57, '(': 58, 'offici': 59, 'shop': 60, 'is': 61, 'aguilar': 62, 'hour': 63, 'move': 64, 'el': 65, '2019': 66, 'n': 67, 'our': 68, 'on': 69, 'colleg': 70, 'at': 71, 'live': 72, 'con': 73, 'e': 74, 'famili': 75, 'vs': 76, 'travel': 77, 'year': 78, 's': 79, 'happi': 80, 'view': 81, 'r': 82, 'mi': 83, 'time': 84, 'prank': 85, 'o': 86, 'routin': 87, '4': 88, 'korea': 89, 'not': 90, 'by': 91, 'sa': 92, 'daili': 93, 'best': 94, 'we': 95, 'how': 96, 'food': 97, 'jyp': 98, 'cafe': 99, 'c': 100, 'welcom': 101, 'w': 102, 'b': 103, 'pepe': 104, 'm': 105, 'student': 106, 'like': 107, 'eat': 108, 'world': 109, '7': 110, 'dia': 111, 'ye': 112, 'sage': 113, 'episod': 114, 'babi': 115, 'eid': 116, '0': 117, '11': 118, '``': 119, 'back': 120, 'studi': 121, 'trip': 122, 'se': 123, 'get': 124, 'rs': 125, '2020': 126, 'h': 127, 'surpris': 128, 'tri': 129, 'v': 130, 'go': 131, 'f': 132, 'or': 133, 'birth': 134, 'khong': 135, 'cam': 136, 't': 137, 'may': 138, '+': 139, '\"n\\'t\"': 140, 'ang': 141, 'friend': 142, 'one': 143, 'g': 144, 'real': 145, 'l': 146, 'christma': 147, 'barbi': 148, '-': 149, '9': 150, 'season': 151, 'weekli': 152, 'thi': 153, 'after': 154, 'place': 155, 'car': 156, '8': 157, 'dubai': 158, 'garden': 159, 'final': 160, '\"\\'\\'\"': 161, 'morn': 162, '20': 163, 'from': 164, 'london': 165, 'so': 166, 'ano': 167, 'as': 168, 'music': 169, 'an': 170, 'sao': 171, '4k': 172, 'vice': 173, 'have': 174, 'love': 175, 'halloween': 176, 'all': 177, 'blue': 178, 'island': 179, 'did': 180, 'ng': 181, '%': 182, 'que': 183, 'un': 184, 'your': 185, 'nyc': 186, 'ha': 187, 'bali': 188, 'allen': 189, '100': 190, '24h': 191, '12': 192, 'cook': 193, 'video': 194, 'parti': 195, 'last': 196, '2021': 197, 'tokyo': 198, 'sister': 199, 'subscrib': 200, 'pool': 201, '..': 202, 'di': 203, 'tiktok': 204, 'dog': 205, 'girl': 206, 'that': 207, 'walk': 208, 'farm': 209, 'ako': 210, 'product': 211, 'ba': 212, 'winner': 213, '*': 214, '15': 215, 'mama': 216, '\"\\'m\"': 217, 'y': 218, 'embed': 219, 'nickelodeon': 220, 'youtub': 221, 'room': 222, 'iii': 223, 'break': 224, 'maldiv': 225, 'let': 226, 'min': 227, 'am': 228, 'indian': 229, 'para': 230, 'thank': 231, 'citi': 232, 'si': 233, 'behind': 234, 'haul': 235, 'al': 236, 'ko': 237, 'd': 238, 'weekend': 239, 'stay': 240, 'lyna': 241, 'casa': 242, 'apart': 243, 'around': 244, 'natur': 245, 'smith': 246, 'review': 247, 'danc': 248, 'request': 249, 'nha': 250, 'big': 251, '27': 252, 'senior': 253, 'japan': 254, 'pari': 255, 'th': 256, 'onlin': 257, 'mo': 258, 'guess': 259, 'ganda': 260, 'angel': 261, 'mog': 262, '16': 263, 'show': 264, 'park': 265, 'can': 266, 'off': 267, 'india': 268, 'start': 269, 'p': 270, '[': 271, 'secret': 272, '000': 273, 'groceri': 274, 'organ': 275, 'night': 276, 'game': 277, 'us': 278, '@': 279, 'polic': 280, 'van': 281, 'purpl': 282, 'hora': 283, 'vallejo': 284, 'hawaii': 285, 'vie': 286, 'p.': 287, '31': 288, 'shoot': 289, '13': 290, 'program': 291, 'trick': 292, '00': 293, '1000': 294, 'wow': 295, 'universityof': 296, 'be': 297, 'high': 298, 'q': 299, 'med': 300, 'play': 301, 'fashion': 302, 'vida': 303, 'trieu': 304, 'lam': 305, 'york': 306, 'ke': 307, 'win': 308, '\"\\'\"': 309, 'um': 310, 'ep': 311, 'mommi': 312, 'wed': 313, 'most': 314, 'come': 315, 'wrong': 316, 'photo': 317, 'j': 318, 'dau': 319, 'explor': 320, 'universityo': 321, 'shot': 322, 'old': 323, 'kid': 324, 'po': 325, 'por': 326, 'are': 327, 'never': 328, 'here': 329, 'wa': 330, 'more': 331, 'rumah': 332, 'class': 333, 'bt': 334, 'dream': 335, 'mall': 336, 'ufc': 337, '2.0': 338, 'ni': 339, 'than': 340, 'seek': 341, '17': 342, 'fall': 343, 'ultim': 344, 'gone': 345, 'if': 346, 'store': 347, '25': 348, 'into': 349, 'king': 350, 'trevor': 351, 'bauer': 352, 'covid': 353, 'shawn': 354, 'diwali': 355, 'visit': 356, 'delhi': 357, 'ilk': 358, 'public': 359, 'k': 360, 'rec': 361, 'vega': 362, 'prep': 363, '21': 364, 'england': 365, '24hr': 366, 'pr': 367, '2018': 368, 'khan': 369, '18': 370, '01': 371, 'phone': 372, 'up': 373, 'setup': 374, 'cuarentena': 375, 'ski': 376, 'studio': 377, 'giveaway': 378, 'ngay': 379, 'test': 380, 'clue': 381, 'pack': 382, 'dorm': 383, 'x': 384, 'run': 385, 'korean': 386, 'celebr': 387, 'street': 388, 'scene': 389, 'ada': 390, 'turu': 391, 'bachelor': 392, 'twent': 393, 'befor': 394, 'updat': 395, 'san': 396, 'exam': 397, 'nation': 398, 'hi': 399, 'date': 400, 'zealand': 401, 'angela': 402, 'tu': 403, 'present': 404, 'tube': 405, 'out': 406, 'extrem': 407, 'team': 408, 'bye': 409, 'tip': 410, 'mom': 411, 'da': 412, 'como': 413, 'quarantin': 414, 'care': 415, 'sleep': 416, 'brother': 417, '2a': 418, 're': 419, 'ap': 420, 'hide': 421, 'ca': 422, 'cycl': 423, 'morocco': 424, 'graduat': 425, 'scare': 426, 'emot': 427, 'trai': 428, 'decor': 429, 'drink': 430, 'million': 431, 'canon': 432, 'john': 433, '1st': 434, 'mai': 435, 'du': 436, 'truth': 437, 'st': 438, 'russia': 439, 'special': 440, 'tim': 441, 'mobil': 442, 'le': 443, 'dan': 444, 'oh': 445, 'gift': 446, 'wife': 447, 'canada': 448, 'road': 449, 'down': 450, 'boy': 451, 'vi': 452, 'una': 453, 'usa': 454, 'log': 455, '30': 456, 'toni': 457, 'stand': 458, 'va': 459, 'doe': 460, 'take': 461, 'china': 462, 'ulog': 463, 'ga': 464, 'plan': 465, 'make': 466, 'she': 467, 'noch': 468, 'alex': 469, 'ka': 470, 'hr': 471, 'guid': 472, 'jakarta': 473, 'tom': 474, 'cumpleano': 475, 'tik': 476, 'actor': 477, 'effect': 478, 'raid': 479, 'money': 480, 'hair': 481, 'del': 482, 'sheep': 483, 'belanja': 484, 'tatil': 485, 'veog': 486, 'villag': 487, 'tomi': 488, 'stream': 489, 'forget': 490, 'paangat': 491, 'everywher': 492, 'tara': 493, 'dito': 494, 'em': 495, 'perenni': 496, 'ya': 497, 'mexico': 498, 'west': 499, 'nomad': 500, 'chip': 501, 'goat': 502, 'beauti': 503, 'diari': 504, 'lfn': 505, 'water': 506, 'skin': 507, 'mukbang': 508, 'dead': 509, 'mga': 510, 'solo': 511, 'super': 512, 'watch': 513, 'cream': 514, 'much': 515, 'made': 516, 'south': 517, 'privat': 518, '28': 519, 'universidad': 520, 'parent': 521, 'market': 522, 'itali': 523, 'clean': 524, 'ion': 525, 'bless': 526, 'cross': 527, 'peopl': 528, 'seoul': 529, 'edit': 530, 'session': 531, 'million+': 532, 'bagong': 533, 'mother': 534, 'disney': 535, 'sard': 536, 'bey': 537, 'enough': 538, 'nuoc': 539, 'save': 540, 'grand': 541, 'ikea': 542, 'pregnanc': 543, 'pumpkin': 544, 'lvlog': 545, 'black': 546, 'nail': 547, 'kem': 548, 'tham': 549, '600': 550, '691': 551, 'import': 552, '19': 553, 'reveal': 554, 'boyfriend': 555, 'rich': 556, 'uni': 557, 'readi': 558, 'w/': 559, 'hill': 560, 'nove': 561, 'fiesta': 562, 'b-day': 563, 'toro': 564, 'low': 565, 'fat': 566, 'pierc': 567, 'yang': 568, 'queen': 569, 'pizza': 570, 'foto': 571, 'roadtrip': 572, 'ma': 573, 'rode': 574, 'soni': 575, 'ateez': 576, 'american': 577, 'angelin': 578, 'meet': 579, 'caribbean': 580, 'hd': 581, 'tien': 582, 'feminin': 583, 'southern': 584, 'dzien': 585, 'rock': 586, 'dag': 587, 'insid': 588, 'fine': 589, 'spring': 590, 'got': 591, 'ta': 592, 'who': 593, 'head': 594, 'magic': 595, 'land': 596, 'but': 597, 'bad': 598, 'stori': 599, 'three': 600, 'gym': 601, 'closet': 602, 'dam': 603, 'mumbai': 604, 'ik': 605, 'brianna': 606, 'want': 607, 'busi': 608, 'cri': 609, 'ein': 610, 'hau': 611, 'amigo': 612, 'footbal': 613, 'sam': 614, 'english': 615, 'cua': 616, 'amsterdam': 617, 'look': 618, 'beginn': 619, 'set': 620, 'a6400': 621, 'ramadan': 622, 'must': 623, 'went': 624, 'ton': 625, '10k': 626, 'ink': 627, 'tao': 628, '60': 629, 'diy': 630, 'es': 631, 'bmw': 632, 'campu': 633, 'milan': 634, 'primera': 635, 'mark': 636, 'tok': 637, 'star': 638, 'strang': 639, 'kuala': 640, 'lumpur': 641, 'malaysia': 642, 'vision': 643, 'song': 644, 'without': 645, 'ne': 646, 'master': 647, 'umiyak': 648, 'miami': 649, 'girlfriend': 650, 'islamabad': 651, 'rafa': 652, 'main': 653, 'asmr': 654, 'ever': 655, 'outfit': 656, 'met': 657, 'makeup': 658, 'papa': 659, 'book': 660, 'engin': 661, 'junior': 662, 'cute': 663, 'supermarket': 664, 'second': 665, 'bevond': 666, '10am-pina': 667, 'pasok': 668, 'xn': 669, 'goa': 670, 'dad': 671, 'nasil': 672, 'cake': 673, 'camera': 674, 'late': 675, 'roma': 676, 'fav': 677, '05': 678, 'work': 679, 'holiday': 680, 'word': 681, 'crush': 682, '229': 683, 'presented.bi': 684, 'doctor': 685, 'her': 686, 'sozinha': 687, 'bea': 688, 'summer': 689, '/rail': 690, 'thang': 691, 'they': 692, 'sikkim': 693, 'follow': 694, 'chanel': 695, 'wear': 696, 'autumn': 697, 'furnitur': 698, 'expens': 699, 'bareng': 700, 'tay': 701, 'mike': 702, 'spend': 703, '99': 704, 'coachella': 705, 'there': 706, 'qua': 707, 'lockdown': 708, 'amazon': 709, 'bay': 710, 'ii': 711, 'yacht': 712, 'chicken': 713, 'film': 714, 'ice': 715, 'snow': 716, 'over': 717, '\"\\'re\"': 718, 'too': 719, 'don': 720, 'cung': 721, 'color': 722, 'donetwork': 723, 'purvi': 724, 'u': 725, '02': 726, 'brand': 727, 'europ': 728, 'franc': 729, 'minha': 730, 'tayo': 731, 'free': 732, 'photoshoot': 733, 'bag': 734, 'grwm': 735, 'vl': 736, 'month': 737, 'hoc': 738, 'buy': 739, 'cool': 740, 'across': 741, 'surgeri': 742, 'leav': 743, '....': 744, 'banh': 745, 'dare': 746, '262': 747, 'armi': 748, 'two': 749, '35': 750, 'thach': 751, 'bat': 752, 'tonitalk': 753, 'member': 754, 'ro': 755, 'share': 756, 'concierto': 757, 'mad': 758, 'seri': 759, 'ms': 760, 'read': 761, 'shave': 762, 'son': 763, 'lamb': 764, 'condo': 765, 'guest': 766, 'disneyland': 767, 'puppi': 768, 'pregnant': 769, 'social': 770, 'media': 771, 'moment': 772, 'hai': 773, 'hong': 774, 'kong': 775, 'intern': 776, 'raw': 777, 'een': 778, 'valiejo': 779, 'p100': 780, 'cruis': 781, '07': 782, 'te': 783, 'thuyen': 784, 'eh': 785, 'littl': 786, 'll': 787, 'dahilan': 788, 'bakit': 789, 'rob': 790, 'drive': 791, 'romana': 792, 'forest': 793, 'bandung': 794, 'ferrari': 795, 'sahil': 796, 'portal': 797, 'hop': 798, 'plu': 799, 'white': 800, 'channel': 801, 'gain': 802, 'philippin': 803, 'trek': 804, 'ghost': 805, 'plant': 806, 'lose': 807, 'lunch': 808, 'verd': 809, 'next': 810, 'mol': 811, 't1': 812, '690': 813, 'g90': 814, '628': 815, 'x0.05': 816, 'zo': 817, 'yo': 818, '500': 819, 'shower': 820, 'karwa': 821, 'chauth': 822, 'user': 823, 'develop': 824, 'about': 825, 'comida': 826, 'sinh': 827, 'normal': 828, 'tree': 829, 'aberdeen': 830, 'settl': 831, 'cat': 832, 'hija': 833, 'sign': 834, 'nueva': 835, 'niagara': 836, 'bubbl': 837, 'flor': 838, 'lie': 839, 'sunday': 840, 'pattaya': 841, 'tayahua': 842, 'suppli': 843, 'examen': 844, 'buhay': 845, 'vlogger': 846, '243': 847, 'tap': 848, 'ra': 849, 'barli': 850, 'open': 851, 'par': 852, 'moi': 853, 'mon': 854, 'internat': 855, 'vikend': 856, 'well': 857, 'koc': 858, 'okulun': 859, 'gunu': 860, 'mac': 861, 'voic': 862, 'less': 863, 'club': 864, 'digit': 865, 'zoom': 866, '03': 867, 'full': 868, 'door': 869, 'hawajach': 870, 'bull': 871, 'oranjeleeuwinnen': 872, 'slow': 873, 'twin': 874, 'laugh': 875, 'binod': 876, 'vog': 877, 'staff': 878, 'aid': 879, 'close': 880, '10.000': 881, 'cebu': 882, 'touch': 883, 'xv': 884, '33': 885, 'lit': 886, 'virgin': 887, 'tower': 888, 'app': 889, 'winter': 890, 'teach': 891, 'fanscontrol': 892, 'myday': 893, 'quay': 894, 'tro': 895, 'lai': 896, 'jake': 897, 'broken': 898, 'mijn': 899, 'vlug': 900, '1m': 901, 'peso': 902, 'grabe': 903, 'durham': 904, 'arishfa': 905, 'tuesday': 906, 'urban': 907, 'cottag': 908, 'hidden': 909, 'price': 910, '98': 911, 'ashley': 912, 'award': 913, 'onli': 914, 'omg': 915, 'reaction': 916, 'bidi': 917, 'nuevo': 918, 'sterdam': 919, 'morgenroutin': 920, 'gap': 921, 'bohol': 922, '80': 923, '42': 924, 'cheap': 925, 'videoshow': 926, 'goni': 927, 'italian': 928, '123': 929, 'vlag': 930, 'vlog8': 931, 'mountain': 932, 'thailand': 933, 'mesic': 934, 'dem': 935, 'tral': 936, 'manali': 937, 'asi': 938, 'tren': 939, 'bai': 940, 'bien': 941, 'bahama': 942, 'sin': 943, '202': 944, 'viaj': 945, '001': 946, 'fan': 947, 'gs': 948, 'tra': 949, 'szkoli': 950, 'batanga': 951, 'juici': 952, 'kitkat': 953, 'thumb': 954, 'sieu': 955, 'charter': 956, 'doc': 957, 'atm': 958, 'fam': 959, 'portland': 960, 'talk': 961, 'stranger': 962, 'limit': 963, '53': 964, 'lukrembo': 965, 'kuya': 966, '09': 967, 'sound': 968, 'todo': 969, 'whaaat': 970, 'step': 971, 'eua': 972, 'top': 973, 'ok': 974, 'quinto': 975, 'feat': 976, 'poo': 977, 'adio': 978, 'chef': 979, 'walmart': 980, 'potato': 981, 'better': 982, 'contract': 983, 'sophomor': 984, 'momo': 985, 'viston': 986, 'sweet': 987, 'chore': 988, 'funni': 989, '84': 990, 'ch': 991, 'indonesia': 992, '34': 993, 'ev': 994, 'design': 995, 'je': 996, 'delici': 997, 'clase': 998, 'chat': 999, 'kinemast': 1000, 'now': 1001, 'barang': 1002, 'prom': 1003, 'hool': 1004, '\"\\'ve\"': 1005, '77': 1006, 'v/': 1007, 'poor': 1008, 'den': 1009, 'er': 1010, 'aula': 1011, 'result': 1012, 'cidad': 1013, 'muski': 1014, 'aveng': 1015, 'endgam': 1016, 'geograph': 1017, 'galapago': 1018, 'expedit': 1019, 'co': 1020, 'mag': 1021, 'videashow': 1022, 'hard': 1023, 'carri': 1024, 'salam': 1025, 'arriv': 1026, 'lego': 1027, 'itart': 1028, 'speak': 1029, '21st': 1030, 'karantena': 1031, 'saman': 1032, 'perform': 1033, 'local': 1034, 'tire': 1035, 'shift': 1036, 'pulang': 1037, 'esta': 1038, 'tha': 1039, 'starbuck': 1040, 'electr': 1041, 'ver': 1042, '199.42.80': 1043, 'templ': 1044, 'easi': 1045, '23': 1046, 'project': 1047, 'he': 1048, 'vip': 1049, 'ft': 1050, 'cay': 1051, 'latin': 1052, 'lake': 1053, 'interview': 1054, 'valley': 1055, 'snowdonia': 1056, 'bangkok': 1057, 'chau': 1058, 'train': 1059, 'makan': 1060, 'sekeluarga': 1061, 'glass': 1062, 'yolculuk': 1063, 'chac': 1064, 'dong': 1065, 'mit': 1066, '24hour': 1067, 'ini': 1068, 'theo': 1069, 'cheer': 1070, 'kayak': 1071, 'happen': 1072, 'nakup': 1073, 'eye': 1074, 'french': 1075, 'im': 1076, 'iphon': 1077, 'coffe': 1078, 'posit': 1079, 'card': 1080, 'gia': 1081, 'ngawit': 1082, 'nottingham': 1083, 'nikon': 1084, 'z': 1085, 'ss': 1086, 'dame': 1087, 'neler': 1088, 'festiv': 1089, 'realiti': 1090, 'queenstown': 1091, 'bayab': 1092, 'other': 1093, 'custom': 1094, 'concert': 1095, 'chicago': 1096, 'przyczepi': 1097, 'realist': 1098, 'folo': 1099, 'marmita': 1100, '22': 1101, 'done': 1102, 'forst': 1103, 'tet': 1104, 'payaman': 1105, 'properti': 1106, 'aehb': 1107, 'cl': 1108, '48': 1109, 'slide': 1110, 'semua': 1111, 'shayari': 1112, '234': 1113, 'pakistan': 1114, '08': 1115, 'bff': 1116, 'egi': 1117, 'nap': 1118, 'maklowicz': 1119, 'caught': 1120, 'despu': 1121, 'long': 1122, 'found': 1123, 'anim': 1124, 'ot': 1125, 'direct': 1126, 'ketemu': 1127, 'kazakhstan': 1128, 'andar': 1129, 'com': 1130, 'noit': 1131, 've': 1132, 'spirit': 1133, 'jeg': 1134, 'gir': 1135, 'vgp': 1136, 'kingdom': 1137, 'fun': 1138, 'kain': 1139, 'vlogu': 1140, 'wt': 1141, 'rx': 1142, 'heal': 1143, 'bim': 1144, 'karen': 1145, 'comigo': 1146, 'kailan': 1147, 'kots': 1148, 'natinr': 1149, 'enjoy': 1150, 'g7x': 1151, 'cuoi': 1152, 'expect': 1153, 'aeropostal': 1154, 'tron': 1155, 'rome': 1156, 'build': 1157, 'sew': 1158, 'ny': 1159, 'herd': 1160, 'naar': 1161, 'egitim': 1162, 'activ': 1163, 'bo': 1164, 'africa': 1165, 'person': 1166, 'tai': 1167, 'someth': 1168, 'amaz': 1169, 'ylog': 1170, 'laruan': 1171, 'statu': 1172, 'pantai': 1173, 'uma': 1174, 'newton': 1175, 'googl': 1176, 'rio': 1177, 'epic': 1178, 'movi': 1179, 'spin': 1180, '000,000': 1181, 'mansion': 1182, 'easter': 1183, 'bir': 1184, 'padr': 1185, 'heart': 1186, 'homeschool': 1187, 'progress': 1188, 'flower': 1189, 'culpabl': 1190, 'alisveri': 1191, 'lee': 1192, 'alacati': 1193, 'under': 1194, 'tell': 1195, 'toeat': 1196, 'amalfi': 1197, 'athen': 1198, 'vidg': 1199, 'jojowain': 1200, 'totropahin': 1201, 'nam': 1202, 'cn': 1203, 'ben': 1204, 'ep2': 1205, 'will': 1206, 'glo': 1207, 'dr': 1208, 'bere': 1209, 'billi': 1210, 'kopuk': 1211, 'mask': 1212, 'pro': 1213, 'cola': 1214, 'pernah': 1215, 'host': 1216, 'dj': 1217, 'loonyo': 1218, 'israel': 1219, 'papang': 1220, 'mar': 1221, 'toh': 1222, 'art': 1223, 'microscopio': 1224, 'peac': 1225, 'august': 1226, 'monday': 1227, 'st.': 1228, 'osaka': 1229, 'instagram': 1230, 'nog': 1231, 'marri': 1232, '36': 1233, 'hand': 1234, 'piater': 1235, '1977': 1236, 'kampu': 1237, 'hit': 1238, 'singapor': 1239, 'bek': 1240, 'battalion': 1241, 'awunmask': 1242, 'cdftv': 1243, 'agua': 1244, 'fair': 1245, 'vold': 1246, 'sonambula': 1247, 'hollywood': 1248, 'seattl': 1249, 'washington': 1250, 'thing': 1251, 'realli': 1252, 'steffi': 1253, 'ulagam': 1254, '40': 1255, 'minut': 1256, 'loui': 1257, 'vuitton': 1258, 'au': 1259, 'even': 1260, 'strong': 1261, 'passion': 1262, '7am': 1263, 'bollywood': 1264, 'vloc': 1265, 'creat': 1266, 'skittl': 1267, 'het': 1268, 'biggest': 1269, '400k': 1270, 'kay': 1271, 'binder': 1272, 'siri': 1273, 'bolum': 1274, 'job': 1275, 'gala': 1276, '26': 1277, 'japanes': 1278, 'bersama': 1279, 'just': 1280, 'h.m': 1281, 'toy': 1282, 'cloud': 1283, 'rfc': 1284, 'give': 1285, 'kim': 1286, 'han': 1287, '142': 1288, 'lang': 1289, 'canal': 1290, 'mein': 1291, 'healthi': 1292, 'brooklyn': 1293, 'clemson': 1294, 'ramen': 1295, 'mela': 1296, 'cham': 1297, 'dakar': 1298, 'champion': 1299, '2016': 1300, 'uzbekistan': 1301, 'toronto': 1302, '06': 1303, 'contest': 1304, 'ki': 1305, 'dawat': 1306, 'nadin': 1307, 'rizki': 1308, 'pubg': 1309, 'jam': 1310, 'tix': 1311, 'meal': 1312, 'iyna': 1313, 'malam': 1314, 'mani': 1315, 'rd': 1316, 'self': 1317, 'fire': 1318, ']': 1319, 'mexicano': 1320, '32': 1321, 'experi': 1322, 'laptop': 1323, 'jet': 1324, 'ia': 1325, 'mr': 1326, 'bro': 1327, 'station': 1328, 'thumbral': 1329, 'maker': 1330, 'tale': 1331, 'taminadu': 1332, 'true': 1333, 'tamil': 1334, 'lexi': 1335, 'small': 1336, 'chim': 1337, 'dua': 1338, 'tagalog': 1339, 'siya': 1340, 'ong': 1341, 'beach': 1342, 'dd': 1343, 'cinemat': 1344, 'yaar': 1345, 'recreat': 1346, 'collect': 1347, 'gun': 1348, 'complet': 1349, 'boya': 1350, 'wheel': 1351, 'amphan': 1352, 'cyclon': 1353, 'crazi': 1354, 'amo': 1355, 'veo': 1356, 'oo': 1357, 'europa': 1358, 'cana': 1359, 'ridg': 1360, 'madr': 1361, 'oreo': 1362, 'num': 1363, 'desi': 1364, 'picnic': 1365, 'kaladham': 1366, 'everyth': 1367, 'piet': 1368, 'vicg': 1369, 'igo': 1370, 'paso': 1371, 'malaga': 1372, 'espana': 1373, 'thursday': 1374, 'kung': 1375, 'naghiwalay': 1376, 'kami': 1377, 'daddi': 1378, 'udng': 1379, 'chuoi': 1380, 'nowi': 1381, 'jork': 1382, 'escapan': 1383, 'turtl': 1384, 'pt': 1385, 'cernobil': 1386, 'quinta': 1387, 'should': 1388, 'glog': 1389, 'feitico': 1390, 'babakan': 1391, 'siliwangi': 1392, 'comprando': 1393, 'nd': 1394, 'istakoz': 1395, 'kadin': 1396, 'cilantro': 1397, 'feed': 1398, 'kasabasi': 1399, 'ken': 1400, 'sorrypo': 1401, 'i-ninterview': 1402, 'benidorm': 1403, 'apasionado': 1404, 'lengua': 1405, 'peligroso': 1406, 'spi': 1407, 'light': 1408, 'tring': 1409, 'dap': 1410, 'samsung': 1411, 's20+': 1412, '22trieu': 1413, '990nghin': 1414, 'vnd': 1415, 'wd': 1416, 'detail': 1417, 'krishnar': 1418, 'tame': 1419, 'budgi': 1420, 'alltag': 1421, 'weird': 1422, 'deuruim': 1423, 'squish': 1424, 'ensenam': 1425, 'quiero': 1426, 'divorcio': 1427, 'bittersweet': 1428, 'covishield': 1429, 'covaxin': 1430, 'sputnik': 1431, 'thought': 1432, 'tui': 1433, 'phoc': 1434, 'map': 1435, 'jep': 1436, 'nua': 1437, 'network': 1438, 'weight': 1439, '40,000/-': 1440, '33,000/-': 1441, 'shridhi': 1442, 'noco': 1443, 'provinc': 1444, 'heat-': 1445, 'toler': 1446, 'fallcooki': 1447, 'turkiy': 1448, 'murda': 1449, '40x': 1450, 'sx': 1451, '740': 1452, 'maja': 1453, 'kakai': 1454, 'wrong22': 1455, 'tanya': 1456, 'olympo': 1457, 'cirali': 1458, 'adrasan': 1459, 'boc': 1460, 'nui': 1461, 'skalon': 1462, 'atencio': 1463, 'p50,000': 1464, 'muncul': 1465, 'keinsafan': 1466, '106': 1467, '65': 1468, '4-3.25': 1469, 'mot': 1470, 'goo': 1471, 'moa': 1472, 'm03': 1473, '512000': 1474, '643': 1475, 'hdl': 1476, '603': 1477, '7-2.24': 1478, 'advanc': 1479, '654': 1480, 'm97': 1481, 'p1': 1482, 'l2': 1483, '\"\\'n\"': 1484, '20.1': 1485, 'm30': 1486, '601': 1487, '4-4.25': 1488, '653': 1489, 'm99': 1490, 'tlog': 1491, 'ino': 1492, 'gusto': 1493, 'myrra': 1494, 'salina': 1495, 'raffl': 1496, '17k': 1497, 'wh': 1498, '\"\\'neha\"': 1499, 'pho': 1500, 'ililibr': 1501, 'uutangan': 1502, 'petr': 1503, '09:00': 1504, 'jango.shortcut': 1505, '1nc': 1506, 'django.http': 1507, '.key': 1508, 'def': 1509, 'login': 1510, 'none': 1511, 'return': 1512, 'render': 1513, 'usernam': 1514, 'api': 1515, 'apt': 1516, 'auth': 1517, 'tweepi': 1518, 'tooo': 1519, 'some': 1520, 'info': 1521, '300k': 1522, '4000k': 1523, 'problema': 1524, 'montana': 1525, 'anhd': 1526, 'loinh': 1527, 'tuoi': 1528, '18t': 1529, 'bilh': 1530, 'joshua': 1531, 'bartass': 1532, 'robi': 1533, 'pizz': 1534, 'persian': 1535, 'ing': 1536, 'averag': 1537, 'reconoceni': 1538, 'takumi': 1539, 'minamino': 1540, 'arter': 1541, 'neymar': 1542, 'pic': 1543, '1112': 1544, 'jaffna': 1545, 'amazonia': 1546, 'clifton': 1547, 'vlasi': 1548, 'nakupi': 1549, 'aneedotasdo': 1550, 'silvestr': 1551, '22.1': 1552, 'osmoact': 1553, 'deb': 1554, 'box': 1555, 'housewif': 1556, 'meycauayan': 1557, 'bulacan': 1558, 'sleepless': 1559, 'march': 1560, 'sho': 1561, '154': 1562, 'boda': 1563, 'decembrina': 1564, 'kenon': 1565, 'coca-cela': 1566, 'fanta': 1567, 'semad': 1568, 'saloob': 1569, 'anoth': 1570, 'aday': 1571, 'carl': 1572, 'impostor': 1573, 'ethnic': 1574, 'dattend': 1575, 'ufc24': 1576, 'branch': 1577, 'deli': 1578, 'hana': 1579, 'naeyeonsan': 1580, 'pohang': 1581, '5astuc': 1582, 'producti': 1583, 'organis': 1584, 'vua': 1585, 'bayani': 1586, 'apo': 1587, 'vito': 1588, 'santiago': 1589, 'zambal': 1590, 'kein': 1591, 'mehr': 1592, 'cetogenico': 1593, 'universitanio': 1594, 'esam': 1595, 'cibo': 1596, 'vlogfirenz': 1597, 'musei': 1598, 'weturnedinto': 1599, 'bong': 1600, 'quan': 1601, 'heavi': 1602, 'esk': 1603, 'haga': 1604, 'leskovac': 1605, 'tulum': 1606, '010171': 1607, 'doll': 1608, 'pandora': 1609, 'uad': 1610, 'hollanda': 1611, 'bautizo': 1612, 'jour': 1613, 'pendant': 1614, '\"c\\'est\"': 1615, 'nouveau': 1616, 'defi': 1617, 'bienvenu': 1618, 'bac': 1619, 'tournag': 1620, 'lollipopz': 1621, 'zv-1': 1622, 'replic': 1623, 'quickli': 1624, 'leni': 1625, 'damn': 1626, '124': 1627, 'diaria': 1628, 'turquia': 1629, 'tulo': 1630, 'laway': 1631, 'universitesi': 1632, 'voc': 1633, 'hat': 1634, 'yai': 1635, 'prepar': 1636, 'twosom': 1637, 'quicto': 1638, 'negoti': 1639, 'vlog2': 1640, 'beacu': 1641, 'greek': 1642, 'partu': 1643, 'stationeri': 1644, 'note': 1645, 'skydiv': 1646, 'pilot': 1647, 'sinema': 1648, 'filmimiz': 1649, 'miguel': 1650, 'milagr': 1651, 'karyl': 1652, 'coco': 1653, 'atzia': 1654, 'probinzsa': 1655, 'fm5.30': 1656, 'ett': 1657, 'mu': 1658, 'thieu': 1659, 'gi': 1660, 'front': 1661, 'femin': 1662, 'marco': 1663, 'wbd': 1664, '017/01': 1665, 'hal': 1666, 'busan': 1667, 'najdziwniejszi': 1668, 'najcudniju': 1669, 'supper': 1670, 'vandr': 1671, 'anna': 1672, 'formalupin': 1673, 'gcash': 1674, 'walang': 1675, 'laman': 1676, 'chielvlog': 1677, 'pomerod': 1678, 'jest': 1679, 'waz': 1680, 'hello': 1681, 'ail': 1682, 'ziyareti': 1683, '39': 1684, '160': 1685, 'mithai': 1686, 'semest': 1687, 'ster': 1688, 'florian': 1689, 'onair': 1690, 'kebaa': 1691, 'kebab': 1692, '\"dont\\'t\"': 1693, 'jalapao': 1694, 'persect': 1695, 'charl': 1696, 'brown': 1697, 'wnt': 1698, 'verdadera': 1699, 'voz': 1700, '1o': 1701, 'mejor': 1702, 'aword': 1703, '61': 1704, 'foon': 1705, 'debat': 1706, 'warlahan': 1707, 'pa-girl': 1708, '<': 1709, 'wkward': 1710, 'crepe': 1711, 'woop': 1712, 'patrik': 1713, 'veag': 1714, 'emu': 1715, 'tv': 1716, 'ufa': 1717, 'sich': 1718, 'naaraz': 1719, 'ho': 1720, 'elvlog': 1721, '150': 1722, 'nace': 1723, 'olmeca/': 1724, 'maya': 1725, 'circl': 1726, '184': 1727, 'harbiy': 1728, 'konseri': 1729, 'do-fun': 1730, 'pemain': 1731, 'antar': 1732, 'portaventura': 1733, 'ffl': 1734, 'dri': 1735, 'escola': 1736, 'pandemia': 1737, 'nasi': 1738, 'huevada': 1739, 'nizilolog': 1740, 'aari': 1741, 'musicvideo': 1742, 'arequipa': 1743, 'peru': 1744, 'kanwal': 1745, 'kara': 1746, 'muth': 1747, 'excus': 1748, 'mcmask': 1749, 'state': 1750, 'actual': 1751, 'forenti': 1752, 'red': 1753, '274': 1754, 'milk': 1755, 'line': 1756, 'tossaphol': 1757, 'chin': 1758, 'move-in': 1759, 'op': 1760, 'gameday': 1761, 'cann': 1762, '5th': 1763, 'breakup': 1764, 'bahayni': 1765, 'amerikada': 1766, 'paint': 1767, 'ignor': 1768, 'later': 1769, 'busch': 1770, 'williamsburg': 1771, 'tang': 1772, 'banxoa': 1773, 'voi': 1774, 'rib': 1775, 'colour': 1776, 'grade': 1777, 'werd': 1778, 'kamer': 1779, 'uitgezet': 1780, 'vanderbilt': 1781, 'nanj': 1782, 'akkor': 1783, 'ramkattintasz': 1784, 'vagi': 1785, 'sem': 1786, 'gabriel': 1787, 'yung': 1788, 'law': 1789, 'yumf': 1790, 'duy': 1791, 'savang': 1792, 'triendship': 1793, 'name': 1794, '\"\\'ani\"': 1795, 'atic': 1796, 'tea': 1797, 'gem': 1798, 'annel': 1799, 'guno': 1800, 'kaufen': 1801, 'oder': 1802, 'lieber': 1803, 'iest': 1804, 'rasgulla': 1805, 'congratul': 1806, 'vlor': 1807, 'ata': 1808, 'wisudanya': 1809, '=sw': 1810, 'ws': 1811, 'ww': 1812, 'rumher': 1813, 'vlog21': 1814, 'hacer': 1815, 'extranjero': 1816, 'chrome': 1817, 'choelo': 1818, 'chaneul': 1819, 'ucak': 1820, 'kez': 1821, 'bindim': 1822, 'ambedkar': 1823, 'jeep': 1824, 'stadium': 1825, 'familienzuwach': 1826, 'drilling': 1827, 'reichen': 1828, 'nicht': 1829, '-the': 1830, 'sass': 1831, 'family-': 1832, 'recresa': 1833, 'stick': 1834, 'ceil': 1835, 'olda': 1836, 'control': 1837, '747-1': 1838, '3019': 1839, 'mo-10': 1840, 'chui': 1841, 'parco': 1842, 'avventurat': 1843, 'alo': 1844, 'yoga': 1845, 'chand': 1846, 'raat': 1847, 'bombom': 1848, 'sencillo': 1849, '1ht': 1850, '\\\\\\\\': 1851, 'zxmco': 1852, 'polish': 1853, 'ge': 1854, 'netherland': 1855, 'rotterdam': 1856, 'celebrandoc': 1857, 'queretaro': 1858, 'bl': 1859, '201': 1860, 'frunstuck': 1861, 'deutsch': 1862, 'gma': 1863, 'kapuso': 1864, 'modoza': 1865, 'wendin': 1866, 'jessica': 1867, 'iban': 1868, 'soho': 1869, 'r.a.': 1870, '10175': 1871, 'perigo': 1872, 'fronteira': 1873, 'hsrd': 1874, 'asiana': 1875, 'airlin': 1876, 'lax-icn-mnl': 1877, 'assumiu': 1878, 'nondon': 1879, 'dolor': 1880, 'nyg': 1881, 'yaszyfleu': 1882, 'robin': 1883, 'hood': 1884, 'aga': 1885, 'ani': 1886, 'between': 1887, 'where': 1888, 'ml': 1889, 'brick': 1890, 'al-fitr': 1891, 'beneficio': 1892, 'sauna': 1893, 'kleur': 1894, 'voedsel': 1895, 'eten': 1896, 'hellow': 1897, 'needsmor': 1898, 'rapunzel': 1899, '\"\\'haren\"': 1900, 'these': 1901, 'vldg': 1902, 'glimps': 1903, 'engag': 1904, 'grazi': 1905, 'seascap': 1906, 'sunris': 1907, 'yorkshir': 1908, 'riley': 1909, 'cmu': 1910, 'sri': 1911, 'lanka': 1912, 'raji': 1913, 'ten': 1914, 'giubong': 1915, 'harva': 1916, 'boss': 1917, 'harvard': 1918, 'moto': 1919, 'reboqu': 1920, 'stusit': 1921, 'tirana': 1922, 'albania': 1923, 'bane': 1924, 'pt.2': 1925, 'primo': 1926, 'giorno': 1927, 'discuola': 1928, 'maidiv': 1929, 'jantar': 1930, 'mantar': 1931, 'masti': 1932, '14': 1933, 'agreedi': 1934, 'getaway': 1935, 'muebl': 1936, '1001': 1937, 'ly': 1938, 'danh': 1939, 'choi': 1940, 'subcrib': 1941, 'photogrid': 1942, 'mejiwoo': 1943, 'marriag': 1944, 'tagihannya': 1945, 'mencengangkan': 1946, 'malazini3': 1947, 'ayubia': 1948, 'djerba': 1949, 'polinesio': 1950, 'quien': 1951, '132': 1952, 'basico': 1953, 's14/e01': 1954, 's.v.b': 1955, 'caigo': 1956, '850': 1957, '5012': 1958, 'ouder': 1959, 'june': 1960, 'green': 1961, 'say': 1962, 'florenc': 1963, 'ena': 1964, 'luna': 1965, 'promeni': 1966, 'pitanj': 1967, 'puerto': 1968, 'rvo': 1969, 'powrot': 1970, 'miesiacach': 1971, 'conoc': 1972, 'japon': 1973, 'playa': 1974, 'vez': 1975, 'dugun': 1976, 'vampir': 1977, 'viru': 1978, 'nadia': 1979, 'injuri': 1980, 'ran': 1981, 'nho': 1982, 'homegood': 1983, 'maxxtul': 1984, 'vive': 1985, 'connos': 1986, 'saintmartin': 1987, 'bangladesh': 1988, 'blooper': 1989, 'karantina': 1990, 'sacini': 1991, 'kestim': 1992, 'ton4kb': 1993, 'ana': 1994, 'roulin': 1995, 'tow': 1996, 'vlog3': 1997, 'dunn': 1998, 'river': 1999, 'toon': 2000, 'univ': 2001, '2/2': 2002, 'pead': 2003, 'ian': 2004, 'lay': 2005, 'luong': 2006, 'aanva.g': 2007, 'scream': 2008, 'accent': 2009, 'unpurposely/': 2010, 'mouth': 2011, 'lastyear': 2012, 'nightmar': 2013, 'princess': 2014, 'ukraina': 2015, 'szok': 2016, 'austin': 2017, 'saatlik': 2018, 'buyuk': 2019, 'surpriz': 2020, 'viktor': 2021, 'vlogdown': 2022, 'chees': 2023, 'madh': 2024, 'locat': 2025, 'grab': 2026, 'driver': 2027, 'leve': 2028, 'level': 2029, 'buka': 2030, 'puasa': 2031, 'jajan': 2032, 'hydro': 2033, 'dip': 2034, 'sonncer': 2035, 'shee': 2036, 'peep': 2037, 'shopkin': 2038, 'lb': 2039, 'tar': 2040, 'nel': 2041, 'animal': 2042, 'whaaatz': 2043, 'cuess': 2044, 'buess': 2045, 'coreea': 2046, 'nord': 2047, 'tinulak': 2048, 'bovfriend': 2049, 'town': 2050, 'ce': 2051, 'xd': 2052, 'szkola': 2053, 'karaibach': 2054, 'a1': 2055, 'espanol': 2056, 'infect': 2057, '63': 2058, 'stef': 2059, 'steak': 2060, 'ter': 2061, 'valu': 2062, 'airbnb': 2063, 'sparkl': 2064, 'wine': 2065, 'kiano': 2066, 'dibentak': 2067, 'papah': 2068, 'baim': 2069, 'internet': 2070, 'guin': 2071, 'fdoc': 2072, 'gid': 2073, 'natalia': 2074, 'bot': 2075, 'phe': 2076, '8b': 2077, 'baap': 2078, 'bijjli': 2079, 'aur': 2080, 'bill': 2081, 'hhoneoon': 2082, 'labatalla': 2083, 'siglo': 2084, 'cekler': 2085, 'gizlicekim': 2086, 'visio': 2087, 'berri': 2088, 'zombi': 2089, 'ihav': 2090, 'secreto': 2091, 'nood': 2092, 'porzadk': 2093, 'domu': 2094, 'sprawdzon': 2095, 'triki': 2096, 'wore': 2097, 'scandal': 2098, 'facult': 2099, 'cemilan': 2100, 'perlengrapan': 2101, 'kosan': 2102, 'squiggli': 2103, 'fret': 2104, 'ood': 2105, '000000': 2106, 'industri': 2107, 'iphonel': 2108, 'boef': 2109, 'wil': 2110, 'trouwen': 2111, 'sambar': 2112, 'sumakka': 2113, 'continigo': 2114, '-yurtlar': 2115, '-yadyok': 2116, 'kutuphan': 2117, '-spor': 2118, 'bogazici': 2119, 'kilyo': 2120, 'tanitim': 2121, 'kusina': 2122, 'fuller': 2123, 'baslasin': 2124, 'khallun': 2125, 'raini': 2126, 'mide': 2127, 'abort': 2128, 's1': 2129, 'nilagang': 2130, 'baka': 2131, 'hilton': 2132, '68kg': 2133, 'camp': 2134, 'dehradun': 2135, 'lanzo': 2136, 'acio': 2137, 'donat': 2138, 'needi': 2139, 'lannounc': 2140, 'discno': 2141, 'grafico': 2142, 'semana': 2143, 'mechan': 2144, 'tursday': 2145, '15a': 2146, 'xoai': 2147, 'janmashtami': 2148, 'quad': 2149, 'borong': 2150, '-barang': 2151, 'usland': 2152, 'ayoko': 2153, 'umuwi': 2154, 'bahay': 2155, 'makalimot': 2156, 'hurt': 2157, 'genda': 2158, 'sitelif': 2159, 'tont': 2160, 'lylo': 2161, 'illest': 2162, 'question': 2163, 'ask': 2164, 'cekilir': 2165, 'vacanza': 2166, 'tuong': 2167, 'hivlog': 2168, '500k+': 2169, '-board': 2170, 'vand': 2171, 'bharat': 2172, 'express': 2173, '-detal': 2174, 'revew': 2175, 'wat': 2176, 'gebeurd': 2177, 'volta': 2178, 'faculdad': 2179, 'gel': 2180, 'goodwood': 2181, 'arabalar': 2182, 'kf': 2183, 'konecn': 2184, 'hotow': 2185, 'koupelna': 2186, 'bever': 2187, '10am-pin': 2188, 'pason': 2189, 'intim': 2190, 'lli': 2191, 'wou': 2192, 'entr': 2193, 'pote': 2194, 'god': 2195, 'ny/nashvil': 2196, 'connect': 2197, 'traler': 2198, 'londra': 2199, 'eterna': 2200, 'manchest': 2201, 'bait': 2202, 'pictur': 2203, 'gender': 2204, '50': 2205, 'raffi': 2206, 'idol': 2207, 'siambul': 2208, 'saka': 2209, 'kyot': 2210, 'estrellar': 2211, 'dron': 2212, '139': 2213, 's14/e08': 2214, 'andara': 2215, 'jadi': 2216, 'sepi': 2217, 'raffi.o': 2218, 'nisya': 2219, 'pamit': 2220, 'hs': 2221, '.299': 2222, ';': 2223, 'xs': 2224, 'lap': 2225, 'yaki': 2226, 'joke': 2227, 'lasyatalk': 2228, 'unz': 2229, 'incom': 2230, 'crore': 2231, 'primeiro': 2232, 'desbravando': 2233, 'seul': 2234, '35th': 2235, 'wiff': 2236, 'sampiyon': 2237, 'olduk': 2238, 'atar': 2239, 'tt': 2240, 'g.': 2241, 'von': 2242, 'zur': 2243, 'werdenden': 2244, 'buynew': 2245, 'safest': 2246, 'breakfast': 2247, 'noticia': 2248, 'adopta': 2249, 'montruo': 2250, 'uklid': 2251, 'photeshoot': 2252, '5k+': 2253, 'stack': 2254, 'insan': 2255, 'move-i': 2256, 'oregon': 2257, 'udaipur': 2258, 'opey': 2259, 'bame': 2260, 'ayan': 2261, 'artista': 2262, 'magkan': 2263, 'kaaway': 2264, 'pera': 2265, 'banko': 2266, 'sagot': 2267, 'lagot': 2268, 'danilo': 2269, 'zanna': 2270, 'italya': 2271, 'floransa': 2272, 'beyoglu': 2273, 'sanat': 2274, 'agusto': 2275, 'bulteni': 2276, 'haciendo': 2277, 'galleta': 2278, 'prim': 2279, 'brunei': 2280, 'heboh': 2281, 'heratoni': 2282, 'agung': 2283, 'sejagat': 2284, 'ufc225': 2285, 'toyo': 2286, 'safari': 2287, 'lkv': 2288, 'vicelon': 2289, 'valur': 2290, 'aceh': 2291, 'gayolu': 2292, 'morando': 2293, 'bebiendo': 2294, 'singapur': 2295, 'afinamo': 2296, 'casamento': 2297, 'nu': 2298, 'face': 2299, 'astai': 2300, 'anecdota': 2301, 'omar': 2302, 'chaparao': 2303, 'lucban': 2304, 'aaj': 2305, 'aana': 2306, 'comuldham': 2307, 'societi': 2308, 'vlo': 2309, 'kovuldum': 2310, 'game2': 2311, 'lovedal': 2312, 'hog': 2313, '71': 2314, 'key': 2315, 'theplonetd': 2316, 'interact': 2317, 'starcast': 2318, 'tmkoc': 2319, 'affordablei': 2320, 'size': 2321, 'underwearl': 2322, 'ailb': 2323, '2013': 2324, 'haklelina': 2325, 'lilo': 2326, 'bobo': 2327, 'cambin': 2328, 'ymhbin': 2329, 'mnpe': 2330, 'mam': 2331, 'tit': 2332, 'niziu': 2333, 'cocea': 2334, 'whi': 2335, 'left': 2336, 'olo': 2337, '\"gaziantep\\'teki\"': 2338, 'guzel': 2339, 'iftar': 2340, 'hayalhanem': 2341, 'mersin': 2342, 'cine': 2343, 'detroit': 2344, 'pision': 2345, 'pi': 2346, 'dessert': 2347, 'plog': 2348, 'ale': 2349, 'isla': 2350, 'muner': 2351, 'lancha': 2352, 'chavo': 2353, 'denmark': 2354, 'pinagtawanan': 2355, 'talaga': 2356, 'nall': 2357, 'snack': 2358, 'nhat': 2359, 'cigi': 2360, 'paoui': 2361, 'ane': 2362, 'cealleng': 2363, 'away': 2364, '+surpris': 2365, 'trend': 2366, 'v1r47': 2367, 'puntenn': 2368, 'slur': 2369, '135cc': 2370, 'lewat': 2371, 'grammi': 2372, '90': 2373, 'sophia': 2374, 'floersch': 2375, 'possion': 2376, 'power': 2377, 'wrestl': 2378, 'uhon': 2379, 'changu': 2380, 'fethiy': 2381, 'jinku': 2382, '\"\\'pinaka\"': 2383, 'jinke': 2384, 'pacouiao': 2385, 'reject': 2386, 'magazit': 2387, 'damisuna': 2388, 'merri': 2389, 'netflix': 2390, 'blind': 2391, 'press': 2392, 'nuestra': 2393, 'suscriptora': 2394, 'abandonada': 2395, 'fila': 2396, 'intacta': 2397, 'filmmak': 2398, 'basic': 2399, 'honywood': 2400, 'taco': 2401, 'sarap': 2402, 'onion': 2403, 'jesu': 2404, 'ball': 2405, 'refrict': 2406, 'megaviog': 2407, 'selalelerind': 2408, 'almak': 2409, 'anel': 2410, 'struggl': 2411, 'chapter': 2412, 'major': 2413, 'transfer': 2414, 'commut': 2415, 'almost': 2416, '5kg': 2417, 'talpel': 2418, 'tanmay': 2419, 'bhat': 2420, 'jacob': 2421, 'taurant': 2422, 'batheri': 2423, 'ford': 2424, 'clara': 2425, 'bekommt': 2426, 'pferd': 2427, 'partiu': 2428, 'corela': 2429, 'phuket': 2430, 'reto': 2431, 'harvarid': 2432, 'moor': 2433, 'milo': 2434, 'tran': 2435, 'ryan': 2436, 'garcia': 2437, 'akhirnya': 2438, 'glow': 2439, 'bloor': 2440, 'cma': 2441, 'nay': 2442, 'luon': 2443, 'thong': 2444, 'chua': 2445, 'liva': 2446, 'chet': 2447, 'curoi': 2448, 'sir': 2449, 'avec': 2450, 'nou': 2451, 'nanay': 2452, 'kampung': 2453, 'sesaat': 2454, 'hafta': 2455, 'ici': 2456, '3ff': 2457, 'designcr': 2458, 'enc': 2459, 'ditantang': 2460, 'terbangkan': 2461, 'x-suy': 2462, 'cessna': 2463, '172': 2464, 'vidcon': 2465, 'trailer': 2466, 'birmingham': 2467, 'engl': 2468, 'impo': 2469, 'landour': 2470, 'monsoon': 2471, '51': 2472, 'sang': 2473, 'chelin': 2474, 'x12': 2475, 'ep.2': 2476, 'renov': 2477, 'begin': 2478, 'reno': 2479, 'diem': 2480, 'chon': 2481, 'karantin': 2482, 'havajima': 2483, 'kletsnat': 2484, 'k3': 2485, 'sky': 2486, 'viz': 2487, 'wooden': 2488, 'oden': 2489, 'overcoat': 2490, '\"amsterdam\\'in\"': 2491, 'tadi': 2492, '1/2': 2493, 'fallglam': 2494, 'dalar': 2495, 'walkeki': 2496, 'rambut': 2497, 'abidzar': 2498, 'kosmetic': 2499, 'nack': 2500, 'citric': 2501, 'acid': 2502, 'casiti': 2503, 'borb': 2504, 'peel': 2505, 'elough': 2506, 'cell': 2507, 'viol': 2508, 'fri': 2509, 'copycat': 2510, 'chailleng': 2511, 'copi': 2512, 'nakita': 2513, 'kow': 2514, 'kimchl': 2515, 'hayalhanemt': 2516, 'birbirin': 2517, 'kattik': 2518, 'jiyeon': 2519, 'syukuran': 2520, 'kwarto': 2521, 'mikay': 2522, 'cach': 2523, 'nmt': 2524, '6000': 2525, '080p': 2526, 'took': 2527, 'prec': 2528, 'sorri': 2529, 'hilfig': 2530, '5:26:30': 2531, 'futur': 2532, 'ultimo': 2533, 'gana': 2534, 'quebec': 2535, 'keep': 2536, 'ogrenc': 2537, 'evi': 2538, 'sl': 2539, 'byron': 2540, 'hospit': 2541, 'sandton': 2542, 'anatomi': 2543, 'flash': 2544, 'hansek': 2545, 'hersheypark': 2546, 'post': 2547, 'introduct': 2548, 'challengo': 2549, 'paqui': 2550, 'gai': 2551, 'nako': 2552, 'inaka-smil': 2553, 'taiwan': 2554, 'capblh': 2555, 'cra': 2556, 'odgerel': 2557, 'santorini': 2558, 'uhd': 2559, 'ambienc': 2560, 'carwow': 2561, '300+': 2562, 'hubeo': 2563, 'restor': 2564, 'hardwar': 2565, 'dupe': 2566, 'wilbert': 2567, 'pwede': 2568, 'haligaw': 2569, 'laki': 2570, 'baiet': 2571, 'bater': 2572, 'mpeso': 2573, 'ito': 2574, 'naaaa': 2575, 'inaabangan': 2576, 'daw': 2577, 'lahat': 2578, 'foul': 2579, 'duni': 2580, 'pat': 2581, 'bagsak': 2582, 'jonah': 2583, 'renz': 2584, 'aldik': 2585, 'recommend': 2586, 'fenomenl': 2587, 'toplandik': 2588, 'yeni': 2589, 'isim': 2590, 'schmuggler': 2591, 'compramo': 2592, 'pictionari': 2593, 'und': 2594, 'kya': 2595, 'karu': 2596, 'sing': 2597, 'chhor': 2598, 'kais': 2599, 'lage': 2600, 'sofe': 2601, 'puldo': 2602, 'recipo': 2603, '-day': 2604, 'wham': 2605, 'amunmask': 2606, 'haunt': 2607, 'bahrain': 2608, 'outdoor': 2609, 'yeri': 2610, 'sundang': 2611, 'mejiday': 2612, '185': 2613, 'emit': 2614, 'alger': 2615, 'dubal': 2616, 'favin': 2617, 'prantina': 2618, 'gunlukl': 2619, 'zachari': 2620, '1/6': 2621, 'scale': 2622, 'vespa': 2623, 'collector': 2624, 'telepathi': 2625, 'neverland': 2626, 'page': 2627, 'manda': 2628, 'a3': 2629, 'pinaghubot': 2630, 'hubad': 2631, 'lon': 2632, 'kapalit': 2633, 'yourself': 2634, 'cutiess': 2635, 'skdjk': 2636, 'die': 2637, 'kpop': 2638, 'ilov': 2639, 'freak': 2640, 'wigilia': 2641, 'ridealong': 2642, 'introduc': 2643, 'sergeant': 2644, 'charmain': 2645, 'createst': 2646, 'kontroluj': 2647, 'moj': 2648, 'tatuaz': 2649, 'aria': 2650, 'operaron': 2651, 'admi': 2652, 'drustvom': 2653, 'prenkujemo': 2654, 'dzehvu': 2655, 'sube': 2656, '\"al\\'rino\"': 2657, 'pepeaguilar': 2658, '977': 2659, 'tenni': 2660, 'equip': 2661, 'maldivl': 2662, 'kh': 2663, 'dage': 2664, 'chickey': 2665, 'halal': 2666, 'lebaran': 2667, 'rendang': 2668, 'bahan2': 2669, 'banget': 2670, 'mahal': 2671, 'alon': 2672, 'spent': 2673, 'carel': 2674, 'imitando': 2675, 'kona': 2676, 'moje': 2677, 'narozenini': 2678, '2009.02.05': 2679, 'jaria': 2680, 'hunter': 2681, 'tattoo': 2682, 'artist': 2683, 'rail': 2684, 'sweden': 2685, 'moupiya': 2686, 'short': 2687, 'vlog27': 2688, 'nye': 2689, 'leiligh': 2690, 'thinb': 2691, 'vaong': 2692, 'hyderabad': 2693, 'palac': 2694, 'countri': 2695, 'ep.24': 2696, 'burn': 2697, 'ship': 2698, '4to': 2699, 'mill': 2700, 'hallam': 2701, 'lildonjai': 2702, 'e.heat': 2703, 'wek': 2704, 'tuyyo': 2705, 'ol': 2706, 'vandol': 2707, 'honeymoon': 2708, 'orn': 2709, 'n3': 2710, 'tashion': 2711, 'north': 2712, 'mubarak': 2713, 'ep-60': 2714, 'cae': 2715, 'techo': 2716, 'rj': 2717, 'kampa': 2718, 'upali': 2719, 'jezero': 2720, 'demolit': 2721, 'masana': 2722, 'mimi': 2723, 'cambriagg': 2724, 'aw': 2725, 'makulit': 2726, 'xa': 2727, 'divorciamo': 2728, 'ozen': 2729, 'rat': 2730, 'huge': 2731, 'playground': 2732, 'differ': 2733, 'ind': 2734, 'ep.5': 2735, 'btsh': 2736, 'cobain': 2737, 'wahana': 2738, 'keisya': 2739, 'froze': 2740, '-138': 2741, 'up-2': 2742, 'gwangju': 2743, 'wando': 2744, 'liquid': 2745, 'valor': 2746, 'velunk': 2747, 'kaja': 2748, 'kanapki': 2749, 'delexamen': 2750, 'kinaya': 2751, 'tuloni': 2752, '68': 2753, 'end': 2754, 'purcla': 2755, 'potien': 2756, 'unknown': 2757, 'lisbon': 2758, 'ipad': 2759, 'wild': 2760, 'thanksgiv': 2761, 'ultrahd': 2762, 'guidar': 2763, '73': 2764, 'malta': 2765, 'r135': 2766, '246': 2767, 'supercar': 2768, 'blondi': 2769, 'knew': 2770, 'descalzo': 2771, 'viajei': 2772, 'sogra': 2773, 'comprasdom': 2774, 'pastel': 2775, 'ersit': 2776, 'gazi': 2777, 'universitesm': 2778, 'nde': 2779, 'hayatta': 2780, 'kalma': 2781, 'rehberi': 2782, 'good': 2783, 'puf': 2784, 'noktalar': 2785, 'tavsiyel': 2786, 'gazili': 2787, 'olmak': 2788, 'apricalikt': 2789, 'recip': 2790, 'ipi': 2791, '1.4': 2792, 'lakh': 2793, 'mistak': 2794, 'bort': 2795, 'hunden': 2796, 'ufc22': 2797, 'tovo': 2798, 'shope': 2799, '49k': 2800, 'evian': 2801, 'patch': 2802, 'metro': 2803, 'depart': 2804, 'corvett': 2805, 'alek': 2806, 'uber': 2807, 'seinen': 2808, 'kampf': 2809, 'parkour': 2810, 'ameliyathaney': 2811, 'girdik': 2812, 'fakultesi': 2813, 'bffl': 2814, 'madhava': 2815, 'bick': 2816, 'farbez': 2817, 'monir': 2818, 'partl': 2819, 'reset': 2820, 'season2': 2821, 'day1': 2822, '5.48g': 2823, '11.83': 2824, '496/-': 2825, 'paper': 2826, 'scissor': 2827, 'brussel': 2828, 'golf': 2829, 'hocanc': 2830, 'nr': 2831, 'tirupati': 2832, 'aileml': 2833, '220': 2834, 'parlo-c': 2835, '101': 2836, 'iran': 2837, 'ravel': 2838, '29': 2839, 'sunplow': 2840, 'field': 2841, 'productivo': 2842, 'vuelta': 2843, 'durga': 2844, 'navami': 2845, 'dussehra': 2846, 'readbook': 2847, 'kaco': 2848, 'pen': 2849, 't=': 2850, 'a6600': 2851, 'bhandara': 2852, 'canadian': 2853, 'nightlif': 2854, 'young': 2855, 'shade': 2856, 'seromp': 2857, 'chez': 2858, 'michou': 2859, 'arham': 2860, 'duthan': 2861, 'kahan': 2862, 'gayi': 2863, 'calvin': 2864, '22mm': 2865, 'f/2': 2866, 'len': 2867, 'jannat': 2868, 'separamoc': 2869, 'toda': 2870, 'verdad': 2871, 'origin': 2872, 'brang': 2873, 'varnovamochap': 2874, 'viagem': 2875, 'acf': 2876, 'mod': 2877, 'backstag': 2878, 'teen': 2879, 'friday': 2880, 'onon': 2881, 'alonzo': 2882, 'hoang': 2883, 'lat': 2884, 'chill': 2885, 'in/mi': 2886, 'semangka': 2887, '350rb': 2888, 'keperluan': 2889, 'puasat': 2890, 'bahan': 2891, 'takjil': 2892, 'soju': 2893, 'landa': 2894, 'chikahang': 2895, 'brutal': 2896, 'burgazada': 2897, 'primark': 2898, 'stehovaci': 2899, 'sugar': 2900, 'appl': 2901, 'horee': 2902, 'appa': 2903, 'datang': 2904, 'theti': 2905, 'regresa': 2906, 'kapper': 2907, 'teroru': 2908, 'today': 2909, 'haftalik': 2910, 'princeton': 2911, '\"move\\'in\"': 2912, 'yay': 2913, 'longboard': 2914, 'toa': 2915, 'suero': 2916, 'funnu': 2917, 'burna': 2918, '13:11': 2919, 'estudiant': 2920, 'universitaria': 2921, 'sth': 2922, '\"chase\\'sfortnit\"': 2923, 'fortnit': 2924, 'dank': 2925, 'tank': 2926, 'myself': 2927, 'gangtok': 2928, 'graduationi': 2929, '10hour': 2930, 'revel': 2931, 'badshah': 2932, 'pehelwan': 2933, 'ultirasonid': 2934, 'auditi': 2935, 'gener': 2936, 'waterfal': 2937, 'barpak': 2938, 'fourth': 2939, 'assist': 2940, 'ere': 2941, 'tan': 2942, 'exig': 2943, 'chicn': 2944, 'cion': 2945, 'situ': 2946, 'nhung': 2947, 'tienc': 2948, 'vio': 2949, 'troll': 2950, 'unlist': 2951, 'plan-a': 2952, 'lemurian': 2953, 'guru': 2954, 'vong': 2955, 'leu': 2956, 'nga': 2957, 'mmc': 2958, 'comb': 2959, 'hv': 2960, 'november-isa': 2961, 'totoong': 2962, 'perez': 2963, 'tyronia': 2964, 'chase': 2965, '8th': 2966, '6-day': 2967, 'instrument': 2968, 'rate': 2969, 'ep-67': 2970, 'ultra': 2971, 'mumu': 2972, 'meme': 2973, 'chorror': 2974, 'comedi': 2975, 'canda': 2976, 'wheal': 2977, 'few': 2978, 'icon': 2979, 'baggaf': 2980, '534': 2981, 'donut': 2982, 'matrik': 2983, 'kema': 2984, 'waterbom': 2985, 'indah': 2986, 'kapuk': 2987, 'bah': 2988, 'poultri': 2989, 'umdia': 2990, 'minhavida': 2991, '3.7': 2992, 'darjeel': 2993, 'ep-42': 2994, 'tava': 2995, 'bangunca': 2996, 'fgg': 2997, 'narth': 2998, 'amanpulo': 2999, 'bueno': 3000, 'air': 3001, 'pala': 3002, '290': 3003, 'bife': 3004, 'horizo': 3005, '350': 3006, 'guarnician': 3007, 'callao': 3008, 'aspen': 3009, 'fellaship': 3010, 'atl': 3011, 'runoresd': 3012, 'upsid': 3013, 'hemd': 3014, 'nagrywami': 3015, 'babska': 3016, 'piosenk': 3017, 'apa': 3018, 'pulau': 3019, 'redang': 3020, 'whisper': 3021, 'arishea': 3022, 'afyonkarahisar': 3023, 'burasiafyon': 3024, 'floor': 3025, 'nine': 3026, 'hole': 3027, 'golfbidd': 3028, 'luxuri': 3029, 'luxi': 3030, 'eerst': 3031, 'vlucht': 3032, 'ufc26': 3033, 'piec': 3034, 'horn': 3035, 'band': 3036, 'ravlog': 3037, 'karanganyar': 3038, 'din': 3039, 'aagay': 3040, 'bahar': 3041, 'type': 3042, 'viog01': 3043, 'sunglin_0215': 3044, 'gazdi': 3045, 'ezt': 3046, 'csinald': 3047, 'trabalho': 3048, 'corberia': 3049, 'familia': 3050, 'barn': 3051, 'repair': 3052, 'kitchenwav': 3053, 'tec': 3054, 'bargi': 3055, 'smile': 3056, 'earli': 3057, 'lp': 3058, 'bottl': 3059, 'danger': 3060, 'lando': 3061, 'coreano': 3062, 'bond': 3063, 'mayor': 3064, 'vico': 3065, 'titan': 3066, 'chines': 3067, 'qinghai': 3068, 'mamma': 3069, 'amigx': 3070, 'wtf': 3071, 'swaradi': 3072, '-more': 3073, 'news': 3074, 'maneskin': 3075, 'il': 3076, 'gunum': 3077, 'campo': 3078, '232': 3079, 'sihirli': 3080, 'annem': 3081, 'ekibiyl': 3082, 'napi': 3083, 'gri': 3084, 'l.a.': 3085, 'mashoor': 3086, 'tareen': 3087, 'biryani': 3088, 'lt': 3089, 'bural': 3090, 'iu': 3091, 'older': 3092, 'baru': 3093, 'chatti': 3094, '2besaron': 3095, 'alguien': 3096, 'mismo': 3097, 'sexo': 3098, 'ih': 3099, 'syria': 3100, 'lonavala': 3101, 'khandala': 3102, 'rixx': 3103, 'oop': 3104, '67kg': 3105, 'ayuda': 3106, 'nage': 3107, 'servicecrew': 3108, 'camnewton': 3109, 'knife': 3110, 'tabul': 3111, 'nevada': 3112, 'hay': 3113, 'naku': 3114, 'anak': 3115, 'dinner': 3116, '04': 3117, 'coast': 3118, 'ulfol': 3119, 'rn': 3120, 'serv': 3121, 'chaleng': 3122, 'yuck': 3123, 'kopekler': 3124, 'ens': 3125, 'tirasi': 3126, 'vlogi': 3127, '2004': 3128, 'vlogwithsoni': 3129, 'shubh.m': 3130, 'odtu': 3131, 'journey': 3132, 'swami': 3133, 'narayan': 3134, 'mandir': 3135, 'xuc': 3136, 'xich': 3137, 'purchas': 3138, 'scooli': 3139, 'comment': 3140, '52': 3141, '155': 3142, 'zacateca': 3143, 'auditorio': 3144, 'nacion': 3145, 'perfect': 3146, 'hitter': 3147, 'ptaca': 3148, 'za': 3149, 'stowo': 3150, 'nami': 3151, 'morning-calm': 3152, 'encanto': 3153, 'amapa': 3154, 'durian': 3155, 'slam': 3156, 'viba': 3157, 'treat': 3158, 'auto': 3159, 'ila': 3160, 'peor': 3161, 'bella': 3162, 'gotten': 3163, 'weightloss': 3164, 'p100,000': 3165, 'help': 3166, 'guy': 3167, 'anniversair': 3168, 'copain': 3169, 'influenciadora': 3170, 'nestor': 3171, 'victori': 3172, 'lonavalav': 3173, 'swim': 3174, 'when': 3175, 'eilish': 3176, 'inshot': 3177, 'kiss': 3178, 'fish': 3179, 'sheri': 3180, 'tue': 3181, 'global': 3182, 'reciproc': 3183, 'carryminati': 3184, 'plane': 3185, 'chalao': 3186, 'triggeredinsaan': 3187, 'lazerbeam': 3188, 'handstand': 3189, 'tyson': 3190, 'you~': 3191, 'groom': 3192, 'noc': 3193, 'pustyni': 3194, 'cambiq': 3195, '05:00': 3196, 'angtrip': 3197, 'ame': 3198, 'pamilya': 3199, 'kiki': 3200, 'vs.': 3201, 'flyboard': 3202, '\"york\\'ta\"': 3203, 'northern': 3204, 'spain': 3205, 'zoe': 3206, 'cuban': 3207, 'pku': 3208, 'exp': 3209, 'izmir': 3210, 'turkey': 3211, '149': 3212, 'vidasl': 3213, 'napl': 3214, 'kok': 3215, 'kamu': 3216, 'gak': 3217, 'tahu': 3218, 'kenapa': 3219, 'mertual': 3220, 'koreat': 3221, 'belum': 3222, 'ransasc': 3223, 'walleti': 3224, 'withit': 3225, 'showtim': 3226, 'kelakuan': 3227, 'captain': 3228, 'ternyata': 3229, 'ginii': 3230, 'tohh': 3231, 'sabaton': 3232, 'great': 3233, '-warsaw': 3234, 'berlin': 3235, 'pragu': 3236, 'senay': 3237, 'akkurt': 3238, 'hayat': 3239, 'bana': 3240, 'gozel': 3241, 'sinop': 3242, '\"\\'ll\"': 3243, 'tch': 3244, 'bastan': 3245, 'galileia': 3246, 'menina': 3247, 'sabado': 3248, '~c0v1d': 3249, 'free~': 3250, 'aleatorio': 3251, 'futurist': 3252, 'capit': 3253, 'pollo': 3254, 'horno': 3255, 'facil': 3256, 'yjugoso': 3257, 'chate': 3258, 'realsfak': 3259, 'worst': 3260, '13806': 3261, '3-5': 3262, 'aqua': 3263, 'mage': 3264, 'herb': 3265, 'jenni': 3266, 'basto': 3267, '00:02:49:35': 3268, 'ew': 3269, 'stop': 3270, 'anesh': 3271, 'nagtampo': 3272, 'pasalubong': 3273, 'stroll': 3274, 'adha': 3275, 'sapienza': 3276, 'zoren': 3277, 'freshman': 3278, 'morto': 3279, 'ek': 3280, 'kum': 3281, 'zindagani': 3282, 'tiangg': 3283, 'zeinab': 3284, 'ngu': 3285, 'ef': 3286, 'jamgia': 3287, 'tiger': 3288, 'mist': 3289, 'ahjump': 3290, 'summerfood': 3291, 'cancun': 3292, 'xin': 3293, 'phep': 3294, 'nhan': 3295, 'thutong': 3296, 'mauritiu': 3297, 'proje': 3298, 'kargolar': 3299, 'drank': 3300, 'haha': 3301, '+birthday': 3302, 'salubong': 3303, 'scari': 3304, 'wira': 3305, 'nurmansyah': 3306, '1000x': 3307, 'observando': 3308, 'tasya': 3309, 'farasya': 3310, 'dibalik': 3311, 'pintu': 3312, 'balayi': 3313, 'buena': 3314, 'newnorm': 3315, '360': 3316, 'ahnso': 3317, 'ill': 3318, 'monthli': 3319, 'juli': 3320, '2017': 3321, 'woof': 3322, '83': 3323, 'perch': 3324, 'tutori': 3325, 'rotina': 3326, 'manha': 3327, 'wol': 3328, 'lok': 3329, 'nara': 3330, 'kyoto': 3331, 'gaziantep': 3332, 'lest': 3333, '14,000': 3334, 'piatek': 3335, 'varana': 3336, 'qatar': 3337, 'airwak': 3338, 'episode2': 3339, '06.01.20': 3340, 'detox': 3341, 'desk': 3342, 'cozi': 3343, 'nocho': 3344, 'turn': 3345, '280': 3346, 'stone': 3347, 'list': 3348, 'upsc': 3349, 'politi': 3350, 'memoris': 3351, 'study_challeng': 3352, 'sever': 3353, '2/5': 3354, 'fast': 3355, 'dg': 3356, 'ln': 3357, 'ausumn': 3358, 'bllion': 3359, 'naprika': 3360, 'krump': 3361, 'recharg': 3362, 'journ': 3363, 'meditaiton': 3364, 'yellow': 3365, 'lush': 3366, 'ngudi': 3367, 'cing': 3368, 'ngting': 3369, 'ep4': 3370, 'vioa': 3371, 'hometown': 3372, 'vlog20': 3373, 'rajon': 3374, 'nguoi': 3375, 'quoi': 3376, 'ung': 3377, 'slaapfeest': 3378, 'woonkam': 3379, 'ross': 3380, 'ceweni': 3381, 'cakep': 3382, 'titiou': 3383, 'attack': 3384, 'jordan': 3385, 'travelog': 3386, 'wspoln': 3387, 'majtki': 3388, 'karumaldum': 3389, 'misteryo': 3390, 'homealon': 3391, 'diet': 3392, '501506': 3393, '-3kg': 3394, 'mercad': 3395, 'homana': 3396, 'foster': 3397, '\"boa+s\\'n\"': 3398, 'hose': 3399, 'asado': 3400, 'liburan': 3401, 'balo': 3402, 'naik': 3403, 'jeth': 3404, 'trien': 3405, 'hang': 3406, 'yeu': 3407, 'dung': 3408, 'sat': 3409, 'sleu': 3410, 'faz': 3411, 'analista': 3412, 'sistema': 3413, 'sale': 3414, 'bia': 3415, 'mussoori': 3416, 'housetour': 3417, 'ehat': 3418, 'bazaar': 3419, 'kerala': 3420, 'ip': 3421, 'stave': 3422, 'steve': 3423, 'cuic': 3424, 'version': 3425, 'nice': 3426, 'promo': 3427, 'kind': 3428, 'jentl': 3429, 'pedal': 3430, 'eob': 3431, 'strat': 3432, 'exclus': 3433, 'kaleshi': 3434, 'millind': 3435, 'gaba': 3436, 'mg': 3437, 'filter': 3438, 'jreamer': 3439, 'mission': 3440, 'imposs': 3441, 'ride': 3442, 'gwarighat': 3443, 'jabalpur': 3444, 'newli': 3445, 'modesto': 3446, 'pak': 3447, 'asbab': 3448, 'tegal': 3449, 'darussalam-': 3450, 'eretan': 3451, 'somomo': 3452, 'frog': 3453, 'dissect': 3454, 'spg': 3455, 'dedektif': 3456, 'bore': 3457, 'cantando': 3458, 'entonando': 3459, 'campeon': 3460, 'ay': 3461, 'a7': 3462, 'bhavani': 3463, 'skincar': 3464, 'johnsontown': 3465, 'saitama': 3466, 'pohodova': 3467, 'sobota': 3468, 'giornata': 3469, 'mio': 3470, 'compleanno': 3471, 'everi': 3472, 'blank': 3473, '400tm': 3474, 'y1og': 3475, '781': 3476, 'bb': 3477, 'magkabit': 3478, 'kuko': 3479, 'kinderwagen': 3480, 'voor': 3481, 'prahyl': 3482, 'castingn': 3483, 'feel': 3484, 'ooo': 3485, 'kto': 3486, '4on': 3487, 'yctont': 3488, 'bost': 3489, 'pore': 3490, 'serum': 3491, 'corset': 3492, 'unbox': 3493, 'hicimo': 3494, 'orar': 3495, 'broma': 3496, 'pesada': 3497, 'katia': 3498, 'hall': 3499, 'ween': 3500, 'hype': 3501, 'cabriel': 3502, 'costom': 3503, 'montreal': 3504, 'pvt': 3505, 'nginap': 3506, 'dihotel': 3507, 'bandara': 3508, 'equien': 3509, 'summi': 3510, 'wish': 3511, 'part-1': 3512, 'kurulur': 3513, 'uyku': 3514, 'duzenini': 3515, 'kurdu': 3516, '100k': 3517, 'alas3': 3518, 'yazlik': 3519, 'kiyafetlerimi': 3520, 'estiva': 3521, 'santa': 3522, 'anita': 3523, 'cours': 3524, 'trafford': 3525, '49': 3526, 'dealer': 3527, 'boston': 3528, 'ven': 3529, 'haaaaaaahah': 3530, 'aku': 3531, 'jumpa': 3532, 'hantu': 3533, 'inholland': 3534, 'beef': 3535, 'faufautobahn': 3536, 'erika': 3537, 'ich': 3538, 'rast': 3539, 'ireland': 3540, 'vegan': 3541, 'intorini': 3542, 'giam': 3543, 'ste': 3544, 'manh': 3545, 'trong': 3546, 'nhac': 3547, 'rainferest': 3548, 'know': 3549, 'amber': 3550, 'dumat': 3551, 'hindi': 3552, 'bunso': 3553, 'wang': 3554, 'prasuna': 3555, '10pm': 3556, 'scienc': 3557, 'ganga': 3558, 'fanfest': 3559, 'geografia': 3560, 'homerand': 3561, 'filipino': 3562, 'baumstumpf': 3563, 'goma': 3564, 'miss': 3565, 'romania': 3566, 'piera': 3567, 'arrancar': 3568, 'parada': 3569, '148': 3570, '515/ed1': 3571, 'button': 3572, 'leditest': 3573, 'lg': 3574, 'havin': 3575, 'pere': 3576, 'worik': 3577, 'atr': 3578, 'doggi': 3579, 'intrud': 3580, 'think': 3581, 'anung': 3582, 'nangyari': 3583, 'buhok': 3584, 'dun': 3585, 'cade': 3586, 'spp': 3587, 'decemb': 3588, 'avenu': 3589, '05:30': 3590, 'a.m': 3591, 'kiedi': 3592, 'babcia': 3593, 'zaproponuj': 3594, 'reaguj': 3595, 'memi': 3596, 'ep1': 3597, 'hobbit': 3598, 'almo': 3599, 'bree': 3600, 'sahara': 3601, 'r.i.p': 3602, 'find': 3603, 'avellaneda': 3604, 'flore': 3605, 'fin': 3606, '\"d\\'uni\"': 3607, 'pakowani': 3608, 'hawaj': 3609, 'egg': 3610, 'hobbydad': 3611, 'hobbypig': 3612, 'malayalam': 3613, 'techi': 3614, 'fazahath.44': 3615, 'nehe': 3616, 'repli': 3617, 'put': 3618, 'groovlin': 3619, 'samen': 3620, 'wc': 3621, 'teni': 3622, 'sustent': 3623, 'mercado': 3624, 'amecameca': 3625, 'mazatlan': 3626, 'pepeaguiad': 3627, '212': 3628, 'screwer': 3629, 'mationcyosio': 3630, 'labor': 3631, 'fruit': 3632, 'suppris': 3633, 'sturdi': 3634, 'd-ring': 3635, 'ialan': 3636, 'jalan': 3637, 'doic': 3638, 'gabbana': 3639, 'tm': 3640, 'vloy': 3641, 'cour': 3642, 'voog': 3643, 'abra': 3644, 'amerika': 3645, 'hotpl': 3646, 'gamescom': 3647, 'bulaga': 3648, 'bawaljudgement': 3649, 'alemv': 3650, 'evturu': 3651, 'norway': 3652, 'medic': 3653, 'their': 3654, 'vlogma': 3655, 'iceland': 3656, 'apeleat': 3657, 'secr': 3658, 'kept': 3659, 'kvlog106': 3660, 'spesial': 3661, 'wracami': 3662, 'bol': 3663, 'tragedia': 3664, 'meka': 3665, 'masakra': 3666, 'lez': 3667, 'diz': 3668, 'anay': 3669, 'laster': 3670, 'role': 3671, 'model': 3672, 'stolz': 3673, 'auf': 3674, 'meinen': 3675, 'mann': 3676, 'neuer': 3677, 'laya': 3678, 'pa': 3679, 'namumuro': 3680, 'naiii': 3681, 'alberto': 3682, 'abrim': 3683, 'cursando': 3684, 'conmigo': 3685, 'palm': 3686, 'desert': 3687, 'universityc': 3688, 'donki': 3689, 'cdol': 3690, '800412': 3691, 'hav': 3692, 'youtube/edward': 3693, 'f.': 3694, 'limbang': 3695, 'terakhir': 3696, 'co-pilot': 3697, 'harvino': 3698, 'direkam': 3699, 'limbong': 3700, 'menjadi': 3701, 'penerbangan': 3702, 'terakhirl': 3703, 'harv': 3704, 'socola': 3705, 'usako': 3706, 'storm': 3707, 'monster': 3708, 'urodzinv': 3709, 'campingu': 3710, 'dota': 3711, '5500': 3712, 'eagl': 3713, 'forev': 3714, 'wolk': 3715, 'cadaqu': 3716, 'monet': 3717, 'pland': 3718, 'mallion': 3719, '20,000': 3720, 'cementara': 3721, 'paul': 3722, 'abov': 3723, 'sk': 3724, 'tinai': 3725, 'wf': 3726, 'hidup': 3727, 'sehari-hari': 3728, 'boo': 3729, 'basket': 3730, 'av': 3731, 'minusi': 3732, 'zycia': 3733, 'export': 3734, 'rocinha': 3735, 'voce': 3736, 'nunca': 3737, 'viu': 3738, 'trail': 3739, 'hike': 3740, 'mont': 3741, 'ph': 3742, 'bunti': 3743, 'chaper': 3744, 'eeo': 3745, 'react': 3746, 'christ': 3747, 'neue': 3748, 'wohnung': 3749, 'chi': 3750, 'quoc': 3751, 'nna': 3752, 'nra': 3753, 'macimiz': 3754, 's14/e11': 3755, 'mal': 3756, 'empieza': 3757, 'mundo': 3758, 'rosa': 3759, 'seneg': 3760, 'puro': 3761, 'sherep': 3762, 'loca': 3763, 'enamorada': 3764, 'tabe': 3765, 'ashasudarsan': 3766, 'erpool': 3767, 'matchday': 3768, 'liverpool': 3769, 'fc': 3770, 'barcelona': 3771, 'suez': 3772, 'entranc': 3773, 'exit': 3774, 'seaman': 3775, 's03e13': 3776, 'ake': 3777, 'mamanahin': 3778, 'resort': 3779, 'feliz': 3780, 'trauma': 3781, 'rola': 3782, 'barah': 3783, 'aodi': 3784, 'rach': 3785, 'kealpt:1': 3786, 'zealard': 3787, 'spay': 3788, 'recoveri': 3789, 'coneg': 3790, 'becom': 3791, 'jethal': 3792, 'jaipur': 3793, 'tinder': 3794, 'noth': 3795, 'jt': 3796, 'reunit': 3797, 'morway': 3798, 'tere': 3799, 'sheher': 3800, 'tideo': 3801, 'elkoltoztem': 3802, 'aduilar': 3803, 'chile': 3804, '193': 3805, 'karaok': 3806, 'nellow': 3807, '-our': 3808, 'home-': 3809, 'daher': 3810, 'rooftop': 3811, 'bar': 3812, 'jfk': 3813, 'cun': 3814, 'belgrad': 3815, 'serbia': 3816, 'hari': 3817, 'kuliah': 3818, 'jepang': 3819, 'nairoba': 3820, 'newcastl': 3821, 'agger': 3822, 'mlb': 3823, 'logo': 3824, 'dont': 3825, 'germani': 3826, 'naruto': 3827, 'theme': 3828, 'ichiraku': 3829, 'mv': 3830, 'jonden': 3831, 'hope': 3832, 'fletcher': 3833, 'veronica': 3834, 'lightingal': 3835, 'vobaboli': 3836, 'loot': 3837, 'liya': 3838, 'gymnasium': 3839, '/dquipment': 3840, 'squash': 3841, 'court': 3842, 'chang': 3843, 'sginer': 3844, 'varsiti': 3845, 'tayab': 3846, 'rashm': 3847, 'myfirst': 3848, '0of': 3849, 'visten': 3850, 'mujer': 3851, 'abuja': 3852, 'overground': 3853, 'purplevlog': 3854, 'uno': 3855, 'viajera': 3856, '137': 3857, 's14/e06': 3858, 'nlog': 3859, 'eurosis': 3860, 'qualiti': 3861, 'alia': 3862, 'janeiro': 3863, 'hardest': 3864, 'juara': 3865, 'harapa': 3866, 'lomen': 3867, 'vidio': 3868, 'lu': 3869, 'chop': 3870, 'sm': 3871, 'supermaduth': 3872, '2j': 3873, 'lazi': 3874, '41': 3875, 'leagu': 3876, 'recir': 3877, '20a': 3878, 'jung': 3879, 'disast': 3880, 'incred': 3881, 'grass': 3882, 'bulgaria': 3883, 'sight': 3884, 'simula': 3885, 'oni': 3886, 'ikj': 3887, 'sekolah': 3888, 'arti': 3889, '3tah': 3890, 'gifl': 3891, 'slime': 3892, 'unicorn': 3893, 'alweer': 3894, 'afew': 3895, 'withm': 3896, 'woolworth': 3897, 'lustr': 3898, 'panti': 3899, 'takeov': 3900, 'patio': 3901, 'workout.with': 3902, 'issu': 3903, 'ntn': 3904, 'daku': 3905, 'nyuruh': 3906, 'nazar': 3907, 'nge-vlog': 3908, '157': 3909, 'ler': 3910, 'solitario': 3911, 'fif': 3912, 'elviog': 3913, 'bauen': 3914, 'wir': 3915, 'mondbasi': 3916, 'cctv': 3917, 'angelica': 3918, 'detector': 3919, 'rantin': 3920, 'harea': 3921, 'praia': 3922, 'lotada': 3923, 'coreia': 3924, 'switzerland': 3925, 'enti': 3926, 'dani': 3927, 'fe': 3928, 'cocinando': 3929, 'vit': 3930, 'fuchluzen': 3931, 'pepeagular': 3932, '195': 3933, 'soda': 3934, 'anxieti': 3935, 'stress': 3936, 'lot': 3937, '1food': 3938, 'drew': 3939, 'manalong': 3940, 'p500': 3941, 'code': 3942, 'binat': 3943, 'iivax': 3944, 'yan': 3945, '96': 3946, 'pina-iyak': 3947, 'kafreshnessi': 3948, 'dolainab': 3949, 'donekla': 3950, 'skusta': 3951, 'bulli': 3952, 'crawford': 3953, '11,000,000': 3954, 'triplet': 3955, 'flag': 3956, 'pech': 3957, 'selva': 3958, 'gensan': 3959, 'doom': 3960, 'monori': 3961, 'lane': 3962, 'ohristma': 3963, 'congert': 3964, 'laundri': 3965, 'stamford': 3966, 'idea': 3967, 'jyna': 3968, 'hot': 3969, 'roblox': 3970, 'tienda': 3971, 'valleio': 3972, 'facebook': 3973, 'rent': 3974, 'tdvlog': 3975, '-mom': 3976, 'headphon': 3977, 'gaano': 3978, 'kasarap': 3979, 'palatok': 3980, 'chan': 3981, 'nuong': 3982, 'takbir': 3983, 'ngumpul': 3984, 'lagm': 3985, 'jungl': 3986, 'vieron': 3987, 'aparato': 3988, 'idental': 3989, 'ring': 3990, 'diamond': 3991, 'adnaan': 3992, 'shaikh': 3993, 'otel': 3994, 'dain': 3995, 'dreamland': 3996, 'avatar': 3997, 'ipin': 3998, 'pangil': 3999, 'rosi': 4000, 'keder': 4001, 'mig': 4002, 'p-90': 4003, 'taytay': 4004, 'p-50': 4005, 'surajkund': 4006, 'obrazi': 4007, 'oblec': 4008, 'zara': 4009, 'hmmm': 4010, 'squad': 4011, 'vanoc': 4012, 'jericoacoara': 4013, 'hybe': 4014, 'dapet': 4015, 'alamat': 4016, 'photocard': 4017, 'tybe': 4018, 'insight': 4019, 'baju': 4020, 'dipak': 4021, 'konser': 4022, 'paga': 4023, 'huella': 4024, 'maa': 4025, 'weed': 4026, 'bathroom': 4027, 'airplan': 4028, 'aircraft': 4029, 'banyomu': 4030, 'spa': 4031, 'yaptim': 4032, 'mojito': 4033, 'exercicio': 4034, '1958': 4035, 'faco': 4036, 'reviso': 4037, 'ficha': 4038, 'pautada': 4039, 'playlist': 4040, 'cirurgia': 4041, 'mohena': 4042, 'kumari': 4043, 'rimorav': 4044, 'invas': 4045, 'ate': 4046, 'odeassa': 4047, '6am': 4048, 'soneva': 4049, 'kiri': 4050, 'alrisaa': 4051, 'oatnithi': 4052, '72': 4053, 'nhi': 4054, 'chahaiy': 4055, 'deliveri': 4056, 'erst': 4057, 'univech': 4058, 'pooja': 4059, 'jollibe': 4060, 'championship': 4061, 'moscow': 4062, 'ibrahim': 4063, 'battl': 4064, 'atlanta': 4065, 'cobra': 4066, 'kai': 4067, 'headchon': 4068, 'royal': 4069, 'volver': 4070, 'carib': 4071, '147': 4072, 'museo': 4073, 'trade': 4074, 'april': 4075, 'fool': 4076, 'invit': 4077, 'nyfw': 4078, 'achiev': 4079, '\"13\\'aniversario\"': 4080, 'luctuoso': 4081, 'antonio': 4082, 'lmu': 4083, 'tou': 4084, 'tropic': 4085, 'mix': 4086, 'mallorca': 4087, 'dino': 4088, 'thru': 4089, 'wednesday': 4090, 'essenti': 4091, 'pillow': 4092, 'snank': 4093, 'chapstick': 4094, 'taichung': 4095, 'comum': 4096, 'nocreahn': 4097, 'cbemok': 4098, 'nepe3appy3hm': 4099, 'pepperdin': 4100, 'chapman': 4101, 'azusa': 4102, 'pacif': 4103, '188': 4104, 'bunda': 4105, 'marah': 4106, 'besar': 4107, 'banff': 4108, 'alberta': 4109, 'kcm': 4110, '278l': 4111, 'muntikan': 4112, 'nalaglag': 4113, 'malunod': 4114, 'bitoystori': 4115, 'canggu': 4116, 'farewel': 4117, 'balak': 4118, 'naka': 4119, 'patung': 4120, 'mov': 4121, 'ngi': 4122, 'gab': 4123, 'streit': 4124, 'bake': 4125, 'ump': 4126, 'inea': 4127, 'oxford': 4128, 'fit': 4129, 'florida': 4130, 'valak': 4131, 'anniversari': 4132, 'jmoo': 4133, 'biza': 4134, 'jakartai': 4135, 'icinemat': 4136, 'ikiga': 4137, 'life|': 4138, 'klan': 4139, 'profesional': 4140, 'semang': 4141, 't.2k': 4142, 'gy': 4143, 'tanford': 4144, 'euta': 4145, 'wilfredo': 4146, 'gonzalez': 4147, 'calder': 4148, 'husband': 4149, 'goodbv': 4150, 'pimpl': 4151, 'overbudget': 4152, 'supermark': 4153, 'biglaang': 4154, 'rampa': 4155, 'enchant': 4156, 'per': 4157, 'noju': 4158, 'mper': 4159, 'jum': 4160, 'umf': 4161, 'nojump': 4162, 'olog': 4163, 'sp': 4164, 'adob': 4165, 'spark': 4166, 'chilapalooza': 4167, 'safar': 4168, 'na-mizi': 4169, 'bumalik': 4170, 'jough': 4171, 'tessli': 4172, 'lessli': 4173, 'perion': 4174, 'perfora': 4175, '13.0': 4176, '0000': 4177, 'fase': 4178, 'ead': 4179, 'ei': 4180, 'questao': 4181, 'boat': 4182, 'begum': 4183, 'sok': 4184, 'oldu': 4185, 'dollar': 4186, 'spree': 4187, 'haldewlog': 4188, 'central': 4189, '110': 4190, 'aditi': 4191, 'hizo': 4192, 'hasta': 4193, 'hieso': 4194, '1day': 4195, 'vloge': 4196, 'medvlog': 4197, 'primetro': 4198, 'tia': 4199, 'elo': 4200, 'internato': 4201, 'sienat': 4202, 'bringu': 4203, '18-': 4204, 'tough': 4205, 'sumpto': 4206, 'gleep': 4207, 'cau': 4208, 'bang': 4209, 'ambia': 4210, 'bolich': 4211, 'compra': 4212, 'ariana': 4213, 'em.new': 4214, 'meu': 4215, 'sad': 4216, 'debut': 4217, 'papi': 4218, 'nimesaluhd.com': 4219, 'v.llog': 4220, 'wart': 4221, 'swojej': 4222, 'ceni': 4223, 'sq': 4224, 'dalat': 4225, 'lk': 4226, 'ruoi': 4227, 'ket': 4228, 'lubi': 4229, 'kolkata': 4230, 'frenemi': 4231, 'h3': 4232, 'podcast': 4233, 'cavapoo': 4234, 'unfantasma': 4235, 'llora': 4236, 'vond': 4237, 'heel': 4238, 'eng': 4239, 'traemo': 4240, 'tatra': 4241, '1.nap': 4242, 'hongda': 4243, 'coconut': 4244, 'manila': 4245, 'fli': 4246, 'beast': 4247, 'balanc': 4248, 'bulakenya': 4249, 'januari': 4250, 'bingo': 4251, 'pina': 4252, '200': 4253, 'singer': 4254, 'sponsor': 4255, 'duoi': 4256, '141': 4257, 's14/e10': 4258, 'garmin': 4259, 'peligro': 4260, 'tayikistan': 4261, 'aa': 4262, 'betten': 4263, 'halamin': 4264, 'dugunu': 4265, 'biscuit': 4266, '\"\\'le\"': 4267, '700': 4268, 'km': 4269, 'tomorrow': 4270, 'tonight': 4271, 'podrozepl': 4272, 'pour': 4273, 'glowup': 4274, 'sandia': 4275, 'repeat': 4276, 'exercis': 4277, 'rapid': 4278, 'ihoothi': 4279, 'yeh': 4280, 'ladki': 4281, 'geya': 4282, 'bataya': 4283, 'peror': 4284, 'vevo': 4285, '13th': 4286, 'woman': 4287, 'idont': 4288, 'likeuci': 4289, 'lave': 4290, 'muita': 4291, 'roupa': 4292, 'rassolog': 4293, 'wiener': 4294, 'schnitzel': 4295, 'vienna': 4296, 'austria': 4297, 'completa': 4298, 'tansa': 4299, 'phan': 4300, 'toil': 4301, 'mung1': 4302, 'mung2': 4303, 'mung': 4304, '70': 4305, 'wte': 4306, 'queda': 4307, 'bajo': 4308, 'propio': 4309, 'risgo': 4310, 'background': 4311, 'mrv': 4312, 'again': 4313, '2007': 4314, 'escalamo': 4315, 'thora': 4316, 'acampar': 4317, 'anti': 4318, 'saclarimi': 4319, 'kestirdim': 4320, 'conmig': 4321, 'enla': 4322, 'waimea': 4323, 'ippay': 4324, 'vend': 4325, 'machin': 4326, 'nossa': 4327, 'festa': 4328, 'logi': 4329, 'dedic': 4330, 'cami': 4331, 'andoy': 4332, 'myeongdong': 4333, 'bikiningil': 4334, 'nguor': 4335, 'blan': 4336, 'mual': 4337, 'nurong': 4338, 'dira': 4339, 'thit': 4340, 'heo': 4341, 'xao': 4342, 'pastyronia': 4343, 'sobrang': 4344, '45': 4345, '82': 4346, 'scam': 4347, 'errand': 4348, 'werk': 4349, 'stuffz': 4350, 'nor': 4351, 'tread': 4352, 'seven': 4353, 'e.': 4354, 'shoeper': 4355, 'unkabog': 4356, 'sneaker': 4357, 'chiha': 4358, 'fachon': 4359, 'looardo': 4360, 'nandi': 4361, 'entir': 4362, 'handbag': 4363, 'chili': 4364, 'velem': 4365, 'aviat': 4366, 'command': 4367, 'nosotno': 4368, 'hyor': 4369, 'verano': 4370, 'devolv': 4371, 'favor': 4372, '131': 4373, 'vetnam': 4374, 'ajbxng': 4375, 'everyon': 4376, 'hate': 4377, 'eingebrochen': 4378, 'fatrol': 4379, 'iem': 4380, 'maza': 4381, 'chocol': 4382, 'mouss': 4383, 'malaysian': 4384, 'aporean': 4385, 'realis': 4386, 'singl': 4387, 'rya': 4388, 'briel': 4389, 'tml': 4390, 'crew': 4391, 'mindanao': 4392, 'sb19': 4393, 'medi': 4394, 'ocr': 4395, 'beniml': 4396, 'birl': 4397, 'spici': 4398, 'kiya': 4399, 'gayah': 4400, 'vo': 4401, 'grad': 4402, 'hungri': 4403, 'etihad': 4404, 'airway': 4405, 'pass': 4406, 'toledo': 4407, 'famou': 4408, 'shravan': 4409, 'bayram': 4410, 'calgari': 4411, 'naturalbirthistori': 4412, 'ad': 4413, 'district': 4414, 'themo': 4415, 'caloma': 4416, 'bridg': 4417, 'smkcp': 4418, 'hieu': 4419, 'xuong': 4420, 'mgw': 4421, '25kg': 4422, 'sac': 4423, 'cold': 4424, 'excurs': 4425, '227': 4426, 'casino': 4427, 'hinusgahan': 4428, 'ti': 4429, 'pag': 4430, 'alic': 4431, 'porscharm': 4432, 'cika': 4433, 'soon': 4434, 'esplanad': 4435, 'ngbeki': 4436, 'phase': 4437, 'robot': 4438, 'bring': 4439, 'sigu': 4440, 'slowli': 4441, 'vlic': 4442, 'sure': 4443, 'zyci': 4444, 'pod': 4445, 'woda': 4446, 'dubaju': 4447, 'mic': 4448, '95': 4449, 'nosso': 4450, 'salario': 4451, 'krishna': 4452, 'jahmashtami': 4453, 'newborn': 4454, '45k+': 4455, 'convinc': 4456, 'accept': 4457, 'liefd': 4458, 'yilan': 4459, 'demenag': 4460, 'core': 4461, 'vol': 4462, 'room-tour': 4463, 'quarantain': 4464, 'ekipmanlarim': 4465, 'barrackdor': 4466, 'vlog-barrackporelatt': 4467, '20.5.2020': 4468, 'afroz': 4469, 'alam': 4470, '-sumit': 4471, 'rov': 4472, 'sachin': 4473, 'kr': 4474, 'gupta': 4475, 'crazyteam.30': 4476, 'heaven': 4477, 'earth': 4478, 'newcattoy': 4479, 'guarantin': 4480, 'eu': 4481, 'apaixon': 4482, 'essa': 4483, 'havuz': 4484, 'lno': 4485, 'invaden': 4486, 'prod': 4487, 'also': 4488, 'still': 4489, 'gole': 4490, 'ald': 4491, 'babyyi': 4492, 'fust': 4493, 'undia': 4494, 'sixflag': 4495, 'egia': 4496, 'thau': 4497, 'pem': 4498, 'nickreib.com': 4499, 'strukli': 4500, 'croatia': 4501, 'vlogggg': 4502, 'empti': 4503, 'selma': 4504, 'kast': 4505, 'organizen': 4506, 'volleybal': 4507, 'usav': 4508, 'desabafo': 4509, 'sobr': 4510, 'namorar': 4511, 'pessoa': 4512, 'velha': 4513, 'grupo': 4514, 'brasileiro': 4515, 'nofgito': 4516, 'rogerio': 4517, 'enachev': 4518, 'lext': 4519, '12th': 4520, '}': 4521, 'princesa': 4522, 'mucho': 4523, 'tl': 4524, 'dejar': 4525, 'evelyn': 4526, 'estar': 4527, 'junto': 4528, 'jelai': 4529, 'madam': 4530, 'kilay': 4531, 'hinuli': 4532, 'brgi': 4533, 'laliga': 4534, 'santand': 4535, 'partido': 4536, 'futbol': 4537, 'desd': 4538, 'edificio': 4539, 'gopro': 4540, 'novemb': 4541, 'historia': 4542, 'maltrato': 4543, 'urla': 4544, 'genclik': 4545, 'festivali': 4546, 'cleanout': 4547, 'yet': 4548, '44': 4549, 'aneview': 4550, 'ea5': 4551, 'aa3': 4552, 'commando': 4553, '8.57': 4554, '13.79': 4555, '44,564/-': 4556, '71,708/-': 4557, 'aksam': 4558, 'yemegin': 4559, 'kisi': 4560, 'misafirim': 4561, 'var': 4562, 'fue': 4563, 'corea': 4564, 'bowlder': 4565, 'humsa': 4566, 'kamal': 4567, 'punta': 4568, 'nacat': 4569, 'puntana': 4570, 'dominion': 4571, 'devonport': 4572, 'phao': 4573, 'thiou': 4574, 'goos': 4575, 'cantin': 4576, 'deportado': 4577, '138': 4578, 's14/e07': 4579, 'aew': 4580, 'int': 4581, 'sorpresa': 4582, 'faint': 4583, 'wvi': 4584, 'kikay': 4585, 'nooo': 4586, '1,000,000': 4587, 'ys': 4588, 'duckv': 4589, 'battleground': 4590, 'jewelri': 4591, 'paano': 4592, 'makamura': 4593, '257': 4594, 'namil': 4595, 'kinh': 4596, 'lanh': 4597, 'ehi': 4598, 'et': 4599, 'right': 4600, 'christmasvlog': 4601, 'lerri': 4602, 'paradis': 4603, 'homecom': 4604, '3r': 4605, 'ceklyylog': 4606, 'declutt': 4607, 'been': 4608, 'nutella': 4609, 'gardina': 4610, 'auerida': 4611, 'koko': 4612, 'favourit': 4613, 'saxo': 4614, 'reo': 4615, 'insta360': 4616, 'everybodi': 4617, 'harem': 4618, 'istanbul': 4619, 'su': 4620, 'erbowl': 4621, 'vibe': 4622, 'immacul': 4623, '_sugardenny_': 4624, 'platnum': 4625, 'cop': 4626, 'idemo': 4627, 'turnir': 4628, 'pax': 4629, 'leen': 4630, 'strollz': 4631, 'finland': 4632, 'tourradar': 4633, 'kwg': 4634, 'annoy': 4635, 'filish': 4636, 'caminamo': 4637, 'verkleden': 4638, 'prins': 4639, 'iraq': 4640, 'lua': 4641, 'mel': 4642, 'vao': 4643, 'doi': 4644, 'dat': 4645, 'caiket': 4646, 'ida': 4647, 'sinong': 4648, 'lux': 4649, 'paus': 4650, 'fest': 4651, 'lejligheden': 4652, 'reklam': 4653, 'zoet': 4654, 'zusj': 4655, 'warm': 4656, 'welkom': 4657, 'doce': 4658, 'inimigo': 4659, 'rottweil': 4660, 'pull': 4661, 'cart': 4662, 'child': 4663, 'gentl': 4664, 'smart': 4665, 'protect': 4666, 'lift': 4667, 'misunderstood': 4668, 'cumpl': 4669, 'suegra': 4670, '\"ormanya\\'da\"': 4671, 'sco': 4672, 'nc': 4673, 'jsme': 4674, 'osmifinal': 4675, 'glasgow': 4676, 'aboard': 4677, 'sord': 4678, 'five': 4679, 'belw': 4680, 'plantao': 4681, 'vascular': 4682, 'traigo': 4683, 'maleta': 4684, 'pontificia': 4685, 'javeriana': 4686, 'playera': 4687, 'dye': 4688, 'ud': 4689, '181': 4690, 'due': 4691, 'puco': 4692, 'premio': 4693, 'juventud': 4694, 'tasmania': 4695, 'rici': 4696, 'dicuekin': 4697, 'mulo': 4698, 'pertama': 4699, 'seafood': 4700, 'residencia': 4701, 'kata': 4702, 'pagyoutub': 4703, 'ntrevista': 4704, 'pindi': 4705, 'chhole': 4706, 'bhatur': 4707, 'aipur': 4708, 'golden': 4709, 'legal': 4710, 'notic': 4711, 'viogma': 4712, 'bear': 4713, 'gisingi': 4714, 'rule': 4715, 'memori': 4716, 'smoothin': 4717, 'bown': 4718, 'stretch': 4719, 'nyu': 4720, 'extra': 4721, 'larga': 4722, 'gold': 4723, 'bank': 4724, 'simon': 4725, 'phillip': 4726, 'karachi': 4727, 'najlepsz': 4728, 'polsc': 4729, '03-3232': 4730, 'bunga': 4731, 'saya': 4732, 'mirror': 4733, 'daisi': 4734, 'softli': 4735, 'ep.o2': 4736, 's3': 4737, 'fill': 4738, 'aray': 4739, 'zeiryl': 4740, 'eurolis': 4741, 'nagselo': 4742, '500000': 4743, 'palawan': 4744, 'bumili': 4745, 'way': 4746, 'gf': 4747, 'jeffee': 4748, 'catch': 4749, 'lubluban': 4750, '1,276,401.499': 4751, 'lookslik': 4752, 'overnight': 4753, 'biggestcloset': 4754, 'nagbasag': 4755, 'plato': 4756, 'naglaba': 4757, 'sama': 4758, 'loob': 4759, 'hampi': 4760, 'museum': 4761, 'alien': 4762, 'space': 4763, 'esto': 4764, 'cuesta': 4765, 'millon': 4766, 'pena': 4767, '1a': 4768, 'wer': 4769, 'muss': 4770, 'zahlen': 4771, 'polot': 4772, 'ralphi': 4773, '8a': 4774, 'lau': 4775, 'hoa': 4776, '23ride': 4777, 'cover': 4778, 'bit': 4779, 'ult': 4780, 'khabib.com': 4781, 'heer': 4782, 'nyhavn': 4783, 'copenhagen': 4784, 'kalam': 4785, 'jabba': 4786, 'swat': 4787, 'send': 4788, 'uit': 4789, 'leven': 4790, 'gezondheidswetenschappen': 4791, 'novio': 4792, 'casado': 4793, 'eyebrow': 4794, 'saraht': 4795, 'sabs': 4796, 'sasti': 4797, 'superbik': 4798, '2,10,000/-': 4799, 'stapart': 4800, 'alaatin61': 4801, 'sila': 4802, 'yolu': 4803, 'aldea': 4804, 'narnto': 4805, 'bd': 4806, '223': 4807, 'wi': 4808, '24thr': 4809, '24th': 4810, 'printer': 4811, 'lipdat': 4812, 'obli': 4813, 'confin': 4814, 'grrece': 4815, 'ground': 4816, 'napikon': 4817, 'avaia': 4818, 'inapa': 4819, 'vasa': 4820, 'kala': 4821, 'cheapest': 4822, 'kharar': 4823, 'georg': 4824, 'pz4': 4825, 'dengan': 4826, 'bayaran': 4827, 'termah': 4828, 'chief': 4829, 'ghar': 4830, 'bhoot': 4831, 'joy': 4832, 'kulitan': 4833, 'tape': 4834, 'perrito': 4835, 'kalian': 4836, 'bukber': 4837, 'keluarga': 4838, 'dromenland': 4839, 'medina': 4840, 'ao': 4841, 'chong': 4842, 'sokakta': 4843, 'cuol': 4844, 's6': 4845, 'igloo': 4846, '007': 4847, 'saal': 4848, 'baad': 4849, 'depok': 4850, 'purwakart': 4851, 'sukahumi': 4852, 'garl': 4853, 'surabay': 4854, 'past': 4855, 'kediri': 4856, 'perjalanan': 4857, 'penhh': 4858, 'perjuangan': 4859, '20.04.2020': 4860, 'relax': 4861, 'ok.': 4862, 'sane': 4863, 'extrano': 4864, 'buat': 4865, 'istri': 4866, 'nyari': 4867, 'ngamuk': 4868, 'kitchen': 4869, 'mykono': 4870, 'blog': 4871, 'gonzaga': 4872, 'helpii': 4873, 'karimganj': 4874, 'eco-': 4875, 'sui': 4876, 'natown': 4877, 'nytarsaften': 4878, '2020-2021': 4879, 'sex': 4880, 'rijden': 4881, 'verkeerd': 4882, 'turkish': 4883, 'bath': 4884, 'kashmiri': 4885, 'ertogulrgaz': 4886, 'mina': 4887, 'lvl': 4888, 'comocen': 4889, 'gueda': 4890, 'detro': 4891, 'camaro': 4892, 'ving': 4893, 'boomerang': 4894, '1gg': 4895, 'board': 4896, 'septemb': 4897, 'budget': 4898, 'gadget': 4899, 'invest': 4900, 'use': 4901, 'klinkt': 4902, 'marley': 4903, 'administr': 4904, 'women': 4905, 'guitar': 4906}\n"
     ]
    }
   ],
   "source": [
    "tokenizer = Tokenizer()\n",
    "tokenizer.fit_on_texts(X_train)\n",
    "print(tokenizer.word_index)"
   ]
  },
  {
   "cell_type": "code",
   "execution_count": 13,
   "metadata": {},
   "outputs": [
    {
     "name": "stdout",
     "output_type": "stream",
     "text": [
      "단어 집합(vocabulary)의 크기 : 4906\n",
      "등장 빈도가 1번 이하인 희귀 단어의 수: 3539\n",
      "단어 집합에서 희귀 단어의 비율: 72.13615980432124\n",
      "전체 등장 빈도에서 희귀 단어 등장 빈도 비율: 24.395119597435723\n"
     ]
    }
   ],
   "source": [
    "threshold = 2                         \n",
    "total_cnt = len(tokenizer.word_index) # 단어의 수\n",
    "rare_cnt = 0                          # 등장 빈도수가 threshold보다 작은 단어의 개수를 카운트\n",
    "total_freq = 0                        # 훈련 데이터의 전체 단어 빈도수 총 합\n",
    "rare_freq = 0                         # 등장 빈도수가 threshold보다 작은 단어의 등장 빈도수의 총 합\n",
    "\n",
    "# 단어와 빈도수의 쌍(pair)을 key와 value로 받는다.\n",
    "for key, value in tokenizer.word_counts.items():\n",
    "    total_freq = total_freq + value\n",
    "\n",
    "    # 단어의 등장 빈도수가 threshold보다 작으면\n",
    "    if(value < threshold):\n",
    "        rare_cnt = rare_cnt + 1\n",
    "        rare_freq = rare_freq + value\n",
    "\n",
    "print('단어 집합(vocabulary)의 크기 :',total_cnt)\n",
    "print('등장 빈도가 %s번 이하인 희귀 단어의 수: %s'%(threshold - 1, rare_cnt))\n",
    "print(\"단어 집합에서 희귀 단어의 비율:\", (rare_cnt / total_cnt)*100)\n",
    "print(\"전체 등장 빈도에서 희귀 단어 등장 빈도 비율:\", (rare_freq / total_freq)*100)"
   ]
  },
  {
   "cell_type": "code",
   "execution_count": 77,
   "metadata": {},
   "outputs": [
    {
     "data": {
      "text/plain": [
       "\"\\n# 전체 단어 개수 중 빈도수 1이하인 단어는 제거.\\n# 0번 패딩 토큰을 고려하여 + 1\\nvocab_size = total_cnt - rare_cnt + 1\\nprint('단어 집합의 크기 :',vocab_size)\\n\\n# 단어와 빈도수의 쌍(pair)을 key와 value로 받는다.\\nwords_frequency = [w for w,c in tokenizer.word_index.items() if c >= vocab_size + 1] # 인덱스가 5 초과인 단어 제거\\nfor w in words_frequency:\\n    del tokenizer.word_index[w] # 해당 단어에 대한 인덱스 정보를 삭제\\n    del tokenizer.word_counts[w] # 해당 단어에 대한 카운트 정보를 삭제\\n\\nprint('단어 집합의 크기 :',len(tokenizer.word_counts))\\nprint('단어 집합의 크기 :',len(tokenizer.word_index))\\n\""
      ]
     },
     "execution_count": 77,
     "metadata": {},
     "output_type": "execute_result"
    }
   ],
   "source": [
    "'''\n",
    "# 전체 단어 개수 중 빈도수 1이하인 단어는 제거.\n",
    "# 0번 패딩 토큰을 고려하여 + 1\n",
    "vocab_size = total_cnt - rare_cnt + 1\n",
    "print('단어 집합의 크기 :',vocab_size)\n",
    "\n",
    "# 단어와 빈도수의 쌍(pair)을 key와 value로 받는다.\n",
    "words_frequency = [w for w,c in tokenizer.word_index.items() if c >= vocab_size + 1] # 인덱스가 5 초과인 단어 제거\n",
    "for w in words_frequency:\n",
    "    del tokenizer.word_index[w] # 해당 단어에 대한 인덱스 정보를 삭제\n",
    "    del tokenizer.word_counts[w] # 해당 단어에 대한 카운트 정보를 삭제\n",
    "\n",
    "print('단어 집합의 크기 :',len(tokenizer.word_counts))\n",
    "print('단어 집합의 크기 :',len(tokenizer.word_index))\n",
    "'''"
   ]
  },
  {
   "cell_type": "code",
   "execution_count": 78,
   "metadata": {},
   "outputs": [],
   "source": [
    "#print(tokenizer.word_index)"
   ]
  },
  {
   "cell_type": "markdown",
   "metadata": {},
   "source": [
    "## 3. token to sequence"
   ]
  },
  {
   "cell_type": "code",
   "execution_count": 14,
   "metadata": {},
   "outputs": [],
   "source": [
    "# keras tokenizer -> 텍스트 시퀀스 숫자 시퀀스로 변환\n",
    "X_train = tokenizer.texts_to_sequences(X_train)\n",
    "X_test = tokenizer.texts_to_sequences(X_test)"
   ]
  },
  {
   "cell_type": "code",
   "execution_count": 15,
   "metadata": {},
   "outputs": [
    {
     "name": "stdout",
     "output_type": "stream",
     "text": [
      "[[1368, 62, 787, 1369, 1370, 183, 1371, 50, 1372, 24, 1373, 6, 338], [418, 34, 1374], [788, 1375, 789, 1376, 1377, 339, 1378, 790]]\n",
      "[[1072, 4, 223], [], [177]]\n"
     ]
    }
   ],
   "source": [
    "print(X_train[:3])\n",
    "print(X_test[:3])"
   ]
  },
  {
   "cell_type": "code",
   "execution_count": 16,
   "metadata": {},
   "outputs": [],
   "source": [
    "import matplotlib.pyplot as plt"
   ]
  },
  {
   "cell_type": "code",
   "execution_count": 17,
   "metadata": {},
   "outputs": [
    {
     "name": "stdout",
     "output_type": "stream",
     "text": [
      "발화문의 최대 길이 : 66\n",
      "발화문의 평균 길이 : 3.927179209528966\n"
     ]
    },
    {
     "data": {
      "image/png": "[encoded data removed]",
      "text/plain": [
       "<Figure size 432x288 with 1 Axes>"
      ]
     },
     "metadata": {
      "needs_background": "light"
     },
     "output_type": "display_data"
    }
   ],
   "source": [
    "print('발화문의 최대 길이 :',max(len(l) for l in X_train))\n",
    "print('발화문의 평균 길이 :',sum(map(len, X_train))/len(X_train))\n",
    "plt.hist([len(s) for s in X_train], bins=50)\n",
    "plt.xlabel('length of samples')\n",
    "plt.ylabel('number of samples')\n",
    "plt.show()"
   ]
  },
  {
   "cell_type": "code",
   "execution_count": 18,
   "metadata": {},
   "outputs": [],
   "source": [
    "def below_threshold_len(max_len, nested_list):\n",
    "    cnt = 0\n",
    "    for s in nested_list:\n",
    "        if(len(s) <= max_len):\n",
    "            cnt = cnt + 1\n",
    "    print('전체 샘플 중 길이가 %s 이하인 샘플의 비율: %s'%(max_len, (cnt / len(nested_list))*100))"
   ]
  },
  {
   "cell_type": "code",
   "execution_count": 19,
   "metadata": {},
   "outputs": [
    {
     "name": "stdout",
     "output_type": "stream",
     "text": [
      "전체 샘플 중 길이가 15 이하인 샘플의 비율: 98.61938278289118\n"
     ]
    }
   ],
   "source": [
    "max_len = 15\n",
    "below_threshold_len(max_len, X_train)"
   ]
  },
  {
   "cell_type": "code",
   "execution_count": 20,
   "metadata": {},
   "outputs": [],
   "source": [
    "from tensorflow.keras.preprocessing.sequence import pad_sequences"
   ]
  },
  {
   "cell_type": "code",
   "execution_count": 21,
   "metadata": {},
   "outputs": [],
   "source": [
    "# 모든 샘플의 길이 15으로 맞추기\n",
    "X_train = pad_sequences(X_train, maxlen = max_len)\n",
    "X_test = pad_sequences(X_test, maxlen = max_len)"
   ]
  },
  {
   "cell_type": "code",
   "execution_count": 22,
   "metadata": {},
   "outputs": [
    {
     "data": {
      "text/plain": [
       "array([[   0,    0, 1368, ..., 1373,    6,  338],\n",
       "       [   0,    0,    0, ...,  418,   34, 1374],\n",
       "       [   0,    0,    0, ...,  339, 1378,  790],\n",
       "       ...,\n",
       "       [   0,    0,    0, ...,  607,  546, 4905],\n",
       "       [   0,    0,    0, ...,    2,   10,   17],\n",
       "       [   0,    0,    0, ...,   13, 4906,  222]])"
      ]
     },
     "execution_count": 22,
     "metadata": {},
     "output_type": "execute_result"
    }
   ],
   "source": [
    "X_train"
   ]
  },
  {
   "cell_type": "markdown",
   "metadata": {},
   "source": [
    "## 4. LSTM"
   ]
  },
  {
   "cell_type": "code",
   "execution_count": 23,
   "metadata": {},
   "outputs": [],
   "source": [
    "from tensorflow.keras.models import Sequential\n",
    "from tensorflow.keras.layers import Embedding, Dense, LSTM, GRU, Bidirectional\n",
    "from tensorflow.keras.models import load_model\n",
    "from tensorflow.keras.callbacks import EarlyStopping, ModelCheckpoint"
   ]
  },
  {
   "cell_type": "code",
   "execution_count": 24,
   "metadata": {},
   "outputs": [
    {
     "name": "stdout",
     "output_type": "stream",
     "text": [
      "Model: \"sequential\"\n",
      "_________________________________________________________________\n",
      "Layer (type)                 Output Shape              Param #   \n",
      "=================================================================\n",
      "embedding (Embedding)        (None, None, 100)         490700    \n",
      "_________________________________________________________________\n",
      "lstm (LSTM)                  (None, 128)               117248    \n",
      "_________________________________________________________________\n",
      "dense (Dense)                (None, 6)                 774       \n",
      "=================================================================\n",
      "Total params: 608,722\n",
      "Trainable params: 608,722\n",
      "Non-trainable params: 0\n",
      "_________________________________________________________________\n",
      "None\n"
     ]
    }
   ],
   "source": [
    "model = Sequential([\n",
    "    Embedding(total_cnt+1, 100),  ##total_cnt가 아니라 vocab_size로 한번 나오는 단어는 제거하고 다시 해보기 \n",
    "    LSTM(128,  dropout= 0.2),\n",
    "    Dense(6,activation='softmax')\n",
    "])\n",
    "\n",
    "print(model.summary())"
   ]
  },
  {
   "cell_type": "code",
   "execution_count": 25,
   "metadata": {},
   "outputs": [],
   "source": [
    "es = EarlyStopping(monitor='val_loss', mode='min', verbose=1, patience=5)\n",
    "mc = ModelCheckpoint('Bi-LSTM_class6.h5', monitor='val_acc', mode='max', verbose=1, save_best_only=True)"
   ]
  },
  {
   "cell_type": "code",
   "execution_count": 27,
   "metadata": {},
   "outputs": [
    {
     "name": "stdout",
     "output_type": "stream",
     "text": [
      "Epoch 1/10\n",
      "73/74 [============================>.] - ETA: 0s - loss: 1.5873 - acc: 0.3318\n",
      "Epoch 00001: val_acc improved from -inf to 0.31710, saving model to Bi-LSTM_class6.h5\n",
      "74/74 [==============================] - 4s 58ms/step - loss: 1.5860 - acc: 0.3319 - val_loss: 1.5606 - val_acc: 0.3171\n",
      "Epoch 2/10\n",
      "74/74 [==============================] - ETA: 0s - loss: 1.5016 - acc: 0.3982\n",
      "Epoch 00002: val_acc improved from 0.31710 to 0.39935, saving model to Bi-LSTM_class6.h5\n",
      "74/74 [==============================] - 3s 41ms/step - loss: 1.5016 - acc: 0.3982 - val_loss: 1.4895 - val_acc: 0.3994\n",
      "Epoch 3/10\n",
      "74/74 [==============================] - ETA: 0s - loss: 1.2938 - acc: 0.5073\n",
      "Epoch 00003: val_acc improved from 0.39935 to 0.40693, saving model to Bi-LSTM_class6.h5\n",
      "74/74 [==============================] - 3s 39ms/step - loss: 1.2938 - acc: 0.5073 - val_loss: 1.5430 - val_acc: 0.4069\n",
      "Epoch 4/10\n",
      "74/74 [==============================] - ETA: 0s - loss: 1.0280 - acc: 0.6240\n",
      "Epoch 00004: val_acc did not improve from 0.40693\n",
      "74/74 [==============================] - 3s 38ms/step - loss: 1.0280 - acc: 0.6240 - val_loss: 1.5772 - val_acc: 0.3658\n",
      "Epoch 5/10\n",
      "73/74 [============================>.] - ETA: 0s - loss: 0.7897 - acc: 0.7038\n",
      "Epoch 00005: val_acc did not improve from 0.40693\n",
      "74/74 [==============================] - 3s 39ms/step - loss: 0.7911 - acc: 0.7019 - val_loss: 1.6852 - val_acc: 0.4004\n",
      "Epoch 6/10\n",
      "73/74 [============================>.] - ETA: 0s - loss: 0.6457 - acc: 0.7564\n",
      "Epoch 00006: val_acc did not improve from 0.40693\n",
      "74/74 [==============================] - 3s 40ms/step - loss: 0.6463 - acc: 0.7553 - val_loss: 1.8747 - val_acc: 0.3939\n",
      "Epoch 7/10\n",
      "74/74 [==============================] - ETA: 0s - loss: 0.5651 - acc: 0.7750- ETA: 0s - loss: 0.5654 - acc: 0.\n",
      "Epoch 00007: val_acc did not improve from 0.40693\n",
      "74/74 [==============================] - 3s 38ms/step - loss: 0.5651 - acc: 0.7750 - val_loss: 2.0560 - val_acc: 0.3918\n",
      "Epoch 00007: early stopping\n"
     ]
    }
   ],
   "source": [
    "model.compile(optimizer='adam', loss='CategoricalCrossentropy', metrics=['acc'])\n",
    "history = model.fit(X_train, y_train, epochs=10, callbacks=[es, mc], batch_size=50, validation_data=(X_test, y_test))"
   ]
  },
  {
   "cell_type": "markdown",
   "metadata": {},
   "source": [
    "## model test"
   ]
  },
  {
   "cell_type": "code",
   "execution_count": 28,
   "metadata": {},
   "outputs": [
    {
     "name": "stdout",
     "output_type": "stream",
     "text": [
      "29/29 [==============================] - 0s 9ms/step - loss: 1.5430 - acc: 0.4069\n",
      "\n",
      " 테스트 정확도: 0.4069\n"
     ]
    }
   ],
   "source": [
    "loaded_model = load_model('Bi-LSTM_class6.h5')\n",
    "print(\"\\n 테스트 정확도: %.4f\" % (loaded_model.evaluate(X_test, y_test)[1]))"
   ]
  },
  {
   "cell_type": "code",
   "execution_count": 29,
   "metadata": {},
   "outputs": [],
   "source": [
    "import numpy as np"
   ]
  },
  {
   "cell_type": "code",
   "execution_count": 30,
   "metadata": {},
   "outputs": [],
   "source": [
    "pred = np.argmax(loaded_model.predict(X_test), axis=-1)"
   ]
  },
  {
   "cell_type": "code",
   "execution_count": 31,
   "metadata": {},
   "outputs": [],
   "source": [
    "true = [np.argmax(y_test[i]) for i in range(len(y_test))]"
   ]
  },
  {
   "cell_type": "code",
   "execution_count": 32,
   "metadata": {
    "scrolled": true
   },
   "outputs": [
    {
     "name": "stdout",
     "output_type": "stream",
     "text": [
      "              precision    recall  f1-score   support\n",
      "\n",
      "           0       0.00      0.00      0.00        91\n",
      "           1       0.00      0.00      0.00        49\n",
      "           2       0.38      0.15      0.22       159\n",
      "           3       0.47      0.37      0.42       291\n",
      "           4       0.39      0.83      0.53       293\n",
      "           5       0.00      0.00      0.00        41\n",
      "\n",
      "    accuracy                           0.41       924\n",
      "   macro avg       0.21      0.23      0.19       924\n",
      "weighted avg       0.34      0.41      0.34       924\n",
      "\n"
     ]
    },
    {
     "name": "stderr",
     "output_type": "stream",
     "text": [
      "c:\\python38\\lib\\site-packages\\sklearn\\metrics\\_classification.py:1221: UndefinedMetricWarning: Precision and F-score are ill-defined and being set to 0.0 in labels with no predicted samples. Use `zero_division` parameter to control this behavior.\n",
      "  _warn_prf(average, modifier, msg_start, len(result))\n"
     ]
    }
   ],
   "source": [
    "# Classification Report\n",
    "from sklearn.metrics import classification_report\n",
    "print(classification_report(true, pred))"
   ]
  },
  {
   "cell_type": "code",
   "execution_count": 33,
   "metadata": {},
   "outputs": [],
   "source": [
    "# Confusion Matrix\n",
    "from sklearn.metrics import confusion_matrix\n",
    "\n",
    "conf_mat=confusion_matrix(true, pred)  # confusion matrix 계산\n",
    "# plt.figure(figsize = (14, 8))\n",
    "# sns.heatmap(conf_mat, annot=True) # heatmap으로 나타내기\n",
    "\n",
    "# Class 별 Accuracy\n",
    "class_accuracy=100*conf_mat.diagonal()/conf_mat.sum(1)  # 각 클래스 별 accuracy 담은 list\n",
    "class_accuracy = pd.DataFrame(class_accuracy, columns = ['Accuracy']) # dataframe 화하기"
   ]
  },
  {
   "cell_type": "code",
   "execution_count": 34,
   "metadata": {},
   "outputs": [],
   "source": [
    "cat_to_id = {0:0, 1:1, 10:2, 100:3, 1000:4, 10000:5}\n",
    "id_to_cat = {0:0, 1:1, 2:10, 3:100, 4:1000, 5:10000}"
   ]
  },
  {
   "cell_type": "code",
   "execution_count": 35,
   "metadata": {},
   "outputs": [
    {
     "data": {
      "text/html": [
       "<div>\n",
       "<style scoped>\n",
       "    .dataframe tbody tr th:only-of-type {\n",
       "        vertical-align: middle;\n",
       "    }\n",
       "\n",
       "    .dataframe tbody tr th {\n",
       "        vertical-align: top;\n",
       "    }\n",
       "\n",
       "    .dataframe thead th {\n",
       "        text-align: right;\n",
       "    }\n",
       "</style>\n",
       "<table border=\"1\" class=\"dataframe\">\n",
       "  <thead>\n",
       "    <tr style=\"text-align: right;\">\n",
       "      <th></th>\n",
       "      <th>View Category</th>\n",
       "      <th>Accuracy</th>\n",
       "    </tr>\n",
       "  </thead>\n",
       "  <tbody>\n",
       "    <tr>\n",
       "      <th>0</th>\n",
       "      <td>0</td>\n",
       "      <td>0.000000</td>\n",
       "    </tr>\n",
       "    <tr>\n",
       "      <th>1</th>\n",
       "      <td>1</td>\n",
       "      <td>0.000000</td>\n",
       "    </tr>\n",
       "    <tr>\n",
       "      <th>2</th>\n",
       "      <td>10</td>\n",
       "      <td>15.094340</td>\n",
       "    </tr>\n",
       "    <tr>\n",
       "      <th>3</th>\n",
       "      <td>100</td>\n",
       "      <td>37.113402</td>\n",
       "    </tr>\n",
       "    <tr>\n",
       "      <th>4</th>\n",
       "      <td>1000</td>\n",
       "      <td>83.276451</td>\n",
       "    </tr>\n",
       "    <tr>\n",
       "      <th>5</th>\n",
       "      <td>10000</td>\n",
       "      <td>0.000000</td>\n",
       "    </tr>\n",
       "  </tbody>\n",
       "</table>\n",
       "</div>"
      ],
      "text/plain": [
       "   View Category   Accuracy\n",
       "0              0   0.000000\n",
       "1              1   0.000000\n",
       "2             10  15.094340\n",
       "3            100  37.113402\n",
       "4           1000  83.276451\n",
       "5          10000   0.000000"
      ]
     },
     "execution_count": 35,
     "metadata": {},
     "output_type": "execute_result"
    }
   ],
   "source": [
    "class_accuracy.insert(0, 'View Category', list(cat_to_id.keys())[:20])\n",
    "class_accuracy"
   ]
  }
 ],
 "metadata": {
  "kernelspec": {
   "display_name": "Python 3",
   "language": "python",
   "name": "python3"
  },
  "language_info": {
   "codemirror_mode": {
    "name": "ipython",
    "version": 3
   },
   "file_extension": ".py",
   "mimetype": "text/x-python",
   "name": "python",
   "nbconvert_exporter": "python",
   "pygments_lexer": "ipython3",
   "version": "3.8.3"
  }
 },
 "nbformat": 4,
 "nbformat_minor": 4
}
