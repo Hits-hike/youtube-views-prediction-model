{
 "cells": [
  {
   "cell_type": "markdown",
   "metadata": {},
   "source": [
    "## 1. Data 불러오기"
   ]
  },
  {
   "cell_type": "code",
   "execution_count": 1,
   "metadata": {},
   "outputs": [],
   "source": [
    "import pandas as pd"
   ]
  },
  {
   "cell_type": "code",
   "execution_count": 2,
   "metadata": {
    "scrolled": true
   },
   "outputs": [
    {
     "data": {
      "text/html": [
       "<div>\n",
       "<style scoped>\n",
       "    .dataframe tbody tr th:only-of-type {\n",
       "        vertical-align: middle;\n",
       "    }\n",
       "\n",
       "    .dataframe tbody tr th {\n",
       "        vertical-align: top;\n",
       "    }\n",
       "\n",
       "    .dataframe thead th {\n",
       "        text-align: right;\n",
       "    }\n",
       "</style>\n",
       "<table border=\"1\" class=\"dataframe\">\n",
       "  <thead>\n",
       "    <tr style=\"text-align: right;\">\n",
       "      <th></th>\n",
       "      <th>view</th>\n",
       "      <th>thumbnail_text_content</th>\n",
       "      <th>thumbnail_text_area</th>\n",
       "    </tr>\n",
       "  </thead>\n",
       "  <tbody>\n",
       "    <tr>\n",
       "      <th>0</th>\n",
       "      <td>101580</td>\n",
       "      <td>Sweets How</td>\n",
       "      <td>0.11259</td>\n",
       "    </tr>\n",
       "    <tr>\n",
       "      <th>1</th>\n",
       "      <td>1147867</td>\n",
       "      <td>NaN</td>\n",
       "      <td>0.00000</td>\n",
       "    </tr>\n",
       "    <tr>\n",
       "      <th>2</th>\n",
       "      <td>429219</td>\n",
       "      <td>NaN</td>\n",
       "      <td>0.00000</td>\n",
       "    </tr>\n",
       "  </tbody>\n",
       "</table>\n",
       "</div>"
      ],
      "text/plain": [
       "      view thumbnail_text_content  thumbnail_text_area\n",
       "0   101580            Sweets How               0.11259\n",
       "1  1147867                    NaN              0.00000\n",
       "2   429219                    NaN              0.00000"
      ]
     },
     "execution_count": 2,
     "metadata": {},
     "output_type": "execute_result"
    }
   ],
   "source": [
    "# 데이터 불러오기\n",
    "df = pd.read_csv('../../data/english_data_including_content_and_area_of_thumbnailtext.csv', usecols = [6, 8, 9], encoding='UTF-8')\n",
    "df.head(3)"
   ]
  },
  {
   "cell_type": "code",
   "execution_count": 3,
   "metadata": {
    "scrolled": true
   },
   "outputs": [
    {
     "data": {
      "text/html": [
       "<div>\n",
       "<style scoped>\n",
       "    .dataframe tbody tr th:only-of-type {\n",
       "        vertical-align: middle;\n",
       "    }\n",
       "\n",
       "    .dataframe tbody tr th {\n",
       "        vertical-align: top;\n",
       "    }\n",
       "\n",
       "    .dataframe thead th {\n",
       "        text-align: right;\n",
       "    }\n",
       "</style>\n",
       "<table border=\"1\" class=\"dataframe\">\n",
       "  <thead>\n",
       "    <tr style=\"text-align: right;\">\n",
       "      <th></th>\n",
       "      <th>views</th>\n",
       "      <th>content</th>\n",
       "      <th>area</th>\n",
       "    </tr>\n",
       "  </thead>\n",
       "  <tbody>\n",
       "    <tr>\n",
       "      <th>0</th>\n",
       "      <td>101</td>\n",
       "      <td>Sweets How</td>\n",
       "      <td>1125</td>\n",
       "    </tr>\n",
       "    <tr>\n",
       "      <th>1</th>\n",
       "      <td>1147</td>\n",
       "      <td></td>\n",
       "      <td>0</td>\n",
       "    </tr>\n",
       "    <tr>\n",
       "      <th>2</th>\n",
       "      <td>429</td>\n",
       "      <td></td>\n",
       "      <td>0</td>\n",
       "    </tr>\n",
       "    <tr>\n",
       "      <th>3</th>\n",
       "      <td>607</td>\n",
       "      <td>I 6AM school morning routine</td>\n",
       "      <td>1195</td>\n",
       "    </tr>\n",
       "  </tbody>\n",
       "</table>\n",
       "</div>"
      ],
      "text/plain": [
       "   views                        content  area\n",
       "0    101                    Sweets How   1125\n",
       "1   1147                                    0\n",
       "2    429                                    0\n",
       "3    607  I 6AM school morning routine   1195"
      ]
     },
     "execution_count": 3,
     "metadata": {},
     "output_type": "execute_result"
    }
   ],
   "source": [
    "data_cat = df.copy()           \n",
    "#print(data_cat.info())           \n",
    "data_cat['views'] = (data_cat['view'].floordiv(1000))\n",
    "data_cat['content'] = data_cat['thumbnail_text_content'].fillna('  ')\n",
    "data_cat['area'] = (data_cat['thumbnail_text_area']*10000).astype('int64')\n",
    "data_cat.drop(['view', 'thumbnail_text_content', 'thumbnail_text_area'], axis='columns', inplace=True)\n",
    "data_cat.head(4)"
   ]
  },
  {
   "cell_type": "markdown",
   "metadata": {},
   "source": [
    "## 2. views preprocess\n",
    "before one-hot encoding"
   ]
  },
  {
   "cell_type": "code",
   "execution_count": 4,
   "metadata": {
    "scrolled": true
   },
   "outputs": [
    {
     "data": {
      "text/plain": [
       "314441"
      ]
     },
     "execution_count": 4,
     "metadata": {},
     "output_type": "execute_result"
    }
   ],
   "source": [
    "data_cat['views'].max()"
   ]
  },
  {
   "cell_type": "code",
   "execution_count": 5,
   "metadata": {},
   "outputs": [
    {
     "name": "stderr",
     "output_type": "stream",
     "text": [
      "<ipython-input-5-2cc45fe1c4ad>:9: SettingWithCopyWarning: \n",
      "A value is trying to be set on a copy of a slice from a DataFrame\n",
      "\n",
      "See the caveats in the documentation: https://pandas.pydata.org/pandas-docs/stable/user_guide/indexing.html#returning-a-view-versus-a-copy\n",
      "  elif view >=100:  data_cat['views'][index] = 3\n",
      "<ipython-input-5-2cc45fe1c4ad>:7: SettingWithCopyWarning: \n",
      "A value is trying to be set on a copy of a slice from a DataFrame\n",
      "\n",
      "See the caveats in the documentation: https://pandas.pydata.org/pandas-docs/stable/user_guide/indexing.html#returning-a-view-versus-a-copy\n",
      "  elif view >=1000:  data_cat['views'][index] =  4\n",
      "<ipython-input-5-2cc45fe1c4ad>:11: SettingWithCopyWarning: \n",
      "A value is trying to be set on a copy of a slice from a DataFrame\n",
      "\n",
      "See the caveats in the documentation: https://pandas.pydata.org/pandas-docs/stable/user_guide/indexing.html#returning-a-view-versus-a-copy\n",
      "  elif view >=10: data_cat['views'][index] = 2\n",
      "<ipython-input-5-2cc45fe1c4ad>:14: SettingWithCopyWarning: \n",
      "A value is trying to be set on a copy of a slice from a DataFrame\n",
      "\n",
      "See the caveats in the documentation: https://pandas.pydata.org/pandas-docs/stable/user_guide/indexing.html#returning-a-view-versus-a-copy\n",
      "  elif view > 0: data_cat['views'][index] = 1\n",
      "<ipython-input-5-2cc45fe1c4ad>:5: SettingWithCopyWarning: \n",
      "A value is trying to be set on a copy of a slice from a DataFrame\n",
      "\n",
      "See the caveats in the documentation: https://pandas.pydata.org/pandas-docs/stable/user_guide/indexing.html#returning-a-view-versus-a-copy\n",
      "  if view >=10000:  data_cat['views'][index] =  5\n"
     ]
    }
   ],
   "source": [
    "import math # 구간 나눠주기 -> multiclass classification\n",
    "\n",
    "for index, view in enumerate(data_cat['views']):\n",
    "  # if view >= 50000:  data_cat['views'][index] =  50000\n",
    "  if view >=10000:  data_cat['views'][index] =  5\n",
    "  # elif view >=5000:  data_cat['views'][index] =  5000\n",
    "  elif view >=1000:  data_cat['views'][index] =  4\n",
    "  # elif view >=500:  data_cat['views'][index] =  500\n",
    "  elif view >=100:  data_cat['views'][index] = 3\n",
    "  # elif view >=50: data_cat['views'][index] =  50\n",
    "  elif view >=10: data_cat['views'][index] = 2\n",
    "  # elif view >=5: data_cat['views'][index] = 5\n",
    "  # elif view >5: data_cat['views'][index] = math.floor(data_cat['views'][index]/5) * 5\n",
    "  elif view > 0: data_cat['views'][index] = 1"
   ]
  },
  {
   "cell_type": "code",
   "execution_count": 6,
   "metadata": {
    "scrolled": true
   },
   "outputs": [
    {
     "name": "stdout",
     "output_type": "stream",
     "text": [
      "[0, 1, 2, 3, 4, 5]\n",
      "Counter({4: 1504, 3: 1426, 2: 710, 0: 521, 1: 259, 5: 198})\n"
     ]
    }
   ],
   "source": [
    "from collections import Counter\n",
    "\n",
    "label = Counter(data_cat['views']).keys()\n",
    "label = sorted(label)\n",
    "print(label)\n",
    "print(Counter(data_cat['views']))"
   ]
  },
  {
   "cell_type": "markdown",
   "metadata": {},
   "source": [
    "## 3. content preprocess (tokenization)"
   ]
  },
  {
   "cell_type": "code",
   "execution_count": 12,
   "metadata": {},
   "outputs": [],
   "source": [
    "import nltk\n",
    "#nltk.download('punkt')\n",
    "#nltk.download('wordnet')"
   ]
  },
  {
   "cell_type": "code",
   "execution_count": 13,
   "metadata": {},
   "outputs": [],
   "source": [
    "from nltk.tokenize import word_tokenize"
   ]
  },
  {
   "cell_type": "code",
   "execution_count": 14,
   "metadata": {},
   "outputs": [
    {
     "data": {
      "text/html": [
       "<div>\n",
       "<style scoped>\n",
       "    .dataframe tbody tr th:only-of-type {\n",
       "        vertical-align: middle;\n",
       "    }\n",
       "\n",
       "    .dataframe tbody tr th {\n",
       "        vertical-align: top;\n",
       "    }\n",
       "\n",
       "    .dataframe thead th {\n",
       "        text-align: right;\n",
       "    }\n",
       "</style>\n",
       "<table border=\"1\" class=\"dataframe\">\n",
       "  <thead>\n",
       "    <tr style=\"text-align: right;\">\n",
       "      <th></th>\n",
       "      <th>views</th>\n",
       "      <th>content</th>\n",
       "      <th>area</th>\n",
       "      <th>content_tokens</th>\n",
       "    </tr>\n",
       "  </thead>\n",
       "  <tbody>\n",
       "    <tr>\n",
       "      <th>0</th>\n",
       "      <td>3</td>\n",
       "      <td>Sweets How</td>\n",
       "      <td>1125</td>\n",
       "      <td>None</td>\n",
       "    </tr>\n",
       "    <tr>\n",
       "      <th>1</th>\n",
       "      <td>4</td>\n",
       "      <td></td>\n",
       "      <td>0</td>\n",
       "      <td>None</td>\n",
       "    </tr>\n",
       "    <tr>\n",
       "      <th>2</th>\n",
       "      <td>3</td>\n",
       "      <td></td>\n",
       "      <td>0</td>\n",
       "      <td>None</td>\n",
       "    </tr>\n",
       "  </tbody>\n",
       "</table>\n",
       "</div>"
      ],
      "text/plain": [
       "   views      content  area content_tokens\n",
       "0      3  Sweets How   1125           None\n",
       "1      4                  0           None\n",
       "2      3                  0           None"
      ]
     },
     "execution_count": 14,
     "metadata": {},
     "output_type": "execute_result"
    }
   ],
   "source": [
    "data_cat['content_tokens']=None\n",
    "data_cat[:3]"
   ]
  },
  {
   "cell_type": "code",
   "execution_count": 15,
   "metadata": {},
   "outputs": [
    {
     "name": "stderr",
     "output_type": "stream",
     "text": [
      "<ipython-input-15-89f23f830b8c>:2: SettingWithCopyWarning: \n",
      "A value is trying to be set on a copy of a slice from a DataFrame\n",
      "\n",
      "See the caveats in the documentation: https://pandas.pydata.org/pandas-docs/stable/user_guide/indexing.html#returning-a-view-versus-a-copy\n",
      "  data_cat['content_tokens'][index] = word_tokenize(data_cat['content'][index])\n"
     ]
    },
    {
     "data": {
      "text/html": [
       "<div>\n",
       "<style scoped>\n",
       "    .dataframe tbody tr th:only-of-type {\n",
       "        vertical-align: middle;\n",
       "    }\n",
       "\n",
       "    .dataframe tbody tr th {\n",
       "        vertical-align: top;\n",
       "    }\n",
       "\n",
       "    .dataframe thead th {\n",
       "        text-align: right;\n",
       "    }\n",
       "</style>\n",
       "<table border=\"1\" class=\"dataframe\">\n",
       "  <thead>\n",
       "    <tr style=\"text-align: right;\">\n",
       "      <th></th>\n",
       "      <th>views</th>\n",
       "      <th>content</th>\n",
       "      <th>area</th>\n",
       "      <th>content_tokens</th>\n",
       "    </tr>\n",
       "  </thead>\n",
       "  <tbody>\n",
       "    <tr>\n",
       "      <th>0</th>\n",
       "      <td>3</td>\n",
       "      <td>Sweets How</td>\n",
       "      <td>1125</td>\n",
       "      <td>[Sweets, How]</td>\n",
       "    </tr>\n",
       "    <tr>\n",
       "      <th>1</th>\n",
       "      <td>4</td>\n",
       "      <td></td>\n",
       "      <td>0</td>\n",
       "      <td>[]</td>\n",
       "    </tr>\n",
       "    <tr>\n",
       "      <th>2</th>\n",
       "      <td>3</td>\n",
       "      <td></td>\n",
       "      <td>0</td>\n",
       "      <td>[]</td>\n",
       "    </tr>\n",
       "  </tbody>\n",
       "</table>\n",
       "</div>"
      ],
      "text/plain": [
       "   views      content  area content_tokens\n",
       "0      3  Sweets How   1125  [Sweets, How]\n",
       "1      4                  0             []\n",
       "2      3                  0             []"
      ]
     },
     "execution_count": 15,
     "metadata": {},
     "output_type": "execute_result"
    }
   ],
   "source": [
    "for index in range(len(df)):\n",
    "    data_cat['content_tokens'][index] = word_tokenize(data_cat['content'][index])\n",
    "data_cat[:3]"
   ]
  },
  {
   "cell_type": "code",
   "execution_count": 16,
   "metadata": {},
   "outputs": [
    {
     "data": {
      "text/plain": [
       "'\\nfrom nltk.stem import WordNetLemmatizer\\nlm = WordNetLemmatizer()\\ndata_cat[\\'content_tokens1\\']=None\\nfor index in range(len(df)):\\n    data_cat[\\'content_tokens1\\'][index] = [lm.lemmatize(w, pos=\"v\") for w in data_cat[\\'content_tokens\\'][index]]\\n'"
      ]
     },
     "execution_count": 16,
     "metadata": {},
     "output_type": "execute_result"
    }
   ],
   "source": [
    "#방법1\n",
    "'''\n",
    "from nltk.stem import WordNetLemmatizer\n",
    "lm = WordNetLemmatizer()\n",
    "data_cat['content_tokens1']=None\n",
    "for index in range(len(df)):\n",
    "    data_cat['content_tokens1'][index] = [lm.lemmatize(w, pos=\"v\") for w in data_cat['content_tokens'][index]]\n",
    "'''"
   ]
  },
  {
   "cell_type": "code",
   "execution_count": 17,
   "metadata": {},
   "outputs": [
    {
     "name": "stderr",
     "output_type": "stream",
     "text": [
      "<ipython-input-17-a3a3f5d3aee5>:8: SettingWithCopyWarning: \n",
      "A value is trying to be set on a copy of a slice from a DataFrame\n",
      "\n",
      "See the caveats in the documentation: https://pandas.pydata.org/pandas-docs/stable/user_guide/indexing.html#returning-a-view-versus-a-copy\n",
      "  data_cat['content_tokens'][index] = [st1.stem(w) for w in data_cat['content_tokens'][index]]\n"
     ]
    }
   ],
   "source": [
    "#방법2\n",
    "from nltk.stem import PorterStemmer\n",
    "st1 = PorterStemmer()\n",
    "\n",
    "#data_cat['content_tokens']=None\n",
    "\n",
    "for index in range(len(df)):\n",
    "    data_cat['content_tokens'][index] = [st1.stem(w) for w in data_cat['content_tokens'][index]]"
   ]
  },
  {
   "cell_type": "code",
   "execution_count": 18,
   "metadata": {},
   "outputs": [
    {
     "data": {
      "text/plain": [
       "\"\\nfrom nltk.stem import LancasterStemmer\\nst2 = LancasterStemmer()\\n\\ndata_cat['content_tokens3']=None\\n\\nfor index in range(len(df)):\\n    data_cat['content_tokens3'][index] = [st2.stem(w) for w in data_cat['content_tokens'][index]]\\n\""
      ]
     },
     "execution_count": 18,
     "metadata": {},
     "output_type": "execute_result"
    }
   ],
   "source": [
    "#방법3\n",
    "'''\n",
    "from nltk.stem import LancasterStemmer\n",
    "st2 = LancasterStemmer()\n",
    "\n",
    "data_cat['content_tokens3']=None\n",
    "\n",
    "for index in range(len(df)):\n",
    "    data_cat['content_tokens3'][index] = [st2.stem(w) for w in data_cat['content_tokens'][index]]\n",
    "'''"
   ]
  },
  {
   "cell_type": "code",
   "execution_count": 19,
   "metadata": {},
   "outputs": [
    {
     "data": {
      "text/plain": [
       "\"\\ndata_cat['content_tokens']=data_cat['content_tokens2']\\ndata_cat.drop(['content', 'content_tokens1', 'content_tokens2', 'content_tokens3'], axis='columns', inplace=True)\\ndata_cat[:3]\\n\""
      ]
     },
     "execution_count": 19,
     "metadata": {},
     "output_type": "execute_result"
    }
   ],
   "source": [
    "#방법 1,2,3 중 선택\n",
    "'''\n",
    "data_cat['content_tokens']=data_cat['content_tokens2']\n",
    "data_cat.drop(['content', 'content_tokens1', 'content_tokens2', 'content_tokens3'], axis='columns', inplace=True)\n",
    "data_cat[:3]\n",
    "'''"
   ]
  },
  {
   "cell_type": "code",
   "execution_count": 20,
   "metadata": {
    "scrolled": false
   },
   "outputs": [
    {
     "data": {
      "text/html": [
       "<div>\n",
       "<style scoped>\n",
       "    .dataframe tbody tr th:only-of-type {\n",
       "        vertical-align: middle;\n",
       "    }\n",
       "\n",
       "    .dataframe tbody tr th {\n",
       "        vertical-align: top;\n",
       "    }\n",
       "\n",
       "    .dataframe thead th {\n",
       "        text-align: right;\n",
       "    }\n",
       "</style>\n",
       "<table border=\"1\" class=\"dataframe\">\n",
       "  <thead>\n",
       "    <tr style=\"text-align: right;\">\n",
       "      <th></th>\n",
       "      <th>views</th>\n",
       "      <th>content</th>\n",
       "      <th>area</th>\n",
       "      <th>content_tokens</th>\n",
       "    </tr>\n",
       "  </thead>\n",
       "  <tbody>\n",
       "    <tr>\n",
       "      <th>0</th>\n",
       "      <td>3</td>\n",
       "      <td>Sweets How</td>\n",
       "      <td>1125</td>\n",
       "      <td>[sweet, how]</td>\n",
       "    </tr>\n",
       "    <tr>\n",
       "      <th>1</th>\n",
       "      <td>4</td>\n",
       "      <td></td>\n",
       "      <td>0</td>\n",
       "      <td>[]</td>\n",
       "    </tr>\n",
       "    <tr>\n",
       "      <th>2</th>\n",
       "      <td>3</td>\n",
       "      <td></td>\n",
       "      <td>0</td>\n",
       "      <td>[]</td>\n",
       "    </tr>\n",
       "    <tr>\n",
       "      <th>3</th>\n",
       "      <td>3</td>\n",
       "      <td>I 6AM school morning routine</td>\n",
       "      <td>1195</td>\n",
       "      <td>[i, 6am, school, morn, routin]</td>\n",
       "    </tr>\n",
       "  </tbody>\n",
       "</table>\n",
       "</div>"
      ],
      "text/plain": [
       "   views                        content  area                  content_tokens\n",
       "0      3                    Sweets How   1125                    [sweet, how]\n",
       "1      4                                    0                              []\n",
       "2      3                                    0                              []\n",
       "3      3  I 6AM school morning routine   1195  [i, 6am, school, morn, routin]"
      ]
     },
     "execution_count": 20,
     "metadata": {},
     "output_type": "execute_result"
    }
   ],
   "source": [
    "data_cat[:4]"
   ]
  },
  {
   "cell_type": "markdown",
   "metadata": {},
   "source": [
    "## 4. make csv file"
   ]
  },
  {
   "cell_type": "code",
   "execution_count": 21,
   "metadata": {},
   "outputs": [
    {
     "data": {
      "text/html": [
       "<div>\n",
       "<style scoped>\n",
       "    .dataframe tbody tr th:only-of-type {\n",
       "        vertical-align: middle;\n",
       "    }\n",
       "\n",
       "    .dataframe tbody tr th {\n",
       "        vertical-align: top;\n",
       "    }\n",
       "\n",
       "    .dataframe thead th {\n",
       "        text-align: right;\n",
       "    }\n",
       "</style>\n",
       "<table border=\"1\" class=\"dataframe\">\n",
       "  <thead>\n",
       "    <tr style=\"text-align: right;\">\n",
       "      <th></th>\n",
       "      <th>views</th>\n",
       "      <th>content</th>\n",
       "      <th>area</th>\n",
       "      <th>content_tokens</th>\n",
       "    </tr>\n",
       "  </thead>\n",
       "  <tbody>\n",
       "    <tr>\n",
       "      <th>0</th>\n",
       "      <td>3</td>\n",
       "      <td>Sweets How</td>\n",
       "      <td>1125</td>\n",
       "      <td>[sweet, how]</td>\n",
       "    </tr>\n",
       "    <tr>\n",
       "      <th>1</th>\n",
       "      <td>4</td>\n",
       "      <td></td>\n",
       "      <td>0</td>\n",
       "      <td>[]</td>\n",
       "    </tr>\n",
       "    <tr>\n",
       "      <th>2</th>\n",
       "      <td>3</td>\n",
       "      <td></td>\n",
       "      <td>0</td>\n",
       "      <td>[]</td>\n",
       "    </tr>\n",
       "    <tr>\n",
       "      <th>3</th>\n",
       "      <td>3</td>\n",
       "      <td>I 6AM school morning routine</td>\n",
       "      <td>1195</td>\n",
       "      <td>[i, 6am, school, morn, routin]</td>\n",
       "    </tr>\n",
       "    <tr>\n",
       "      <th>4</th>\n",
       "      <td>2</td>\n",
       "      <td></td>\n",
       "      <td>0</td>\n",
       "      <td>[]</td>\n",
       "    </tr>\n",
       "    <tr>\n",
       "      <th>...</th>\n",
       "      <td>...</td>\n",
       "      <td>...</td>\n",
       "      <td>...</td>\n",
       "      <td>...</td>\n",
       "    </tr>\n",
       "    <tr>\n",
       "      <th>4613</th>\n",
       "      <td>2</td>\n",
       "      <td></td>\n",
       "      <td>0</td>\n",
       "      <td>[]</td>\n",
       "    </tr>\n",
       "    <tr>\n",
       "      <th>4614</th>\n",
       "      <td>0</td>\n",
       "      <td></td>\n",
       "      <td>0</td>\n",
       "      <td>[]</td>\n",
       "    </tr>\n",
       "    <tr>\n",
       "      <th>4615</th>\n",
       "      <td>3</td>\n",
       "      <td>PLATEK</td>\n",
       "      <td>1072</td>\n",
       "      <td>[platek]</td>\n",
       "    </tr>\n",
       "    <tr>\n",
       "      <th>4616</th>\n",
       "      <td>3</td>\n",
       "      <td>PIATER</td>\n",
       "      <td>1087</td>\n",
       "      <td>[piater]</td>\n",
       "    </tr>\n",
       "    <tr>\n",
       "      <th>4617</th>\n",
       "      <td>2</td>\n",
       "      <td>1H</td>\n",
       "      <td>456</td>\n",
       "      <td>[1h]</td>\n",
       "    </tr>\n",
       "  </tbody>\n",
       "</table>\n",
       "<p>4618 rows × 4 columns</p>\n",
       "</div>"
      ],
      "text/plain": [
       "      views                        content  area  \\\n",
       "0         3                    Sweets How   1125   \n",
       "1         4                                    0   \n",
       "2         3                                    0   \n",
       "3         3  I 6AM school morning routine   1195   \n",
       "4         2                                    0   \n",
       "...     ...                            ...   ...   \n",
       "4613      2                                    0   \n",
       "4614      0                                    0   \n",
       "4615      3                        PLATEK   1072   \n",
       "4616      3                        PIATER   1087   \n",
       "4617      2                            1H    456   \n",
       "\n",
       "                      content_tokens  \n",
       "0                       [sweet, how]  \n",
       "1                                 []  \n",
       "2                                 []  \n",
       "3     [i, 6am, school, morn, routin]  \n",
       "4                                 []  \n",
       "...                              ...  \n",
       "4613                              []  \n",
       "4614                              []  \n",
       "4615                        [platek]  \n",
       "4616                        [piater]  \n",
       "4617                            [1h]  \n",
       "\n",
       "[4618 rows x 4 columns]"
      ]
     },
     "execution_count": 21,
     "metadata": {},
     "output_type": "execute_result"
    }
   ],
   "source": [
    "data_cat.to_csv(\"../../data/english_humbnailtext_preprocessed.csv\", header=True, index=False)\n",
    "data_cat"
   ]
  }
 ],
 "metadata": {
  "kernelspec": {
   "display_name": "Python 3",
   "language": "python",
   "name": "python3"
  },
  "language_info": {
   "codemirror_mode": {
    "name": "ipython",
    "version": 3
   },
   "file_extension": ".py",
   "mimetype": "text/x-python",
   "name": "python",
   "nbconvert_exporter": "python",
   "pygments_lexer": "ipython3",
   "version": "3.8.3"
  }
 },
 "nbformat": 4,
 "nbformat_minor": 4
}
