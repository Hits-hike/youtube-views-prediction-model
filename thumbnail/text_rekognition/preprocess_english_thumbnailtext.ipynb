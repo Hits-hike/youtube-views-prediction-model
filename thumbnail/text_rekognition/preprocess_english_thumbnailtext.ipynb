{
 "cells": [
  {
   "cell_type": "code",
   "execution_count": 1,
   "metadata": {},
   "outputs": [],
   "source": [
    "import pandas as pd"
   ]
  },
  {
   "cell_type": "code",
   "execution_count": 2,
   "metadata": {
    "scrolled": true
   },
   "outputs": [
    {
     "data": {
      "text/html": [
       "<div>\n",
       "<style scoped>\n",
       "    .dataframe tbody tr th:only-of-type {\n",
       "        vertical-align: middle;\n",
       "    }\n",
       "\n",
       "    .dataframe tbody tr th {\n",
       "        vertical-align: top;\n",
       "    }\n",
       "\n",
       "    .dataframe thead th {\n",
       "        text-align: right;\n",
       "    }\n",
       "</style>\n",
       "<table border=\"1\" class=\"dataframe\">\n",
       "  <thead>\n",
       "    <tr style=\"text-align: right;\">\n",
       "      <th></th>\n",
       "      <th>view</th>\n",
       "      <th>thumbnail_text_content</th>\n",
       "      <th>thumbnail_text_area</th>\n",
       "    </tr>\n",
       "  </thead>\n",
       "  <tbody>\n",
       "    <tr>\n",
       "      <th>0</th>\n",
       "      <td>101580</td>\n",
       "      <td>Sweets How</td>\n",
       "      <td>0.11259</td>\n",
       "    </tr>\n",
       "    <tr>\n",
       "      <th>1</th>\n",
       "      <td>1147867</td>\n",
       "      <td>NaN</td>\n",
       "      <td>0.00000</td>\n",
       "    </tr>\n",
       "    <tr>\n",
       "      <th>2</th>\n",
       "      <td>429219</td>\n",
       "      <td>NaN</td>\n",
       "      <td>0.00000</td>\n",
       "    </tr>\n",
       "  </tbody>\n",
       "</table>\n",
       "</div>"
      ],
      "text/plain": [
       "      view thumbnail_text_content  thumbnail_text_area\n",
       "0   101580            Sweets How               0.11259\n",
       "1  1147867                    NaN              0.00000\n",
       "2   429219                    NaN              0.00000"
      ]
     },
     "execution_count": 2,
     "metadata": {},
     "output_type": "execute_result"
    }
   ],
   "source": [
    "# 데이터 불러오기\n",
    "df = pd.read_csv('../../data/english_data_including_content_and_area_of_thumbnailtext.csv', usecols = [6, 8, 9], encoding='UTF-8')\n",
    "df.head(3)"
   ]
  },
  {
   "cell_type": "code",
   "execution_count": 4,
   "metadata": {
    "scrolled": true
   },
   "outputs": [
    {
     "data": {
      "text/html": [
       "<div>\n",
       "<style scoped>\n",
       "    .dataframe tbody tr th:only-of-type {\n",
       "        vertical-align: middle;\n",
       "    }\n",
       "\n",
       "    .dataframe tbody tr th {\n",
       "        vertical-align: top;\n",
       "    }\n",
       "\n",
       "    .dataframe thead th {\n",
       "        text-align: right;\n",
       "    }\n",
       "</style>\n",
       "<table border=\"1\" class=\"dataframe\">\n",
       "  <thead>\n",
       "    <tr style=\"text-align: right;\">\n",
       "      <th></th>\n",
       "      <th>views</th>\n",
       "      <th>content</th>\n",
       "      <th>area</th>\n",
       "    </tr>\n",
       "  </thead>\n",
       "  <tbody>\n",
       "    <tr>\n",
       "      <th>0</th>\n",
       "      <td>101</td>\n",
       "      <td>Sweets How</td>\n",
       "      <td>1125</td>\n",
       "    </tr>\n",
       "    <tr>\n",
       "      <th>1</th>\n",
       "      <td>1147</td>\n",
       "      <td></td>\n",
       "      <td>0</td>\n",
       "    </tr>\n",
       "    <tr>\n",
       "      <th>2</th>\n",
       "      <td>429</td>\n",
       "      <td></td>\n",
       "      <td>0</td>\n",
       "    </tr>\n",
       "    <tr>\n",
       "      <th>3</th>\n",
       "      <td>607</td>\n",
       "      <td>I 6AM school morning routine</td>\n",
       "      <td>1195</td>\n",
       "    </tr>\n",
       "  </tbody>\n",
       "</table>\n",
       "</div>"
      ],
      "text/plain": [
       "   views                        content  area\n",
       "0    101                    Sweets How   1125\n",
       "1   1147                                    0\n",
       "2    429                                    0\n",
       "3    607  I 6AM school morning routine   1195"
      ]
     },
     "execution_count": 4,
     "metadata": {},
     "output_type": "execute_result"
    }
   ],
   "source": [
    "data_cat = df.copy()           \n",
    "#print(data_cat.info())           \n",
    "data_cat['views'] = (data_cat['view'].floordiv(1000))\n",
    "data_cat['content'] = data_cat['thumbnail_text_content'].fillna('  ')\n",
    "data_cat['area'] = (data_cat['thumbnail_text_area']*10000).astype('int64')\n",
    "data_cat.drop(['view', 'thumbnail_text_content', 'thumbnail_text_area'], axis='columns', inplace=True)\n",
    "data_cat.head(4)"
   ]
  },
  {
   "cell_type": "markdown",
   "metadata": {},
   "source": [
    "## 조회수 one-hot encoding"
   ]
  },
  {
   "cell_type": "code",
   "execution_count": 5,
   "metadata": {
    "scrolled": true
   },
   "outputs": [
    {
     "data": {
      "text/plain": [
       "314441"
      ]
     },
     "execution_count": 5,
     "metadata": {},
     "output_type": "execute_result"
    }
   ],
   "source": [
    "data_cat['views'].max()"
   ]
  },
  {
   "cell_type": "code",
   "execution_count": 6,
   "metadata": {},
   "outputs": [
    {
     "name": "stderr",
     "output_type": "stream",
     "text": [
      "<ipython-input-6-2cc45fe1c4ad>:9: SettingWithCopyWarning: \n",
      "A value is trying to be set on a copy of a slice from a DataFrame\n",
      "\n",
      "See the caveats in the documentation: https://pandas.pydata.org/pandas-docs/stable/user_guide/indexing.html#returning-a-view-versus-a-copy\n",
      "  elif view >=100:  data_cat['views'][index] = 3\n",
      "<ipython-input-6-2cc45fe1c4ad>:7: SettingWithCopyWarning: \n",
      "A value is trying to be set on a copy of a slice from a DataFrame\n",
      "\n",
      "See the caveats in the documentation: https://pandas.pydata.org/pandas-docs/stable/user_guide/indexing.html#returning-a-view-versus-a-copy\n",
      "  elif view >=1000:  data_cat['views'][index] =  4\n",
      "<ipython-input-6-2cc45fe1c4ad>:11: SettingWithCopyWarning: \n",
      "A value is trying to be set on a copy of a slice from a DataFrame\n",
      "\n",
      "See the caveats in the documentation: https://pandas.pydata.org/pandas-docs/stable/user_guide/indexing.html#returning-a-view-versus-a-copy\n",
      "  elif view >=10: data_cat['views'][index] = 2\n",
      "<ipython-input-6-2cc45fe1c4ad>:14: SettingWithCopyWarning: \n",
      "A value is trying to be set on a copy of a slice from a DataFrame\n",
      "\n",
      "See the caveats in the documentation: https://pandas.pydata.org/pandas-docs/stable/user_guide/indexing.html#returning-a-view-versus-a-copy\n",
      "  elif view > 0: data_cat['views'][index] = 1\n",
      "<ipython-input-6-2cc45fe1c4ad>:5: SettingWithCopyWarning: \n",
      "A value is trying to be set on a copy of a slice from a DataFrame\n",
      "\n",
      "See the caveats in the documentation: https://pandas.pydata.org/pandas-docs/stable/user_guide/indexing.html#returning-a-view-versus-a-copy\n",
      "  if view >=10000:  data_cat['views'][index] =  5\n"
     ]
    }
   ],
   "source": [
    "import math # 구간 나눠주기 -> multiclass classification\n",
    "\n",
    "for index, view in enumerate(data_cat['views']):\n",
    "  # if view >= 50000:  data_cat['views'][index] =  50000\n",
    "  if view >=10000:  data_cat['views'][index] =  5\n",
    "  # elif view >=5000:  data_cat['views'][index] =  5000\n",
    "  elif view >=1000:  data_cat['views'][index] =  4\n",
    "  # elif view >=500:  data_cat['views'][index] =  500\n",
    "  elif view >=100:  data_cat['views'][index] = 3\n",
    "  # elif view >=50: data_cat['views'][index] =  50\n",
    "  elif view >=10: data_cat['views'][index] = 2\n",
    "  # elif view >=5: data_cat['views'][index] = 5\n",
    "  # elif view >5: data_cat['views'][index] = math.floor(data_cat['views'][index]/5) * 5\n",
    "  elif view > 0: data_cat['views'][index] = 1"
   ]
  },
  {
   "cell_type": "code",
   "execution_count": 7,
   "metadata": {
    "scrolled": true
   },
   "outputs": [
    {
     "name": "stdout",
     "output_type": "stream",
     "text": [
      "[0, 1, 2, 3, 4, 5]\n",
      "Counter({4: 1504, 3: 1426, 2: 710, 0: 521, 1: 259, 5: 198})\n"
     ]
    }
   ],
   "source": [
    "from collections import Counter\n",
    "\n",
    "label = Counter(data_cat['views']).keys()\n",
    "label = sorted(label)\n",
    "print(label)\n",
    "print(Counter(data_cat['views']))"
   ]
  },
  {
   "cell_type": "code",
   "execution_count": 9,
   "metadata": {},
   "outputs": [],
   "source": [
    "from keras.utils.np_utils import to_categorical"
   ]
  },
  {
   "cell_type": "code",
   "execution_count": 10,
   "metadata": {},
   "outputs": [
    {
     "data": {
      "text/plain": [
       "array([[0, 0, 0, 1, 0, 0],\n",
       "       [0, 0, 0, 0, 1, 0],\n",
       "       [0, 0, 0, 1, 0, 0],\n",
       "       ...,\n",
       "       [0, 0, 0, 1, 0, 0],\n",
       "       [0, 0, 0, 1, 0, 0],\n",
       "       [0, 0, 1, 0, 0, 0]], dtype=int64)"
      ]
     },
     "execution_count": 10,
     "metadata": {},
     "output_type": "execute_result"
    }
   ],
   "source": [
    "y = to_categorical(data_cat['views']).astype('int64')\n",
    "y"
   ]
  },
  {
   "cell_type": "markdown",
   "metadata": {},
   "source": [
    "## content preprocess"
   ]
  },
  {
   "cell_type": "code",
   "execution_count": 11,
   "metadata": {},
   "outputs": [
    {
     "name": "stderr",
     "output_type": "stream",
     "text": [
      "[nltk_data] Downloading package punkt to\n",
      "[nltk_data]     C:\\Users\\hj99y\\AppData\\Roaming\\nltk_data...\n",
      "[nltk_data]   Package punkt is already up-to-date!\n",
      "[nltk_data] Downloading package wordnet to\n",
      "[nltk_data]     C:\\Users\\hj99y\\AppData\\Roaming\\nltk_data...\n",
      "[nltk_data]   Package wordnet is already up-to-date!\n"
     ]
    },
    {
     "data": {
      "text/plain": [
       "True"
      ]
     },
     "execution_count": 11,
     "metadata": {},
     "output_type": "execute_result"
    }
   ],
   "source": [
    "import nltk\n",
    "nltk.download('punkt')\n",
    "nltk.download('wordnet')"
   ]
  },
  {
   "cell_type": "code",
   "execution_count": 12,
   "metadata": {},
   "outputs": [],
   "source": [
    "from nltk.tokenize import word_tokenize"
   ]
  },
  {
   "cell_type": "code",
   "execution_count": 13,
   "metadata": {},
   "outputs": [
    {
     "data": {
      "text/html": [
       "<div>\n",
       "<style scoped>\n",
       "    .dataframe tbody tr th:only-of-type {\n",
       "        vertical-align: middle;\n",
       "    }\n",
       "\n",
       "    .dataframe tbody tr th {\n",
       "        vertical-align: top;\n",
       "    }\n",
       "\n",
       "    .dataframe thead th {\n",
       "        text-align: right;\n",
       "    }\n",
       "</style>\n",
       "<table border=\"1\" class=\"dataframe\">\n",
       "  <thead>\n",
       "    <tr style=\"text-align: right;\">\n",
       "      <th></th>\n",
       "      <th>views</th>\n",
       "      <th>content</th>\n",
       "      <th>area</th>\n",
       "      <th>content_tokens</th>\n",
       "    </tr>\n",
       "  </thead>\n",
       "  <tbody>\n",
       "    <tr>\n",
       "      <th>0</th>\n",
       "      <td>3</td>\n",
       "      <td>Sweets How</td>\n",
       "      <td>1125</td>\n",
       "      <td>None</td>\n",
       "    </tr>\n",
       "    <tr>\n",
       "      <th>1</th>\n",
       "      <td>4</td>\n",
       "      <td></td>\n",
       "      <td>0</td>\n",
       "      <td>None</td>\n",
       "    </tr>\n",
       "    <tr>\n",
       "      <th>2</th>\n",
       "      <td>3</td>\n",
       "      <td></td>\n",
       "      <td>0</td>\n",
       "      <td>None</td>\n",
       "    </tr>\n",
       "  </tbody>\n",
       "</table>\n",
       "</div>"
      ],
      "text/plain": [
       "   views      content  area content_tokens\n",
       "0      3  Sweets How   1125           None\n",
       "1      4                  0           None\n",
       "2      3                  0           None"
      ]
     },
     "execution_count": 13,
     "metadata": {},
     "output_type": "execute_result"
    }
   ],
   "source": [
    "data_cat['content_tokens']=None\n",
    "data_cat[:3]"
   ]
  },
  {
   "cell_type": "code",
   "execution_count": 14,
   "metadata": {},
   "outputs": [
    {
     "name": "stderr",
     "output_type": "stream",
     "text": [
      "<ipython-input-14-89f23f830b8c>:2: SettingWithCopyWarning: \n",
      "A value is trying to be set on a copy of a slice from a DataFrame\n",
      "\n",
      "See the caveats in the documentation: https://pandas.pydata.org/pandas-docs/stable/user_guide/indexing.html#returning-a-view-versus-a-copy\n",
      "  data_cat['content_tokens'][index] = word_tokenize(data_cat['content'][index])\n"
     ]
    },
    {
     "data": {
      "text/html": [
       "<div>\n",
       "<style scoped>\n",
       "    .dataframe tbody tr th:only-of-type {\n",
       "        vertical-align: middle;\n",
       "    }\n",
       "\n",
       "    .dataframe tbody tr th {\n",
       "        vertical-align: top;\n",
       "    }\n",
       "\n",
       "    .dataframe thead th {\n",
       "        text-align: right;\n",
       "    }\n",
       "</style>\n",
       "<table border=\"1\" class=\"dataframe\">\n",
       "  <thead>\n",
       "    <tr style=\"text-align: right;\">\n",
       "      <th></th>\n",
       "      <th>views</th>\n",
       "      <th>content</th>\n",
       "      <th>area</th>\n",
       "      <th>content_tokens</th>\n",
       "    </tr>\n",
       "  </thead>\n",
       "  <tbody>\n",
       "    <tr>\n",
       "      <th>0</th>\n",
       "      <td>3</td>\n",
       "      <td>Sweets How</td>\n",
       "      <td>1125</td>\n",
       "      <td>[Sweets, How]</td>\n",
       "    </tr>\n",
       "    <tr>\n",
       "      <th>1</th>\n",
       "      <td>4</td>\n",
       "      <td></td>\n",
       "      <td>0</td>\n",
       "      <td>[]</td>\n",
       "    </tr>\n",
       "    <tr>\n",
       "      <th>2</th>\n",
       "      <td>3</td>\n",
       "      <td></td>\n",
       "      <td>0</td>\n",
       "      <td>[]</td>\n",
       "    </tr>\n",
       "  </tbody>\n",
       "</table>\n",
       "</div>"
      ],
      "text/plain": [
       "   views      content  area content_tokens\n",
       "0      3  Sweets How   1125  [Sweets, How]\n",
       "1      4                  0             []\n",
       "2      3                  0             []"
      ]
     },
     "execution_count": 14,
     "metadata": {},
     "output_type": "execute_result"
    }
   ],
   "source": [
    "for index in range(len(df)):\n",
    "    data_cat['content_tokens'][index] = word_tokenize(data_cat['content'][index])\n",
    "data_cat[:3]"
   ]
  },
  {
   "cell_type": "code",
   "execution_count": 15,
   "metadata": {},
   "outputs": [
    {
     "name": "stderr",
     "output_type": "stream",
     "text": [
      "<ipython-input-15-38f54ab83882>:5: SettingWithCopyWarning: \n",
      "A value is trying to be set on a copy of a slice from a DataFrame\n",
      "\n",
      "See the caveats in the documentation: https://pandas.pydata.org/pandas-docs/stable/user_guide/indexing.html#returning-a-view-versus-a-copy\n",
      "  data_cat['content_tokens1'][index] = [lm.lemmatize(w, pos=\"v\") for w in data_cat['content_tokens'][index]]\n"
     ]
    }
   ],
   "source": [
    "from nltk.stem import WordNetLemmatizer\n",
    "lm = WordNetLemmatizer()\n",
    "data_cat['content_tokens1']=None\n",
    "for index in range(len(df)):\n",
    "    data_cat['content_tokens1'][index] = [lm.lemmatize(w, pos=\"v\") for w in data_cat['content_tokens'][index]]"
   ]
  },
  {
   "cell_type": "code",
   "execution_count": 16,
   "metadata": {},
   "outputs": [
    {
     "name": "stderr",
     "output_type": "stream",
     "text": [
      "<ipython-input-16-17e4c01d9557>:7: SettingWithCopyWarning: \n",
      "A value is trying to be set on a copy of a slice from a DataFrame\n",
      "\n",
      "See the caveats in the documentation: https://pandas.pydata.org/pandas-docs/stable/user_guide/indexing.html#returning-a-view-versus-a-copy\n",
      "  data_cat['content_tokens2'][index] = [st1.stem(w) for w in data_cat['content_tokens'][index]]\n"
     ]
    }
   ],
   "source": [
    "from nltk.stem import PorterStemmer\n",
    "st1 = PorterStemmer()\n",
    "\n",
    "data_cat['content_tokens2']=None\n",
    "\n",
    "for index in range(len(df)):\n",
    "    data_cat['content_tokens2'][index] = [st1.stem(w) for w in data_cat['content_tokens'][index]]"
   ]
  },
  {
   "cell_type": "code",
   "execution_count": 17,
   "metadata": {},
   "outputs": [
    {
     "name": "stderr",
     "output_type": "stream",
     "text": [
      "<ipython-input-17-a4b2b784d091>:7: SettingWithCopyWarning: \n",
      "A value is trying to be set on a copy of a slice from a DataFrame\n",
      "\n",
      "See the caveats in the documentation: https://pandas.pydata.org/pandas-docs/stable/user_guide/indexing.html#returning-a-view-versus-a-copy\n",
      "  data_cat['content_tokens3'][index] = [st2.stem(w) for w in data_cat['content_tokens'][index]]\n"
     ]
    }
   ],
   "source": [
    "from nltk.stem import LancasterStemmer\n",
    "st2 = LancasterStemmer()\n",
    "\n",
    "data_cat['content_tokens3']=None\n",
    "\n",
    "for index in range(len(df)):\n",
    "    data_cat['content_tokens3'][index] = [st2.stem(w) for w in data_cat['content_tokens'][index]]"
   ]
  },
  {
   "cell_type": "code",
   "execution_count": 18,
   "metadata": {},
   "outputs": [
    {
     "data": {
      "text/html": [
       "<div>\n",
       "<style scoped>\n",
       "    .dataframe tbody tr th:only-of-type {\n",
       "        vertical-align: middle;\n",
       "    }\n",
       "\n",
       "    .dataframe tbody tr th {\n",
       "        vertical-align: top;\n",
       "    }\n",
       "\n",
       "    .dataframe thead th {\n",
       "        text-align: right;\n",
       "    }\n",
       "</style>\n",
       "<table border=\"1\" class=\"dataframe\">\n",
       "  <thead>\n",
       "    <tr style=\"text-align: right;\">\n",
       "      <th></th>\n",
       "      <th>views</th>\n",
       "      <th>content</th>\n",
       "      <th>area</th>\n",
       "      <th>content_tokens</th>\n",
       "      <th>content_tokens1</th>\n",
       "      <th>content_tokens2</th>\n",
       "      <th>content_tokens3</th>\n",
       "    </tr>\n",
       "  </thead>\n",
       "  <tbody>\n",
       "    <tr>\n",
       "      <th>0</th>\n",
       "      <td>3</td>\n",
       "      <td>Sweets How</td>\n",
       "      <td>1125</td>\n",
       "      <td>[Sweets, How]</td>\n",
       "      <td>[Sweets, How]</td>\n",
       "      <td>[sweet, how]</td>\n",
       "      <td>[sweet, how]</td>\n",
       "    </tr>\n",
       "    <tr>\n",
       "      <th>1</th>\n",
       "      <td>4</td>\n",
       "      <td></td>\n",
       "      <td>0</td>\n",
       "      <td>[]</td>\n",
       "      <td>[]</td>\n",
       "      <td>[]</td>\n",
       "      <td>[]</td>\n",
       "    </tr>\n",
       "    <tr>\n",
       "      <th>2</th>\n",
       "      <td>3</td>\n",
       "      <td></td>\n",
       "      <td>0</td>\n",
       "      <td>[]</td>\n",
       "      <td>[]</td>\n",
       "      <td>[]</td>\n",
       "      <td>[]</td>\n",
       "    </tr>\n",
       "    <tr>\n",
       "      <th>3</th>\n",
       "      <td>3</td>\n",
       "      <td>I 6AM school morning routine</td>\n",
       "      <td>1195</td>\n",
       "      <td>[I, 6AM, school, morning, routine]</td>\n",
       "      <td>[I, 6AM, school, morning, routine]</td>\n",
       "      <td>[i, 6am, school, morn, routin]</td>\n",
       "      <td>[i, 6am, school, morn, routin]</td>\n",
       "    </tr>\n",
       "    <tr>\n",
       "      <th>4</th>\n",
       "      <td>2</td>\n",
       "      <td></td>\n",
       "      <td>0</td>\n",
       "      <td>[]</td>\n",
       "      <td>[]</td>\n",
       "      <td>[]</td>\n",
       "      <td>[]</td>\n",
       "    </tr>\n",
       "    <tr>\n",
       "      <th>5</th>\n",
       "      <td>3</td>\n",
       "      <td>NHi chahaiyes</td>\n",
       "      <td>1400</td>\n",
       "      <td>[NHi, chahaiyes]</td>\n",
       "      <td>[NHi, chahaiyes]</td>\n",
       "      <td>[nhi, chahaiy]</td>\n",
       "      <td>[nhi, chahaiy]</td>\n",
       "    </tr>\n",
       "    <tr>\n",
       "      <th>6</th>\n",
       "      <td>3</td>\n",
       "      <td>a week in my life</td>\n",
       "      <td>974</td>\n",
       "      <td>[a, week, in, my, life]</td>\n",
       "      <td>[a, week, in, my, life]</td>\n",
       "      <td>[a, week, in, my, life]</td>\n",
       "      <td>[a, week, in, my, lif]</td>\n",
       "    </tr>\n",
       "    <tr>\n",
       "      <th>7</th>\n",
       "      <td>2</td>\n",
       "      <td>KONECNE HOTOW koupelna</td>\n",
       "      <td>2023</td>\n",
       "      <td>[KONECNE, HOTOW, koupelna]</td>\n",
       "      <td>[KONECNE, HOTOW, koupelna]</td>\n",
       "      <td>[konecn, hotow, koupelna]</td>\n",
       "      <td>[konecn, hotow, koupeln]</td>\n",
       "    </tr>\n",
       "    <tr>\n",
       "      <th>8</th>\n",
       "      <td>3</td>\n",
       "      <td>shopping + coffee shops day in my life living ...</td>\n",
       "      <td>1783</td>\n",
       "      <td>[shopping, +, coffee, shops, day, in, my, life...</td>\n",
       "      <td>[shop, +, coffee, shop, day, in, my, life, liv...</td>\n",
       "      <td>[shop, +, coffe, shop, day, in, my, life, live...</td>\n",
       "      <td>[shop, +, coff, shop, day, in, my, lif, liv, i...</td>\n",
       "    </tr>\n",
       "    <tr>\n",
       "      <th>9</th>\n",
       "      <td>4</td>\n",
       "      <td></td>\n",
       "      <td>0</td>\n",
       "      <td>[]</td>\n",
       "      <td>[]</td>\n",
       "      <td>[]</td>\n",
       "      <td>[]</td>\n",
       "    </tr>\n",
       "    <tr>\n",
       "      <th>10</th>\n",
       "      <td>3</td>\n",
       "      <td></td>\n",
       "      <td>0</td>\n",
       "      <td>[]</td>\n",
       "      <td>[]</td>\n",
       "      <td>[]</td>\n",
       "      <td>[]</td>\n",
       "    </tr>\n",
       "    <tr>\n",
       "      <th>11</th>\n",
       "      <td>4</td>\n",
       "      <td></td>\n",
       "      <td>0</td>\n",
       "      <td>[]</td>\n",
       "      <td>[]</td>\n",
       "      <td>[]</td>\n",
       "      <td>[]</td>\n",
       "    </tr>\n",
       "    <tr>\n",
       "      <th>12</th>\n",
       "      <td>2</td>\n",
       "      <td>uaily vlog</td>\n",
       "      <td>1223</td>\n",
       "      <td>[uaily, vlog]</td>\n",
       "      <td>[uaily, vlog]</td>\n",
       "      <td>[uaili, vlog]</td>\n",
       "      <td>[uay, vlog]</td>\n",
       "    </tr>\n",
       "    <tr>\n",
       "      <th>13</th>\n",
       "      <td>3</td>\n",
       "      <td>A YEAR OLDER!</td>\n",
       "      <td>635</td>\n",
       "      <td>[A, YEAR, OLDER, !]</td>\n",
       "      <td>[A, YEAR, OLDER, !]</td>\n",
       "      <td>[a, year, older, !]</td>\n",
       "      <td>[a, year, old, !]</td>\n",
       "    </tr>\n",
       "    <tr>\n",
       "      <th>14</th>\n",
       "      <td>3</td>\n",
       "      <td>OXFORD \"UNIVERSITY move in vlog 2020</td>\n",
       "      <td>2386</td>\n",
       "      <td>[OXFORD, ``, UNIVERSITY, move, in, vlog, 2020]</td>\n",
       "      <td>[OXFORD, ``, UNIVERSITY, move, in, vlog, 2020]</td>\n",
       "      <td>[oxford, ``, univers, move, in, vlog, 2020]</td>\n",
       "      <td>[oxford, ``, univers, mov, in, vlog, 2020]</td>\n",
       "    </tr>\n",
       "    <tr>\n",
       "      <th>15</th>\n",
       "      <td>3</td>\n",
       "      <td>a week in my life</td>\n",
       "      <td>922</td>\n",
       "      <td>[a, week, in, my, life]</td>\n",
       "      <td>[a, week, in, my, life]</td>\n",
       "      <td>[a, week, in, my, life]</td>\n",
       "      <td>[a, week, in, my, lif]</td>\n",
       "    </tr>\n",
       "    <tr>\n",
       "      <th>16</th>\n",
       "      <td>3</td>\n",
       "      <td></td>\n",
       "      <td>0</td>\n",
       "      <td>[]</td>\n",
       "      <td>[]</td>\n",
       "      <td>[]</td>\n",
       "      <td>[]</td>\n",
       "    </tr>\n",
       "    <tr>\n",
       "      <th>17</th>\n",
       "      <td>2</td>\n",
       "      <td>2FLT842 VLOG</td>\n",
       "      <td>587</td>\n",
       "      <td>[2FLT842, VLOG]</td>\n",
       "      <td>[2FLT842, VLOG]</td>\n",
       "      <td>[2flt842, vlog]</td>\n",
       "      <td>[2flt842, vlog]</td>\n",
       "    </tr>\n",
       "    <tr>\n",
       "      <th>18</th>\n",
       "      <td>4</td>\n",
       "      <td>GRADUATIONY</td>\n",
       "      <td>910</td>\n",
       "      <td>[GRADUATIONY]</td>\n",
       "      <td>[GRADUATIONY]</td>\n",
       "      <td>[graduationi]</td>\n",
       "      <td>[graduationy]</td>\n",
       "    </tr>\n",
       "    <tr>\n",
       "      <th>19</th>\n",
       "      <td>2</td>\n",
       "      <td></td>\n",
       "      <td>0</td>\n",
       "      <td>[]</td>\n",
       "      <td>[]</td>\n",
       "      <td>[]</td>\n",
       "      <td>[]</td>\n",
       "    </tr>\n",
       "  </tbody>\n",
       "</table>\n",
       "</div>"
      ],
      "text/plain": [
       "    views                                            content  area  \\\n",
       "0       3                                        Sweets How   1125   \n",
       "1       4                                                        0   \n",
       "2       3                                                        0   \n",
       "3       3                      I 6AM school morning routine   1195   \n",
       "4       2                                                        0   \n",
       "5       3                                     NHi chahaiyes   1400   \n",
       "6       3                                 a week in my life    974   \n",
       "7       2                            KONECNE HOTOW koupelna   2023   \n",
       "8       3  shopping + coffee shops day in my life living ...  1783   \n",
       "9       4                                                        0   \n",
       "10      3                                                        0   \n",
       "11      4                                                        0   \n",
       "12      2                                        uaily vlog   1223   \n",
       "13      3                                     A YEAR OLDER!    635   \n",
       "14      3              OXFORD \"UNIVERSITY move in vlog 2020   2386   \n",
       "15      3                                 a week in my life    922   \n",
       "16      3                                                        0   \n",
       "17      2                                      2FLT842 VLOG    587   \n",
       "18      4                                       GRADUATIONY    910   \n",
       "19      2                                                        0   \n",
       "\n",
       "                                       content_tokens  \\\n",
       "0                                       [Sweets, How]   \n",
       "1                                                  []   \n",
       "2                                                  []   \n",
       "3                  [I, 6AM, school, morning, routine]   \n",
       "4                                                  []   \n",
       "5                                    [NHi, chahaiyes]   \n",
       "6                             [a, week, in, my, life]   \n",
       "7                          [KONECNE, HOTOW, koupelna]   \n",
       "8   [shopping, +, coffee, shops, day, in, my, life...   \n",
       "9                                                  []   \n",
       "10                                                 []   \n",
       "11                                                 []   \n",
       "12                                      [uaily, vlog]   \n",
       "13                                [A, YEAR, OLDER, !]   \n",
       "14     [OXFORD, ``, UNIVERSITY, move, in, vlog, 2020]   \n",
       "15                            [a, week, in, my, life]   \n",
       "16                                                 []   \n",
       "17                                    [2FLT842, VLOG]   \n",
       "18                                      [GRADUATIONY]   \n",
       "19                                                 []   \n",
       "\n",
       "                                      content_tokens1  \\\n",
       "0                                       [Sweets, How]   \n",
       "1                                                  []   \n",
       "2                                                  []   \n",
       "3                  [I, 6AM, school, morning, routine]   \n",
       "4                                                  []   \n",
       "5                                    [NHi, chahaiyes]   \n",
       "6                             [a, week, in, my, life]   \n",
       "7                          [KONECNE, HOTOW, koupelna]   \n",
       "8   [shop, +, coffee, shop, day, in, my, life, liv...   \n",
       "9                                                  []   \n",
       "10                                                 []   \n",
       "11                                                 []   \n",
       "12                                      [uaily, vlog]   \n",
       "13                                [A, YEAR, OLDER, !]   \n",
       "14     [OXFORD, ``, UNIVERSITY, move, in, vlog, 2020]   \n",
       "15                            [a, week, in, my, life]   \n",
       "16                                                 []   \n",
       "17                                    [2FLT842, VLOG]   \n",
       "18                                      [GRADUATIONY]   \n",
       "19                                                 []   \n",
       "\n",
       "                                      content_tokens2  \\\n",
       "0                                        [sweet, how]   \n",
       "1                                                  []   \n",
       "2                                                  []   \n",
       "3                      [i, 6am, school, morn, routin]   \n",
       "4                                                  []   \n",
       "5                                      [nhi, chahaiy]   \n",
       "6                             [a, week, in, my, life]   \n",
       "7                           [konecn, hotow, koupelna]   \n",
       "8   [shop, +, coffe, shop, day, in, my, life, live...   \n",
       "9                                                  []   \n",
       "10                                                 []   \n",
       "11                                                 []   \n",
       "12                                      [uaili, vlog]   \n",
       "13                                [a, year, older, !]   \n",
       "14        [oxford, ``, univers, move, in, vlog, 2020]   \n",
       "15                            [a, week, in, my, life]   \n",
       "16                                                 []   \n",
       "17                                    [2flt842, vlog]   \n",
       "18                                      [graduationi]   \n",
       "19                                                 []   \n",
       "\n",
       "                                      content_tokens3  \n",
       "0                                        [sweet, how]  \n",
       "1                                                  []  \n",
       "2                                                  []  \n",
       "3                      [i, 6am, school, morn, routin]  \n",
       "4                                                  []  \n",
       "5                                      [nhi, chahaiy]  \n",
       "6                              [a, week, in, my, lif]  \n",
       "7                            [konecn, hotow, koupeln]  \n",
       "8   [shop, +, coff, shop, day, in, my, lif, liv, i...  \n",
       "9                                                  []  \n",
       "10                                                 []  \n",
       "11                                                 []  \n",
       "12                                        [uay, vlog]  \n",
       "13                                  [a, year, old, !]  \n",
       "14         [oxford, ``, univers, mov, in, vlog, 2020]  \n",
       "15                             [a, week, in, my, lif]  \n",
       "16                                                 []  \n",
       "17                                    [2flt842, vlog]  \n",
       "18                                      [graduationy]  \n",
       "19                                                 []  "
      ]
     },
     "execution_count": 18,
     "metadata": {},
     "output_type": "execute_result"
    }
   ],
   "source": [
    "data_cat[:20]"
   ]
  },
  {
   "cell_type": "code",
   "execution_count": 19,
   "metadata": {},
   "outputs": [
    {
     "data": {
      "text/html": [
       "<div>\n",
       "<style scoped>\n",
       "    .dataframe tbody tr th:only-of-type {\n",
       "        vertical-align: middle;\n",
       "    }\n",
       "\n",
       "    .dataframe tbody tr th {\n",
       "        vertical-align: top;\n",
       "    }\n",
       "\n",
       "    .dataframe thead th {\n",
       "        text-align: right;\n",
       "    }\n",
       "</style>\n",
       "<table border=\"1\" class=\"dataframe\">\n",
       "  <thead>\n",
       "    <tr style=\"text-align: right;\">\n",
       "      <th></th>\n",
       "      <th>views</th>\n",
       "      <th>area</th>\n",
       "      <th>content_tokens</th>\n",
       "    </tr>\n",
       "  </thead>\n",
       "  <tbody>\n",
       "    <tr>\n",
       "      <th>0</th>\n",
       "      <td>3</td>\n",
       "      <td>1125</td>\n",
       "      <td>[sweet, how]</td>\n",
       "    </tr>\n",
       "    <tr>\n",
       "      <th>1</th>\n",
       "      <td>4</td>\n",
       "      <td>0</td>\n",
       "      <td>[]</td>\n",
       "    </tr>\n",
       "    <tr>\n",
       "      <th>2</th>\n",
       "      <td>3</td>\n",
       "      <td>0</td>\n",
       "      <td>[]</td>\n",
       "    </tr>\n",
       "  </tbody>\n",
       "</table>\n",
       "</div>"
      ],
      "text/plain": [
       "   views  area content_tokens\n",
       "0      3  1125   [sweet, how]\n",
       "1      4     0             []\n",
       "2      3     0             []"
      ]
     },
     "execution_count": 19,
     "metadata": {},
     "output_type": "execute_result"
    }
   ],
   "source": [
    "data_cat['content_tokens']=data_cat['content_tokens2']\n",
    "data_cat.drop(['content', 'content_tokens1', 'content_tokens2', 'content_tokens3'], axis='columns', inplace=True)\n",
    "data_cat[:3]"
   ]
  },
  {
   "cell_type": "markdown",
   "metadata": {},
   "source": [
    "## token to sequence"
   ]
  },
  {
   "cell_type": "code",
   "execution_count": 20,
   "metadata": {},
   "outputs": [],
   "source": [
    "from sklearn.model_selection import train_test_split"
   ]
  },
  {
   "cell_type": "code",
   "execution_count": 21,
   "metadata": {
    "scrolled": true
   },
   "outputs": [],
   "source": [
    "X_train, X_test, y_train, y_test = train_test_split(data_cat['content_tokens'], y, test_size = 0.2, random_state = 42)"
   ]
  },
  {
   "cell_type": "code",
   "execution_count": 22,
   "metadata": {},
   "outputs": [
    {
     "data": {
      "text/plain": [
       "3336    [piet, aguilar, ll, vicg, igo, que, paso, en, ...\n",
       "2647                                    [2a, :, thursday]\n",
       "506     [dahilan, kung, bakit, naghiwalay, kami, ni, d...\n",
       "393                                                    []\n",
       "4396                                      [we, re, drive]\n",
       "                              ...                        \n",
       "4426    [a, day, in, my, life, as, a, bachelor, studen...\n",
       "466                                                   [i]\n",
       "3092         [love, island, doe, n't, want, black, women]\n",
       "3772                                [vlog, no, copyright]\n",
       "860                   [what, 's, in, my, i, guitar, room]\n",
       "Name: content_tokens, Length: 3694, dtype: object"
      ]
     },
     "execution_count": 22,
     "metadata": {},
     "output_type": "execute_result"
    }
   ],
   "source": [
    "X_train"
   ]
  },
  {
   "cell_type": "code",
   "execution_count": 23,
   "metadata": {},
   "outputs": [
    {
     "data": {
      "text/plain": [
       "array([[0, 0, 0, 1, 0, 0],\n",
       "       [1, 0, 0, 0, 0, 0],\n",
       "       [0, 0, 0, 0, 1, 0],\n",
       "       ...,\n",
       "       [0, 0, 1, 0, 0, 0],\n",
       "       [0, 0, 0, 1, 0, 0],\n",
       "       [0, 0, 0, 1, 0, 0]], dtype=int64)"
      ]
     },
     "execution_count": 23,
     "metadata": {},
     "output_type": "execute_result"
    }
   ],
   "source": [
    "y_train"
   ]
  },
  {
   "cell_type": "code",
   "execution_count": 24,
   "metadata": {},
   "outputs": [],
   "source": [
    "from tensorflow.keras.preprocessing.text import Tokenizer"
   ]
  },
  {
   "cell_type": "code",
   "execution_count": 25,
   "metadata": {},
   "outputs": [
    {
     "name": "stdout",
     "output_type": "stream",
     "text": [
      "{'vlog': 1, '!': 2, 'in': 3, 'a': 4, '?': 5, '#': 6, 'my': 7, 'the': 8, 'no': 9, 'to': 10, '.': 11, 'i': 12, 'day': 13, \"'s\": 14, '1': 15, 'copyright': 16, 'of': 17, 'life': 18, '&': 19, 'with': 20, '2': 21, 'challeng': 22, ',': 23, 'new': 24, 'de': 25, 'viog': 26, 'tour': 27, '3': 28, 'it': 29, 'part': 30, 'me': 31, 'cambridg': 32, ':': 33, 'first': 34, 'home': 35, 'for': 36, 'do': 37, '24': 38, 'you': 39, 'what': 40, 'week': 41, 'la': 42, ')': 43, 'na': 44, 'birthday': 45, '$': 46, 'school': 47, '5': 48, 'en': 49, '10': 50, 'hous': 51, 'lo': 52, 'univers': 53, '...': 54, 'and': 55, '6': 56, '(': 57, 'offici': 58, 'shop': 59, 'is': 60, 'aguilar': 61, 'hour': 62, 'move': 63, 'el': 64, '2019': 65, 'n': 66, 'our': 67, 'on': 68, 'colleg': 69, 'at': 70, 'live': 71, 'con': 72, 'e': 73, 'famili': 74, 'vs': 75, 'travel': 76, 'year': 77, 's': 78, 'happi': 79, 'view': 80, 'r': 81, 'mi': 82, 'time': 83, 'prank': 84, 'o': 85, 'routin': 86, '4': 87, 'korea': 88, 'not': 89, 'by': 90, 'sa': 91, 'daili': 92, 'best': 93, 'we': 94, 'how': 95, 'food': 96, 'jyp': 97, 'cafe': 98, 'c': 99, 'welcom': 100, 'w': 101, 'b': 102, 'pepe': 103, 'm': 104, 'student': 105, 'like': 106, 'eat': 107, 'world': 108, '7': 109, 'dia': 110, 'ye': 111, 'sage': 112, 'episod': 113, 'babi': 114, 'eid': 115, '0': 116, '11': 117, '``': 118, 'back': 119, 'studi': 120, 'trip': 121, 'se': 122, 'get': 123, 'rs': 124, '2020': 125, 'h': 126, 'surpris': 127, 'tri': 128, 'v': 129, 'go': 130, 'f': 131, 'or': 132, 'birth': 133, 'khong': 134, 'cam': 135, 't': 136, 'may': 137, '+': 138, \"n't\": 139, 'ang': 140, 'friend': 141, 'one': 142, 'g': 143, 'real': 144, 'l': 145, 'christma': 146, 'barbi': 147, '-': 148, '9': 149, 'season': 150, 'weekli': 151, 'thi': 152, 'after': 153, 'place': 154, 'car': 155, '8': 156, 'dubai': 157, 'garden': 158, 'final': 159, \"''\": 160, 'morn': 161, '20': 162, 'from': 163, 'london': 164, 'so': 165, 'ano': 166, 'as': 167, 'music': 168, 'an': 169, 'sao': 170, '4k': 171, 'vice': 172, 'have': 173, 'love': 174, 'halloween': 175, 'all': 176, 'blue': 177, 'island': 178, 'did': 179, 'ng': 180, '%': 181, 'que': 182, 'un': 183, 'your': 184, 'nyc': 185, 'ha': 186, 'bali': 187, 'allen': 188, '100': 189, '24h': 190, '12': 191, 'cook': 192, 'video': 193, 'parti': 194, 'last': 195, '2021': 196, 'tokyo': 197, 'sister': 198, 'subscrib': 199, 'pool': 200, '..': 201, 'di': 202, 'tiktok': 203, 'dog': 204, 'girl': 205, 'that': 206, 'walk': 207, 'farm': 208, 'ako': 209, 'product': 210, 'ba': 211, 'winner': 212, '*': 213, '15': 214, 'mama': 215, \"'m\": 216, 'y': 217, 'embed': 218, 'nickelodeon': 219, 'youtub': 220, 'room': 221, 'iii': 222, 'break': 223, 'maldiv': 224, 'let': 225, 'min': 226, 'am': 227, 'indian': 228, 'para': 229, 'thank': 230, 'citi': 231, 'si': 232, 'behind': 233, 'haul': 234, 'al': 235, 'ko': 236, 'd': 237, 'weekend': 238, 'stay': 239, 'lyna': 240, 'casa': 241, 'apart': 242, 'around': 243, 'natur': 244, 'smith': 245, 'review': 246, 'danc': 247, 'request': 248, 'nha': 249, 'big': 250, '27': 251, 'senior': 252, 'japan': 253, 'pari': 254, 'th': 255, 'onlin': 256, 'mo': 257, 'guess': 258, 'ganda': 259, 'angel': 260, 'mog': 261, '16': 262, 'show': 263, 'park': 264, 'can': 265, 'off': 266, 'india': 267, 'start': 268, 'p': 269, '[': 270, 'secret': 271, '000': 272, 'groceri': 273, 'organ': 274, 'night': 275, 'game': 276, 'us': 277, '@': 278, 'polic': 279, 'van': 280, 'purpl': 281, 'hora': 282, 'vallejo': 283, 'hawaii': 284, 'vie': 285, 'p.': 286, '31': 287, 'shoot': 288, '13': 289, 'program': 290, 'trick': 291, '00': 292, '1000': 293, 'wow': 294, 'universityof': 295, 'be': 296, 'high': 297, 'q': 298, 'med': 299, 'play': 300, 'fashion': 301, 'vida': 302, 'trieu': 303, 'lam': 304, 'york': 305, 'ke': 306, 'win': 307, \"'\": 308, 'um': 309, 'ep': 310, 'mommi': 311, 'wed': 312, 'most': 313, 'come': 314, 'wrong': 315, 'photo': 316, 'j': 317, 'dau': 318, 'explor': 319, 'universityo': 320, 'shot': 321, 'old': 322, 'kid': 323, 'po': 324, 'por': 325, 'are': 326, 'never': 327, 'here': 328, 'wa': 329, 'more': 330, 'rumah': 331, 'class': 332, 'bt': 333, 'dream': 334, 'mall': 335, 'ufc': 336, '2.0': 337, 'ni': 338, 'than': 339, 'seek': 340, '17': 341, 'fall': 342, 'ultim': 343, 'gone': 344, 'if': 345, 'store': 346, '25': 347, 'into': 348, 'king': 349, 'trevor': 350, 'bauer': 351, 'covid': 352, 'shawn': 353, 'diwali': 354, 'visit': 355, 'delhi': 356, 'ilk': 357, 'public': 358, 'k': 359, 'rec': 360, 'vega': 361, 'prep': 362, '21': 363, 'england': 364, '24hr': 365, 'pr': 366, '2018': 367, 'khan': 368, '18': 369, '01': 370, 'phone': 371, 'up': 372, 'setup': 373, 'cuarentena': 374, 'ski': 375, 'studio': 376, 'giveaway': 377, 'ngay': 378, 'test': 379, 'clue': 380, 'pack': 381, 'dorm': 382, 'x': 383, 'run': 384, 'korean': 385, 'celebr': 386, 'street': 387, 'scene': 388, 'ada': 389, 'turu': 390, 'bachelor': 391, 'twent': 392, 'befor': 393, 'updat': 394, 'san': 395, 'exam': 396, 'nation': 397, 'hi': 398, 'date': 399, 'zealand': 400, 'angela': 401, 'tu': 402, 'present': 403, 'tube': 404, 'out': 405, 'extrem': 406, 'team': 407, 'bye': 408, 'tip': 409, 'mom': 410, 'da': 411, 'como': 412, 'quarantin': 413, 'care': 414, 'sleep': 415, 'brother': 416, '2a': 417, 're': 418, 'ap': 419, 'hide': 420, 'ca': 421, 'cycl': 422, 'morocco': 423, 'graduat': 424, 'scare': 425, 'emot': 426, 'trai': 427, 'decor': 428, 'drink': 429, 'million': 430, 'canon': 431, 'john': 432, '1st': 433, 'mai': 434, 'du': 435, 'truth': 436, 'st': 437, 'russia': 438, 'special': 439, 'tim': 440, 'mobil': 441, 'le': 442, 'dan': 443, 'oh': 444, 'gift': 445, 'wife': 446, 'canada': 447, 'road': 448, 'down': 449, 'boy': 450, 'vi': 451, 'una': 452, 'usa': 453, 'log': 454, '30': 455, 'toni': 456, 'stand': 457, 'va': 458, 'doe': 459, 'take': 460, 'china': 461, 'ulog': 462, 'ga': 463, 'plan': 464, 'make': 465, 'she': 466, 'noch': 467, 'alex': 468, 'ka': 469, 'hr': 470, 'guid': 471, 'jakarta': 472, 'tom': 473, 'cumpleano': 474, 'tik': 475, 'actor': 476, 'effect': 477, 'raid': 478, 'money': 479, 'hair': 480, 'del': 481, 'sheep': 482, 'belanja': 483, 'tatil': 484, 'veog': 485, 'villag': 486, 'tomi': 487, 'stream': 488, 'forget': 489, 'paangat': 490, 'everywher': 491, 'tara': 492, 'dito': 493, 'em': 494, 'perenni': 495, 'ya': 496, 'mexico': 497, 'west': 498, 'nomad': 499, 'chip': 500, 'goat': 501, 'beauti': 502, 'diari': 503, 'lfn': 504, 'water': 505, 'skin': 506, 'mukbang': 507, 'dead': 508, 'mga': 509, 'solo': 510, 'super': 511, 'watch': 512, 'cream': 513, 'much': 514, 'made': 515, 'south': 516, 'privat': 517, '28': 518, 'universidad': 519, 'parent': 520, 'market': 521, 'itali': 522, 'clean': 523, 'ion': 524, 'bless': 525, 'cross': 526, 'peopl': 527, 'seoul': 528, 'edit': 529, 'session': 530, 'million+': 531, 'bagong': 532, 'mother': 533, 'disney': 534, 'sard': 535, 'bey': 536, 'enough': 537, 'nuoc': 538, 'save': 539, 'grand': 540, 'ikea': 541, 'pregnanc': 542, 'pumpkin': 543, 'lvlog': 544, 'black': 545, 'nail': 546, 'kem': 547, 'tham': 548, '600': 549, '691': 550, 'import': 551, '19': 552, 'reveal': 553, 'boyfriend': 554, 'rich': 555, 'uni': 556, 'readi': 557, 'w/': 558, 'hill': 559, 'nove': 560, 'fiesta': 561, 'b-day': 562, 'toro': 563, 'low': 564, 'fat': 565, 'pierc': 566, 'yang': 567, 'queen': 568, 'pizza': 569, 'foto': 570, 'roadtrip': 571, 'ma': 572, 'rode': 573, 'soni': 574, 'ateez': 575, 'american': 576, 'angelin': 577, 'meet': 578, 'caribbean': 579, 'hd': 580, 'tien': 581, 'feminin': 582, 'southern': 583, 'dzien': 584, 'rock': 585, 'dag': 586, 'insid': 587, 'fine': 588, 'spring': 589, 'got': 590, 'ta': 591, 'who': 592, 'head': 593, 'magic': 594, 'land': 595, 'but': 596, 'bad': 597, 'stori': 598, 'three': 599, 'gym': 600, 'closet': 601, 'dam': 602, 'mumbai': 603, 'ik': 604, 'brianna': 605, 'want': 606, 'busi': 607, 'cri': 608, 'ein': 609, 'hau': 610, 'amigo': 611, 'footbal': 612, 'sam': 613, 'english': 614, 'cua': 615, 'amsterdam': 616, 'look': 617, 'beginn': 618, 'set': 619, 'a6400': 620, 'ramadan': 621, 'must': 622, 'went': 623, 'ton': 624, '10k': 625, 'ink': 626, 'tao': 627, '60': 628, 'diy': 629, 'es': 630, 'bmw': 631, 'campu': 632, 'milan': 633, 'primera': 634, 'mark': 635, 'tok': 636, 'star': 637, 'strang': 638, 'kuala': 639, 'lumpur': 640, 'malaysia': 641, 'vision': 642, 'song': 643, 'without': 644, 'ne': 645, 'master': 646, 'umiyak': 647, 'miami': 648, 'girlfriend': 649, 'islamabad': 650, 'rafa': 651, 'main': 652, 'asmr': 653, 'ever': 654, 'outfit': 655, 'met': 656, 'makeup': 657, 'papa': 658, 'book': 659, 'engin': 660, 'junior': 661, 'cute': 662, 'supermarket': 663, 'second': 664, 'bevond': 665, '10am-pina': 666, 'pasok': 667, 'xn': 668, 'goa': 669, 'dad': 670, 'nasil': 671, 'cake': 672, 'camera': 673, 'late': 674, 'roma': 675, 'fav': 676, '05': 677, 'work': 678, 'holiday': 679, 'word': 680, 'crush': 681, '229': 682, 'presented.bi': 683, 'doctor': 684, 'her': 685, 'sozinha': 686, 'bea': 687, 'summer': 688, '/rail': 689, 'thang': 690, 'they': 691, 'sikkim': 692, 'follow': 693, 'chanel': 694, 'wear': 695, 'autumn': 696, 'furnitur': 697, 'expens': 698, 'bareng': 699, 'tay': 700, 'mike': 701, 'spend': 702, '99': 703, 'coachella': 704, 'there': 705, 'qua': 706, 'lockdown': 707, 'amazon': 708, 'bay': 709, 'ii': 710, 'yacht': 711, 'chicken': 712, 'film': 713, 'ice': 714, 'snow': 715, 'over': 716, \"'re\": 717, 'too': 718, 'don': 719, 'cung': 720, 'color': 721, 'donetwork': 722, 'purvi': 723, 'u': 724, '02': 725, 'brand': 726, 'europ': 727, 'franc': 728, 'minha': 729, 'tayo': 730, 'free': 731, 'photoshoot': 732, 'bag': 733, 'grwm': 734, 'vl': 735, 'month': 736, 'hoc': 737, 'buy': 738, 'cool': 739, 'across': 740, 'surgeri': 741, 'leav': 742, '....': 743, 'banh': 744, 'dare': 745, '262': 746, 'armi': 747, 'two': 748, '35': 749, 'thach': 750, 'bat': 751, 'tonitalk': 752, 'member': 753, 'ro': 754, 'share': 755, 'concierto': 756, 'mad': 757, 'seri': 758, 'ms': 759, 'read': 760, 'shave': 761, 'son': 762, 'lamb': 763, 'condo': 764, 'guest': 765, 'disneyland': 766, 'puppi': 767, 'pregnant': 768, 'social': 769, 'media': 770, 'moment': 771, 'hai': 772, 'hong': 773, 'kong': 774, 'intern': 775, 'raw': 776, 'een': 777, 'valiejo': 778, 'p100': 779, 'cruis': 780, '07': 781, 'te': 782, 'thuyen': 783, 'eh': 784, 'littl': 785, 'll': 786, 'dahilan': 787, 'bakit': 788, 'rob': 789, 'drive': 790, 'romana': 791, 'forest': 792, 'bandung': 793, 'ferrari': 794, 'sahil': 795, 'portal': 796, 'hop': 797, 'plu': 798, 'white': 799, 'channel': 800, 'gain': 801, 'philippin': 802, 'trek': 803, 'ghost': 804, 'plant': 805, 'lose': 806, 'lunch': 807, 'verd': 808, 'next': 809, 'mol': 810, 't1': 811, '690': 812, 'g90': 813, '628': 814, 'x0.05': 815, 'zo': 816, 'yo': 817, '500': 818, 'shower': 819, 'karwa': 820, 'chauth': 821, 'user': 822, 'develop': 823, 'about': 824, 'comida': 825, 'sinh': 826, 'normal': 827, 'tree': 828, 'aberdeen': 829, 'settl': 830, 'cat': 831, 'hija': 832, 'sign': 833, 'nueva': 834, 'niagara': 835, 'bubbl': 836, 'flor': 837, 'lie': 838, 'sunday': 839, 'pattaya': 840, 'tayahua': 841, 'suppli': 842, 'examen': 843, 'buhay': 844, 'vlogger': 845, '243': 846, 'tap': 847, 'ra': 848, 'barli': 849, 'open': 850, 'par': 851, 'moi': 852, 'mon': 853, 'internat': 854, 'vikend': 855, 'well': 856, 'koc': 857, 'okulun': 858, 'gunu': 859, 'mac': 860, 'voic': 861, 'less': 862, 'club': 863, 'digit': 864, 'zoom': 865, '03': 866, 'full': 867, 'door': 868, 'hawajach': 869, 'bull': 870, 'oranjeleeuwinnen': 871, 'slow': 872, 'twin': 873, 'laugh': 874, 'binod': 875, 'vog': 876, 'staff': 877, 'aid': 878, 'close': 879, '10.000': 880, 'cebu': 881, 'touch': 882, 'xv': 883, '33': 884, 'lit': 885, 'virgin': 886, 'tower': 887, 'app': 888, 'winter': 889, 'teach': 890, 'fanscontrol': 891, 'myday': 892, 'quay': 893, 'tro': 894, 'lai': 895, 'jake': 896, 'broken': 897, 'mijn': 898, 'vlug': 899, '1m': 900, 'peso': 901, 'grabe': 902, 'durham': 903, 'arishfa': 904, 'tuesday': 905, 'urban': 906, 'cottag': 907, 'hidden': 908, 'price': 909, '98': 910, 'ashley': 911, 'award': 912, 'onli': 913, 'omg': 914, 'reaction': 915, 'bidi': 916, 'nuevo': 917, 'sterdam': 918, 'morgenroutin': 919, 'gap': 920, 'bohol': 921, '80': 922, '42': 923, 'cheap': 924, 'videoshow': 925, 'goni': 926, 'italian': 927, '123': 928, 'vlag': 929, 'vlog8': 930, 'mountain': 931, 'thailand': 932, 'mesic': 933, 'dem': 934, 'tral': 935, 'manali': 936, 'asi': 937, 'tren': 938, 'bai': 939, 'bien': 940, 'bahama': 941, 'sin': 942, '202': 943, 'viaj': 944, '001': 945, 'fan': 946, 'gs': 947, 'tra': 948, 'szkoli': 949, 'batanga': 950, 'juici': 951, 'kitkat': 952, 'thumb': 953, 'sieu': 954, 'charter': 955, 'doc': 956, 'atm': 957, 'fam': 958, 'portland': 959, 'talk': 960, 'stranger': 961, 'limit': 962, '53': 963, 'lukrembo': 964, 'kuya': 965, '09': 966, 'sound': 967, 'todo': 968, 'whaaat': 969, 'step': 970, 'eua': 971, 'top': 972, 'ok': 973, 'quinto': 974, 'feat': 975, 'poo': 976, 'adio': 977, 'chef': 978, 'walmart': 979, 'potato': 980, 'better': 981, 'contract': 982, 'sophomor': 983, 'momo': 984, 'viston': 985, 'sweet': 986, 'chore': 987, 'funni': 988, '84': 989, 'ch': 990, 'indonesia': 991, '34': 992, 'ev': 993, 'design': 994, 'je': 995, 'delici': 996, 'clase': 997, 'chat': 998, 'kinemast': 999, 'now': 1000, 'barang': 1001, 'prom': 1002, 'hool': 1003, \"'ve\": 1004, '77': 1005, 'v/': 1006, 'poor': 1007, 'den': 1008, 'er': 1009, 'aula': 1010, 'result': 1011, 'cidad': 1012, 'muski': 1013, 'aveng': 1014, 'endgam': 1015, 'geograph': 1016, 'galapago': 1017, 'expedit': 1018, 'co': 1019, 'mag': 1020, 'videashow': 1021, 'hard': 1022, 'carri': 1023, 'salam': 1024, 'arriv': 1025, 'lego': 1026, 'itart': 1027, 'speak': 1028, '21st': 1029, 'karantena': 1030, 'saman': 1031, 'perform': 1032, 'local': 1033, 'tire': 1034, 'shift': 1035, 'pulang': 1036, 'esta': 1037, 'tha': 1038, 'starbuck': 1039, 'electr': 1040, 'ver': 1041, '199.42.80': 1042, 'templ': 1043, 'easi': 1044, '23': 1045, 'project': 1046, 'he': 1047, 'vip': 1048, 'ft': 1049, 'cay': 1050, 'latin': 1051, 'lake': 1052, 'interview': 1053, 'valley': 1054, 'snowdonia': 1055, 'bangkok': 1056, 'chau': 1057, 'train': 1058, 'makan': 1059, 'sekeluarga': 1060, 'glass': 1061, 'yolculuk': 1062, 'chac': 1063, 'dong': 1064, 'mit': 1065, '24hour': 1066, 'ini': 1067, 'theo': 1068, 'cheer': 1069, 'kayak': 1070, 'happen': 1071, 'nakup': 1072, 'eye': 1073, 'french': 1074, 'im': 1075, 'iphon': 1076, 'coffe': 1077, 'posit': 1078, 'card': 1079, 'gia': 1080, 'ngawit': 1081, 'nottingham': 1082, 'nikon': 1083, 'z': 1084, 'ss': 1085, 'dame': 1086, 'neler': 1087, 'festiv': 1088, 'realiti': 1089, 'queenstown': 1090, 'bayab': 1091, 'other': 1092, 'custom': 1093, 'concert': 1094, 'chicago': 1095, 'przyczepi': 1096, 'realist': 1097, 'folo': 1098, 'marmita': 1099, '22': 1100, 'done': 1101, 'forst': 1102, 'tet': 1103, 'payaman': 1104, 'properti': 1105, 'aehb': 1106, 'cl': 1107, '48': 1108, 'slide': 1109, 'semua': 1110, 'shayari': 1111, '234': 1112, 'pakistan': 1113, '08': 1114, 'bff': 1115, 'egi': 1116, 'nap': 1117, 'maklowicz': 1118, 'caught': 1119, 'despu': 1120, 'long': 1121, 'found': 1122, 'anim': 1123, 'ot': 1124, 'direct': 1125, 'ketemu': 1126, 'kazakhstan': 1127, 'andar': 1128, 'com': 1129, 'noit': 1130, 've': 1131, 'spirit': 1132, 'jeg': 1133, 'gir': 1134, 'vgp': 1135, 'kingdom': 1136, 'fun': 1137, 'kain': 1138, 'vlogu': 1139, 'wt': 1140, 'rx': 1141, 'heal': 1142, 'bim': 1143, 'karen': 1144, 'comigo': 1145, 'kailan': 1146, 'kots': 1147, 'natinr': 1148, 'enjoy': 1149, 'g7x': 1150, 'cuoi': 1151, 'expect': 1152, 'aeropostal': 1153, 'tron': 1154, 'rome': 1155, 'build': 1156, 'sew': 1157, 'ny': 1158, 'herd': 1159, 'naar': 1160, 'egitim': 1161, 'activ': 1162, 'bo': 1163, 'africa': 1164, 'person': 1165, 'tai': 1166, 'someth': 1167, 'amaz': 1168, 'ylog': 1169, 'laruan': 1170, 'statu': 1171, 'pantai': 1172, 'uma': 1173, 'newton': 1174, 'googl': 1175, 'rio': 1176, 'epic': 1177, 'movi': 1178, 'spin': 1179, '000,000': 1180, 'mansion': 1181, 'easter': 1182, 'bir': 1183, 'padr': 1184, 'heart': 1185, 'homeschool': 1186, 'progress': 1187, 'flower': 1188, 'culpabl': 1189, 'alisveri': 1190, 'lee': 1191, 'alacati': 1192, 'under': 1193, 'tell': 1194, 'toeat': 1195, 'amalfi': 1196, 'athen': 1197, 'vidg': 1198, 'jojowain': 1199, 'totropahin': 1200, 'nam': 1201, 'cn': 1202, 'ben': 1203, 'ep2': 1204, 'will': 1205, 'glo': 1206, 'dr': 1207, 'bere': 1208, 'billi': 1209, 'kopuk': 1210, 'mask': 1211, 'pro': 1212, 'cola': 1213, 'pernah': 1214, 'host': 1215, 'dj': 1216, 'loonyo': 1217, 'israel': 1218, 'papang': 1219, 'mar': 1220, 'toh': 1221, 'art': 1222, 'microscopio': 1223, 'peac': 1224, 'august': 1225, 'monday': 1226, 'st.': 1227, 'osaka': 1228, 'instagram': 1229, 'nog': 1230, 'marri': 1231, '36': 1232, 'hand': 1233, 'piater': 1234, '1977': 1235, 'kampu': 1236, 'hit': 1237, 'singapor': 1238, 'bek': 1239, 'battalion': 1240, 'awunmask': 1241, 'cdftv': 1242, 'agua': 1243, 'fair': 1244, 'vold': 1245, 'sonambula': 1246, 'hollywood': 1247, 'seattl': 1248, 'washington': 1249, 'thing': 1250, 'realli': 1251, 'steffi': 1252, 'ulagam': 1253, '40': 1254, 'minut': 1255, 'loui': 1256, 'vuitton': 1257, 'au': 1258, 'even': 1259, 'strong': 1260, 'passion': 1261, '7am': 1262, 'bollywood': 1263, 'vloc': 1264, 'creat': 1265, 'skittl': 1266, 'het': 1267, 'biggest': 1268, '400k': 1269, 'kay': 1270, 'binder': 1271, 'siri': 1272, 'bolum': 1273, 'job': 1274, 'gala': 1275, '26': 1276, 'japanes': 1277, 'bersama': 1278, 'just': 1279, 'h.m': 1280, 'toy': 1281, 'cloud': 1282, 'rfc': 1283, 'give': 1284, 'kim': 1285, 'han': 1286, '142': 1287, 'lang': 1288, 'canal': 1289, 'mein': 1290, 'healthi': 1291, 'brooklyn': 1292, 'clemson': 1293, 'ramen': 1294, 'mela': 1295, 'cham': 1296, 'dakar': 1297, 'champion': 1298, '2016': 1299, 'uzbekistan': 1300, 'toronto': 1301, '06': 1302, 'contest': 1303, 'ki': 1304, 'dawat': 1305, 'nadin': 1306, 'rizki': 1307, 'pubg': 1308, 'jam': 1309, 'tix': 1310, 'meal': 1311, 'iyna': 1312, 'malam': 1313, 'mani': 1314, 'rd': 1315, 'self': 1316, 'fire': 1317, ']': 1318, 'mexicano': 1319, '32': 1320, 'experi': 1321, 'laptop': 1322, 'jet': 1323, 'ia': 1324, 'mr': 1325, 'bro': 1326, 'station': 1327, 'thumbral': 1328, 'maker': 1329, 'tale': 1330, 'taminadu': 1331, 'true': 1332, 'tamil': 1333, 'lexi': 1334, 'small': 1335, 'chim': 1336, 'dua': 1337, 'tagalog': 1338, 'siya': 1339, 'ong': 1340, 'beach': 1341, 'dd': 1342, 'cinemat': 1343, 'yaar': 1344, 'recreat': 1345, 'collect': 1346, 'gun': 1347, 'complet': 1348, 'boya': 1349, 'wheel': 1350, 'amphan': 1351, 'cyclon': 1352, 'crazi': 1353, 'amo': 1354, 'veo': 1355, 'oo': 1356, 'europa': 1357, 'cana': 1358, 'ridg': 1359, 'madr': 1360, 'oreo': 1361, 'num': 1362, 'desi': 1363, 'picnic': 1364, 'kaladham': 1365, 'everyth': 1366, 'piet': 1367, 'vicg': 1368, 'igo': 1369, 'paso': 1370, 'malaga': 1371, 'espana': 1372, 'thursday': 1373, 'kung': 1374, 'naghiwalay': 1375, 'kami': 1376, 'daddi': 1377, 'udng': 1378, 'chuoi': 1379, 'nowi': 1380, 'jork': 1381, 'escapan': 1382, 'turtl': 1383, 'pt': 1384, 'cernobil': 1385, 'quinta': 1386, 'should': 1387, 'glog': 1388, 'feitico': 1389, 'babakan': 1390, 'siliwangi': 1391, 'comprando': 1392, 'nd': 1393, 'istakoz': 1394, 'kadin': 1395, 'cilantro': 1396, 'feed': 1397, 'kasabasi': 1398, 'ken': 1399, 'sorrypo': 1400, 'i-ninterview': 1401, 'benidorm': 1402, 'apasionado': 1403, 'lengua': 1404, 'peligroso': 1405, 'spi': 1406, 'light': 1407, 'tring': 1408, 'dap': 1409, 'samsung': 1410, 's20+': 1411, '22trieu': 1412, '990nghin': 1413, 'vnd': 1414, 'wd': 1415, 'detail': 1416, 'krishnar': 1417, 'tame': 1418, 'budgi': 1419, 'alltag': 1420, 'weird': 1421, 'deuruim': 1422, 'squish': 1423, 'ensenam': 1424, 'quiero': 1425, 'divorcio': 1426, 'bittersweet': 1427, 'covishield': 1428, 'covaxin': 1429, 'sputnik': 1430, 'thought': 1431, 'tui': 1432, 'phoc': 1433, 'map': 1434, 'jep': 1435, 'nua': 1436, 'network': 1437, 'weight': 1438, '40,000/-': 1439, '33,000/-': 1440, 'shridhi': 1441, 'noco': 1442, 'provinc': 1443, 'heat-': 1444, 'toler': 1445, 'fallcooki': 1446, 'turkiy': 1447, 'murda': 1448, '40x': 1449, 'sx': 1450, '740': 1451, 'maja': 1452, 'kakai': 1453, 'wrong22': 1454, 'tanya': 1455, 'olympo': 1456, 'cirali': 1457, 'adrasan': 1458, 'boc': 1459, 'nui': 1460, 'skalon': 1461, 'atencio': 1462, 'p50,000': 1463, 'muncul': 1464, 'keinsafan': 1465, '106': 1466, '65': 1467, '4-3.25': 1468, 'mot': 1469, 'goo': 1470, 'moa': 1471, 'm03': 1472, '512000': 1473, '643': 1474, 'hdl': 1475, '603': 1476, '7-2.24': 1477, 'advanc': 1478, '654': 1479, 'm97': 1480, 'p1': 1481, 'l2': 1482, \"'n\": 1483, '20.1': 1484, 'm30': 1485, '601': 1486, '4-4.25': 1487, '653': 1488, 'm99': 1489, 'tlog': 1490, 'ino': 1491, 'gusto': 1492, 'myrra': 1493, 'salina': 1494, 'raffl': 1495, '17k': 1496, 'wh': 1497, \"'neha\": 1498, 'pho': 1499, 'ililibr': 1500, 'uutangan': 1501, 'petr': 1502, '09:00': 1503, 'jango.shortcut': 1504, '1nc': 1505, 'django.http': 1506, '.key': 1507, 'def': 1508, 'login': 1509, 'none': 1510, 'return': 1511, 'render': 1512, 'usernam': 1513, 'api': 1514, 'apt': 1515, 'auth': 1516, 'tweepi': 1517, 'tooo': 1518, 'some': 1519, 'info': 1520, '300k': 1521, '4000k': 1522, 'problema': 1523, 'montana': 1524, 'anhd': 1525, 'loinh': 1526, 'tuoi': 1527, '18t': 1528, 'bilh': 1529, 'joshua': 1530, 'bartass': 1531, 'robi': 1532, 'pizz': 1533, 'persian': 1534, 'ing': 1535, 'averag': 1536, 'reconoceni': 1537, 'takumi': 1538, 'minamino': 1539, 'arter': 1540, 'neymar': 1541, 'pic': 1542, '1112': 1543, 'jaffna': 1544, 'amazonia': 1545, 'clifton': 1546, 'vlasi': 1547, 'nakupi': 1548, 'aneedotasdo': 1549, 'silvestr': 1550, '22.1': 1551, 'osmoact': 1552, 'deb': 1553, 'box': 1554, 'housewif': 1555, 'meycauayan': 1556, 'bulacan': 1557, 'sleepless': 1558, 'march': 1559, 'sho': 1560, '154': 1561, 'boda': 1562, 'decembrina': 1563, 'kenon': 1564, 'coca-cela': 1565, 'fanta': 1566, 'semad': 1567, 'saloob': 1568, 'anoth': 1569, 'aday': 1570, 'carl': 1571, 'impostor': 1572, 'ethnic': 1573, 'dattend': 1574, 'ufc24': 1575, 'branch': 1576, 'deli': 1577, 'hana': 1578, 'naeyeonsan': 1579, 'pohang': 1580, '5astuc': 1581, 'producti': 1582, 'organis': 1583, 'vua': 1584, 'bayani': 1585, 'apo': 1586, 'vito': 1587, 'santiago': 1588, 'zambal': 1589, 'kein': 1590, 'mehr': 1591, 'cetogenico': 1592, 'universitanio': 1593, 'esam': 1594, 'cibo': 1595, 'vlogfirenz': 1596, 'musei': 1597, 'weturnedinto': 1598, 'bong': 1599, 'quan': 1600, 'heavi': 1601, 'esk': 1602, 'haga': 1603, 'leskovac': 1604, 'tulum': 1605, '010171': 1606, 'doll': 1607, 'pandora': 1608, 'uad': 1609, 'hollanda': 1610, 'bautizo': 1611, 'jour': 1612, 'pendant': 1613, \"c'est\": 1614, 'nouveau': 1615, 'defi': 1616, 'bienvenu': 1617, 'bac': 1618, 'tournag': 1619, 'lollipopz': 1620, 'zv-1': 1621, 'replic': 1622, 'quickli': 1623, 'leni': 1624, 'damn': 1625, '124': 1626, 'diaria': 1627, 'turquia': 1628, 'tulo': 1629, 'laway': 1630, 'universitesi': 1631, 'voc': 1632, 'hat': 1633, 'yai': 1634, 'prepar': 1635, 'twosom': 1636, 'quicto': 1637, 'negoti': 1638, 'vlog2': 1639, 'beacu': 1640, 'greek': 1641, 'partu': 1642, 'stationeri': 1643, 'note': 1644, 'skydiv': 1645, 'pilot': 1646, 'sinema': 1647, 'filmimiz': 1648, 'miguel': 1649, 'milagr': 1650, 'karyl': 1651, 'coco': 1652, 'atzia': 1653, 'probinzsa': 1654, 'fm5.30': 1655, 'ett': 1656, 'mu': 1657, 'thieu': 1658, 'gi': 1659, 'front': 1660, 'femin': 1661, 'marco': 1662, 'wbd': 1663, '017/01': 1664, 'hal': 1665, 'busan': 1666, 'najdziwniejszi': 1667, 'najcudniju': 1668, 'supper': 1669, 'vandr': 1670, 'anna': 1671, 'formalupin': 1672, 'gcash': 1673, 'walang': 1674, 'laman': 1675, 'chielvlog': 1676, 'pomerod': 1677, 'jest': 1678, 'waz': 1679, 'hello': 1680, 'ail': 1681, 'ziyareti': 1682, '39': 1683, '160': 1684, 'mithai': 1685, 'semest': 1686, 'ster': 1687, 'florian': 1688, 'onair': 1689, 'kebaa': 1690, 'kebab': 1691, \"dont't\": 1692, 'jalapao': 1693, 'persect': 1694, 'charl': 1695, 'brown': 1696, 'wnt': 1697, 'verdadera': 1698, 'voz': 1699, '1o': 1700, 'mejor': 1701, 'aword': 1702, '61': 1703, 'foon': 1704, 'debat': 1705, 'warlahan': 1706, 'pa-girl': 1707, '<': 1708, 'wkward': 1709, 'crepe': 1710, 'woop': 1711, 'patrik': 1712, 'veag': 1713, 'emu': 1714, 'tv': 1715, 'ufa': 1716, 'sich': 1717, 'naaraz': 1718, 'ho': 1719, 'elvlog': 1720, '150': 1721, 'nace': 1722, 'olmeca/': 1723, 'maya': 1724, 'circl': 1725, '184': 1726, 'harbiy': 1727, 'konseri': 1728, 'do-fun': 1729, 'pemain': 1730, 'antar': 1731, 'portaventura': 1732, 'ffl': 1733, 'dri': 1734, 'escola': 1735, 'pandemia': 1736, 'nasi': 1737, 'huevada': 1738, 'nizilolog': 1739, 'aari': 1740, 'musicvideo': 1741, 'arequipa': 1742, 'peru': 1743, 'kanwal': 1744, 'kara': 1745, 'muth': 1746, 'excus': 1747, 'mcmask': 1748, 'state': 1749, 'actual': 1750, 'forenti': 1751, 'red': 1752, '274': 1753, 'milk': 1754, 'line': 1755, 'tossaphol': 1756, 'chin': 1757, 'move-in': 1758, 'op': 1759, 'gameday': 1760, 'cann': 1761, '5th': 1762, 'breakup': 1763, 'bahayni': 1764, 'amerikada': 1765, 'paint': 1766, 'ignor': 1767, 'later': 1768, 'busch': 1769, 'williamsburg': 1770, 'tang': 1771, 'banxoa': 1772, 'voi': 1773, 'rib': 1774, 'colour': 1775, 'grade': 1776, 'werd': 1777, 'kamer': 1778, 'uitgezet': 1779, 'vanderbilt': 1780, 'nanj': 1781, 'akkor': 1782, 'ramkattintasz': 1783, 'vagi': 1784, 'sem': 1785, 'gabriel': 1786, 'yung': 1787, 'law': 1788, 'yumf': 1789, 'duy': 1790, 'savang': 1791, 'triendship': 1792, 'name': 1793, \"'ani\": 1794, 'atic': 1795, 'tea': 1796, 'gem': 1797, 'annel': 1798, 'guno': 1799, 'kaufen': 1800, 'oder': 1801, 'lieber': 1802, 'iest': 1803, 'rasgulla': 1804, 'congratul': 1805, 'vlor': 1806, 'ata': 1807, 'wisudanya': 1808, '=sw': 1809, 'ws': 1810, 'ww': 1811, 'rumher': 1812, 'vlog21': 1813, 'hacer': 1814, 'extranjero': 1815, 'chrome': 1816, 'choelo': 1817, 'chaneul': 1818, 'ucak': 1819, 'kez': 1820, 'bindim': 1821, 'ambedkar': 1822, 'jeep': 1823, 'stadium': 1824, 'familienzuwach': 1825, 'drilling': 1826, 'reichen': 1827, 'nicht': 1828, '-the': 1829, 'sass': 1830, 'family-': 1831, 'recresa': 1832, 'stick': 1833, 'ceil': 1834, 'olda': 1835, 'control': 1836, '747-1': 1837, '3019': 1838, 'mo-10': 1839, 'chui': 1840, 'parco': 1841, 'avventurat': 1842, 'alo': 1843, 'yoga': 1844, 'chand': 1845, 'raat': 1846, 'bombom': 1847, 'sencillo': 1848, '1ht': 1849, '\\\\': 1850, 'zxmco': 1851, 'polish': 1852, 'ge': 1853, 'netherland': 1854, 'rotterdam': 1855, 'celebrandoc': 1856, 'queretaro': 1857, 'bl': 1858, '201': 1859, 'frunstuck': 1860, 'deutsch': 1861, 'gma': 1862, 'kapuso': 1863, 'modoza': 1864, 'wendin': 1865, 'jessica': 1866, 'iban': 1867, 'soho': 1868, 'r.a.': 1869, '10175': 1870, 'perigo': 1871, 'fronteira': 1872, 'hsrd': 1873, 'asiana': 1874, 'airlin': 1875, 'lax-icn-mnl': 1876, 'assumiu': 1877, 'nondon': 1878, 'dolor': 1879, 'nyg': 1880, 'yaszyfleu': 1881, 'robin': 1882, 'hood': 1883, 'aga': 1884, 'ani': 1885, 'between': 1886, 'where': 1887, 'ml': 1888, 'brick': 1889, 'al-fitr': 1890, 'beneficio': 1891, 'sauna': 1892, 'kleur': 1893, 'voedsel': 1894, 'eten': 1895, 'hellow': 1896, 'needsmor': 1897, 'rapunzel': 1898, \"'haren\": 1899, 'these': 1900, 'vldg': 1901, 'glimps': 1902, 'engag': 1903, 'grazi': 1904, 'seascap': 1905, 'sunris': 1906, 'yorkshir': 1907, 'riley': 1908, 'cmu': 1909, 'sri': 1910, 'lanka': 1911, 'raji': 1912, 'ten': 1913, 'giubong': 1914, 'harva': 1915, 'boss': 1916, 'harvard': 1917, 'moto': 1918, 'reboqu': 1919, 'stusit': 1920, 'tirana': 1921, 'albania': 1922, 'bane': 1923, 'pt.2': 1924, 'primo': 1925, 'giorno': 1926, 'discuola': 1927, 'maidiv': 1928, 'jantar': 1929, 'mantar': 1930, 'masti': 1931, '14': 1932, 'agreedi': 1933, 'getaway': 1934, 'muebl': 1935, '1001': 1936, 'ly': 1937, 'danh': 1938, 'choi': 1939, 'subcrib': 1940, 'photogrid': 1941, 'mejiwoo': 1942, 'marriag': 1943, 'tagihannya': 1944, 'mencengangkan': 1945, 'malazini3': 1946, 'ayubia': 1947, 'djerba': 1948, 'polinesio': 1949, 'quien': 1950, '132': 1951, 'basico': 1952, 's14/e01': 1953, 's.v.b': 1954, 'caigo': 1955, '850': 1956, '5012': 1957, 'ouder': 1958, 'june': 1959, 'green': 1960, 'say': 1961, 'florenc': 1962, 'ena': 1963, 'luna': 1964, 'promeni': 1965, 'pitanj': 1966, 'puerto': 1967, 'rvo': 1968, 'powrot': 1969, 'miesiacach': 1970, 'conoc': 1971, 'japon': 1972, 'playa': 1973, 'vez': 1974, 'dugun': 1975, 'vampir': 1976, 'viru': 1977, 'nadia': 1978, 'injuri': 1979, 'ran': 1980, 'nho': 1981, 'homegood': 1982, 'maxxtul': 1983, 'vive': 1984, 'connos': 1985, 'saintmartin': 1986, 'bangladesh': 1987, 'blooper': 1988, 'karantina': 1989, 'sacini': 1990, 'kestim': 1991, 'ton4kb': 1992, 'ana': 1993, 'roulin': 1994, 'tow': 1995, 'vlog3': 1996, 'dunn': 1997, 'river': 1998, 'toon': 1999, 'univ': 2000, '2/2': 2001, 'pead': 2002, 'ian': 2003, 'lay': 2004, 'luong': 2005, 'aanva.g': 2006, 'scream': 2007, 'accent': 2008, 'unpurposely/': 2009, 'mouth': 2010, 'lastyear': 2011, 'nightmar': 2012, 'princess': 2013, 'ukraina': 2014, 'szok': 2015, 'austin': 2016, 'saatlik': 2017, 'buyuk': 2018, 'surpriz': 2019, 'viktor': 2020, 'vlogdown': 2021, 'chees': 2022, 'madh': 2023, 'locat': 2024, 'grab': 2025, 'driver': 2026, 'leve': 2027, 'level': 2028, 'buka': 2029, 'puasa': 2030, 'jajan': 2031, 'hydro': 2032, 'dip': 2033, 'sonncer': 2034, 'shee': 2035, 'peep': 2036, 'shopkin': 2037, 'lb': 2038, 'tar': 2039, 'nel': 2040, 'animal': 2041, 'whaaatz': 2042, 'cuess': 2043, 'buess': 2044, 'coreea': 2045, 'nord': 2046, 'tinulak': 2047, 'bovfriend': 2048, 'town': 2049, 'ce': 2050, 'xd': 2051, 'szkola': 2052, 'karaibach': 2053, 'a1': 2054, 'espanol': 2055, 'infect': 2056, '63': 2057, 'stef': 2058, 'steak': 2059, 'ter': 2060, 'valu': 2061, 'airbnb': 2062, 'sparkl': 2063, 'wine': 2064, 'kiano': 2065, 'dibentak': 2066, 'papah': 2067, 'baim': 2068, 'internet': 2069, 'guin': 2070, 'fdoc': 2071, 'gid': 2072, 'natalia': 2073, 'bot': 2074, 'phe': 2075, '8b': 2076, 'baap': 2077, 'bijjli': 2078, 'aur': 2079, 'bill': 2080, 'hhoneoon': 2081, 'labatalla': 2082, 'siglo': 2083, 'cekler': 2084, 'gizlicekim': 2085, 'visio': 2086, 'berri': 2087, 'zombi': 2088, 'ihav': 2089, 'secreto': 2090, 'nood': 2091, 'porzadk': 2092, 'domu': 2093, 'sprawdzon': 2094, 'triki': 2095, 'wore': 2096, 'scandal': 2097, 'facult': 2098, 'cemilan': 2099, 'perlengrapan': 2100, 'kosan': 2101, 'squiggli': 2102, 'fret': 2103, 'ood': 2104, '000000': 2105, 'industri': 2106, 'iphonel': 2107, 'boef': 2108, 'wil': 2109, 'trouwen': 2110, 'sambar': 2111, 'sumakka': 2112, 'continigo': 2113, '-yurtlar': 2114, '-yadyok': 2115, 'kutuphan': 2116, '-spor': 2117, 'bogazici': 2118, 'kilyo': 2119, 'tanitim': 2120, 'kusina': 2121, 'fuller': 2122, 'baslasin': 2123, 'khallun': 2124, 'raini': 2125, 'mide': 2126, 'abort': 2127, 's1': 2128, 'nilagang': 2129, 'baka': 2130, 'hilton': 2131, '68kg': 2132, 'camp': 2133, 'dehradun': 2134, 'lanzo': 2135, 'acio': 2136, 'donat': 2137, 'needi': 2138, 'lannounc': 2139, 'discno': 2140, 'grafico': 2141, 'semana': 2142, 'mechan': 2143, 'tursday': 2144, '15a': 2145, 'xoai': 2146, 'janmashtami': 2147, 'quad': 2148, 'borong': 2149, '-barang': 2150, 'usland': 2151, 'ayoko': 2152, 'umuwi': 2153, 'bahay': 2154, 'makalimot': 2155, 'hurt': 2156, 'genda': 2157, 'sitelif': 2158, 'tont': 2159, 'lylo': 2160, 'illest': 2161, 'question': 2162, 'ask': 2163, 'cekilir': 2164, 'vacanza': 2165, 'tuong': 2166, 'hivlog': 2167, '500k+': 2168, '-board': 2169, 'vand': 2170, 'bharat': 2171, 'express': 2172, '-detal': 2173, 'revew': 2174, 'wat': 2175, 'gebeurd': 2176, 'volta': 2177, 'faculdad': 2178, 'gel': 2179, 'goodwood': 2180, 'arabalar': 2181, 'kf': 2182, 'konecn': 2183, 'hotow': 2184, 'koupelna': 2185, 'bever': 2186, '10am-pin': 2187, 'pason': 2188, 'intim': 2189, 'lli': 2190, 'wou': 2191, 'entr': 2192, 'pote': 2193, 'god': 2194, 'ny/nashvil': 2195, 'connect': 2196, 'traler': 2197, 'londra': 2198, 'eterna': 2199, 'manchest': 2200, 'bait': 2201, 'pictur': 2202, 'gender': 2203, '50': 2204, 'raffi': 2205, 'idol': 2206, 'siambul': 2207, 'saka': 2208, 'kyot': 2209, 'estrellar': 2210, 'dron': 2211, '139': 2212, 's14/e08': 2213, 'andara': 2214, 'jadi': 2215, 'sepi': 2216, 'raffi.o': 2217, 'nisya': 2218, 'pamit': 2219, 'hs': 2220, '.299': 2221, ';': 2222, 'xs': 2223, 'lap': 2224, 'yaki': 2225, 'joke': 2226, 'lasyatalk': 2227, 'unz': 2228, 'incom': 2229, 'crore': 2230, 'primeiro': 2231, 'desbravando': 2232, 'seul': 2233, '35th': 2234, 'wiff': 2235, 'sampiyon': 2236, 'olduk': 2237, 'atar': 2238, 'tt': 2239, 'g.': 2240, 'von': 2241, 'zur': 2242, 'werdenden': 2243, 'buynew': 2244, 'safest': 2245, 'breakfast': 2246, 'noticia': 2247, 'adopta': 2248, 'montruo': 2249, 'uklid': 2250, 'photeshoot': 2251, '5k+': 2252, 'stack': 2253, 'insan': 2254, 'move-i': 2255, 'oregon': 2256, 'udaipur': 2257, 'opey': 2258, 'bame': 2259, 'ayan': 2260, 'artista': 2261, 'magkan': 2262, 'kaaway': 2263, 'pera': 2264, 'banko': 2265, 'sagot': 2266, 'lagot': 2267, 'danilo': 2268, 'zanna': 2269, 'italya': 2270, 'floransa': 2271, 'beyoglu': 2272, 'sanat': 2273, 'agusto': 2274, 'bulteni': 2275, 'haciendo': 2276, 'galleta': 2277, 'prim': 2278, 'brunei': 2279, 'heboh': 2280, 'heratoni': 2281, 'agung': 2282, 'sejagat': 2283, 'ufc225': 2284, 'toyo': 2285, 'safari': 2286, 'lkv': 2287, 'vicelon': 2288, 'valur': 2289, 'aceh': 2290, 'gayolu': 2291, 'morando': 2292, 'bebiendo': 2293, 'singapur': 2294, 'afinamo': 2295, 'casamento': 2296, 'nu': 2297, 'face': 2298, 'astai': 2299, 'anecdota': 2300, 'omar': 2301, 'chaparao': 2302, 'lucban': 2303, 'aaj': 2304, 'aana': 2305, 'comuldham': 2306, 'societi': 2307, 'vlo': 2308, 'kovuldum': 2309, 'game2': 2310, 'lovedal': 2311, 'hog': 2312, '71': 2313, 'key': 2314, 'theplonetd': 2315, 'interact': 2316, 'starcast': 2317, 'tmkoc': 2318, 'affordablei': 2319, 'size': 2320, 'underwearl': 2321, 'ailb': 2322, '2013': 2323, 'haklelina': 2324, 'lilo': 2325, 'bobo': 2326, 'cambin': 2327, 'ymhbin': 2328, 'mnpe': 2329, 'mam': 2330, 'tit': 2331, 'niziu': 2332, 'cocea': 2333, 'whi': 2334, 'left': 2335, 'olo': 2336, \"gaziantep'teki\": 2337, 'guzel': 2338, 'iftar': 2339, 'hayalhanem': 2340, 'mersin': 2341, 'cine': 2342, 'detroit': 2343, 'pision': 2344, 'pi': 2345, 'dessert': 2346, 'plog': 2347, 'ale': 2348, 'isla': 2349, 'muner': 2350, 'lancha': 2351, 'chavo': 2352, 'denmark': 2353, 'pinagtawanan': 2354, 'talaga': 2355, 'nall': 2356, 'snack': 2357, 'nhat': 2358, 'cigi': 2359, 'paoui': 2360, 'ane': 2361, 'cealleng': 2362, 'away': 2363, '+surpris': 2364, 'trend': 2365, 'v1r47': 2366, 'puntenn': 2367, 'slur': 2368, '135cc': 2369, 'lewat': 2370, 'grammi': 2371, '90': 2372, 'sophia': 2373, 'floersch': 2374, 'possion': 2375, 'power': 2376, 'wrestl': 2377, 'uhon': 2378, 'changu': 2379, 'fethiy': 2380, 'jinku': 2381, \"'pinaka\": 2382, 'jinke': 2383, 'pacouiao': 2384, 'reject': 2385, 'magazit': 2386, 'damisuna': 2387, 'merri': 2388, 'netflix': 2389, 'blind': 2390, 'press': 2391, 'nuestra': 2392, 'suscriptora': 2393, 'abandonada': 2394, 'fila': 2395, 'intacta': 2396, 'filmmak': 2397, 'basic': 2398, 'honywood': 2399, 'taco': 2400, 'sarap': 2401, 'onion': 2402, 'jesu': 2403, 'ball': 2404, 'refrict': 2405, 'megaviog': 2406, 'selalelerind': 2407, 'almak': 2408, 'anel': 2409, 'struggl': 2410, 'chapter': 2411, 'major': 2412, 'transfer': 2413, 'commut': 2414, 'almost': 2415, '5kg': 2416, 'talpel': 2417, 'tanmay': 2418, 'bhat': 2419, 'jacob': 2420, 'taurant': 2421, 'batheri': 2422, 'ford': 2423, 'clara': 2424, 'bekommt': 2425, 'pferd': 2426, 'partiu': 2427, 'corela': 2428, 'phuket': 2429, 'reto': 2430, 'harvarid': 2431, 'moor': 2432, 'milo': 2433, 'tran': 2434, 'ryan': 2435, 'garcia': 2436, 'akhirnya': 2437, 'glow': 2438, 'bloor': 2439, 'cma': 2440, 'nay': 2441, 'luon': 2442, 'thong': 2443, 'chua': 2444, 'liva': 2445, 'chet': 2446, 'curoi': 2447, 'sir': 2448, 'avec': 2449, 'nou': 2450, 'nanay': 2451, 'kampung': 2452, 'sesaat': 2453, 'hafta': 2454, 'ici': 2455, '3ff': 2456, 'designcr': 2457, 'enc': 2458, 'ditantang': 2459, 'terbangkan': 2460, 'x-suy': 2461, 'cessna': 2462, '172': 2463, 'vidcon': 2464, 'trailer': 2465, 'birmingham': 2466, 'engl': 2467, 'impo': 2468, 'landour': 2469, 'monsoon': 2470, '51': 2471, 'sang': 2472, 'chelin': 2473, 'x12': 2474, 'ep.2': 2475, 'renov': 2476, 'begin': 2477, 'reno': 2478, 'diem': 2479, 'chon': 2480, 'karantin': 2481, 'havajima': 2482, 'kletsnat': 2483, 'k3': 2484, 'sky': 2485, 'viz': 2486, 'wooden': 2487, 'oden': 2488, 'overcoat': 2489, \"amsterdam'in\": 2490, 'tadi': 2491, '1/2': 2492, 'fallglam': 2493, 'dalar': 2494, 'walkeki': 2495, 'rambut': 2496, 'abidzar': 2497, 'kosmetic': 2498, 'nack': 2499, 'citric': 2500, 'acid': 2501, 'casiti': 2502, 'borb': 2503, 'peel': 2504, 'elough': 2505, 'cell': 2506, 'viol': 2507, 'fri': 2508, 'copycat': 2509, 'chailleng': 2510, 'copi': 2511, 'nakita': 2512, 'kow': 2513, 'kimchl': 2514, 'hayalhanemt': 2515, 'birbirin': 2516, 'kattik': 2517, 'jiyeon': 2518, 'syukuran': 2519, 'kwarto': 2520, 'mikay': 2521, 'cach': 2522, 'nmt': 2523, '6000': 2524, '080p': 2525, 'took': 2526, 'prec': 2527, 'sorri': 2528, 'hilfig': 2529, '5:26:30': 2530, 'futur': 2531, 'ultimo': 2532, 'gana': 2533, 'quebec': 2534, 'keep': 2535, 'ogrenc': 2536, 'evi': 2537, 'sl': 2538, 'byron': 2539, 'hospit': 2540, 'sandton': 2541, 'anatomi': 2542, 'flash': 2543, 'hansek': 2544, 'hersheypark': 2545, 'post': 2546, 'introduct': 2547, 'challengo': 2548, 'paqui': 2549, 'gai': 2550, 'nako': 2551, 'inaka-smil': 2552, 'taiwan': 2553, 'capblh': 2554, 'cra': 2555, 'odgerel': 2556, 'santorini': 2557, 'uhd': 2558, 'ambienc': 2559, 'carwow': 2560, '300+': 2561, 'hubeo': 2562, 'restor': 2563, 'hardwar': 2564, 'dupe': 2565, 'wilbert': 2566, 'pwede': 2567, 'haligaw': 2568, 'laki': 2569, 'baiet': 2570, 'bater': 2571, 'mpeso': 2572, 'ito': 2573, 'naaaa': 2574, 'inaabangan': 2575, 'daw': 2576, 'lahat': 2577, 'foul': 2578, 'duni': 2579, 'pat': 2580, 'bagsak': 2581, 'jonah': 2582, 'renz': 2583, 'aldik': 2584, 'recommend': 2585, 'fenomenl': 2586, 'toplandik': 2587, 'yeni': 2588, 'isim': 2589, 'schmuggler': 2590, 'compramo': 2591, 'pictionari': 2592, 'und': 2593, 'kya': 2594, 'karu': 2595, 'sing': 2596, 'chhor': 2597, 'kais': 2598, 'lage': 2599, 'sofe': 2600, 'puldo': 2601, 'recipo': 2602, '-day': 2603, 'wham': 2604, 'amunmask': 2605, 'haunt': 2606, 'bahrain': 2607, 'outdoor': 2608, 'yeri': 2609, 'sundang': 2610, 'mejiday': 2611, '185': 2612, 'emit': 2613, 'alger': 2614, 'dubal': 2615, 'favin': 2616, 'prantina': 2617, 'gunlukl': 2618, 'zachari': 2619, '1/6': 2620, 'scale': 2621, 'vespa': 2622, 'collector': 2623, 'telepathi': 2624, 'neverland': 2625, 'page': 2626, 'manda': 2627, 'a3': 2628, 'pinaghubot': 2629, 'hubad': 2630, 'lon': 2631, 'kapalit': 2632, 'yourself': 2633, 'cutiess': 2634, 'skdjk': 2635, 'die': 2636, 'kpop': 2637, 'ilov': 2638, 'freak': 2639, 'wigilia': 2640, 'ridealong': 2641, 'introduc': 2642, 'sergeant': 2643, 'charmain': 2644, 'createst': 2645, 'kontroluj': 2646, 'moj': 2647, 'tatuaz': 2648, 'aria': 2649, 'operaron': 2650, 'admi': 2651, 'drustvom': 2652, 'prenkujemo': 2653, 'dzehvu': 2654, 'sube': 2655, \"al'rino\": 2656, 'pepeaguilar': 2657, '977': 2658, 'tenni': 2659, 'equip': 2660, 'maldivl': 2661, 'kh': 2662, 'dage': 2663, 'chickey': 2664, 'halal': 2665, 'lebaran': 2666, 'rendang': 2667, 'bahan2': 2668, 'banget': 2669, 'mahal': 2670, 'alon': 2671, 'spent': 2672, 'carel': 2673, 'imitando': 2674, 'kona': 2675, 'moje': 2676, 'narozenini': 2677, '2009.02.05': 2678, 'jaria': 2679, 'hunter': 2680, 'tattoo': 2681, 'artist': 2682, 'rail': 2683, 'sweden': 2684, 'moupiya': 2685, 'short': 2686, 'vlog27': 2687, 'nye': 2688, 'leiligh': 2689, 'thinb': 2690, 'vaong': 2691, 'hyderabad': 2692, 'palac': 2693, 'countri': 2694, 'ep.24': 2695, 'burn': 2696, 'ship': 2697, '4to': 2698, 'mill': 2699, 'hallam': 2700, 'lildonjai': 2701, 'e.heat': 2702, 'wek': 2703, 'tuyyo': 2704, 'ol': 2705, 'vandol': 2706, 'honeymoon': 2707, 'orn': 2708, 'n3': 2709, 'tashion': 2710, 'north': 2711, 'mubarak': 2712, 'ep-60': 2713, 'cae': 2714, 'techo': 2715, 'rj': 2716, 'kampa': 2717, 'upali': 2718, 'jezero': 2719, 'demolit': 2720, 'masana': 2721, 'mimi': 2722, 'cambriagg': 2723, 'aw': 2724, 'makulit': 2725, 'xa': 2726, 'divorciamo': 2727, 'ozen': 2728, 'rat': 2729, 'huge': 2730, 'playground': 2731, 'differ': 2732, 'ind': 2733, 'ep.5': 2734, 'btsh': 2735, 'cobain': 2736, 'wahana': 2737, 'keisya': 2738, 'froze': 2739, '-138': 2740, 'up-2': 2741, 'gwangju': 2742, 'wando': 2743, 'liquid': 2744, 'valor': 2745, 'velunk': 2746, 'kaja': 2747, 'kanapki': 2748, 'delexamen': 2749, 'kinaya': 2750, 'tuloni': 2751, '68': 2752, 'end': 2753, 'purcla': 2754, 'potien': 2755, 'unknown': 2756, 'lisbon': 2757, 'ipad': 2758, 'wild': 2759, 'thanksgiv': 2760, 'ultrahd': 2761, 'guidar': 2762, '73': 2763, 'malta': 2764, 'r135': 2765, '246': 2766, 'supercar': 2767, 'blondi': 2768, 'knew': 2769, 'descalzo': 2770, 'viajei': 2771, 'sogra': 2772, 'comprasdom': 2773, 'pastel': 2774, 'ersit': 2775, 'gazi': 2776, 'universitesm': 2777, 'nde': 2778, 'hayatta': 2779, 'kalma': 2780, 'rehberi': 2781, 'good': 2782, 'puf': 2783, 'noktalar': 2784, 'tavsiyel': 2785, 'gazili': 2786, 'olmak': 2787, 'apricalikt': 2788, 'recip': 2789, 'ipi': 2790, '1.4': 2791, 'lakh': 2792, 'mistak': 2793, 'bort': 2794, 'hunden': 2795, 'ufc22': 2796, 'tovo': 2797, 'shope': 2798, '49k': 2799, 'evian': 2800, 'patch': 2801, 'metro': 2802, 'depart': 2803, 'corvett': 2804, 'alek': 2805, 'uber': 2806, 'seinen': 2807, 'kampf': 2808, 'parkour': 2809, 'ameliyathaney': 2810, 'girdik': 2811, 'fakultesi': 2812, 'bffl': 2813, 'madhava': 2814, 'bick': 2815, 'farbez': 2816, 'monir': 2817, 'partl': 2818, 'reset': 2819, 'season2': 2820, 'day1': 2821, '5.48g': 2822, '11.83': 2823, '496/-': 2824, 'paper': 2825, 'scissor': 2826, 'brussel': 2827, 'golf': 2828, 'hocanc': 2829, 'nr': 2830, 'tirupati': 2831, 'aileml': 2832, '220': 2833, 'parlo-c': 2834, '101': 2835, 'iran': 2836, 'ravel': 2837, '29': 2838, 'sunplow': 2839, 'field': 2840, 'productivo': 2841, 'vuelta': 2842, 'durga': 2843, 'navami': 2844, 'dussehra': 2845, 'readbook': 2846, 'kaco': 2847, 'pen': 2848, 't=': 2849, 'a6600': 2850, 'bhandara': 2851, 'canadian': 2852, 'nightlif': 2853, 'young': 2854, 'shade': 2855, 'seromp': 2856, 'chez': 2857, 'michou': 2858, 'arham': 2859, 'duthan': 2860, 'kahan': 2861, 'gayi': 2862, 'calvin': 2863, '22mm': 2864, 'f/2': 2865, 'len': 2866, 'jannat': 2867, 'separamoc': 2868, 'toda': 2869, 'verdad': 2870, 'origin': 2871, 'brang': 2872, 'varnovamochap': 2873, 'viagem': 2874, 'acf': 2875, 'mod': 2876, 'backstag': 2877, 'teen': 2878, 'friday': 2879, 'onon': 2880, 'alonzo': 2881, 'hoang': 2882, 'lat': 2883, 'chill': 2884, 'in/mi': 2885, 'semangka': 2886, '350rb': 2887, 'keperluan': 2888, 'puasat': 2889, 'bahan': 2890, 'takjil': 2891, 'soju': 2892, 'landa': 2893, 'chikahang': 2894, 'brutal': 2895, 'burgazada': 2896, 'primark': 2897, 'stehovaci': 2898, 'sugar': 2899, 'appl': 2900, 'horee': 2901, 'appa': 2902, 'datang': 2903, 'theti': 2904, 'regresa': 2905, 'kapper': 2906, 'teroru': 2907, 'today': 2908, 'haftalik': 2909, 'princeton': 2910, \"move'in\": 2911, 'yay': 2912, 'longboard': 2913, 'toa': 2914, 'suero': 2915, 'funnu': 2916, 'burna': 2917, '13:11': 2918, 'estudiant': 2919, 'universitaria': 2920, 'sth': 2921, \"chase'sfortnit\": 2922, 'fortnit': 2923, 'dank': 2924, 'tank': 2925, 'myself': 2926, 'gangtok': 2927, 'graduationi': 2928, '10hour': 2929, 'revel': 2930, 'badshah': 2931, 'pehelwan': 2932, 'ultirasonid': 2933, 'auditi': 2934, 'gener': 2935, 'waterfal': 2936, 'barpak': 2937, 'fourth': 2938, 'assist': 2939, 'ere': 2940, 'tan': 2941, 'exig': 2942, 'chicn': 2943, 'cion': 2944, 'situ': 2945, 'nhung': 2946, 'tienc': 2947, 'vio': 2948, 'troll': 2949, 'unlist': 2950, 'plan-a': 2951, 'lemurian': 2952, 'guru': 2953, 'vong': 2954, 'leu': 2955, 'nga': 2956, 'mmc': 2957, 'comb': 2958, 'hv': 2959, 'november-isa': 2960, 'totoong': 2961, 'perez': 2962, 'tyronia': 2963, 'chase': 2964, '8th': 2965, '6-day': 2966, 'instrument': 2967, 'rate': 2968, 'ep-67': 2969, 'ultra': 2970, 'mumu': 2971, 'meme': 2972, 'chorror': 2973, 'comedi': 2974, 'canda': 2975, 'wheal': 2976, 'few': 2977, 'icon': 2978, 'baggaf': 2979, '534': 2980, 'donut': 2981, 'matrik': 2982, 'kema': 2983, 'waterbom': 2984, 'indah': 2985, 'kapuk': 2986, 'bah': 2987, 'poultri': 2988, 'umdia': 2989, 'minhavida': 2990, '3.7': 2991, 'darjeel': 2992, 'ep-42': 2993, 'tava': 2994, 'bangunca': 2995, 'fgg': 2996, 'narth': 2997, 'amanpulo': 2998, 'bueno': 2999, 'air': 3000, 'pala': 3001, '290': 3002, 'bife': 3003, 'horizo': 3004, '350': 3005, 'guarnician': 3006, 'callao': 3007, 'aspen': 3008, 'fellaship': 3009, 'atl': 3010, 'runoresd': 3011, 'upsid': 3012, 'hemd': 3013, 'nagrywami': 3014, 'babska': 3015, 'piosenk': 3016, 'apa': 3017, 'pulau': 3018, 'redang': 3019, 'whisper': 3020, 'arishea': 3021, 'afyonkarahisar': 3022, 'burasiafyon': 3023, 'floor': 3024, 'nine': 3025, 'hole': 3026, 'golfbidd': 3027, 'luxuri': 3028, 'luxi': 3029, 'eerst': 3030, 'vlucht': 3031, 'ufc26': 3032, 'piec': 3033, 'horn': 3034, 'band': 3035, 'ravlog': 3036, 'karanganyar': 3037, 'din': 3038, 'aagay': 3039, 'bahar': 3040, 'type': 3041, 'viog01': 3042, 'sunglin_0215': 3043, 'gazdi': 3044, 'ezt': 3045, 'csinald': 3046, 'trabalho': 3047, 'corberia': 3048, 'familia': 3049, 'barn': 3050, 'repair': 3051, 'kitchenwav': 3052, 'tec': 3053, 'bargi': 3054, 'smile': 3055, 'earli': 3056, 'lp': 3057, 'bottl': 3058, 'danger': 3059, 'lando': 3060, 'coreano': 3061, 'bond': 3062, 'mayor': 3063, 'vico': 3064, 'titan': 3065, 'chines': 3066, 'qinghai': 3067, 'mamma': 3068, 'amigx': 3069, 'wtf': 3070, 'swaradi': 3071, '-more': 3072, 'news': 3073, 'maneskin': 3074, 'il': 3075, 'gunum': 3076, 'campo': 3077, '232': 3078, 'sihirli': 3079, 'annem': 3080, 'ekibiyl': 3081, 'napi': 3082, 'gri': 3083, 'l.a.': 3084, 'mashoor': 3085, 'tareen': 3086, 'biryani': 3087, 'lt': 3088, 'bural': 3089, 'iu': 3090, 'older': 3091, 'baru': 3092, 'chatti': 3093, '2besaron': 3094, 'alguien': 3095, 'mismo': 3096, 'sexo': 3097, 'ih': 3098, 'syria': 3099, 'lonavala': 3100, 'khandala': 3101, 'rixx': 3102, 'oop': 3103, '67kg': 3104, 'ayuda': 3105, 'nage': 3106, 'servicecrew': 3107, 'camnewton': 3108, 'knife': 3109, 'tabul': 3110, 'nevada': 3111, 'hay': 3112, 'naku': 3113, 'anak': 3114, 'dinner': 3115, '04': 3116, 'coast': 3117, 'ulfol': 3118, 'rn': 3119, 'serv': 3120, 'chaleng': 3121, 'yuck': 3122, 'kopekler': 3123, 'ens': 3124, 'tirasi': 3125, 'vlogi': 3126, '2004': 3127, 'vlogwithsoni': 3128, 'shubh.m': 3129, 'odtu': 3130, 'journey': 3131, 'swami': 3132, 'narayan': 3133, 'mandir': 3134, 'xuc': 3135, 'xich': 3136, 'purchas': 3137, 'scooli': 3138, 'comment': 3139, '52': 3140, '155': 3141, 'zacateca': 3142, 'auditorio': 3143, 'nacion': 3144, 'perfect': 3145, 'hitter': 3146, 'ptaca': 3147, 'za': 3148, 'stowo': 3149, 'nami': 3150, 'morning-calm': 3151, 'encanto': 3152, 'amapa': 3153, 'durian': 3154, 'slam': 3155, 'viba': 3156, 'treat': 3157, 'auto': 3158, 'ila': 3159, 'peor': 3160, 'bella': 3161, 'gotten': 3162, 'weightloss': 3163, 'p100,000': 3164, 'help': 3165, 'guy': 3166, 'anniversair': 3167, 'copain': 3168, 'influenciadora': 3169, 'nestor': 3170, 'victori': 3171, 'lonavalav': 3172, 'swim': 3173, 'when': 3174, 'eilish': 3175, 'inshot': 3176, 'kiss': 3177, 'fish': 3178, 'sheri': 3179, 'tue': 3180, 'global': 3181, 'reciproc': 3182, 'carryminati': 3183, 'plane': 3184, 'chalao': 3185, 'triggeredinsaan': 3186, 'lazerbeam': 3187, 'handstand': 3188, 'tyson': 3189, 'you~': 3190, 'groom': 3191, 'noc': 3192, 'pustyni': 3193, 'cambiq': 3194, '05:00': 3195, 'angtrip': 3196, 'ame': 3197, 'pamilya': 3198, 'kiki': 3199, 'vs.': 3200, 'flyboard': 3201, \"york'ta\": 3202, 'northern': 3203, 'spain': 3204, 'zoe': 3205, 'cuban': 3206, 'pku': 3207, 'exp': 3208, 'izmir': 3209, 'turkey': 3210, '149': 3211, 'vidasl': 3212, 'napl': 3213, 'kok': 3214, 'kamu': 3215, 'gak': 3216, 'tahu': 3217, 'kenapa': 3218, 'mertual': 3219, 'koreat': 3220, 'belum': 3221, 'ransasc': 3222, 'walleti': 3223, 'withit': 3224, 'showtim': 3225, 'kelakuan': 3226, 'captain': 3227, 'ternyata': 3228, 'ginii': 3229, 'tohh': 3230, 'sabaton': 3231, 'great': 3232, '-warsaw': 3233, 'berlin': 3234, 'pragu': 3235, 'senay': 3236, 'akkurt': 3237, 'hayat': 3238, 'bana': 3239, 'gozel': 3240, 'sinop': 3241, \"'ll\": 3242, 'tch': 3243, 'bastan': 3244, 'galileia': 3245, 'menina': 3246, 'sabado': 3247, '~c0v1d': 3248, 'free~': 3249, 'aleatorio': 3250, 'futurist': 3251, 'capit': 3252, 'pollo': 3253, 'horno': 3254, 'facil': 3255, 'yjugoso': 3256, 'chate': 3257, 'realsfak': 3258, 'worst': 3259, '13806': 3260, '3-5': 3261, 'aqua': 3262, 'mage': 3263, 'herb': 3264, 'jenni': 3265, 'basto': 3266, '00:02:49:35': 3267, 'ew': 3268, 'stop': 3269, 'anesh': 3270, 'nagtampo': 3271, 'pasalubong': 3272, 'stroll': 3273, 'adha': 3274, 'sapienza': 3275, 'zoren': 3276, 'freshman': 3277, 'morto': 3278, 'ek': 3279, 'kum': 3280, 'zindagani': 3281, 'tiangg': 3282, 'zeinab': 3283, 'ngu': 3284, 'ef': 3285, 'jamgia': 3286, 'tiger': 3287, 'mist': 3288, 'ahjump': 3289, 'summerfood': 3290, 'cancun': 3291, 'xin': 3292, 'phep': 3293, 'nhan': 3294, 'thutong': 3295, 'mauritiu': 3296, 'proje': 3297, 'kargolar': 3298, 'drank': 3299, 'haha': 3300, '+birthday': 3301, 'salubong': 3302, 'scari': 3303, 'wira': 3304, 'nurmansyah': 3305, '1000x': 3306, 'observando': 3307, 'tasya': 3308, 'farasya': 3309, 'dibalik': 3310, 'pintu': 3311, 'balayi': 3312, 'buena': 3313, 'newnorm': 3314, '360': 3315, 'ahnso': 3316, 'ill': 3317, 'monthli': 3318, 'juli': 3319, '2017': 3320, 'woof': 3321, '83': 3322, 'perch': 3323, 'tutori': 3324, 'rotina': 3325, 'manha': 3326, 'wol': 3327, 'lok': 3328, 'nara': 3329, 'kyoto': 3330, 'gaziantep': 3331, 'lest': 3332, '14,000': 3333, 'piatek': 3334, 'varana': 3335, 'qatar': 3336, 'airwak': 3337, 'episode2': 3338, '06.01.20': 3339, 'detox': 3340, 'desk': 3341, 'cozi': 3342, 'nocho': 3343, 'turn': 3344, '280': 3345, 'stone': 3346, 'list': 3347, 'upsc': 3348, 'politi': 3349, 'memoris': 3350, 'study_challeng': 3351, 'sever': 3352, '2/5': 3353, 'fast': 3354, 'dg': 3355, 'ln': 3356, 'ausumn': 3357, 'bllion': 3358, 'naprika': 3359, 'krump': 3360, 'recharg': 3361, 'journ': 3362, 'meditaiton': 3363, 'yellow': 3364, 'lush': 3365, 'ngudi': 3366, 'cing': 3367, 'ngting': 3368, 'ep4': 3369, 'vioa': 3370, 'hometown': 3371, 'vlog20': 3372, 'rajon': 3373, 'nguoi': 3374, 'quoi': 3375, 'ung': 3376, 'slaapfeest': 3377, 'woonkam': 3378, 'ross': 3379, 'ceweni': 3380, 'cakep': 3381, 'titiou': 3382, 'attack': 3383, 'jordan': 3384, 'travelog': 3385, 'wspoln': 3386, 'majtki': 3387, 'karumaldum': 3388, 'misteryo': 3389, 'homealon': 3390, 'diet': 3391, '501506': 3392, '-3kg': 3393, 'mercad': 3394, 'homana': 3395, 'foster': 3396, \"boa+s'n\": 3397, 'hose': 3398, 'asado': 3399, 'liburan': 3400, 'balo': 3401, 'naik': 3402, 'jeth': 3403, 'trien': 3404, 'hang': 3405, 'yeu': 3406, 'dung': 3407, 'sat': 3408, 'sleu': 3409, 'faz': 3410, 'analista': 3411, 'sistema': 3412, 'sale': 3413, 'bia': 3414, 'mussoori': 3415, 'housetour': 3416, 'ehat': 3417, 'bazaar': 3418, 'kerala': 3419, 'ip': 3420, 'stave': 3421, 'steve': 3422, 'cuic': 3423, 'version': 3424, 'nice': 3425, 'promo': 3426, 'kind': 3427, 'jentl': 3428, 'pedal': 3429, 'eob': 3430, 'strat': 3431, 'exclus': 3432, 'kaleshi': 3433, 'millind': 3434, 'gaba': 3435, 'mg': 3436, 'filter': 3437, 'jreamer': 3438, 'mission': 3439, 'imposs': 3440, 'ride': 3441, 'gwarighat': 3442, 'jabalpur': 3443, 'newli': 3444, 'modesto': 3445, 'pak': 3446, 'asbab': 3447, 'tegal': 3448, 'darussalam-': 3449, 'eretan': 3450, 'somomo': 3451, 'frog': 3452, 'dissect': 3453, 'spg': 3454, 'dedektif': 3455, 'bore': 3456, 'cantando': 3457, 'entonando': 3458, 'campeon': 3459, 'ay': 3460, 'a7': 3461, 'bhavani': 3462, 'skincar': 3463, 'johnsontown': 3464, 'saitama': 3465, 'pohodova': 3466, 'sobota': 3467, 'giornata': 3468, 'mio': 3469, 'compleanno': 3470, 'everi': 3471, 'blank': 3472, '400tm': 3473, 'y1og': 3474, '781': 3475, 'bb': 3476, 'magkabit': 3477, 'kuko': 3478, 'kinderwagen': 3479, 'voor': 3480, 'prahyl': 3481, 'castingn': 3482, 'feel': 3483, 'ooo': 3484, 'kto': 3485, '4on': 3486, 'yctont': 3487, 'bost': 3488, 'pore': 3489, 'serum': 3490, 'corset': 3491, 'unbox': 3492, 'hicimo': 3493, 'orar': 3494, 'broma': 3495, 'pesada': 3496, 'katia': 3497, 'hall': 3498, 'ween': 3499, 'hype': 3500, 'cabriel': 3501, 'costom': 3502, 'montreal': 3503, 'pvt': 3504, 'nginap': 3505, 'dihotel': 3506, 'bandara': 3507, 'equien': 3508, 'summi': 3509, 'wish': 3510, 'part-1': 3511, 'kurulur': 3512, 'uyku': 3513, 'duzenini': 3514, 'kurdu': 3515, '100k': 3516, 'alas3': 3517, 'yazlik': 3518, 'kiyafetlerimi': 3519, 'estiva': 3520, 'santa': 3521, 'anita': 3522, 'cours': 3523, 'trafford': 3524, '49': 3525, 'dealer': 3526, 'boston': 3527, 'ven': 3528, 'haaaaaaahah': 3529, 'aku': 3530, 'jumpa': 3531, 'hantu': 3532, 'inholland': 3533, 'beef': 3534, 'faufautobahn': 3535, 'erika': 3536, 'ich': 3537, 'rast': 3538, 'ireland': 3539, 'vegan': 3540, 'intorini': 3541, 'giam': 3542, 'ste': 3543, 'manh': 3544, 'trong': 3545, 'nhac': 3546, 'rainferest': 3547, 'know': 3548, 'amber': 3549, 'dumat': 3550, 'hindi': 3551, 'bunso': 3552, 'wang': 3553, 'prasuna': 3554, '10pm': 3555, 'scienc': 3556, 'ganga': 3557, 'fanfest': 3558, 'geografia': 3559, 'homerand': 3560, 'filipino': 3561, 'baumstumpf': 3562, 'goma': 3563, 'miss': 3564, 'romania': 3565, 'piera': 3566, 'arrancar': 3567, 'parada': 3568, '148': 3569, '515/ed1': 3570, 'button': 3571, 'leditest': 3572, 'lg': 3573, 'havin': 3574, 'pere': 3575, 'worik': 3576, 'atr': 3577, 'doggi': 3578, 'intrud': 3579, 'think': 3580, 'anung': 3581, 'nangyari': 3582, 'buhok': 3583, 'dun': 3584, 'cade': 3585, 'spp': 3586, 'decemb': 3587, 'avenu': 3588, '05:30': 3589, 'a.m': 3590, 'kiedi': 3591, 'babcia': 3592, 'zaproponuj': 3593, 'reaguj': 3594, 'memi': 3595, 'ep1': 3596, 'hobbit': 3597, 'almo': 3598, 'bree': 3599, 'sahara': 3600, 'r.i.p': 3601, 'find': 3602, 'avellaneda': 3603, 'flore': 3604, 'fin': 3605, \"d'uni\": 3606, 'pakowani': 3607, 'hawaj': 3608, 'egg': 3609, 'hobbydad': 3610, 'hobbypig': 3611, 'malayalam': 3612, 'techi': 3613, 'fazahath.44': 3614, 'nehe': 3615, 'repli': 3616, 'put': 3617, 'groovlin': 3618, 'samen': 3619, 'wc': 3620, 'teni': 3621, 'sustent': 3622, 'mercado': 3623, 'amecameca': 3624, 'mazatlan': 3625, 'pepeaguiad': 3626, '212': 3627, 'screwer': 3628, 'mationcyosio': 3629, 'labor': 3630, 'fruit': 3631, 'suppris': 3632, 'sturdi': 3633, 'd-ring': 3634, 'ialan': 3635, 'jalan': 3636, 'doic': 3637, 'gabbana': 3638, 'tm': 3639, 'vloy': 3640, 'cour': 3641, 'voog': 3642, 'abra': 3643, 'amerika': 3644, 'hotpl': 3645, 'gamescom': 3646, 'bulaga': 3647, 'bawaljudgement': 3648, 'alemv': 3649, 'evturu': 3650, 'norway': 3651, 'medic': 3652, 'their': 3653, 'vlogma': 3654, 'iceland': 3655, 'apeleat': 3656, 'secr': 3657, 'kept': 3658, 'kvlog106': 3659, 'spesial': 3660, 'wracami': 3661, 'bol': 3662, 'tragedia': 3663, 'meka': 3664, 'masakra': 3665, 'lez': 3666, 'diz': 3667, 'anay': 3668, 'laster': 3669, 'role': 3670, 'model': 3671, 'stolz': 3672, 'auf': 3673, 'meinen': 3674, 'mann': 3675, 'neuer': 3676, 'laya': 3677, 'pa': 3678, 'namumuro': 3679, 'naiii': 3680, 'alberto': 3681, 'abrim': 3682, 'cursando': 3683, 'conmigo': 3684, 'palm': 3685, 'desert': 3686, 'universityc': 3687, 'donki': 3688, 'cdol': 3689, '800412': 3690, 'hav': 3691, 'youtube/edward': 3692, 'f.': 3693, 'limbang': 3694, 'terakhir': 3695, 'co-pilot': 3696, 'harvino': 3697, 'direkam': 3698, 'limbong': 3699, 'menjadi': 3700, 'penerbangan': 3701, 'terakhirl': 3702, 'harv': 3703, 'socola': 3704, 'usako': 3705, 'storm': 3706, 'monster': 3707, 'urodzinv': 3708, 'campingu': 3709, 'dota': 3710, '5500': 3711, 'eagl': 3712, 'forev': 3713, 'wolk': 3714, 'cadaqu': 3715, 'monet': 3716, 'pland': 3717, 'mallion': 3718, '20,000': 3719, 'cementara': 3720, 'paul': 3721, 'abov': 3722, 'sk': 3723, 'tinai': 3724, 'wf': 3725, 'hidup': 3726, 'sehari-hari': 3727, 'boo': 3728, 'basket': 3729, 'av': 3730, 'minusi': 3731, 'zycia': 3732, 'export': 3733, 'rocinha': 3734, 'voce': 3735, 'nunca': 3736, 'viu': 3737, 'trail': 3738, 'hike': 3739, 'mont': 3740, 'ph': 3741, 'bunti': 3742, 'chaper': 3743, 'eeo': 3744, 'react': 3745, 'christ': 3746, 'neue': 3747, 'wohnung': 3748, 'chi': 3749, 'quoc': 3750, 'nna': 3751, 'nra': 3752, 'macimiz': 3753, 's14/e11': 3754, 'mal': 3755, 'empieza': 3756, 'mundo': 3757, 'rosa': 3758, 'seneg': 3759, 'puro': 3760, 'sherep': 3761, 'loca': 3762, 'enamorada': 3763, 'tabe': 3764, 'ashasudarsan': 3765, 'erpool': 3766, 'matchday': 3767, 'liverpool': 3768, 'fc': 3769, 'barcelona': 3770, 'suez': 3771, 'entranc': 3772, 'exit': 3773, 'seaman': 3774, 's03e13': 3775, 'ake': 3776, 'mamanahin': 3777, 'resort': 3778, 'feliz': 3779, 'trauma': 3780, 'rola': 3781, 'barah': 3782, 'aodi': 3783, 'rach': 3784, 'kealpt:1': 3785, 'zealard': 3786, 'spay': 3787, 'recoveri': 3788, 'coneg': 3789, 'becom': 3790, 'jethal': 3791, 'jaipur': 3792, 'tinder': 3793, 'noth': 3794, 'jt': 3795, 'reunit': 3796, 'morway': 3797, 'tere': 3798, 'sheher': 3799, 'tideo': 3800, 'elkoltoztem': 3801, 'aduilar': 3802, 'chile': 3803, '193': 3804, 'karaok': 3805, 'nellow': 3806, '-our': 3807, 'home-': 3808, 'daher': 3809, 'rooftop': 3810, 'bar': 3811, 'jfk': 3812, 'cun': 3813, 'belgrad': 3814, 'serbia': 3815, 'hari': 3816, 'kuliah': 3817, 'jepang': 3818, 'nairoba': 3819, 'newcastl': 3820, 'agger': 3821, 'mlb': 3822, 'logo': 3823, 'dont': 3824, 'germani': 3825, 'naruto': 3826, 'theme': 3827, 'ichiraku': 3828, 'mv': 3829, 'jonden': 3830, 'hope': 3831, 'fletcher': 3832, 'veronica': 3833, 'lightingal': 3834, 'vobaboli': 3835, 'loot': 3836, 'liya': 3837, 'gymnasium': 3838, '/dquipment': 3839, 'squash': 3840, 'court': 3841, 'chang': 3842, 'sginer': 3843, 'varsiti': 3844, 'tayab': 3845, 'rashm': 3846, 'myfirst': 3847, '0of': 3848, 'visten': 3849, 'mujer': 3850, 'abuja': 3851, 'overground': 3852, 'purplevlog': 3853, 'uno': 3854, 'viajera': 3855, '137': 3856, 's14/e06': 3857, 'nlog': 3858, 'eurosis': 3859, 'qualiti': 3860, 'alia': 3861, 'janeiro': 3862, 'hardest': 3863, 'juara': 3864, 'harapa': 3865, 'lomen': 3866, 'vidio': 3867, 'lu': 3868, 'chop': 3869, 'sm': 3870, 'supermaduth': 3871, '2j': 3872, 'lazi': 3873, '41': 3874, 'leagu': 3875, 'recir': 3876, '20a': 3877, 'jung': 3878, 'disast': 3879, 'incred': 3880, 'grass': 3881, 'bulgaria': 3882, 'sight': 3883, 'simula': 3884, 'oni': 3885, 'ikj': 3886, 'sekolah': 3887, 'arti': 3888, '3tah': 3889, 'gifl': 3890, 'slime': 3891, 'unicorn': 3892, 'alweer': 3893, 'afew': 3894, 'withm': 3895, 'woolworth': 3896, 'lustr': 3897, 'panti': 3898, 'takeov': 3899, 'patio': 3900, 'workout.with': 3901, 'issu': 3902, 'ntn': 3903, 'daku': 3904, 'nyuruh': 3905, 'nazar': 3906, 'nge-vlog': 3907, '157': 3908, 'ler': 3909, 'solitario': 3910, 'fif': 3911, 'elviog': 3912, 'bauen': 3913, 'wir': 3914, 'mondbasi': 3915, 'cctv': 3916, 'angelica': 3917, 'detector': 3918, 'rantin': 3919, 'harea': 3920, 'praia': 3921, 'lotada': 3922, 'coreia': 3923, 'switzerland': 3924, 'enti': 3925, 'dani': 3926, 'fe': 3927, 'cocinando': 3928, 'vit': 3929, 'fuchluzen': 3930, 'pepeagular': 3931, '195': 3932, 'soda': 3933, 'anxieti': 3934, 'stress': 3935, 'lot': 3936, '1food': 3937, 'drew': 3938, 'manalong': 3939, 'p500': 3940, 'code': 3941, 'binat': 3942, 'iivax': 3943, 'yan': 3944, '96': 3945, 'pina-iyak': 3946, 'kafreshnessi': 3947, 'dolainab': 3948, 'donekla': 3949, 'skusta': 3950, 'bulli': 3951, 'crawford': 3952, '11,000,000': 3953, 'triplet': 3954, 'flag': 3955, 'pech': 3956, 'selva': 3957, 'gensan': 3958, 'doom': 3959, 'monori': 3960, 'lane': 3961, 'ohristma': 3962, 'congert': 3963, 'laundri': 3964, 'stamford': 3965, 'idea': 3966, 'jyna': 3967, 'hot': 3968, 'roblox': 3969, 'tienda': 3970, 'valleio': 3971, 'facebook': 3972, 'rent': 3973, 'tdvlog': 3974, '-mom': 3975, 'headphon': 3976, 'gaano': 3977, 'kasarap': 3978, 'palatok': 3979, 'chan': 3980, 'nuong': 3981, 'takbir': 3982, 'ngumpul': 3983, 'lagm': 3984, 'jungl': 3985, 'vieron': 3986, 'aparato': 3987, 'idental': 3988, 'ring': 3989, 'diamond': 3990, 'adnaan': 3991, 'shaikh': 3992, 'otel': 3993, 'dain': 3994, 'dreamland': 3995, 'avatar': 3996, 'ipin': 3997, 'pangil': 3998, 'rosi': 3999, 'keder': 4000, 'mig': 4001, 'p-90': 4002, 'taytay': 4003, 'p-50': 4004, 'surajkund': 4005, 'obrazi': 4006, 'oblec': 4007, 'zara': 4008, 'hmmm': 4009, 'squad': 4010, 'vanoc': 4011, 'jericoacoara': 4012, 'hybe': 4013, 'dapet': 4014, 'alamat': 4015, 'photocard': 4016, 'tybe': 4017, 'insight': 4018, 'baju': 4019, 'dipak': 4020, 'konser': 4021, 'paga': 4022, 'huella': 4023, 'maa': 4024, 'weed': 4025, 'bathroom': 4026, 'airplan': 4027, 'aircraft': 4028, 'banyomu': 4029, 'spa': 4030, 'yaptim': 4031, 'mojito': 4032, 'exercicio': 4033, '1958': 4034, 'faco': 4035, 'reviso': 4036, 'ficha': 4037, 'pautada': 4038, 'playlist': 4039, 'cirurgia': 4040, 'mohena': 4041, 'kumari': 4042, 'rimorav': 4043, 'invas': 4044, 'ate': 4045, 'odeassa': 4046, '6am': 4047, 'soneva': 4048, 'kiri': 4049, 'alrisaa': 4050, 'oatnithi': 4051, '72': 4052, 'nhi': 4053, 'chahaiy': 4054, 'deliveri': 4055, 'erst': 4056, 'univech': 4057, 'pooja': 4058, 'jollibe': 4059, 'championship': 4060, 'moscow': 4061, 'ibrahim': 4062, 'battl': 4063, 'atlanta': 4064, 'cobra': 4065, 'kai': 4066, 'headchon': 4067, 'royal': 4068, 'volver': 4069, 'carib': 4070, '147': 4071, 'museo': 4072, 'trade': 4073, 'april': 4074, 'fool': 4075, 'invit': 4076, 'nyfw': 4077, 'achiev': 4078, \"13'aniversario\": 4079, 'luctuoso': 4080, 'antonio': 4081, 'lmu': 4082, 'tou': 4083, 'tropic': 4084, 'mix': 4085, 'mallorca': 4086, 'dino': 4087, 'thru': 4088, 'wednesday': 4089, 'essenti': 4090, 'pillow': 4091, 'snank': 4092, 'chapstick': 4093, 'taichung': 4094, 'comum': 4095, 'nocreahn': 4096, 'cbemok': 4097, 'nepe3appy3hm': 4098, 'pepperdin': 4099, 'chapman': 4100, 'azusa': 4101, 'pacif': 4102, '188': 4103, 'bunda': 4104, 'marah': 4105, 'besar': 4106, 'banff': 4107, 'alberta': 4108, 'kcm': 4109, '278l': 4110, 'muntikan': 4111, 'nalaglag': 4112, 'malunod': 4113, 'bitoystori': 4114, 'canggu': 4115, 'farewel': 4116, 'balak': 4117, 'naka': 4118, 'patung': 4119, 'mov': 4120, 'ngi': 4121, 'gab': 4122, 'streit': 4123, 'bake': 4124, 'ump': 4125, 'inea': 4126, 'oxford': 4127, 'fit': 4128, 'florida': 4129, 'valak': 4130, 'anniversari': 4131, 'jmoo': 4132, 'biza': 4133, 'jakartai': 4134, 'icinemat': 4135, 'ikiga': 4136, 'life|': 4137, 'klan': 4138, 'profesional': 4139, 'semang': 4140, 't.2k': 4141, 'gy': 4142, 'tanford': 4143, 'euta': 4144, 'wilfredo': 4145, 'gonzalez': 4146, 'calder': 4147, 'husband': 4148, 'goodbv': 4149, 'pimpl': 4150, 'overbudget': 4151, 'supermark': 4152, 'biglaang': 4153, 'rampa': 4154, 'enchant': 4155, 'per': 4156, 'noju': 4157, 'mper': 4158, 'jum': 4159, 'umf': 4160, 'nojump': 4161, 'olog': 4162, 'sp': 4163, 'adob': 4164, 'spark': 4165, 'chilapalooza': 4166, 'safar': 4167, 'na-mizi': 4168, 'bumalik': 4169, 'jough': 4170, 'tessli': 4171, 'lessli': 4172, 'perion': 4173, 'perfora': 4174, '13.0': 4175, '0000': 4176, 'fase': 4177, 'ead': 4178, 'ei': 4179, 'questao': 4180, 'boat': 4181, 'begum': 4182, 'sok': 4183, 'oldu': 4184, 'dollar': 4185, 'spree': 4186, 'haldewlog': 4187, 'central': 4188, '110': 4189, 'aditi': 4190, 'hizo': 4191, 'hasta': 4192, 'hieso': 4193, '1day': 4194, 'vloge': 4195, 'medvlog': 4196, 'primetro': 4197, 'tia': 4198, 'elo': 4199, 'internato': 4200, 'sienat': 4201, 'bringu': 4202, '18-': 4203, 'tough': 4204, 'sumpto': 4205, 'gleep': 4206, 'cau': 4207, 'bang': 4208, 'ambia': 4209, 'bolich': 4210, 'compra': 4211, 'ariana': 4212, 'em.new': 4213, 'meu': 4214, 'sad': 4215, 'debut': 4216, 'papi': 4217, 'nimesaluhd.com': 4218, 'v.llog': 4219, 'wart': 4220, 'swojej': 4221, 'ceni': 4222, 'sq': 4223, 'dalat': 4224, 'lk': 4225, 'ruoi': 4226, 'ket': 4227, 'lubi': 4228, 'kolkata': 4229, 'frenemi': 4230, 'h3': 4231, 'podcast': 4232, 'cavapoo': 4233, 'unfantasma': 4234, 'llora': 4235, 'vond': 4236, 'heel': 4237, 'eng': 4238, 'traemo': 4239, 'tatra': 4240, '1.nap': 4241, 'hongda': 4242, 'coconut': 4243, 'manila': 4244, 'fli': 4245, 'beast': 4246, 'balanc': 4247, 'bulakenya': 4248, 'januari': 4249, 'bingo': 4250, 'pina': 4251, '200': 4252, 'singer': 4253, 'sponsor': 4254, 'duoi': 4255, '141': 4256, 's14/e10': 4257, 'garmin': 4258, 'peligro': 4259, 'tayikistan': 4260, 'aa': 4261, 'betten': 4262, 'halamin': 4263, 'dugunu': 4264, 'biscuit': 4265, \"'le\": 4266, '700': 4267, 'km': 4268, 'tomorrow': 4269, 'tonight': 4270, 'podrozepl': 4271, 'pour': 4272, 'glowup': 4273, 'sandia': 4274, 'repeat': 4275, 'exercis': 4276, 'rapid': 4277, 'ihoothi': 4278, 'yeh': 4279, 'ladki': 4280, 'geya': 4281, 'bataya': 4282, 'peror': 4283, 'vevo': 4284, '13th': 4285, 'woman': 4286, 'idont': 4287, 'likeuci': 4288, 'lave': 4289, 'muita': 4290, 'roupa': 4291, 'rassolog': 4292, 'wiener': 4293, 'schnitzel': 4294, 'vienna': 4295, 'austria': 4296, 'completa': 4297, 'tansa': 4298, 'phan': 4299, 'toil': 4300, 'mung1': 4301, 'mung2': 4302, 'mung': 4303, '70': 4304, 'wte': 4305, 'queda': 4306, 'bajo': 4307, 'propio': 4308, 'risgo': 4309, 'background': 4310, 'mrv': 4311, 'again': 4312, '2007': 4313, 'escalamo': 4314, 'thora': 4315, 'acampar': 4316, 'anti': 4317, 'saclarimi': 4318, 'kestirdim': 4319, 'conmig': 4320, 'enla': 4321, 'waimea': 4322, 'ippay': 4323, 'vend': 4324, 'machin': 4325, 'nossa': 4326, 'festa': 4327, 'logi': 4328, 'dedic': 4329, 'cami': 4330, 'andoy': 4331, 'myeongdong': 4332, 'bikiningil': 4333, 'nguor': 4334, 'blan': 4335, 'mual': 4336, 'nurong': 4337, 'dira': 4338, 'thit': 4339, 'heo': 4340, 'xao': 4341, 'pastyronia': 4342, 'sobrang': 4343, '45': 4344, '82': 4345, 'scam': 4346, 'errand': 4347, 'werk': 4348, 'stuffz': 4349, 'nor': 4350, 'tread': 4351, 'seven': 4352, 'e.': 4353, 'shoeper': 4354, 'unkabog': 4355, 'sneaker': 4356, 'chiha': 4357, 'fachon': 4358, 'looardo': 4359, 'nandi': 4360, 'entir': 4361, 'handbag': 4362, 'chili': 4363, 'velem': 4364, 'aviat': 4365, 'command': 4366, 'nosotno': 4367, 'hyor': 4368, 'verano': 4369, 'devolv': 4370, 'favor': 4371, '131': 4372, 'vetnam': 4373, 'ajbxng': 4374, 'everyon': 4375, 'hate': 4376, 'eingebrochen': 4377, 'fatrol': 4378, 'iem': 4379, 'maza': 4380, 'chocol': 4381, 'mouss': 4382, 'malaysian': 4383, 'aporean': 4384, 'realis': 4385, 'singl': 4386, 'rya': 4387, 'briel': 4388, 'tml': 4389, 'crew': 4390, 'mindanao': 4391, 'sb19': 4392, 'medi': 4393, 'ocr': 4394, 'beniml': 4395, 'birl': 4396, 'spici': 4397, 'kiya': 4398, 'gayah': 4399, 'vo': 4400, 'grad': 4401, 'hungri': 4402, 'etihad': 4403, 'airway': 4404, 'pass': 4405, 'toledo': 4406, 'famou': 4407, 'shravan': 4408, 'bayram': 4409, 'calgari': 4410, 'naturalbirthistori': 4411, 'ad': 4412, 'district': 4413, 'themo': 4414, 'caloma': 4415, 'bridg': 4416, 'smkcp': 4417, 'hieu': 4418, 'xuong': 4419, 'mgw': 4420, '25kg': 4421, 'sac': 4422, 'cold': 4423, 'excurs': 4424, '227': 4425, 'casino': 4426, 'hinusgahan': 4427, 'ti': 4428, 'pag': 4429, 'alic': 4430, 'porscharm': 4431, 'cika': 4432, 'soon': 4433, 'esplanad': 4434, 'ngbeki': 4435, 'phase': 4436, 'robot': 4437, 'bring': 4438, 'sigu': 4439, 'slowli': 4440, 'vlic': 4441, 'sure': 4442, 'zyci': 4443, 'pod': 4444, 'woda': 4445, 'dubaju': 4446, 'mic': 4447, '95': 4448, 'nosso': 4449, 'salario': 4450, 'krishna': 4451, 'jahmashtami': 4452, 'newborn': 4453, '45k+': 4454, 'convinc': 4455, 'accept': 4456, 'liefd': 4457, 'yilan': 4458, 'demenag': 4459, 'core': 4460, 'vol': 4461, 'room-tour': 4462, 'quarantain': 4463, 'ekipmanlarim': 4464, 'barrackdor': 4465, 'vlog-barrackporelatt': 4466, '20.5.2020': 4467, 'afroz': 4468, 'alam': 4469, '-sumit': 4470, 'rov': 4471, 'sachin': 4472, 'kr': 4473, 'gupta': 4474, 'crazyteam.30': 4475, 'heaven': 4476, 'earth': 4477, 'newcattoy': 4478, 'guarantin': 4479, 'eu': 4480, 'apaixon': 4481, 'essa': 4482, 'havuz': 4483, 'lno': 4484, 'invaden': 4485, 'prod': 4486, 'also': 4487, 'still': 4488, 'gole': 4489, 'ald': 4490, 'babyyi': 4491, 'fust': 4492, 'undia': 4493, 'sixflag': 4494, 'egia': 4495, 'thau': 4496, 'pem': 4497, 'nickreib.com': 4498, 'strukli': 4499, 'croatia': 4500, 'vlogggg': 4501, 'empti': 4502, 'selma': 4503, 'kast': 4504, 'organizen': 4505, 'volleybal': 4506, 'usav': 4507, 'desabafo': 4508, 'sobr': 4509, 'namorar': 4510, 'pessoa': 4511, 'velha': 4512, 'grupo': 4513, 'brasileiro': 4514, 'nofgito': 4515, 'rogerio': 4516, 'enachev': 4517, 'lext': 4518, '12th': 4519, '}': 4520, 'princesa': 4521, 'mucho': 4522, 'tl': 4523, 'dejar': 4524, 'evelyn': 4525, 'estar': 4526, 'junto': 4527, 'jelai': 4528, 'madam': 4529, 'kilay': 4530, 'hinuli': 4531, 'brgi': 4532, 'laliga': 4533, 'santand': 4534, 'partido': 4535, 'futbol': 4536, 'desd': 4537, 'edificio': 4538, 'gopro': 4539, 'novemb': 4540, 'historia': 4541, 'maltrato': 4542, 'urla': 4543, 'genclik': 4544, 'festivali': 4545, 'cleanout': 4546, 'yet': 4547, '44': 4548, 'aneview': 4549, 'ea5': 4550, 'aa3': 4551, 'commando': 4552, '8.57': 4553, '13.79': 4554, '44,564/-': 4555, '71,708/-': 4556, 'aksam': 4557, 'yemegin': 4558, 'kisi': 4559, 'misafirim': 4560, 'var': 4561, 'fue': 4562, 'corea': 4563, 'bowlder': 4564, 'humsa': 4565, 'kamal': 4566, 'punta': 4567, 'nacat': 4568, 'puntana': 4569, 'dominion': 4570, 'devonport': 4571, 'phao': 4572, 'thiou': 4573, 'goos': 4574, 'cantin': 4575, 'deportado': 4576, '138': 4577, 's14/e07': 4578, 'aew': 4579, 'int': 4580, 'sorpresa': 4581, 'faint': 4582, 'wvi': 4583, 'kikay': 4584, 'nooo': 4585, '1,000,000': 4586, 'ys': 4587, 'duckv': 4588, 'battleground': 4589, 'jewelri': 4590, 'paano': 4591, 'makamura': 4592, '257': 4593, 'namil': 4594, 'kinh': 4595, 'lanh': 4596, 'ehi': 4597, 'et': 4598, 'right': 4599, 'christmasvlog': 4600, 'lerri': 4601, 'paradis': 4602, 'homecom': 4603, '3r': 4604, 'ceklyylog': 4605, 'declutt': 4606, 'been': 4607, 'nutella': 4608, 'gardina': 4609, 'auerida': 4610, 'koko': 4611, 'favourit': 4612, 'saxo': 4613, 'reo': 4614, 'insta360': 4615, 'everybodi': 4616, 'harem': 4617, 'istanbul': 4618, 'su': 4619, 'erbowl': 4620, 'vibe': 4621, 'immacul': 4622, '_sugardenny_': 4623, 'platnum': 4624, 'cop': 4625, 'idemo': 4626, 'turnir': 4627, 'pax': 4628, 'leen': 4629, 'strollz': 4630, 'finland': 4631, 'tourradar': 4632, 'kwg': 4633, 'annoy': 4634, 'filish': 4635, 'caminamo': 4636, 'verkleden': 4637, 'prins': 4638, 'iraq': 4639, 'lua': 4640, 'mel': 4641, 'vao': 4642, 'doi': 4643, 'dat': 4644, 'caiket': 4645, 'ida': 4646, 'sinong': 4647, 'lux': 4648, 'paus': 4649, 'fest': 4650, 'lejligheden': 4651, 'reklam': 4652, 'zoet': 4653, 'zusj': 4654, 'warm': 4655, 'welkom': 4656, 'doce': 4657, 'inimigo': 4658, 'rottweil': 4659, 'pull': 4660, 'cart': 4661, 'child': 4662, 'gentl': 4663, 'smart': 4664, 'protect': 4665, 'lift': 4666, 'misunderstood': 4667, 'cumpl': 4668, 'suegra': 4669, \"ormanya'da\": 4670, 'sco': 4671, 'nc': 4672, 'jsme': 4673, 'osmifinal': 4674, 'glasgow': 4675, 'aboard': 4676, 'sord': 4677, 'five': 4678, 'belw': 4679, 'plantao': 4680, 'vascular': 4681, 'traigo': 4682, 'maleta': 4683, 'pontificia': 4684, 'javeriana': 4685, 'playera': 4686, 'dye': 4687, 'ud': 4688, '181': 4689, 'due': 4690, 'puco': 4691, 'premio': 4692, 'juventud': 4693, 'tasmania': 4694, 'rici': 4695, 'dicuekin': 4696, 'mulo': 4697, 'pertama': 4698, 'seafood': 4699, 'residencia': 4700, 'kata': 4701, 'pagyoutub': 4702, 'ntrevista': 4703, 'pindi': 4704, 'chhole': 4705, 'bhatur': 4706, 'aipur': 4707, 'golden': 4708, 'legal': 4709, 'notic': 4710, 'viogma': 4711, 'bear': 4712, 'gisingi': 4713, 'rule': 4714, 'memori': 4715, 'smoothin': 4716, 'bown': 4717, 'stretch': 4718, 'nyu': 4719, 'extra': 4720, 'larga': 4721, 'gold': 4722, 'bank': 4723, 'simon': 4724, 'phillip': 4725, 'karachi': 4726, 'najlepsz': 4727, 'polsc': 4728, '03-3232': 4729, 'bunga': 4730, 'saya': 4731, 'mirror': 4732, 'daisi': 4733, 'softli': 4734, 'ep.o2': 4735, 's3': 4736, 'fill': 4737, 'aray': 4738, 'zeiryl': 4739, 'eurolis': 4740, 'nagselo': 4741, '500000': 4742, 'palawan': 4743, 'bumili': 4744, 'way': 4745, 'gf': 4746, 'jeffee': 4747, 'catch': 4748, 'lubluban': 4749, '1,276,401.499': 4750, 'lookslik': 4751, 'overnight': 4752, 'biggestcloset': 4753, 'nagbasag': 4754, 'plato': 4755, 'naglaba': 4756, 'sama': 4757, 'loob': 4758, 'hampi': 4759, 'museum': 4760, 'alien': 4761, 'space': 4762, 'esto': 4763, 'cuesta': 4764, 'millon': 4765, 'pena': 4766, '1a': 4767, 'wer': 4768, 'muss': 4769, 'zahlen': 4770, 'polot': 4771, 'ralphi': 4772, '8a': 4773, 'lau': 4774, 'hoa': 4775, '23ride': 4776, 'cover': 4777, 'bit': 4778, 'ult': 4779, 'khabib.com': 4780, 'heer': 4781, 'nyhavn': 4782, 'copenhagen': 4783, 'kalam': 4784, 'jabba': 4785, 'swat': 4786, 'send': 4787, 'uit': 4788, 'leven': 4789, 'gezondheidswetenschappen': 4790, 'novio': 4791, 'casado': 4792, 'eyebrow': 4793, 'saraht': 4794, 'sabs': 4795, 'sasti': 4796, 'superbik': 4797, '2,10,000/-': 4798, 'stapart': 4799, 'alaatin61': 4800, 'sila': 4801, 'yolu': 4802, 'aldea': 4803, 'narnto': 4804, 'bd': 4805, '223': 4806, 'wi': 4807, '24thr': 4808, '24th': 4809, 'printer': 4810, 'lipdat': 4811, 'obli': 4812, 'confin': 4813, 'grrece': 4814, 'ground': 4815, 'napikon': 4816, 'avaia': 4817, 'inapa': 4818, 'vasa': 4819, 'kala': 4820, 'cheapest': 4821, 'kharar': 4822, 'georg': 4823, 'pz4': 4824, 'dengan': 4825, 'bayaran': 4826, 'termah': 4827, 'chief': 4828, 'ghar': 4829, 'bhoot': 4830, 'joy': 4831, 'kulitan': 4832, 'tape': 4833, 'perrito': 4834, 'kalian': 4835, 'bukber': 4836, 'keluarga': 4837, 'dromenland': 4838, 'medina': 4839, 'ao': 4840, 'chong': 4841, 'sokakta': 4842, 'cuol': 4843, 's6': 4844, 'igloo': 4845, '007': 4846, 'saal': 4847, 'baad': 4848, 'depok': 4849, 'purwakart': 4850, 'sukahumi': 4851, 'garl': 4852, 'surabay': 4853, 'past': 4854, 'kediri': 4855, 'perjalanan': 4856, 'penhh': 4857, 'perjuangan': 4858, '20.04.2020': 4859, 'relax': 4860, 'ok.': 4861, 'sane': 4862, 'extrano': 4863, 'buat': 4864, 'istri': 4865, 'nyari': 4866, 'ngamuk': 4867, 'kitchen': 4868, 'mykono': 4869, 'blog': 4870, 'gonzaga': 4871, 'helpii': 4872, 'karimganj': 4873, 'eco-': 4874, 'sui': 4875, 'natown': 4876, 'nytarsaften': 4877, '2020-2021': 4878, 'sex': 4879, 'rijden': 4880, 'verkeerd': 4881, 'turkish': 4882, 'bath': 4883, 'kashmiri': 4884, 'ertogulrgaz': 4885, 'mina': 4886, 'lvl': 4887, 'comocen': 4888, 'gueda': 4889, 'detro': 4890, 'camaro': 4891, 'ving': 4892, 'boomerang': 4893, '1gg': 4894, 'board': 4895, 'septemb': 4896, 'budget': 4897, 'gadget': 4898, 'invest': 4899, 'use': 4900, 'klinkt': 4901, 'marley': 4902, 'administr': 4903, 'women': 4904, 'guitar': 4905}\n"
     ]
    }
   ],
   "source": [
    "tokenizer = Tokenizer()\n",
    "tokenizer.fit_on_texts(X_train)\n",
    "print(tokenizer.word_index)"
   ]
  },
  {
   "cell_type": "code",
   "execution_count": 26,
   "metadata": {},
   "outputs": [
    {
     "name": "stdout",
     "output_type": "stream",
     "text": [
      "단어 집합(vocabulary)의 크기 : 4905\n",
      "등장 빈도가 1번 이하인 희귀 단어의 수: 3539\n",
      "단어 집합에서 희귀 단어의 비율: 72.15086646279308\n",
      "전체 등장 빈도에서 희귀 단어 등장 빈도 비율: 25.92294169352476\n"
     ]
    }
   ],
   "source": [
    "threshold = 2                         \n",
    "total_cnt = len(tokenizer.word_index) # 단어의 수\n",
    "rare_cnt = 0                          # 등장 빈도수가 threshold보다 작은 단어의 개수를 카운트\n",
    "total_freq = 0                        # 훈련 데이터의 전체 단어 빈도수 총 합\n",
    "rare_freq = 0                         # 등장 빈도수가 threshold보다 작은 단어의 등장 빈도수의 총 합\n",
    "\n",
    "# 단어와 빈도수의 쌍(pair)을 key와 value로 받는다.\n",
    "for key, value in tokenizer.word_counts.items():\n",
    "    total_freq = total_freq + value\n",
    "\n",
    "    # 단어의 등장 빈도수가 threshold보다 작으면\n",
    "    if(value < threshold):\n",
    "        rare_cnt = rare_cnt + 1\n",
    "        rare_freq = rare_freq + value\n",
    "\n",
    "print('단어 집합(vocabulary)의 크기 :',total_cnt)\n",
    "print('등장 빈도가 %s번 이하인 희귀 단어의 수: %s'%(threshold - 1, rare_cnt))\n",
    "print(\"단어 집합에서 희귀 단어의 비율:\", (rare_cnt / total_cnt)*100)\n",
    "print(\"전체 등장 빈도에서 희귀 단어 등장 빈도 비율:\", (rare_freq / total_freq)*100)"
   ]
  },
  {
   "cell_type": "code",
   "execution_count": 27,
   "metadata": {},
   "outputs": [
    {
     "name": "stdout",
     "output_type": "stream",
     "text": [
      "단어 집합의 크기 : 1367\n"
     ]
    }
   ],
   "source": [
    "# 전체 단어 개수 중 빈도수 1이하인 단어는 제거.\n",
    "# 0번 패딩 토큰을 고려하여 + 1\n",
    "vocab_size = total_cnt - rare_cnt + 1\n",
    "print('단어 집합의 크기 :',vocab_size)"
   ]
  },
  {
   "cell_type": "code",
   "execution_count": 28,
   "metadata": {},
   "outputs": [],
   "source": [
    "# keras tokenizer -> 텍스트 시퀀스 숫자 시퀀스로 변환\n",
    "X_train = tokenizer.texts_to_sequences(X_train)\n",
    "X_test = tokenizer.texts_to_sequences(X_test)"
   ]
  },
  {
   "cell_type": "code",
   "execution_count": 29,
   "metadata": {},
   "outputs": [
    {
     "name": "stdout",
     "output_type": "stream",
     "text": [
      "[[1367, 61, 786, 1368, 1369, 182, 1370, 49, 1371, 23, 1372, 5, 337], [417, 33, 1373], [787, 1374, 788, 1375, 1376, 338, 1377, 789]]\n",
      "[[1071, 3, 222], [], [176]]\n"
     ]
    }
   ],
   "source": [
    "print(X_train[:3])\n",
    "print(X_test[:3])"
   ]
  },
  {
   "cell_type": "code",
   "execution_count": 30,
   "metadata": {},
   "outputs": [],
   "source": [
    "import matplotlib.pyplot as plt"
   ]
  },
  {
   "cell_type": "code",
   "execution_count": 31,
   "metadata": {},
   "outputs": [
    {
     "name": "stdout",
     "output_type": "stream",
     "text": [
      "발화문의 최대 길이 : 66\n",
      "발화문의 평균 길이 : 3.695722793719545\n"
     ]
    },
    {
     "data": {
      "image/png": "[encoded data removed]",
      "text/plain": [
       "<Figure size 432x288 with 1 Axes>"
      ]
     },
     "metadata": {
      "needs_background": "light"
     },
     "output_type": "display_data"
    }
   ],
   "source": [
    "print('발화문의 최대 길이 :',max(len(l) for l in X_train))\n",
    "print('발화문의 평균 길이 :',sum(map(len, X_train))/len(X_train))\n",
    "plt.hist([len(s) for s in X_train], bins=50)\n",
    "plt.xlabel('length of samples')\n",
    "plt.ylabel('number of samples')\n",
    "plt.show()"
   ]
  },
  {
   "cell_type": "code",
   "execution_count": 32,
   "metadata": {},
   "outputs": [],
   "source": [
    "def below_threshold_len(max_len, nested_list):\n",
    "    cnt = 0\n",
    "    for s in nested_list:\n",
    "        if(len(s) <= max_len):\n",
    "            cnt = cnt + 1\n",
    "    print('전체 샘플 중 길이가 %s 이하인 샘플의 비율: %s'%(max_len, (cnt / len(nested_list))*100))"
   ]
  },
  {
   "cell_type": "code",
   "execution_count": 47,
   "metadata": {},
   "outputs": [
    {
     "name": "stdout",
     "output_type": "stream",
     "text": [
      "전체 샘플 중 길이가 16 이하인 샘플의 비율: 100.0\n"
     ]
    }
   ],
   "source": [
    "max_len = 16\n",
    "below_threshold_len(max_len, X_train)"
   ]
  },
  {
   "cell_type": "code",
   "execution_count": 35,
   "metadata": {},
   "outputs": [],
   "source": [
    "from tensorflow.keras.preprocessing.sequence import pad_sequences"
   ]
  },
  {
   "cell_type": "code",
   "execution_count": 36,
   "metadata": {},
   "outputs": [],
   "source": [
    "# 모든 샘플의 길이 15으로 맞추기\n",
    "X_train = pad_sequences(X_train, maxlen = max_len)\n",
    "X_test = pad_sequences(X_test, maxlen = max_len)"
   ]
  },
  {
   "cell_type": "code",
   "execution_count": 37,
   "metadata": {},
   "outputs": [
    {
     "data": {
      "text/plain": [
       "array([[0, 0, 0, 1, 0, 0],\n",
       "       [1, 0, 0, 0, 0, 0],\n",
       "       [0, 0, 0, 0, 1, 0],\n",
       "       ...,\n",
       "       [0, 0, 1, 0, 0, 0],\n",
       "       [0, 0, 0, 1, 0, 0],\n",
       "       [0, 0, 0, 1, 0, 0]], dtype=int64)"
      ]
     },
     "execution_count": 37,
     "metadata": {},
     "output_type": "execute_result"
    }
   ],
   "source": [
    "y_train"
   ]
  },
  {
   "cell_type": "markdown",
   "metadata": {},
   "source": [
    "## LSTM"
   ]
  },
  {
   "cell_type": "code",
   "execution_count": 38,
   "metadata": {},
   "outputs": [],
   "source": [
    "from tensorflow.keras.models import Sequential\n",
    "from tensorflow.keras.layers import Embedding, Dense, LSTM, GRU, Bidirectional\n",
    "from tensorflow.keras.models import load_model\n",
    "from tensorflow.keras.callbacks import EarlyStopping, ModelCheckpoint"
   ]
  },
  {
   "cell_type": "code",
   "execution_count": 52,
   "metadata": {},
   "outputs": [
    {
     "name": "stdout",
     "output_type": "stream",
     "text": [
      "Model: \"sequential_2\"\n",
      "_________________________________________________________________\n",
      "Layer (type)                 Output Shape              Param #   \n",
      "=================================================================\n",
      "embedding_2 (Embedding)      (None, None, 100)         490600    \n",
      "_________________________________________________________________\n",
      "lstm_2 (LSTM)                (None, 128)               117248    \n",
      "_________________________________________________________________\n",
      "dense_2 (Dense)              (None, 6)                 774       \n",
      "=================================================================\n",
      "Total params: 608,622\n",
      "Trainable params: 608,622\n",
      "Non-trainable params: 0\n",
      "_________________________________________________________________\n",
      "None\n"
     ]
    }
   ],
   "source": [
    "model = Sequential([\n",
    "    Embedding(total_cnt+1, 100),  ##total_cnt가 아니라 vocab_size로 한번 나오는 단어는 제거하고 다시 해보기 \n",
    "    LSTM(128,  dropout= 0.2),\n",
    "    Dense(6,activation='softmax')\n",
    "])\n",
    "\n",
    "print(model.summary())"
   ]
  },
  {
   "cell_type": "code",
   "execution_count": 53,
   "metadata": {},
   "outputs": [],
   "source": [
    "es = EarlyStopping(monitor='val_loss', mode='min', verbose=1, patience=5)\n",
    "mc = ModelCheckpoint('Bi-LSTM_class6.h5', monitor='val_acc', mode='max', verbose=1, save_best_only=True)"
   ]
  },
  {
   "cell_type": "code",
   "execution_count": 54,
   "metadata": {},
   "outputs": [
    {
     "data": {
      "text/plain": [
       "array([[   0,    0, 1367, ..., 1372,    5,  337],\n",
       "       [   0,    0,    0, ...,  417,   33, 1373],\n",
       "       [   0,    0,    0, ...,  338, 1377,  789],\n",
       "       ...,\n",
       "       [   0,    0,    0, ...,  606,  545, 4904],\n",
       "       [   0,    0,    0, ...,    1,    9,   16],\n",
       "       [   0,    0,    0, ...,   12, 4905,  221]])"
      ]
     },
     "execution_count": 54,
     "metadata": {},
     "output_type": "execute_result"
    }
   ],
   "source": [
    "X_train"
   ]
  },
  {
   "cell_type": "code",
   "execution_count": 57,
   "metadata": {},
   "outputs": [
    {
     "name": "stdout",
     "output_type": "stream",
     "text": [
      "Epoch 1/5\n",
      "74/74 [==============================] - 6s 43ms/step - loss: 1.2556 - acc: 0.5000 - val_loss: 1.4964 - val_acc: 0.4048A: 0s - loss: 1.2573 - acc: 0.4\n",
      "\n",
      "Epoch 00001: val_acc improved from 0.37554 to 0.40476, saving model to Bi-LSTM_class6.h5\n",
      "Epoch 2/5\n",
      "74/74 [==============================] - 2s 32ms/step - loss: 1.0682 - acc: 0.5920 - val_loss: 1.5612 - val_acc: 0.3961\n",
      "\n",
      "Epoch 00002: val_acc did not improve from 0.40476\n",
      "Epoch 3/5\n",
      "74/74 [==============================] - 2s 31ms/step - loss: 0.8875 - acc: 0.6600 - val_loss: 1.8701 - val_acc: 0.4134\n",
      "\n",
      "Epoch 00003: val_acc improved from 0.40476 to 0.41342, saving model to Bi-LSTM_class6.h5\n",
      "Epoch 4/5\n",
      "74/74 [==============================] - 2s 31ms/step - loss: 0.7563 - acc: 0.7171 - val_loss: 1.8381 - val_acc: 0.3864\n",
      "\n",
      "Epoch 00004: val_acc did not improve from 0.41342\n",
      "Epoch 5/5\n",
      "74/74 [==============================] - 2s 33ms/step - loss: 0.6464 - acc: 0.7555 - val_loss: 2.0138 - val_acc: 0.3398\n",
      "\n",
      "Epoch 00005: val_acc did not improve from 0.41342\n"
     ]
    }
   ],
   "source": [
    "model.compile(optimizer='adam', loss='CategoricalCrossentropy', metrics=['acc'])\n",
    "history = model.fit(X_train, y_train, epochs=5, callbacks=[es, mc], batch_size=50, validation_data=(X_test, y_test))"
   ]
  }
 ],
 "metadata": {
  "kernelspec": {
   "display_name": "Python 3",
   "language": "python",
   "name": "python3"
  },
  "language_info": {
   "codemirror_mode": {
    "name": "ipython",
    "version": 3
   },
   "file_extension": ".py",
   "mimetype": "text/x-python",
   "name": "python",
   "nbconvert_exporter": "python",
   "pygments_lexer": "ipython3",
   "version": "3.8.3"
  }
 },
 "nbformat": 4,
 "nbformat_minor": 4
}
