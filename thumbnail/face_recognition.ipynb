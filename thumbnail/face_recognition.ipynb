{
 "cells": [
  {
   "cell_type": "code",
   "execution_count": null,
   "metadata": {},
   "outputs": [],
   "source": [
    "import boto3\n",
    "\n",
    "from urllib.request import urlopen\n",
    "from PIL import Image \n",
    "\n",
    "import pandas as pd\n",
    "import json"
   ]
  },
  {
   "cell_type": "code",
   "execution_count": null,
   "metadata": {},
   "outputs": [],
   "source": [
    "# df = pd.read_csv('../data/data_including_subscriber_and_thumbnail.csv')\n",
    "# df = df[['video_id', 'views', 'subscriber_count', 'thumbnail']]\n",
    "# df"
   ]
  },
  {
   "cell_type": "code",
   "execution_count": null,
   "metadata": {
    "scrolled": true
   },
   "outputs": [],
   "source": [
    "# df = df[df.views > 1000]\n",
    "# df"
   ]
  },
  {
   "cell_type": "code",
   "execution_count": null,
   "metadata": {},
   "outputs": [],
   "source": [
    "df = pd.read_csv('../data/face_dectection_data.csv')"
   ]
  },
  {
   "cell_type": "code",
   "execution_count": null,
   "metadata": {},
   "outputs": [],
   "source": [
    "# Initialize\n",
    "\n",
    "# df['people_num'] = -1\n",
    "# df['age'] = -1\n",
    "# df['width'] = -1\n",
    "# df['height'] = -1\n",
    "# df['emotion'] = ''\n",
    "# df['gender'] = ''"
   ]
  },
  {
   "cell_type": "code",
   "execution_count": null,
   "metadata": {},
   "outputs": [],
   "source": [
    "def detect_faces(url):\n",
    "\n",
    "    client=boto3.client('rekognition')\n",
    "\n",
    "    response = client.detect_faces(\n",
    "        Image={'Bytes': urlopen(url).read()},\n",
    "        Attributes=['ALL']\n",
    "    )\n",
    "    \n",
    "    people_num = len(response['FaceDetails'])\n",
    "    \n",
    "    # 감지된 얼굴이 없는 경우\n",
    "    if people_num == 0:\n",
    "        return [int(people_num), -1, -1, -1, '', '']\n",
    "    \n",
    "    # 가장 큰 얼굴 하나만 데이터로 저장\n",
    "    max_height = 0\n",
    "    \n",
    "    for faceDetail in response['FaceDetails']:\n",
    "        # size\n",
    "        height = faceDetail['BoundingBox']['Height']\n",
    "        \n",
    "        if height > max_height:\n",
    "            max_height = height\n",
    "        else: \n",
    "            continue\n",
    "        \n",
    "        width = faceDetail['BoundingBox']['Width']\n",
    "        \n",
    "        # age는 예상 나이 범위의 (low+high)/2\n",
    "        age = (faceDetail['AgeRange']['Low'] + faceDetail['AgeRange']['High']) / 2\n",
    "        \n",
    "        # size\n",
    "        width = faceDetail['BoundingBox']['Width']\n",
    "        height = faceDetail['BoundingBox']['Height']\n",
    "        \n",
    "        # emotion\n",
    "        emotion_confidence = 0\n",
    "        emotion = ''\n",
    "        \n",
    "        for item in faceDetail['Emotions']:\n",
    "            if item['Confidence'] > emotion_confidence:\n",
    "                emotion_confidence = item['Confidence']\n",
    "                emotion = item['Type']\n",
    "        \n",
    "        # gender\n",
    "        gender = faceDetail['Gender']['Value']\n",
    "    \n",
    "    \n",
    "    data = [int(people_num), int(age), width, height, emotion, gender]\n",
    "    return data"
   ]
  },
  {
   "cell_type": "code",
   "execution_count": null,
   "metadata": {},
   "outputs": [],
   "source": [
    "def get_data(start_index, end_index):\n",
    "    if end_index > len(df):\n",
    "        end_index = len(df)\n",
    "    for index in range(start_index, end_index):\n",
    "        url = df['thumbnail'][index]\n",
    "        data = detect_faces(url)\n",
    "        df.loc[index, ['people_num', 'age', 'width', 'height', 'emotion', 'gender']] = data"
   ]
  },
  {
   "cell_type": "code",
   "execution_count": null,
   "metadata": {},
   "outputs": [],
   "source": [
    "get_data(0,10000)\n",
    "\n",
    "df"
   ]
  },
  {
   "cell_type": "code",
   "execution_count": null,
   "metadata": {},
   "outputs": [],
   "source": [
    "df.to_csv('../data/face_dectection_data.csv', index=False)"
   ]
  }
 ],
 "metadata": {
  "kernelspec": {
   "display_name": "Python 3",
   "language": "python",
   "name": "python3"
  },
  "language_info": {
   "codemirror_mode": {
    "name": "ipython",
    "version": 3
   },
   "file_extension": ".py",
   "mimetype": "text/x-python",
   "name": "python",
   "nbconvert_exporter": "python",
   "pygments_lexer": "ipython3",
   "version": "3.8.5"
  }
 },
 "nbformat": 4,
 "nbformat_minor": 4
}
