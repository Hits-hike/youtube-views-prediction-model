{
  "nbformat": 4,
  "nbformat_minor": 0,
  "metadata": {
    "colab": {
      "name": "title_vectorization.ipynb",
      "provenance": []
    },
    "kernelspec": {
      "name": "python385jvsc74a57bd06d46af94c2bbce495f1e668725902fa517c90b1782bcfe2fce0dd9868df553d3",
      "display_name": "Python 3.8.5 64-bit ('base': conda)"
    },
    "language_info": {
      "name": "python",
      "version": "3.8.5"
    }
  },
  "cells": [
    {
      "cell_type": "code",
      "metadata": {
        "colab": {
          "base_uri": "https://localhost:8080/"
        },
        "id": "i54-riV5JEA6",
        "outputId": "3434f45a-0ac3-4461-9aec-f8db3bba5b15"
      },
      "source": [
        "from google.colab import drive\n",
        "drive.mount('/content/gdrive')"
      ],
      "execution_count": 2,
      "outputs": [
        {
          "output_type": "stream",
          "text": [
            "Mounted at /content/gdrive\n"
          ],
          "name": "stdout"
        }
      ]
    },
    {
      "cell_type": "code",
      "metadata": {
        "id": "m3JE9nLYJLxW"
      },
      "source": [
        "import os\n",
        "os.chdir('/content/gdrive/MyDrive/2021/졸업프로젝트 code')"
      ],
      "execution_count": 3,
      "outputs": []
    },
    {
      "cell_type": "code",
      "metadata": {
        "id": "OKJnV4sC7n_b"
      },
      "source": [
        "import warnings\n",
        "warnings.filterwarnings(action='ignore')"
      ],
      "execution_count": 2,
      "outputs": []
    },
    {
      "cell_type": "code",
      "metadata": {
        "id": "rWTCd41xJd1V"
      },
      "source": [
        "import numpy as np\n",
        "import pandas as pd\n",
        "\n",
        "import seaborn as sns\n",
        "import matplotlib.pyplot as plt\n",
        "\n",
        "from gensim.models import Word2Vec, FastText"
      ],
      "execution_count": 3,
      "outputs": []
    },
    {
      "cell_type": "code",
      "metadata": {
        "colab": {
          "base_uri": "https://localhost:8080/",
          "height": 194
        },
        "id": "lUTd5Rz2XWL6",
        "outputId": "36fec310-8e7b-40ca-df0c-7c2be241cc78"
      },
      "source": [
        "data = pd.read_csv('titles_preprocessed.csv', names = ['views', 'title'], usecols = [5, 6])\n",
        "data.head()"
      ],
      "execution_count": 4,
      "outputs": [
        {
          "output_type": "execute_result",
          "data": {
            "text/plain": [
              "     views                      title\n",
              "0  30038.0  만 19세 연봉 1억 친구와 레스토랑 브이로그\n",
              "1  29102.0         bbq 신메뉴 체고치 순살 먹어봄\n",
              "2  25022.0             구찌 라이톤이랑 시계 후기\n",
              "3  49551.0        엽기 로제떡볶이랑 허니 콤보 혼내줌\n",
              "4  74348.0         어림도 없지 바로 마라탕 먹어버림"
            ],
            "text/html": "<div>\n<style scoped>\n    .dataframe tbody tr th:only-of-type {\n        vertical-align: middle;\n    }\n\n    .dataframe tbody tr th {\n        vertical-align: top;\n    }\n\n    .dataframe thead th {\n        text-align: right;\n    }\n</style>\n<table border=\"1\" class=\"dataframe\">\n  <thead>\n    <tr style=\"text-align: right;\">\n      <th></th>\n      <th>views</th>\n      <th>title</th>\n    </tr>\n  </thead>\n  <tbody>\n    <tr>\n      <th>0</th>\n      <td>30038.0</td>\n      <td>만 19세 연봉 1억 친구와 레스토랑 브이로그</td>\n    </tr>\n    <tr>\n      <th>1</th>\n      <td>29102.0</td>\n      <td>bbq 신메뉴 체고치 순살 먹어봄</td>\n    </tr>\n    <tr>\n      <th>2</th>\n      <td>25022.0</td>\n      <td>구찌 라이톤이랑 시계 후기</td>\n    </tr>\n    <tr>\n      <th>3</th>\n      <td>49551.0</td>\n      <td>엽기 로제떡볶이랑 허니 콤보 혼내줌</td>\n    </tr>\n    <tr>\n      <th>4</th>\n      <td>74348.0</td>\n      <td>어림도 없지 바로 마라탕 먹어버림</td>\n    </tr>\n  </tbody>\n</table>\n</div>"
          },
          "metadata": {},
          "execution_count": 4
        }
      ]
    },
    {
      "cell_type": "code",
      "execution_count": 5,
      "metadata": {},
      "outputs": [
        {
          "output_type": "execute_result",
          "data": {
            "text/plain": [
              "101164"
            ]
          },
          "metadata": {},
          "execution_count": 5
        }
      ],
      "source": [
        "len(data)"
      ]
    },
    {
      "cell_type": "code",
      "metadata": {
        "id": "cymGOO9nXtn5",
        "colab": {
          "base_uri": "https://localhost:8080/"
        },
        "outputId": "40168bfc-182a-4d83-dd3a-6e90dd375b4b"
      },
      "source": [
        "# title\n",
        "titles = data['title']\n",
        "titles.head()"
      ],
      "execution_count": 6,
      "outputs": [
        {
          "output_type": "execute_result",
          "data": {
            "text/plain": [
              "0    만 19세 연봉 1억 친구와 레스토랑 브이로그\n",
              "1           bbq 신메뉴 체고치 순살 먹어봄\n",
              "2               구찌 라이톤이랑 시계 후기\n",
              "3          엽기 로제떡볶이랑 허니 콤보 혼내줌\n",
              "4           어림도 없지 바로 마라탕 먹어버림\n",
              "Name: title, dtype: object"
            ]
          },
          "metadata": {},
          "execution_count": 6
        }
      ]
    },
    {
      "cell_type": "code",
      "metadata": {
        "colab": {
          "base_uri": "https://localhost:8080/",
          "height": 315
        },
        "id": "__wEn30770xY",
        "outputId": "b418d5eb-bf3c-4004-b2ff-7a21adf33243"
      },
      "source": [
        "# 제목 길이 분포 \n",
        "print('제목의 최대 길이 :',max(len(l) for l in titles))\n",
        "print('제목의 평균 길이 :',sum(map(len, titles))/len(titles))\n",
        "plt.hist([len(s) for s in titles], bins=50)\n",
        "plt.xlabel('length of titles')\n",
        "plt.ylabel('number of titles')\n",
        "plt.show()"
      ],
      "execution_count": 7,
      "outputs": [
        {
          "output_type": "stream",
          "name": "stdout",
          "text": [
            "제목의 최대 길이 : 231\n제목의 평균 길이 : 54.892738523585464\n"
          ]
        },
        {
          "output_type": "display_data",
          "data": {
            "text/plain": "<Figure size 432x288 with 1 Axes>",
            "image/svg+xml": "<?xml version=\"1.0\" encoding=\"utf-8\" standalone=\"no\"?>\r\n<!DOCTYPE svg PUBLIC \"-//W3C//DTD SVG 1.1//EN\"\r\n  \"http://www.w3.org/Graphics/SVG/1.1/DTD/svg11.dtd\">\r\n<!-- Created with matplotlib (https://matplotlib.org/) -->\r\n<svg height=\"262.19625pt\" version=\"1.1\" viewBox=\"0 0 395.328125 262.19625\" width=\"395.328125pt\" xmlns=\"http://www.w3.org/2000/svg\" xmlns:xlink=\"http://www.w3.org/1999/xlink\">\r\n <metadata>\r\n  <rdf:RDF xmlns:cc=\"http://creativecommons.org/ns#\" xmlns:dc=\"http://purl.org/dc/elements/1.1/\" xmlns:rdf=\"http://www.w3.org/1999/02/22-rdf-syntax-ns#\">\r\n   <cc:Work>\r\n    <dc:type rdf:resource=\"http://purl.org/dc/dcmitype/StillImage\"/>\r\n    <dc:date>2021-04-17T18:48:13.152435</dc:date>\r\n    <dc:format>image/svg+xml</dc:format>\r\n    <dc:creator>\r\n     <cc:Agent>\r\n      <dc:title>Matplotlib v3.3.2, https://matplotlib.org/</dc:title>\r\n     </cc:Agent>\r\n    </dc:creator>\r\n   </cc:Work>\r\n  </rdf:RDF>\r\n </metadata>\r\n <defs>\r\n  <style type=\"text/css\">*{stroke-linecap:butt;stroke-linejoin:round;}</style>\r\n </defs>\r\n <g id=\"figure_1\">\r\n  <g id=\"patch_1\">\r\n   <path d=\"M 0 262.19625 \r\nL 395.328125 262.19625 \r\nL 395.328125 0 \r\nL 0 0 \r\nz\r\n\" style=\"fill:none;\"/>\r\n  </g>\r\n  <g id=\"axes_1\">\r\n   <g id=\"patch_2\">\r\n    <path d=\"M 53.328125 224.64 \r\nL 388.128125 224.64 \r\nL 388.128125 7.2 \r\nL 53.328125 7.2 \r\nz\r\n\" style=\"fill:#ffffff;\"/>\r\n   </g>\r\n   <g id=\"patch_3\">\r\n    <path clip-path=\"url(#p4b39ecb5dc)\" d=\"M 68.546307 224.64 \r\nL 74.63358 224.64 \r\nL 74.63358 219.963956 \r\nL 68.546307 219.963956 \r\nz\r\n\" style=\"fill:#1f77b4;\"/>\r\n   </g>\r\n   <g id=\"patch_4\">\r\n    <path clip-path=\"url(#p4b39ecb5dc)\" d=\"M 74.63358 224.64 \r\nL 80.720852 224.64 \r\nL 80.720852 197.529451 \r\nL 74.63358 197.529451 \r\nz\r\n\" style=\"fill:#1f77b4;\"/>\r\n   </g>\r\n   <g id=\"patch_5\">\r\n    <path clip-path=\"url(#p4b39ecb5dc)\" d=\"M 80.720852 224.64 \r\nL 86.808125 224.64 \r\nL 86.808125 182.503062 \r\nL 80.720852 182.503062 \r\nz\r\n\" style=\"fill:#1f77b4;\"/>\r\n   </g>\r\n   <g id=\"patch_6\">\r\n    <path clip-path=\"url(#p4b39ecb5dc)\" d=\"M 86.808125 224.64 \r\nL 92.895398 224.64 \r\nL 92.895398 130.987765 \r\nL 86.808125 130.987765 \r\nz\r\n\" style=\"fill:#1f77b4;\"/>\r\n   </g>\r\n   <g id=\"patch_7\">\r\n    <path clip-path=\"url(#p4b39ecb5dc)\" d=\"M 92.895398 224.64 \r\nL 98.98267 224.64 \r\nL 98.98267 127.730296 \r\nL 92.895398 127.730296 \r\nz\r\n\" style=\"fill:#1f77b4;\"/>\r\n   </g>\r\n   <g id=\"patch_8\">\r\n    <path clip-path=\"url(#p4b39ecb5dc)\" d=\"M 98.98267 224.64 \r\nL 105.069943 224.64 \r\nL 105.069943 93.65822 \r\nL 98.98267 93.65822 \r\nz\r\n\" style=\"fill:#1f77b4;\"/>\r\n   </g>\r\n   <g id=\"patch_9\">\r\n    <path clip-path=\"url(#p4b39ecb5dc)\" d=\"M 105.069943 224.64 \r\nL 111.157216 224.64 \r\nL 111.157216 72.274512 \r\nL 105.069943 72.274512 \r\nz\r\n\" style=\"fill:#1f77b4;\"/>\r\n   </g>\r\n   <g id=\"patch_10\">\r\n    <path clip-path=\"url(#p4b39ecb5dc)\" d=\"M 111.157216 224.64 \r\nL 117.244489 224.64 \r\nL 117.244489 95.891163 \r\nL 111.157216 95.891163 \r\nz\r\n\" style=\"fill:#1f77b4;\"/>\r\n   </g>\r\n   <g id=\"patch_11\">\r\n    <path clip-path=\"url(#p4b39ecb5dc)\" d=\"M 117.244489 224.64 \r\nL 123.331761 224.64 \r\nL 123.331761 44.323326 \r\nL 117.244489 44.323326 \r\nz\r\n\" style=\"fill:#1f77b4;\"/>\r\n   </g>\r\n   <g id=\"patch_12\">\r\n    <path clip-path=\"url(#p4b39ecb5dc)\" d=\"M 123.331761 224.64 \r\nL 129.419034 224.64 \r\nL 129.419034 62.134326 \r\nL 123.331761 62.134326 \r\nz\r\n\" style=\"fill:#1f77b4;\"/>\r\n   </g>\r\n   <g id=\"patch_13\">\r\n    <path clip-path=\"url(#p4b39ecb5dc)\" d=\"M 129.419034 224.64 \r\nL 135.506307 224.64 \r\nL 135.506307 17.554286 \r\nL 129.419034 17.554286 \r\nz\r\n\" style=\"fill:#1f77b4;\"/>\r\n   </g>\r\n   <g id=\"patch_14\">\r\n    <path clip-path=\"url(#p4b39ecb5dc)\" d=\"M 135.506307 224.64 \r\nL 141.59358 224.64 \r\nL 141.59358 23.386206 \r\nL 135.506307 23.386206 \r\nz\r\n\" style=\"fill:#1f77b4;\"/>\r\n   </g>\r\n   <g id=\"patch_15\">\r\n    <path clip-path=\"url(#p4b39ecb5dc)\" d=\"M 141.59358 224.64 \r\nL 147.680852 224.64 \r\nL 147.680852 69.200932 \r\nL 141.59358 69.200932 \r\nz\r\n\" style=\"fill:#1f77b4;\"/>\r\n   </g>\r\n   <g id=\"patch_16\">\r\n    <path clip-path=\"url(#p4b39ecb5dc)\" d=\"M 147.680852 224.64 \r\nL 153.768125 224.64 \r\nL 153.768125 40.0676 \r\nL 147.680852 40.0676 \r\nz\r\n\" style=\"fill:#1f77b4;\"/>\r\n   </g>\r\n   <g id=\"patch_17\">\r\n    <path clip-path=\"url(#p4b39ecb5dc)\" d=\"M 153.768125 224.64 \r\nL 159.855398 224.64 \r\nL 159.855398 85.330658 \r\nL 153.768125 85.330658 \r\nz\r\n\" style=\"fill:#1f77b4;\"/>\r\n   </g>\r\n   <g id=\"patch_18\">\r\n    <path clip-path=\"url(#p4b39ecb5dc)\" d=\"M 159.855398 224.64 \r\nL 165.94267 224.64 \r\nL 165.94267 59.087016 \r\nL 159.855398 59.087016 \r\nz\r\n\" style=\"fill:#1f77b4;\"/>\r\n   </g>\r\n   <g id=\"patch_19\">\r\n    <path clip-path=\"url(#p4b39ecb5dc)\" d=\"M 165.94267 224.64 \r\nL 172.029943 224.64 \r\nL 172.029943 74.927773 \r\nL 165.94267 74.927773 \r\nz\r\n\" style=\"fill:#1f77b4;\"/>\r\n   </g>\r\n   <g id=\"patch_20\">\r\n    <path clip-path=\"url(#p4b39ecb5dc)\" d=\"M 172.029943 224.64 \r\nL 178.117216 224.64 \r\nL 178.117216 113.964862 \r\nL 172.029943 113.964862 \r\nz\r\n\" style=\"fill:#1f77b4;\"/>\r\n   </g>\r\n   <g id=\"patch_21\">\r\n    <path clip-path=\"url(#p4b39ecb5dc)\" d=\"M 178.117216 224.64 \r\nL 184.204489 224.64 \r\nL 184.204489 102.58999 \r\nL 178.117216 102.58999 \r\nz\r\n\" style=\"fill:#1f77b4;\"/>\r\n   </g>\r\n   <g id=\"patch_22\">\r\n    <path clip-path=\"url(#p4b39ecb5dc)\" d=\"M 184.204489 224.64 \r\nL 190.291761 224.64 \r\nL 190.291761 154.446796 \r\nL 184.204489 154.446796 \r\nz\r\n\" style=\"fill:#1f77b4;\"/>\r\n   </g>\r\n   <g id=\"patch_23\">\r\n    <path clip-path=\"url(#p4b39ecb5dc)\" d=\"M 190.291761 224.64 \r\nL 196.379034 224.64 \r\nL 196.379034 174.858517 \r\nL 190.291761 174.858517 \r\nz\r\n\" style=\"fill:#1f77b4;\"/>\r\n   </g>\r\n   <g id=\"patch_24\">\r\n    <path clip-path=\"url(#p4b39ecb5dc)\" d=\"M 196.379034 224.64 \r\nL 202.466307 224.64 \r\nL 202.466307 196.715084 \r\nL 196.379034 196.715084 \r\nz\r\n\" style=\"fill:#1f77b4;\"/>\r\n   </g>\r\n   <g id=\"patch_25\">\r\n    <path clip-path=\"url(#p4b39ecb5dc)\" d=\"M 202.466307 224.64 \r\nL 208.55358 224.64 \r\nL 208.55358 210.822026 \r\nL 202.466307 210.822026 \r\nz\r\n\" style=\"fill:#1f77b4;\"/>\r\n   </g>\r\n   <g id=\"patch_26\">\r\n    <path clip-path=\"url(#p4b39ecb5dc)\" d=\"M 208.55358 224.64 \r\nL 214.640852 224.64 \r\nL 214.640852 211.032186 \r\nL 208.55358 211.032186 \r\nz\r\n\" style=\"fill:#1f77b4;\"/>\r\n   </g>\r\n   <g id=\"patch_27\">\r\n    <path clip-path=\"url(#p4b39ecb5dc)\" d=\"M 214.640852 224.64 \r\nL 220.728125 224.64 \r\nL 220.728125 217.205615 \r\nL 214.640852 217.205615 \r\nz\r\n\" style=\"fill:#1f77b4;\"/>\r\n   </g>\r\n   <g id=\"patch_28\">\r\n    <path clip-path=\"url(#p4b39ecb5dc)\" d=\"M 220.728125 224.64 \r\nL 226.815398 224.64 \r\nL 226.815398 218.54538 \r\nL 220.728125 218.54538 \r\nz\r\n\" style=\"fill:#1f77b4;\"/>\r\n   </g>\r\n   <g id=\"patch_29\">\r\n    <path clip-path=\"url(#p4b39ecb5dc)\" d=\"M 226.815398 224.64 \r\nL 232.90267 224.64 \r\nL 232.90267 220.331734 \r\nL 226.815398 220.331734 \r\nz\r\n\" style=\"fill:#1f77b4;\"/>\r\n   </g>\r\n   <g id=\"patch_30\">\r\n    <path clip-path=\"url(#p4b39ecb5dc)\" d=\"M 232.90267 224.64 \r\nL 238.989943 224.64 \r\nL 238.989943 222.459597 \r\nL 232.90267 222.459597 \r\nz\r\n\" style=\"fill:#1f77b4;\"/>\r\n   </g>\r\n   <g id=\"patch_31\">\r\n    <path clip-path=\"url(#p4b39ecb5dc)\" d=\"M 238.989943 224.64 \r\nL 245.077216 224.64 \r\nL 245.077216 222.590947 \r\nL 238.989943 222.590947 \r\nz\r\n\" style=\"fill:#1f77b4;\"/>\r\n   </g>\r\n   <g id=\"patch_32\">\r\n    <path clip-path=\"url(#p4b39ecb5dc)\" d=\"M 245.077216 224.64 \r\nL 251.164489 224.64 \r\nL 251.164489 223.379044 \r\nL 245.077216 223.379044 \r\nz\r\n\" style=\"fill:#1f77b4;\"/>\r\n   </g>\r\n   <g id=\"patch_33\">\r\n    <path clip-path=\"url(#p4b39ecb5dc)\" d=\"M 251.164489 224.64 \r\nL 257.251761 224.64 \r\nL 257.251761 223.589204 \r\nL 251.164489 223.589204 \r\nz\r\n\" style=\"fill:#1f77b4;\"/>\r\n   </g>\r\n   <g id=\"patch_34\">\r\n    <path clip-path=\"url(#p4b39ecb5dc)\" d=\"M 257.251761 224.64 \r\nL 263.339034 224.64 \r\nL 263.339034 223.720553 \r\nL 257.251761 223.720553 \r\nz\r\n\" style=\"fill:#1f77b4;\"/>\r\n   </g>\r\n   <g id=\"patch_35\">\r\n    <path clip-path=\"url(#p4b39ecb5dc)\" d=\"M 263.339034 224.64 \r\nL 269.426307 224.64 \r\nL 269.426307 224.298491 \r\nL 263.339034 224.298491 \r\nz\r\n\" style=\"fill:#1f77b4;\"/>\r\n   </g>\r\n   <g id=\"patch_36\">\r\n    <path clip-path=\"url(#p4b39ecb5dc)\" d=\"M 269.426307 224.64 \r\nL 275.51358 224.64 \r\nL 275.51358 224.088332 \r\nL 269.426307 224.088332 \r\nz\r\n\" style=\"fill:#1f77b4;\"/>\r\n   </g>\r\n   <g id=\"patch_37\">\r\n    <path clip-path=\"url(#p4b39ecb5dc)\" d=\"M 275.51358 224.64 \r\nL 281.600852 224.64 \r\nL 281.600852 224.351031 \r\nL 275.51358 224.351031 \r\nz\r\n\" style=\"fill:#1f77b4;\"/>\r\n   </g>\r\n   <g id=\"patch_38\">\r\n    <path clip-path=\"url(#p4b39ecb5dc)\" d=\"M 281.600852 224.64 \r\nL 287.688125 224.64 \r\nL 287.688125 224.403571 \r\nL 281.600852 224.403571 \r\nz\r\n\" style=\"fill:#1f77b4;\"/>\r\n   </g>\r\n   <g id=\"patch_39\">\r\n    <path clip-path=\"url(#p4b39ecb5dc)\" d=\"M 287.688125 224.64 \r\nL 293.775398 224.64 \r\nL 293.775398 224.56119 \r\nL 287.688125 224.56119 \r\nz\r\n\" style=\"fill:#1f77b4;\"/>\r\n   </g>\r\n   <g id=\"patch_40\">\r\n    <path clip-path=\"url(#p4b39ecb5dc)\" d=\"M 293.775398 224.64 \r\nL 299.86267 224.64 \r\nL 299.86267 224.58746 \r\nL 293.775398 224.58746 \r\nz\r\n\" style=\"fill:#1f77b4;\"/>\r\n   </g>\r\n   <g id=\"patch_41\">\r\n    <path clip-path=\"url(#p4b39ecb5dc)\" d=\"M 299.86267 224.64 \r\nL 305.949943 224.64 \r\nL 305.949943 224.56119 \r\nL 299.86267 224.56119 \r\nz\r\n\" style=\"fill:#1f77b4;\"/>\r\n   </g>\r\n   <g id=\"patch_42\">\r\n    <path clip-path=\"url(#p4b39ecb5dc)\" d=\"M 305.949943 224.64 \r\nL 312.037216 224.64 \r\nL 312.037216 224.61373 \r\nL 305.949943 224.61373 \r\nz\r\n\" style=\"fill:#1f77b4;\"/>\r\n   </g>\r\n   <g id=\"patch_43\">\r\n    <path clip-path=\"url(#p4b39ecb5dc)\" d=\"M 312.037216 224.64 \r\nL 318.124489 224.64 \r\nL 318.124489 224.64 \r\nL 312.037216 224.64 \r\nz\r\n\" style=\"fill:#1f77b4;\"/>\r\n   </g>\r\n   <g id=\"patch_44\">\r\n    <path clip-path=\"url(#p4b39ecb5dc)\" d=\"M 318.124489 224.64 \r\nL 324.211761 224.64 \r\nL 324.211761 224.58746 \r\nL 318.124489 224.58746 \r\nz\r\n\" style=\"fill:#1f77b4;\"/>\r\n   </g>\r\n   <g id=\"patch_45\">\r\n    <path clip-path=\"url(#p4b39ecb5dc)\" d=\"M 324.211761 224.64 \r\nL 330.299034 224.64 \r\nL 330.299034 224.61373 \r\nL 324.211761 224.61373 \r\nz\r\n\" style=\"fill:#1f77b4;\"/>\r\n   </g>\r\n   <g id=\"patch_46\">\r\n    <path clip-path=\"url(#p4b39ecb5dc)\" d=\"M 330.299034 224.64 \r\nL 336.386307 224.64 \r\nL 336.386307 224.61373 \r\nL 330.299034 224.61373 \r\nz\r\n\" style=\"fill:#1f77b4;\"/>\r\n   </g>\r\n   <g id=\"patch_47\">\r\n    <path clip-path=\"url(#p4b39ecb5dc)\" d=\"M 336.386307 224.64 \r\nL 342.47358 224.64 \r\nL 342.47358 224.64 \r\nL 336.386307 224.64 \r\nz\r\n\" style=\"fill:#1f77b4;\"/>\r\n   </g>\r\n   <g id=\"patch_48\">\r\n    <path clip-path=\"url(#p4b39ecb5dc)\" d=\"M 342.47358 224.64 \r\nL 348.560852 224.64 \r\nL 348.560852 224.61373 \r\nL 342.47358 224.61373 \r\nz\r\n\" style=\"fill:#1f77b4;\"/>\r\n   </g>\r\n   <g id=\"patch_49\">\r\n    <path clip-path=\"url(#p4b39ecb5dc)\" d=\"M 348.560852 224.64 \r\nL 354.648125 224.64 \r\nL 354.648125 224.58746 \r\nL 348.560852 224.58746 \r\nz\r\n\" style=\"fill:#1f77b4;\"/>\r\n   </g>\r\n   <g id=\"patch_50\">\r\n    <path clip-path=\"url(#p4b39ecb5dc)\" d=\"M 354.648125 224.64 \r\nL 360.735398 224.64 \r\nL 360.735398 224.61373 \r\nL 354.648125 224.61373 \r\nz\r\n\" style=\"fill:#1f77b4;\"/>\r\n   </g>\r\n   <g id=\"patch_51\">\r\n    <path clip-path=\"url(#p4b39ecb5dc)\" d=\"M 360.735398 224.64 \r\nL 366.82267 224.64 \r\nL 366.82267 224.64 \r\nL 360.735398 224.64 \r\nz\r\n\" style=\"fill:#1f77b4;\"/>\r\n   </g>\r\n   <g id=\"patch_52\">\r\n    <path clip-path=\"url(#p4b39ecb5dc)\" d=\"M 366.82267 224.64 \r\nL 372.909943 224.64 \r\nL 372.909943 224.61373 \r\nL 366.82267 224.61373 \r\nz\r\n\" style=\"fill:#1f77b4;\"/>\r\n   </g>\r\n   <g id=\"matplotlib.axis_1\">\r\n    <g id=\"xtick_1\">\r\n     <g id=\"line2d_1\">\r\n      <defs>\r\n       <path d=\"M 0 0 \r\nL 0 3.5 \r\n\" id=\"me7c4947443\" style=\"stroke:#000000;stroke-width:0.8;\"/>\r\n      </defs>\r\n      <g>\r\n       <use style=\"stroke:#000000;stroke-width:0.8;\" x=\"67.222987\" xlink:href=\"#me7c4947443\" y=\"224.64\"/>\r\n      </g>\r\n     </g>\r\n     <g id=\"text_1\">\r\n      <!-- 0 -->\r\n      <g transform=\"translate(64.041737 239.238437)scale(0.1 -0.1)\">\r\n       <defs>\r\n        <path d=\"M 31.78125 66.40625 \r\nQ 24.171875 66.40625 20.328125 58.90625 \r\nQ 16.5 51.421875 16.5 36.375 \r\nQ 16.5 21.390625 20.328125 13.890625 \r\nQ 24.171875 6.390625 31.78125 6.390625 \r\nQ 39.453125 6.390625 43.28125 13.890625 \r\nQ 47.125 21.390625 47.125 36.375 \r\nQ 47.125 51.421875 43.28125 58.90625 \r\nQ 39.453125 66.40625 31.78125 66.40625 \r\nz\r\nM 31.78125 74.21875 \r\nQ 44.046875 74.21875 50.515625 64.515625 \r\nQ 56.984375 54.828125 56.984375 36.375 \r\nQ 56.984375 17.96875 50.515625 8.265625 \r\nQ 44.046875 -1.421875 31.78125 -1.421875 \r\nQ 19.53125 -1.421875 13.0625 8.265625 \r\nQ 6.59375 17.96875 6.59375 36.375 \r\nQ 6.59375 54.828125 13.0625 64.515625 \r\nQ 19.53125 74.21875 31.78125 74.21875 \r\nz\r\n\" id=\"DejaVuSans-48\"/>\r\n       </defs>\r\n       <use xlink:href=\"#DejaVuSans-48\"/>\r\n      </g>\r\n     </g>\r\n    </g>\r\n    <g id=\"xtick_2\">\r\n     <g id=\"line2d_2\">\r\n      <g>\r\n       <use style=\"stroke:#000000;stroke-width:0.8;\" x=\"133.388995\" xlink:href=\"#me7c4947443\" y=\"224.64\"/>\r\n      </g>\r\n     </g>\r\n     <g id=\"text_2\">\r\n      <!-- 50 -->\r\n      <g transform=\"translate(127.026495 239.238437)scale(0.1 -0.1)\">\r\n       <defs>\r\n        <path d=\"M 10.796875 72.90625 \r\nL 49.515625 72.90625 \r\nL 49.515625 64.59375 \r\nL 19.828125 64.59375 \r\nL 19.828125 46.734375 \r\nQ 21.96875 47.46875 24.109375 47.828125 \r\nQ 26.265625 48.1875 28.421875 48.1875 \r\nQ 40.625 48.1875 47.75 41.5 \r\nQ 54.890625 34.8125 54.890625 23.390625 \r\nQ 54.890625 11.625 47.5625 5.09375 \r\nQ 40.234375 -1.421875 26.90625 -1.421875 \r\nQ 22.3125 -1.421875 17.546875 -0.640625 \r\nQ 12.796875 0.140625 7.71875 1.703125 \r\nL 7.71875 11.625 \r\nQ 12.109375 9.234375 16.796875 8.0625 \r\nQ 21.484375 6.890625 26.703125 6.890625 \r\nQ 35.15625 6.890625 40.078125 11.328125 \r\nQ 45.015625 15.765625 45.015625 23.390625 \r\nQ 45.015625 31 40.078125 35.4375 \r\nQ 35.15625 39.890625 26.703125 39.890625 \r\nQ 22.75 39.890625 18.8125 39.015625 \r\nQ 14.890625 38.140625 10.796875 36.28125 \r\nz\r\n\" id=\"DejaVuSans-53\"/>\r\n       </defs>\r\n       <use xlink:href=\"#DejaVuSans-53\"/>\r\n       <use x=\"63.623047\" xlink:href=\"#DejaVuSans-48\"/>\r\n      </g>\r\n     </g>\r\n    </g>\r\n    <g id=\"xtick_3\">\r\n     <g id=\"line2d_3\">\r\n      <g>\r\n       <use style=\"stroke:#000000;stroke-width:0.8;\" x=\"199.555002\" xlink:href=\"#me7c4947443\" y=\"224.64\"/>\r\n      </g>\r\n     </g>\r\n     <g id=\"text_3\">\r\n      <!-- 100 -->\r\n      <g transform=\"translate(190.011252 239.238437)scale(0.1 -0.1)\">\r\n       <defs>\r\n        <path d=\"M 12.40625 8.296875 \r\nL 28.515625 8.296875 \r\nL 28.515625 63.921875 \r\nL 10.984375 60.40625 \r\nL 10.984375 69.390625 \r\nL 28.421875 72.90625 \r\nL 38.28125 72.90625 \r\nL 38.28125 8.296875 \r\nL 54.390625 8.296875 \r\nL 54.390625 0 \r\nL 12.40625 0 \r\nz\r\n\" id=\"DejaVuSans-49\"/>\r\n       </defs>\r\n       <use xlink:href=\"#DejaVuSans-49\"/>\r\n       <use x=\"63.623047\" xlink:href=\"#DejaVuSans-48\"/>\r\n       <use x=\"127.246094\" xlink:href=\"#DejaVuSans-48\"/>\r\n      </g>\r\n     </g>\r\n    </g>\r\n    <g id=\"xtick_4\">\r\n     <g id=\"line2d_4\">\r\n      <g>\r\n       <use style=\"stroke:#000000;stroke-width:0.8;\" x=\"265.72101\" xlink:href=\"#me7c4947443\" y=\"224.64\"/>\r\n      </g>\r\n     </g>\r\n     <g id=\"text_4\">\r\n      <!-- 150 -->\r\n      <g transform=\"translate(256.17726 239.238437)scale(0.1 -0.1)\">\r\n       <use xlink:href=\"#DejaVuSans-49\"/>\r\n       <use x=\"63.623047\" xlink:href=\"#DejaVuSans-53\"/>\r\n       <use x=\"127.246094\" xlink:href=\"#DejaVuSans-48\"/>\r\n      </g>\r\n     </g>\r\n    </g>\r\n    <g id=\"xtick_5\">\r\n     <g id=\"line2d_5\">\r\n      <g>\r\n       <use style=\"stroke:#000000;stroke-width:0.8;\" x=\"331.887018\" xlink:href=\"#me7c4947443\" y=\"224.64\"/>\r\n      </g>\r\n     </g>\r\n     <g id=\"text_5\">\r\n      <!-- 200 -->\r\n      <g transform=\"translate(322.343268 239.238437)scale(0.1 -0.1)\">\r\n       <defs>\r\n        <path d=\"M 19.1875 8.296875 \r\nL 53.609375 8.296875 \r\nL 53.609375 0 \r\nL 7.328125 0 \r\nL 7.328125 8.296875 \r\nQ 12.9375 14.109375 22.625 23.890625 \r\nQ 32.328125 33.6875 34.8125 36.53125 \r\nQ 39.546875 41.84375 41.421875 45.53125 \r\nQ 43.3125 49.21875 43.3125 52.78125 \r\nQ 43.3125 58.59375 39.234375 62.25 \r\nQ 35.15625 65.921875 28.609375 65.921875 \r\nQ 23.96875 65.921875 18.8125 64.3125 \r\nQ 13.671875 62.703125 7.8125 59.421875 \r\nL 7.8125 69.390625 \r\nQ 13.765625 71.78125 18.9375 73 \r\nQ 24.125 74.21875 28.421875 74.21875 \r\nQ 39.75 74.21875 46.484375 68.546875 \r\nQ 53.21875 62.890625 53.21875 53.421875 \r\nQ 53.21875 48.921875 51.53125 44.890625 \r\nQ 49.859375 40.875 45.40625 35.40625 \r\nQ 44.1875 33.984375 37.640625 27.21875 \r\nQ 31.109375 20.453125 19.1875 8.296875 \r\nz\r\n\" id=\"DejaVuSans-50\"/>\r\n       </defs>\r\n       <use xlink:href=\"#DejaVuSans-50\"/>\r\n       <use x=\"63.623047\" xlink:href=\"#DejaVuSans-48\"/>\r\n       <use x=\"127.246094\" xlink:href=\"#DejaVuSans-48\"/>\r\n      </g>\r\n     </g>\r\n    </g>\r\n    <g id=\"text_6\">\r\n     <!-- length of titles -->\r\n     <g transform=\"translate(184.413281 252.916562)scale(0.1 -0.1)\">\r\n      <defs>\r\n       <path d=\"M 9.421875 75.984375 \r\nL 18.40625 75.984375 \r\nL 18.40625 0 \r\nL 9.421875 0 \r\nz\r\n\" id=\"DejaVuSans-108\"/>\r\n       <path d=\"M 56.203125 29.59375 \r\nL 56.203125 25.203125 \r\nL 14.890625 25.203125 \r\nQ 15.484375 15.921875 20.484375 11.0625 \r\nQ 25.484375 6.203125 34.421875 6.203125 \r\nQ 39.59375 6.203125 44.453125 7.46875 \r\nQ 49.3125 8.734375 54.109375 11.28125 \r\nL 54.109375 2.78125 \r\nQ 49.265625 0.734375 44.1875 -0.34375 \r\nQ 39.109375 -1.421875 33.890625 -1.421875 \r\nQ 20.796875 -1.421875 13.15625 6.1875 \r\nQ 5.515625 13.8125 5.515625 26.8125 \r\nQ 5.515625 40.234375 12.765625 48.109375 \r\nQ 20.015625 56 32.328125 56 \r\nQ 43.359375 56 49.78125 48.890625 \r\nQ 56.203125 41.796875 56.203125 29.59375 \r\nz\r\nM 47.21875 32.234375 \r\nQ 47.125 39.59375 43.09375 43.984375 \r\nQ 39.0625 48.390625 32.421875 48.390625 \r\nQ 24.90625 48.390625 20.390625 44.140625 \r\nQ 15.875 39.890625 15.1875 32.171875 \r\nz\r\n\" id=\"DejaVuSans-101\"/>\r\n       <path d=\"M 54.890625 33.015625 \r\nL 54.890625 0 \r\nL 45.90625 0 \r\nL 45.90625 32.71875 \r\nQ 45.90625 40.484375 42.875 44.328125 \r\nQ 39.84375 48.1875 33.796875 48.1875 \r\nQ 26.515625 48.1875 22.3125 43.546875 \r\nQ 18.109375 38.921875 18.109375 30.90625 \r\nL 18.109375 0 \r\nL 9.078125 0 \r\nL 9.078125 54.6875 \r\nL 18.109375 54.6875 \r\nL 18.109375 46.1875 \r\nQ 21.34375 51.125 25.703125 53.5625 \r\nQ 30.078125 56 35.796875 56 \r\nQ 45.21875 56 50.046875 50.171875 \r\nQ 54.890625 44.34375 54.890625 33.015625 \r\nz\r\n\" id=\"DejaVuSans-110\"/>\r\n       <path d=\"M 45.40625 27.984375 \r\nQ 45.40625 37.75 41.375 43.109375 \r\nQ 37.359375 48.484375 30.078125 48.484375 \r\nQ 22.859375 48.484375 18.828125 43.109375 \r\nQ 14.796875 37.75 14.796875 27.984375 \r\nQ 14.796875 18.265625 18.828125 12.890625 \r\nQ 22.859375 7.515625 30.078125 7.515625 \r\nQ 37.359375 7.515625 41.375 12.890625 \r\nQ 45.40625 18.265625 45.40625 27.984375 \r\nz\r\nM 54.390625 6.78125 \r\nQ 54.390625 -7.171875 48.1875 -13.984375 \r\nQ 42 -20.796875 29.203125 -20.796875 \r\nQ 24.46875 -20.796875 20.265625 -20.09375 \r\nQ 16.0625 -19.390625 12.109375 -17.921875 \r\nL 12.109375 -9.1875 \r\nQ 16.0625 -11.328125 19.921875 -12.34375 \r\nQ 23.78125 -13.375 27.78125 -13.375 \r\nQ 36.625 -13.375 41.015625 -8.765625 \r\nQ 45.40625 -4.15625 45.40625 5.171875 \r\nL 45.40625 9.625 \r\nQ 42.625 4.78125 38.28125 2.390625 \r\nQ 33.9375 0 27.875 0 \r\nQ 17.828125 0 11.671875 7.65625 \r\nQ 5.515625 15.328125 5.515625 27.984375 \r\nQ 5.515625 40.671875 11.671875 48.328125 \r\nQ 17.828125 56 27.875 56 \r\nQ 33.9375 56 38.28125 53.609375 \r\nQ 42.625 51.21875 45.40625 46.390625 \r\nL 45.40625 54.6875 \r\nL 54.390625 54.6875 \r\nz\r\n\" id=\"DejaVuSans-103\"/>\r\n       <path d=\"M 18.3125 70.21875 \r\nL 18.3125 54.6875 \r\nL 36.8125 54.6875 \r\nL 36.8125 47.703125 \r\nL 18.3125 47.703125 \r\nL 18.3125 18.015625 \r\nQ 18.3125 11.328125 20.140625 9.421875 \r\nQ 21.96875 7.515625 27.59375 7.515625 \r\nL 36.8125 7.515625 \r\nL 36.8125 0 \r\nL 27.59375 0 \r\nQ 17.1875 0 13.234375 3.875 \r\nQ 9.28125 7.765625 9.28125 18.015625 \r\nL 9.28125 47.703125 \r\nL 2.6875 47.703125 \r\nL 2.6875 54.6875 \r\nL 9.28125 54.6875 \r\nL 9.28125 70.21875 \r\nz\r\n\" id=\"DejaVuSans-116\"/>\r\n       <path d=\"M 54.890625 33.015625 \r\nL 54.890625 0 \r\nL 45.90625 0 \r\nL 45.90625 32.71875 \r\nQ 45.90625 40.484375 42.875 44.328125 \r\nQ 39.84375 48.1875 33.796875 48.1875 \r\nQ 26.515625 48.1875 22.3125 43.546875 \r\nQ 18.109375 38.921875 18.109375 30.90625 \r\nL 18.109375 0 \r\nL 9.078125 0 \r\nL 9.078125 75.984375 \r\nL 18.109375 75.984375 \r\nL 18.109375 46.1875 \r\nQ 21.34375 51.125 25.703125 53.5625 \r\nQ 30.078125 56 35.796875 56 \r\nQ 45.21875 56 50.046875 50.171875 \r\nQ 54.890625 44.34375 54.890625 33.015625 \r\nz\r\n\" id=\"DejaVuSans-104\"/>\r\n       <path id=\"DejaVuSans-32\"/>\r\n       <path d=\"M 30.609375 48.390625 \r\nQ 23.390625 48.390625 19.1875 42.75 \r\nQ 14.984375 37.109375 14.984375 27.296875 \r\nQ 14.984375 17.484375 19.15625 11.84375 \r\nQ 23.34375 6.203125 30.609375 6.203125 \r\nQ 37.796875 6.203125 41.984375 11.859375 \r\nQ 46.1875 17.53125 46.1875 27.296875 \r\nQ 46.1875 37.015625 41.984375 42.703125 \r\nQ 37.796875 48.390625 30.609375 48.390625 \r\nz\r\nM 30.609375 56 \r\nQ 42.328125 56 49.015625 48.375 \r\nQ 55.71875 40.765625 55.71875 27.296875 \r\nQ 55.71875 13.875 49.015625 6.21875 \r\nQ 42.328125 -1.421875 30.609375 -1.421875 \r\nQ 18.84375 -1.421875 12.171875 6.21875 \r\nQ 5.515625 13.875 5.515625 27.296875 \r\nQ 5.515625 40.765625 12.171875 48.375 \r\nQ 18.84375 56 30.609375 56 \r\nz\r\n\" id=\"DejaVuSans-111\"/>\r\n       <path d=\"M 37.109375 75.984375 \r\nL 37.109375 68.5 \r\nL 28.515625 68.5 \r\nQ 23.6875 68.5 21.796875 66.546875 \r\nQ 19.921875 64.59375 19.921875 59.515625 \r\nL 19.921875 54.6875 \r\nL 34.71875 54.6875 \r\nL 34.71875 47.703125 \r\nL 19.921875 47.703125 \r\nL 19.921875 0 \r\nL 10.890625 0 \r\nL 10.890625 47.703125 \r\nL 2.296875 47.703125 \r\nL 2.296875 54.6875 \r\nL 10.890625 54.6875 \r\nL 10.890625 58.5 \r\nQ 10.890625 67.625 15.140625 71.796875 \r\nQ 19.390625 75.984375 28.609375 75.984375 \r\nz\r\n\" id=\"DejaVuSans-102\"/>\r\n       <path d=\"M 9.421875 54.6875 \r\nL 18.40625 54.6875 \r\nL 18.40625 0 \r\nL 9.421875 0 \r\nz\r\nM 9.421875 75.984375 \r\nL 18.40625 75.984375 \r\nL 18.40625 64.59375 \r\nL 9.421875 64.59375 \r\nz\r\n\" id=\"DejaVuSans-105\"/>\r\n       <path d=\"M 44.28125 53.078125 \r\nL 44.28125 44.578125 \r\nQ 40.484375 46.53125 36.375 47.5 \r\nQ 32.28125 48.484375 27.875 48.484375 \r\nQ 21.1875 48.484375 17.84375 46.4375 \r\nQ 14.5 44.390625 14.5 40.28125 \r\nQ 14.5 37.15625 16.890625 35.375 \r\nQ 19.28125 33.59375 26.515625 31.984375 \r\nL 29.59375 31.296875 \r\nQ 39.15625 29.25 43.1875 25.515625 \r\nQ 47.21875 21.78125 47.21875 15.09375 \r\nQ 47.21875 7.46875 41.1875 3.015625 \r\nQ 35.15625 -1.421875 24.609375 -1.421875 \r\nQ 20.21875 -1.421875 15.453125 -0.5625 \r\nQ 10.6875 0.296875 5.421875 2 \r\nL 5.421875 11.28125 \r\nQ 10.40625 8.6875 15.234375 7.390625 \r\nQ 20.0625 6.109375 24.8125 6.109375 \r\nQ 31.15625 6.109375 34.5625 8.28125 \r\nQ 37.984375 10.453125 37.984375 14.40625 \r\nQ 37.984375 18.0625 35.515625 20.015625 \r\nQ 33.0625 21.96875 24.703125 23.78125 \r\nL 21.578125 24.515625 \r\nQ 13.234375 26.265625 9.515625 29.90625 \r\nQ 5.8125 33.546875 5.8125 39.890625 \r\nQ 5.8125 47.609375 11.28125 51.796875 \r\nQ 16.75 56 26.8125 56 \r\nQ 31.78125 56 36.171875 55.265625 \r\nQ 40.578125 54.546875 44.28125 53.078125 \r\nz\r\n\" id=\"DejaVuSans-115\"/>\r\n      </defs>\r\n      <use xlink:href=\"#DejaVuSans-108\"/>\r\n      <use x=\"27.783203\" xlink:href=\"#DejaVuSans-101\"/>\r\n      <use x=\"89.306641\" xlink:href=\"#DejaVuSans-110\"/>\r\n      <use x=\"152.685547\" xlink:href=\"#DejaVuSans-103\"/>\r\n      <use x=\"216.162109\" xlink:href=\"#DejaVuSans-116\"/>\r\n      <use x=\"255.371094\" xlink:href=\"#DejaVuSans-104\"/>\r\n      <use x=\"318.75\" xlink:href=\"#DejaVuSans-32\"/>\r\n      <use x=\"350.537109\" xlink:href=\"#DejaVuSans-111\"/>\r\n      <use x=\"411.71875\" xlink:href=\"#DejaVuSans-102\"/>\r\n      <use x=\"446.923828\" xlink:href=\"#DejaVuSans-32\"/>\r\n      <use x=\"478.710938\" xlink:href=\"#DejaVuSans-116\"/>\r\n      <use x=\"517.919922\" xlink:href=\"#DejaVuSans-105\"/>\r\n      <use x=\"545.703125\" xlink:href=\"#DejaVuSans-116\"/>\r\n      <use x=\"584.912109\" xlink:href=\"#DejaVuSans-108\"/>\r\n      <use x=\"612.695312\" xlink:href=\"#DejaVuSans-101\"/>\r\n      <use x=\"674.21875\" xlink:href=\"#DejaVuSans-115\"/>\r\n     </g>\r\n    </g>\r\n   </g>\r\n   <g id=\"matplotlib.axis_2\">\r\n    <g id=\"ytick_1\">\r\n     <g id=\"line2d_6\">\r\n      <defs>\r\n       <path d=\"M 0 0 \r\nL -3.5 0 \r\n\" id=\"m6a4c36d1d5\" style=\"stroke:#000000;stroke-width:0.8;\"/>\r\n      </defs>\r\n      <g>\r\n       <use style=\"stroke:#000000;stroke-width:0.8;\" x=\"53.328125\" xlink:href=\"#m6a4c36d1d5\" y=\"224.64\"/>\r\n      </g>\r\n     </g>\r\n     <g id=\"text_7\">\r\n      <!-- 0 -->\r\n      <g transform=\"translate(39.965625 228.439219)scale(0.1 -0.1)\">\r\n       <use xlink:href=\"#DejaVuSans-48\"/>\r\n      </g>\r\n     </g>\r\n    </g>\r\n    <g id=\"ytick_2\">\r\n     <g id=\"line2d_7\">\r\n      <g>\r\n       <use style=\"stroke:#000000;stroke-width:0.8;\" x=\"53.328125\" xlink:href=\"#m6a4c36d1d5\" y=\"198.370088\"/>\r\n      </g>\r\n     </g>\r\n     <g id=\"text_8\">\r\n      <!-- 1000 -->\r\n      <g transform=\"translate(20.878125 202.169307)scale(0.1 -0.1)\">\r\n       <use xlink:href=\"#DejaVuSans-49\"/>\r\n       <use x=\"63.623047\" xlink:href=\"#DejaVuSans-48\"/>\r\n       <use x=\"127.246094\" xlink:href=\"#DejaVuSans-48\"/>\r\n       <use x=\"190.869141\" xlink:href=\"#DejaVuSans-48\"/>\r\n      </g>\r\n     </g>\r\n    </g>\r\n    <g id=\"ytick_3\">\r\n     <g id=\"line2d_8\">\r\n      <g>\r\n       <use style=\"stroke:#000000;stroke-width:0.8;\" x=\"53.328125\" xlink:href=\"#m6a4c36d1d5\" y=\"172.100177\"/>\r\n      </g>\r\n     </g>\r\n     <g id=\"text_9\">\r\n      <!-- 2000 -->\r\n      <g transform=\"translate(20.878125 175.899395)scale(0.1 -0.1)\">\r\n       <use xlink:href=\"#DejaVuSans-50\"/>\r\n       <use x=\"63.623047\" xlink:href=\"#DejaVuSans-48\"/>\r\n       <use x=\"127.246094\" xlink:href=\"#DejaVuSans-48\"/>\r\n       <use x=\"190.869141\" xlink:href=\"#DejaVuSans-48\"/>\r\n      </g>\r\n     </g>\r\n    </g>\r\n    <g id=\"ytick_4\">\r\n     <g id=\"line2d_9\">\r\n      <g>\r\n       <use style=\"stroke:#000000;stroke-width:0.8;\" x=\"53.328125\" xlink:href=\"#m6a4c36d1d5\" y=\"145.830265\"/>\r\n      </g>\r\n     </g>\r\n     <g id=\"text_10\">\r\n      <!-- 3000 -->\r\n      <g transform=\"translate(20.878125 149.629484)scale(0.1 -0.1)\">\r\n       <defs>\r\n        <path d=\"M 40.578125 39.3125 \r\nQ 47.65625 37.796875 51.625 33 \r\nQ 55.609375 28.21875 55.609375 21.1875 \r\nQ 55.609375 10.40625 48.1875 4.484375 \r\nQ 40.765625 -1.421875 27.09375 -1.421875 \r\nQ 22.515625 -1.421875 17.65625 -0.515625 \r\nQ 12.796875 0.390625 7.625 2.203125 \r\nL 7.625 11.71875 \r\nQ 11.71875 9.328125 16.59375 8.109375 \r\nQ 21.484375 6.890625 26.8125 6.890625 \r\nQ 36.078125 6.890625 40.9375 10.546875 \r\nQ 45.796875 14.203125 45.796875 21.1875 \r\nQ 45.796875 27.640625 41.28125 31.265625 \r\nQ 36.765625 34.90625 28.71875 34.90625 \r\nL 20.21875 34.90625 \r\nL 20.21875 43.015625 \r\nL 29.109375 43.015625 \r\nQ 36.375 43.015625 40.234375 45.921875 \r\nQ 44.09375 48.828125 44.09375 54.296875 \r\nQ 44.09375 59.90625 40.109375 62.90625 \r\nQ 36.140625 65.921875 28.71875 65.921875 \r\nQ 24.65625 65.921875 20.015625 65.03125 \r\nQ 15.375 64.15625 9.8125 62.3125 \r\nL 9.8125 71.09375 \r\nQ 15.4375 72.65625 20.34375 73.4375 \r\nQ 25.25 74.21875 29.59375 74.21875 \r\nQ 40.828125 74.21875 47.359375 69.109375 \r\nQ 53.90625 64.015625 53.90625 55.328125 \r\nQ 53.90625 49.265625 50.4375 45.09375 \r\nQ 46.96875 40.921875 40.578125 39.3125 \r\nz\r\n\" id=\"DejaVuSans-51\"/>\r\n       </defs>\r\n       <use xlink:href=\"#DejaVuSans-51\"/>\r\n       <use x=\"63.623047\" xlink:href=\"#DejaVuSans-48\"/>\r\n       <use x=\"127.246094\" xlink:href=\"#DejaVuSans-48\"/>\r\n       <use x=\"190.869141\" xlink:href=\"#DejaVuSans-48\"/>\r\n      </g>\r\n     </g>\r\n    </g>\r\n    <g id=\"ytick_5\">\r\n     <g id=\"line2d_10\">\r\n      <g>\r\n       <use style=\"stroke:#000000;stroke-width:0.8;\" x=\"53.328125\" xlink:href=\"#m6a4c36d1d5\" y=\"119.560353\"/>\r\n      </g>\r\n     </g>\r\n     <g id=\"text_11\">\r\n      <!-- 4000 -->\r\n      <g transform=\"translate(20.878125 123.359572)scale(0.1 -0.1)\">\r\n       <defs>\r\n        <path d=\"M 37.796875 64.3125 \r\nL 12.890625 25.390625 \r\nL 37.796875 25.390625 \r\nz\r\nM 35.203125 72.90625 \r\nL 47.609375 72.90625 \r\nL 47.609375 25.390625 \r\nL 58.015625 25.390625 \r\nL 58.015625 17.1875 \r\nL 47.609375 17.1875 \r\nL 47.609375 0 \r\nL 37.796875 0 \r\nL 37.796875 17.1875 \r\nL 4.890625 17.1875 \r\nL 4.890625 26.703125 \r\nz\r\n\" id=\"DejaVuSans-52\"/>\r\n       </defs>\r\n       <use xlink:href=\"#DejaVuSans-52\"/>\r\n       <use x=\"63.623047\" xlink:href=\"#DejaVuSans-48\"/>\r\n       <use x=\"127.246094\" xlink:href=\"#DejaVuSans-48\"/>\r\n       <use x=\"190.869141\" xlink:href=\"#DejaVuSans-48\"/>\r\n      </g>\r\n     </g>\r\n    </g>\r\n    <g id=\"ytick_6\">\r\n     <g id=\"line2d_11\">\r\n      <g>\r\n       <use style=\"stroke:#000000;stroke-width:0.8;\" x=\"53.328125\" xlink:href=\"#m6a4c36d1d5\" y=\"93.290441\"/>\r\n      </g>\r\n     </g>\r\n     <g id=\"text_12\">\r\n      <!-- 5000 -->\r\n      <g transform=\"translate(20.878125 97.08966)scale(0.1 -0.1)\">\r\n       <use xlink:href=\"#DejaVuSans-53\"/>\r\n       <use x=\"63.623047\" xlink:href=\"#DejaVuSans-48\"/>\r\n       <use x=\"127.246094\" xlink:href=\"#DejaVuSans-48\"/>\r\n       <use x=\"190.869141\" xlink:href=\"#DejaVuSans-48\"/>\r\n      </g>\r\n     </g>\r\n    </g>\r\n    <g id=\"ytick_7\">\r\n     <g id=\"line2d_12\">\r\n      <g>\r\n       <use style=\"stroke:#000000;stroke-width:0.8;\" x=\"53.328125\" xlink:href=\"#m6a4c36d1d5\" y=\"67.02053\"/>\r\n      </g>\r\n     </g>\r\n     <g id=\"text_13\">\r\n      <!-- 6000 -->\r\n      <g transform=\"translate(20.878125 70.819748)scale(0.1 -0.1)\">\r\n       <defs>\r\n        <path d=\"M 33.015625 40.375 \r\nQ 26.375 40.375 22.484375 35.828125 \r\nQ 18.609375 31.296875 18.609375 23.390625 \r\nQ 18.609375 15.53125 22.484375 10.953125 \r\nQ 26.375 6.390625 33.015625 6.390625 \r\nQ 39.65625 6.390625 43.53125 10.953125 \r\nQ 47.40625 15.53125 47.40625 23.390625 \r\nQ 47.40625 31.296875 43.53125 35.828125 \r\nQ 39.65625 40.375 33.015625 40.375 \r\nz\r\nM 52.59375 71.296875 \r\nL 52.59375 62.3125 \r\nQ 48.875 64.0625 45.09375 64.984375 \r\nQ 41.3125 65.921875 37.59375 65.921875 \r\nQ 27.828125 65.921875 22.671875 59.328125 \r\nQ 17.53125 52.734375 16.796875 39.40625 \r\nQ 19.671875 43.65625 24.015625 45.921875 \r\nQ 28.375 48.1875 33.59375 48.1875 \r\nQ 44.578125 48.1875 50.953125 41.515625 \r\nQ 57.328125 34.859375 57.328125 23.390625 \r\nQ 57.328125 12.15625 50.6875 5.359375 \r\nQ 44.046875 -1.421875 33.015625 -1.421875 \r\nQ 20.359375 -1.421875 13.671875 8.265625 \r\nQ 6.984375 17.96875 6.984375 36.375 \r\nQ 6.984375 53.65625 15.1875 63.9375 \r\nQ 23.390625 74.21875 37.203125 74.21875 \r\nQ 40.921875 74.21875 44.703125 73.484375 \r\nQ 48.484375 72.75 52.59375 71.296875 \r\nz\r\n\" id=\"DejaVuSans-54\"/>\r\n       </defs>\r\n       <use xlink:href=\"#DejaVuSans-54\"/>\r\n       <use x=\"63.623047\" xlink:href=\"#DejaVuSans-48\"/>\r\n       <use x=\"127.246094\" xlink:href=\"#DejaVuSans-48\"/>\r\n       <use x=\"190.869141\" xlink:href=\"#DejaVuSans-48\"/>\r\n      </g>\r\n     </g>\r\n    </g>\r\n    <g id=\"ytick_8\">\r\n     <g id=\"line2d_13\">\r\n      <g>\r\n       <use style=\"stroke:#000000;stroke-width:0.8;\" x=\"53.328125\" xlink:href=\"#m6a4c36d1d5\" y=\"40.750618\"/>\r\n      </g>\r\n     </g>\r\n     <g id=\"text_14\">\r\n      <!-- 7000 -->\r\n      <g transform=\"translate(20.878125 44.549837)scale(0.1 -0.1)\">\r\n       <defs>\r\n        <path d=\"M 8.203125 72.90625 \r\nL 55.078125 72.90625 \r\nL 55.078125 68.703125 \r\nL 28.609375 0 \r\nL 18.3125 0 \r\nL 43.21875 64.59375 \r\nL 8.203125 64.59375 \r\nz\r\n\" id=\"DejaVuSans-55\"/>\r\n       </defs>\r\n       <use xlink:href=\"#DejaVuSans-55\"/>\r\n       <use x=\"63.623047\" xlink:href=\"#DejaVuSans-48\"/>\r\n       <use x=\"127.246094\" xlink:href=\"#DejaVuSans-48\"/>\r\n       <use x=\"190.869141\" xlink:href=\"#DejaVuSans-48\"/>\r\n      </g>\r\n     </g>\r\n    </g>\r\n    <g id=\"ytick_9\">\r\n     <g id=\"line2d_14\">\r\n      <g>\r\n       <use style=\"stroke:#000000;stroke-width:0.8;\" x=\"53.328125\" xlink:href=\"#m6a4c36d1d5\" y=\"14.480706\"/>\r\n      </g>\r\n     </g>\r\n     <g id=\"text_15\">\r\n      <!-- 8000 -->\r\n      <g transform=\"translate(20.878125 18.279925)scale(0.1 -0.1)\">\r\n       <defs>\r\n        <path d=\"M 31.78125 34.625 \r\nQ 24.75 34.625 20.71875 30.859375 \r\nQ 16.703125 27.09375 16.703125 20.515625 \r\nQ 16.703125 13.921875 20.71875 10.15625 \r\nQ 24.75 6.390625 31.78125 6.390625 \r\nQ 38.8125 6.390625 42.859375 10.171875 \r\nQ 46.921875 13.96875 46.921875 20.515625 \r\nQ 46.921875 27.09375 42.890625 30.859375 \r\nQ 38.875 34.625 31.78125 34.625 \r\nz\r\nM 21.921875 38.8125 \r\nQ 15.578125 40.375 12.03125 44.71875 \r\nQ 8.5 49.078125 8.5 55.328125 \r\nQ 8.5 64.0625 14.71875 69.140625 \r\nQ 20.953125 74.21875 31.78125 74.21875 \r\nQ 42.671875 74.21875 48.875 69.140625 \r\nQ 55.078125 64.0625 55.078125 55.328125 \r\nQ 55.078125 49.078125 51.53125 44.71875 \r\nQ 48 40.375 41.703125 38.8125 \r\nQ 48.828125 37.15625 52.796875 32.3125 \r\nQ 56.78125 27.484375 56.78125 20.515625 \r\nQ 56.78125 9.90625 50.3125 4.234375 \r\nQ 43.84375 -1.421875 31.78125 -1.421875 \r\nQ 19.734375 -1.421875 13.25 4.234375 \r\nQ 6.78125 9.90625 6.78125 20.515625 \r\nQ 6.78125 27.484375 10.78125 32.3125 \r\nQ 14.796875 37.15625 21.921875 38.8125 \r\nz\r\nM 18.3125 54.390625 \r\nQ 18.3125 48.734375 21.84375 45.5625 \r\nQ 25.390625 42.390625 31.78125 42.390625 \r\nQ 38.140625 42.390625 41.71875 45.5625 \r\nQ 45.3125 48.734375 45.3125 54.390625 \r\nQ 45.3125 60.0625 41.71875 63.234375 \r\nQ 38.140625 66.40625 31.78125 66.40625 \r\nQ 25.390625 66.40625 21.84375 63.234375 \r\nQ 18.3125 60.0625 18.3125 54.390625 \r\nz\r\n\" id=\"DejaVuSans-56\"/>\r\n       </defs>\r\n       <use xlink:href=\"#DejaVuSans-56\"/>\r\n       <use x=\"63.623047\" xlink:href=\"#DejaVuSans-48\"/>\r\n       <use x=\"127.246094\" xlink:href=\"#DejaVuSans-48\"/>\r\n       <use x=\"190.869141\" xlink:href=\"#DejaVuSans-48\"/>\r\n      </g>\r\n     </g>\r\n    </g>\r\n    <g id=\"text_16\">\r\n     <!-- number of titles -->\r\n     <g transform=\"translate(14.798438 155.811406)rotate(-90)scale(0.1 -0.1)\">\r\n      <defs>\r\n       <path d=\"M 8.5 21.578125 \r\nL 8.5 54.6875 \r\nL 17.484375 54.6875 \r\nL 17.484375 21.921875 \r\nQ 17.484375 14.15625 20.5 10.265625 \r\nQ 23.53125 6.390625 29.59375 6.390625 \r\nQ 36.859375 6.390625 41.078125 11.03125 \r\nQ 45.3125 15.671875 45.3125 23.6875 \r\nL 45.3125 54.6875 \r\nL 54.296875 54.6875 \r\nL 54.296875 0 \r\nL 45.3125 0 \r\nL 45.3125 8.40625 \r\nQ 42.046875 3.421875 37.71875 1 \r\nQ 33.40625 -1.421875 27.6875 -1.421875 \r\nQ 18.265625 -1.421875 13.375 4.4375 \r\nQ 8.5 10.296875 8.5 21.578125 \r\nz\r\nM 31.109375 56 \r\nz\r\n\" id=\"DejaVuSans-117\"/>\r\n       <path d=\"M 52 44.1875 \r\nQ 55.375 50.25 60.0625 53.125 \r\nQ 64.75 56 71.09375 56 \r\nQ 79.640625 56 84.28125 50.015625 \r\nQ 88.921875 44.046875 88.921875 33.015625 \r\nL 88.921875 0 \r\nL 79.890625 0 \r\nL 79.890625 32.71875 \r\nQ 79.890625 40.578125 77.09375 44.375 \r\nQ 74.3125 48.1875 68.609375 48.1875 \r\nQ 61.625 48.1875 57.5625 43.546875 \r\nQ 53.515625 38.921875 53.515625 30.90625 \r\nL 53.515625 0 \r\nL 44.484375 0 \r\nL 44.484375 32.71875 \r\nQ 44.484375 40.625 41.703125 44.40625 \r\nQ 38.921875 48.1875 33.109375 48.1875 \r\nQ 26.21875 48.1875 22.15625 43.53125 \r\nQ 18.109375 38.875 18.109375 30.90625 \r\nL 18.109375 0 \r\nL 9.078125 0 \r\nL 9.078125 54.6875 \r\nL 18.109375 54.6875 \r\nL 18.109375 46.1875 \r\nQ 21.1875 51.21875 25.484375 53.609375 \r\nQ 29.78125 56 35.6875 56 \r\nQ 41.65625 56 45.828125 52.96875 \r\nQ 50 49.953125 52 44.1875 \r\nz\r\n\" id=\"DejaVuSans-109\"/>\r\n       <path d=\"M 48.6875 27.296875 \r\nQ 48.6875 37.203125 44.609375 42.84375 \r\nQ 40.53125 48.484375 33.40625 48.484375 \r\nQ 26.265625 48.484375 22.1875 42.84375 \r\nQ 18.109375 37.203125 18.109375 27.296875 \r\nQ 18.109375 17.390625 22.1875 11.75 \r\nQ 26.265625 6.109375 33.40625 6.109375 \r\nQ 40.53125 6.109375 44.609375 11.75 \r\nQ 48.6875 17.390625 48.6875 27.296875 \r\nz\r\nM 18.109375 46.390625 \r\nQ 20.953125 51.265625 25.265625 53.625 \r\nQ 29.59375 56 35.59375 56 \r\nQ 45.5625 56 51.78125 48.09375 \r\nQ 58.015625 40.1875 58.015625 27.296875 \r\nQ 58.015625 14.40625 51.78125 6.484375 \r\nQ 45.5625 -1.421875 35.59375 -1.421875 \r\nQ 29.59375 -1.421875 25.265625 0.953125 \r\nQ 20.953125 3.328125 18.109375 8.203125 \r\nL 18.109375 0 \r\nL 9.078125 0 \r\nL 9.078125 75.984375 \r\nL 18.109375 75.984375 \r\nz\r\n\" id=\"DejaVuSans-98\"/>\r\n       <path d=\"M 41.109375 46.296875 \r\nQ 39.59375 47.171875 37.8125 47.578125 \r\nQ 36.03125 48 33.890625 48 \r\nQ 26.265625 48 22.1875 43.046875 \r\nQ 18.109375 38.09375 18.109375 28.8125 \r\nL 18.109375 0 \r\nL 9.078125 0 \r\nL 9.078125 54.6875 \r\nL 18.109375 54.6875 \r\nL 18.109375 46.1875 \r\nQ 20.953125 51.171875 25.484375 53.578125 \r\nQ 30.03125 56 36.53125 56 \r\nQ 37.453125 56 38.578125 55.875 \r\nQ 39.703125 55.765625 41.0625 55.515625 \r\nz\r\n\" id=\"DejaVuSans-114\"/>\r\n      </defs>\r\n      <use xlink:href=\"#DejaVuSans-110\"/>\r\n      <use x=\"63.378906\" xlink:href=\"#DejaVuSans-117\"/>\r\n      <use x=\"126.757812\" xlink:href=\"#DejaVuSans-109\"/>\r\n      <use x=\"224.169922\" xlink:href=\"#DejaVuSans-98\"/>\r\n      <use x=\"287.646484\" xlink:href=\"#DejaVuSans-101\"/>\r\n      <use x=\"349.169922\" xlink:href=\"#DejaVuSans-114\"/>\r\n      <use x=\"390.283203\" xlink:href=\"#DejaVuSans-32\"/>\r\n      <use x=\"422.070312\" xlink:href=\"#DejaVuSans-111\"/>\r\n      <use x=\"483.251953\" xlink:href=\"#DejaVuSans-102\"/>\r\n      <use x=\"518.457031\" xlink:href=\"#DejaVuSans-32\"/>\r\n      <use x=\"550.244141\" xlink:href=\"#DejaVuSans-116\"/>\r\n      <use x=\"589.453125\" xlink:href=\"#DejaVuSans-105\"/>\r\n      <use x=\"617.236328\" xlink:href=\"#DejaVuSans-116\"/>\r\n      <use x=\"656.445312\" xlink:href=\"#DejaVuSans-108\"/>\r\n      <use x=\"684.228516\" xlink:href=\"#DejaVuSans-101\"/>\r\n      <use x=\"745.751953\" xlink:href=\"#DejaVuSans-115\"/>\r\n     </g>\r\n    </g>\r\n   </g>\r\n   <g id=\"patch_53\">\r\n    <path d=\"M 53.328125 224.64 \r\nL 53.328125 7.2 \r\n\" style=\"fill:none;stroke:#000000;stroke-linecap:square;stroke-linejoin:miter;stroke-width:0.8;\"/>\r\n   </g>\r\n   <g id=\"patch_54\">\r\n    <path d=\"M 388.128125 224.64 \r\nL 388.128125 7.2 \r\n\" style=\"fill:none;stroke:#000000;stroke-linecap:square;stroke-linejoin:miter;stroke-width:0.8;\"/>\r\n   </g>\r\n   <g id=\"patch_55\">\r\n    <path d=\"M 53.328125 224.64 \r\nL 388.128125 224.64 \r\n\" style=\"fill:none;stroke:#000000;stroke-linecap:square;stroke-linejoin:miter;stroke-width:0.8;\"/>\r\n   </g>\r\n   <g id=\"patch_56\">\r\n    <path d=\"M 53.328125 7.2 \r\nL 388.128125 7.2 \r\n\" style=\"fill:none;stroke:#000000;stroke-linecap:square;stroke-linejoin:miter;stroke-width:0.8;\"/>\r\n   </g>\r\n  </g>\r\n </g>\r\n <defs>\r\n  <clipPath id=\"p4b39ecb5dc\">\r\n   <rect height=\"217.44\" width=\"334.8\" x=\"53.328125\" y=\"7.2\"/>\r\n  </clipPath>\r\n </defs>\r\n</svg>\r\n",
            "image/png": "[encoded data removed]"
          },
          "metadata": {
            "needs_background": "light"
          }
        }
      ]
    },
    {
      "cell_type": "markdown",
      "metadata": {
        "id": "sOvN3Hi5oIqZ"
      },
      "source": [
        "## Load Model"
      ]
    },
    {
      "cell_type": "code",
      "metadata": {
        "id": "MJ2lLWq8h3P9"
      },
      "source": [
        "from gensim.models import KeyedVectors\n",
        "from gensim.models import Word2Vec\n",
        "\n",
        "# 벡터 임베딩한 모델 불러오기\n",
        "model = KeyedVectors.load_word2vec_format(\"pretest_w2v\")"
      ],
      "execution_count": 8,
      "outputs": []
    },
    {
      "cell_type": "code",
      "execution_count": 9,
      "metadata": {},
      "outputs": [
        {
          "output_type": "execute_result",
          "data": {
            "text/plain": [
              "[('즉흥댄스', 0.3725656569004059),\n",
              " ('잡으러', 0.3662964105606079),\n",
              " ('선보인', 0.3612181544303894),\n",
              " ('는', 0.35454457998275757),\n",
              " ('체조요정', 0.3529532551765442),\n",
              " ('기우', 0.3480931222438812),\n",
              " ('저격', 0.3453805446624756),\n",
              " ('기재부', 0.34003037214279175),\n",
              " ('100억', 0.34001636505126953),\n",
              " ('들을', 0.338901162147522),\n",
              " ('수현', 0.33877938985824585),\n",
              " ('같은데', 0.3376886248588562),\n",
              " ('겨울캠핑', 0.3356877565383911),\n",
              " (':heart_suit:이유비', 0.330501526594162),\n",
              " ('꽤', 0.32821011543273926),\n",
              " ('지키기', 0.3280877470970154),\n",
              " ('호랑이', 0.32417553663253784),\n",
              " ('집밥', 0.323672354221344),\n",
              " ('직강', 0.32362672686576843),\n",
              " ('방금', 0.3234623074531555)]"
            ]
          },
          "metadata": {},
          "execution_count": 9
        }
      ],
      "source": [
        "# 모델 잘 불러져왔는지 확인\n",
        "model.most_similar('브이로그', topn = 20)"
      ]
    },
    {
      "cell_type": "code",
      "execution_count": 24,
      "metadata": {},
      "outputs": [
        {
          "output_type": "execute_result",
          "data": {
            "text/plain": [
              "array([nan, nan, nan, nan, nan, nan, nan, nan, nan, nan, nan, nan, nan,\n",
              "       nan, nan, nan, nan, nan, nan, nan, nan, nan, nan, nan, nan, nan,\n",
              "       nan, nan, nan, nan, nan, nan, nan, nan, nan, nan, nan, nan, nan,\n",
              "       nan, nan, nan, nan, nan, nan, nan, nan, nan, nan, nan, nan, nan,\n",
              "       nan, nan, nan, nan, nan, nan, nan, nan, nan, nan, nan, nan, nan,\n",
              "       nan, nan, nan, nan, nan, nan, nan, nan, nan, nan, nan, nan, nan,\n",
              "       nan, nan, nan, nan, nan, nan, nan, nan, nan, nan, nan, nan, nan,\n",
              "       nan, nan, nan, nan, nan, nan, nan, nan, nan], dtype=float32)"
            ]
          },
          "metadata": {},
          "execution_count": 24
        }
      ],
      "source": [
        "vectors = model.wv.vectors          # 단어 벡터\n",
        "empty = np.empty_like(vectors[0])   # 단어 벡터의 크기 만큼의 array 생성\n",
        "empty[:] = np.nan                   # nan으로 초기화\n",
        "empty                               # empty array 생성 >> 이후 제목 벡터 존재하지 않을 시 사용\n"
      ]
    },
    {
      "source": [
        "## Title Vectorization"
      ],
      "cell_type": "markdown",
      "metadata": {}
    },
    {
      "cell_type": "code",
      "metadata": {
        "id": "66VgML8hJBoD"
      },
      "source": [
        "# 단어 벡터들의 평균 -> 제목 벡터 \n",
        "\n",
        "def vectors(title_list):\n",
        "    title_vec = []      # 제목 벡터들 저장할 list\n",
        "\n",
        "    for line in title_list:\n",
        "        tit2vec = None  # 제목벡터\n",
        "        count = 0       # 단어 수 count\n",
        "        for word in line.split():       # 제목의 각 단어\n",
        "            if word in model.wv.vocab:  # 모델의 사전에 존재할 시\n",
        "                count += 1              # 제목의 단어 수 증가\n",
        "                \n",
        "                # 해당 문서에 있는 모든 단어들의 벡터값 더하기\n",
        "                if tit2vec is None:\n",
        "                    tit2vec = model[word]   \n",
        "                else:\n",
        "                    tit2vec = tit2vec + model[word]\n",
        "\n",
        "        if tit2vec is not None:\n",
        "            tit2vec = tit2vec / count   # 제목벡터 >> 단어 벡터의 합을 단어 수로 나누기\n",
        "            title_vec.append(tit2vec)   # 제목벡터 추가\n",
        "        else:  # 제목의 모든 단어가 문서에 존재하지 않을 시 >> Nan\n",
        "            title_vec.append(empty)\n",
        "    # 각 제목에 대한 제목벡터 리스트를 반환\n",
        "    return title_vec\n"
      ],
      "execution_count": 25,
      "outputs": []
    },
    {
      "source": [
        "단어 벡터 생성시 min_count = 5로 지정했기 때문에 해당 제목에만 있는 단어들로 이루어져 있을 시 제목 벡터 생성이 안 될 수도 있다."
      ],
      "cell_type": "markdown",
      "metadata": {}
    },
    {
      "cell_type": "code",
      "metadata": {
        "id": "B4QW1cQLUF30",
        "colab": {
          "base_uri": "https://localhost:8080/"
        },
        "outputId": "af87c6b5-d897-411c-e092-7f788c0f18c9",
        "tags": []
      },
      "source": [
        "title_vec = vectors(titles)\n",
        "print('제목 벡터의 수 :',len(title_vec))"
      ],
      "execution_count": 26,
      "outputs": [
        {
          "output_type": "stream",
          "name": "stdout",
          "text": [
            "제목 벡터의 수 : 101164\n"
          ]
        }
      ]
    },
    {
      "cell_type": "code",
      "metadata": {
        "colab": {
          "base_uri": "https://localhost:8080/"
        },
        "id": "SHf87gYnovxe",
        "outputId": "2354839c-7524-40c3-ff2e-66c64f583402"
      },
      "source": [
        "# 앞쪽 3개의 제목 벡터 출력\n",
        "title_vec[:3] "
      ],
      "execution_count": 27,
      "outputs": [
        {
          "output_type": "execute_result",
          "data": {
            "text/plain": [
              "-04, -3.2932198e-04,  5.9512130e-04, -1.8517813e-03],\n",
              "       dtype=float32),\n",
              " array([ 1.85044110e-03, -4.89520549e-04, -4.74296510e-04,  8.78518913e-04,\n",
              "         8.77982064e-04,  3.25402943e-04, -8.98174883e-04,  1.42457243e-03,\n",
              "        -1.43098284e-03,  6.73769100e-04,  2.14792206e-03,  3.80474236e-03,\n",
              "         1.52953854e-03, -2.14097046e-04,  8.13122198e-04, -7.51501240e-04,\n",
              "         3.65094724e-03,  1.96125751e-04, -1.00872945e-04,  2.05841221e-04,\n",
              "         3.48409339e-05, -7.34992558e-04,  3.25117353e-03, -1.65457616e-03,\n",
              "         3.42224259e-03, -3.05391644e-04, -2.64840410e-03, -9.30543349e-04,\n",
              "         2.23470759e-03,  2.70955265e-04, -2.12861621e-03, -2.51268269e-03,\n",
              "         1.23564899e-03,  4.01864905e-04, -1.44277420e-03, -1.69640334e-04,\n",
              "        -1.62959797e-03,  1.83790049e-03, -2.14675255e-03,  1.74273329e-03,\n",
              "         1.91359781e-03, -2.19608378e-03, -1.84007920e-03,  2.06923950e-03,\n",
              "        -7.05897750e-04,  3.43670021e-03, -8.64509493e-04,  8.49645294e-04,\n",
              "         2.29880912e-04,  4.10565548e-03,  1.77360291e-03,  1.46602059e-03,\n",
              "        -5.51574223e-04,  1.91909669e-03,  2.26970785e-03, -1.19279220e-03,\n",
              "        -1.43405981e-03, -9.01142077e-04,  1.36678421e-03,  1.50127755e-03,\n",
              "         1.46005058e-03, -1.15328829e-03, -1.10759540e-03,  3.92123731e-03,\n",
              "         2.07430404e-03, -6.68400258e-04, -1.94083003e-03, -4.08071512e-03,\n",
              "        -5.37341635e-04, -1.41873013e-03, -3.41133517e-03,  5.82760433e-04,\n",
              "        -1.93203639e-04, -3.15164332e-03, -1.43377006e-03,  7.33472814e-04,\n",
              "        -3.12715973e-04,  1.32238853e-03, -1.30895583e-03, -2.18811841e-03,\n",
              "         1.50223484e-03,  4.38430980e-05, -4.76588408e-04,  9.02779691e-04,\n",
              "        -2.55805720e-03,  2.54725595e-03,  2.77678552e-03,  1.19381933e-03,\n",
              "        -1.23543164e-03,  6.35949022e-04,  1.86147692e-03,  1.35323871e-03,\n",
              "        -2.34584021e-03,  2.35779840e-03, -2.24117655e-03,  2.91259657e-03,\n",
              "         2.65474408e-03, -1.16319035e-03,  9.55457799e-04,  2.37158942e-03],\n",
              "       dtype=float32)]"
            ]
          },
          "metadata": {},
          "execution_count": 27
        }
      ]
    },
    {
      "cell_type": "code",
      "metadata": {
        "id": "pFqdo6fv0s55"
      },
      "source": [
        "titvec_df = pd.DataFrame(title_vec) # 제목 벡터 df생성"
      ],
      "execution_count": 31,
      "outputs": []
    },
    {
      "cell_type": "code",
      "execution_count": 33,
      "metadata": {},
      "outputs": [
        {
          "output_type": "execute_result",
          "data": {
            "text/plain": [
              "0     932\n",
              "1     932\n",
              "2     932\n",
              "3     932\n",
              "4     932\n",
              "     ... \n",
              "95    932\n",
              "96    932\n",
              "97    932\n",
              "98    932\n",
              "99    932\n",
              "Length: 100, dtype: int64"
            ]
          },
          "metadata": {},
          "execution_count": 33
        }
      ],
      "source": [
        "titvec_df.isna().sum() # 932개의 제목들에 대해 제목 벡터가 생성되지 않음"
      ]
    },
    {
      "cell_type": "code",
      "execution_count": 34,
      "metadata": {},
      "outputs": [],
      "source": [
        "titvec_df.insert(loc=0, column='title', value=titles)   # 제목 벡터에 title column 추가"
      ]
    },
    {
      "cell_type": "code",
      "execution_count": 36,
      "metadata": {},
      "outputs": [
        {
          "output_type": "execute_result",
          "data": {
            "text/plain": [
              "0.001805  ...   \n",
              "4      -0.000120  0.000387  0.000172 -0.001413 -0.002598 -0.001201  ...   \n",
              "...          ...       ...       ...       ...       ...       ...  ...   \n",
              "101159  0.002079 -0.002520  0.001458  0.001792  0.000939  0.003139  ...   \n",
              "101160 -0.000169 -0.000596  0.000603  0.000580 -0.000785 -0.000069  ...   \n",
              "101161  0.002386 -0.000286  0.003877  0.000473  0.000419 -0.001916  ...   \n",
              "101162  0.001919 -0.002382  0.001520 -0.001006 -0.000282  0.002071  ...   \n",
              "101163  0.001553 -0.001530  0.000323 -0.001204 -0.000855 -0.001040  ...   \n",
              "\n",
              "              90        91        92        93        94        95        96  \\\n",
              "0       0.001503  0.000452 -0.001587  0.000547  0.001645  0.001004  0.001163   \n",
              "1       0.002260 -0.002857  0.000888 -0.001648 -0.001000  0.000527  0.000811   \n",
              "2       0.001861  0.001353 -0.002346  0.002358 -0.002241  0.002913  0.002655   \n",
              "3       0.002681 -0.000114 -0.001846  0.000614 -0.001330  0.001833 -0.000647   \n",
              "4       0.000420  0.000028  0.000692  0.000484  0.001661 -0.000975 -0.002726   \n",
              "...          ...       ...       ...       ...       ...       ...       ...   \n",
              "101159 -0.000243 -0.000059  0.001135  0.000623  0.000961 -0.000180  0.001221   \n",
              "101160  0.000585  0.000571 -0.002168  0.000030  0.001103  0.001746 -0.002547   \n",
              "101161 -0.001231 -0.000459 -0.003178 -0.000479  0.002403 -0.000833 -0.001094   \n",
              "101162 -0.001115  0.000456 -0.000228  0.000270 -0.000797 -0.001840  0.002459   \n",
              "101163 -0.000736  0.001026  0.002913 -0.000989 -0.000690  0.000883  0.000029   \n",
              "\n",
              "              97        98        99  \n",
              "0       0.000189  0.000820  0.001340  \n",
              "1      -0.000329  0.000595 -0.001852  \n",
              "2      -0.001163  0.000955  0.002372  \n",
              "3      -0.000026  0.000613  0.001600  \n",
              "4      -0.002886  0.003507 -0.001467  \n",
              "...          ...       ...       ...  \n",
              "101159 -0.003465  0.001871  0.001086  \n",
              "101160 -0.000875 -0.000229 -0.002455  \n",
              "101161 -0.000404 -0.000438 -0.000807  \n",
              "101162 -0.001244 -0.001092  0.001087  \n",
              "101163  0.001189  0.001921  0.000606  \n",
              "\n",
              "[101164 rows x 101 columns]"
            ],
            "text/html": "<div>\n<style scoped>\n    .dataframe tbody tr th:only-of-type {\n        vertical-align: middle;\n    }\n\n    .dataframe tbody tr th {\n        vertical-align: top;\n    }\n\n    .dataframe thead th {\n        text-align: right;\n    }\n</style>\n<table border=\"1\" class=\"dataframe\">\n  <thead>\n    <tr style=\"text-align: right;\">\n      <th></th>\n      <th>title</th>\n      <th>0</th>\n      <th>1</th>\n      <th>2</th>\n      <th>3</th>\n      <th>4</th>\n      <th>5</th>\n      <th>6</th>\n      <th>7</th>\n      <th>8</th>\n      <th>...</th>\n      <th>90</th>\n      <th>91</th>\n      <th>92</th>\n      <th>93</th>\n      <th>94</th>\n      <th>95</th>\n      <th>96</th>\n      <th>97</th>\n      <th>98</th>\n      <th>99</th>\n    </tr>\n  </thead>\n  <tbody>\n    <tr>\n      <th>0</th>\n      <td>만 19세 연봉 1억 친구와 레스토랑 브이로그</td>\n      <td>0.000256</td>\n      <td>-0.000097</td>\n      <td>0.001557</td>\n      <td>0.001341</td>\n      <td>-0.000210</td>\n      <td>-0.000190</td>\n      <td>-0.001032</td>\n      <td>0.001506</td>\n      <td>-0.000101</td>\n      <td>...</td>\n      <td>0.001503</td>\n      <td>0.000452</td>\n      <td>-0.001587</td>\n      <td>0.000547</td>\n      <td>0.001645</td>\n      <td>0.001004</td>\n      <td>0.001163</td>\n      <td>0.000189</td>\n      <td>0.000820</td>\n      <td>0.001340</td>\n    </tr>\n    <tr>\n      <th>1</th>\n      <td>bbq 신메뉴 체고치 순살 먹어봄</td>\n      <td>-0.000863</td>\n      <td>0.002012</td>\n      <td>-0.002427</td>\n      <td>0.001658</td>\n      <td>0.002290</td>\n      <td>-0.001212</td>\n      <td>-0.000027</td>\n      <td>0.000117</td>\n      <td>0.000080</td>\n      <td>...</td>\n      <td>0.002260</td>\n      <td>-0.002857</td>\n      <td>0.000888</td>\n      <td>-0.001648</td>\n      <td>-0.001000</td>\n      <td>0.000527</td>\n      <td>0.000811</td>\n      <td>-0.000329</td>\n      <td>0.000595</td>\n      <td>-0.001852</td>\n    </tr>\n    <tr>\n      <th>2</th>\n      <td>구찌 라이톤이랑 시계 후기</td>\n      <td>0.001850</td>\n      <td>-0.000490</td>\n      <td>-0.000474</td>\n      <td>0.000879</td>\n      <td>0.000878</td>\n      <td>0.000325</td>\n      <td>-0.000898</td>\n      <td>0.001425</td>\n      <td>-0.001431</td>\n      <td>...</td>\n      <td>0.001861</td>\n      <td>0.001353</td>\n      <td>-0.002346</td>\n      <td>0.002358</td>\n      <td>-0.002241</td>\n      <td>0.002913</td>\n      <td>0.002655</td>\n      <td>-0.001163</td>\n      <td>0.000955</td>\n      <td>0.002372</td>\n    </tr>\n    <tr>\n      <th>3</th>\n      <td>엽기 로제떡볶이랑 허니 콤보 혼내줌</td>\n      <td>-0.000033</td>\n      <td>0.000794</td>\n      <td>0.001980</td>\n      <td>0.000153</td>\n      <td>0.000968</td>\n      <td>0.001949</td>\n      <td>0.001016</td>\n      <td>0.002044</td>\n      <td>-0.001805</td>\n      <td>...</td>\n      <td>0.002681</td>\n      <td>-0.000114</td>\n      <td>-0.001846</td>\n      <td>0.000614</td>\n      <td>-0.001330</td>\n      <td>0.001833</td>\n      <td>-0.000647</td>\n      <td>-0.000026</td>\n      <td>0.000613</td>\n      <td>0.001600</td>\n    </tr>\n    <tr>\n      <th>4</th>\n      <td>어림도 없지 바로 마라탕 먹어버림</td>\n      <td>0.001274</td>\n      <td>-0.001929</td>\n      <td>-0.000484</td>\n      <td>-0.000120</td>\n      <td>0.000387</td>\n      <td>0.000172</td>\n      <td>-0.001413</td>\n      <td>-0.002598</td>\n      <td>-0.001201</td>\n      <td>...</td>\n      <td>0.000420</td>\n      <td>0.000028</td>\n      <td>0.000692</td>\n      <td>0.000484</td>\n      <td>0.001661</td>\n      <td>-0.000975</td>\n      <td>-0.002726</td>\n      <td>-0.002886</td>\n      <td>0.003507</td>\n      <td>-0.001467</td>\n    </tr>\n    <tr>\n      <th>...</th>\n      <td>...</td>\n      <td>...</td>\n      <td>...</td>\n      <td>...</td>\n      <td>...</td>\n      <td>...</td>\n      <td>...</td>\n      <td>...</td>\n      <td>...</td>\n      <td>...</td>\n      <td>...</td>\n      <td>...</td>\n      <td>...</td>\n      <td>...</td>\n      <td>...</td>\n      <td>...</td>\n      <td>...</td>\n      <td>...</td>\n      <td>...</td>\n      <td>...</td>\n      <td>...</td>\n    </tr>\n    <tr>\n      <th>101159</th>\n      <td>현실남매 먹방하러 갔다가 진짜 싸웠습니다</td>\n      <td>0.000922</td>\n      <td>0.000595</td>\n      <td>-0.000680</td>\n      <td>0.002079</td>\n      <td>-0.002520</td>\n      <td>0.001458</td>\n      <td>0.001792</td>\n      <td>0.000939</td>\n      <td>0.003139</td>\n      <td>...</td>\n      <td>-0.000243</td>\n      <td>-0.000059</td>\n      <td>0.001135</td>\n      <td>0.000623</td>\n      <td>0.000961</td>\n      <td>-0.000180</td>\n      <td>0.001221</td>\n      <td>-0.003465</td>\n      <td>0.001871</td>\n      <td>0.001086</td>\n    </tr>\n    <tr>\n      <th>101160</th>\n      <td>직업체험 dj예나 일일 매니저 월디페 world dj festival</td>\n      <td>0.001650</td>\n      <td>0.001431</td>\n      <td>0.001740</td>\n      <td>-0.000169</td>\n      <td>-0.000596</td>\n      <td>0.000603</td>\n      <td>0.000580</td>\n      <td>-0.000785</td>\n      <td>-0.000069</td>\n      <td>...</td>\n      <td>0.000585</td>\n      <td>0.000571</td>\n      <td>-0.002168</td>\n      <td>0.000030</td>\n      <td>0.001103</td>\n      <td>0.001746</td>\n      <td>-0.002547</td>\n      <td>-0.000875</td>\n      <td>-0.000229</td>\n      <td>-0.002455</td>\n    </tr>\n    <tr>\n      <th>101161</th>\n      <td>저의 슈퍼모델 친구들을 소개합니다</td>\n      <td>0.002228</td>\n      <td>-0.001478</td>\n      <td>-0.002345</td>\n      <td>0.002386</td>\n      <td>-0.000286</td>\n      <td>0.003877</td>\n      <td>0.000473</td>\n      <td>0.000419</td>\n      <td>-0.001916</td>\n      <td>...</td>\n      <td>-0.001231</td>\n      <td>-0.000459</td>\n      <td>-0.003178</td>\n      <td>-0.000479</td>\n      <td>0.002403</td>\n      <td>-0.000833</td>\n      <td>-0.001094</td>\n      <td>-0.000404</td>\n      <td>-0.000438</td>\n      <td>-0.000807</td>\n    </tr>\n    <tr>\n      <th>101162</th>\n      <td>현실남매 우리만 이런건가요 ? 남들이 이해 못하는 현실남매</td>\n      <td>0.002771</td>\n      <td>-0.000094</td>\n      <td>0.002030</td>\n      <td>0.001919</td>\n      <td>-0.002382</td>\n      <td>0.001520</td>\n      <td>-0.001006</td>\n      <td>-0.000282</td>\n      <td>0.002071</td>\n      <td>...</td>\n      <td>-0.001115</td>\n      <td>0.000456</td>\n      <td>-0.000228</td>\n      <td>0.000270</td>\n      <td>-0.000797</td>\n      <td>-0.001840</td>\n      <td>0.002459</td>\n      <td>-0.001244</td>\n      <td>-0.001092</td>\n      <td>0.001087</td>\n    </tr>\n    <tr>\n      <th>101163</th>\n      <td>유튜브 시작하기 일반인이 유튜브를 시작하면 가장 많이하는 고민</td>\n      <td>-0.000429</td>\n      <td>0.001182</td>\n      <td>0.000258</td>\n      <td>0.001553</td>\n      <td>-0.001530</td>\n      <td>0.000323</td>\n      <td>-0.001204</td>\n      <td>-0.000855</td>\n      <td>-0.001040</td>\n      <td>...</td>\n      <td>-0.000736</td>\n      <td>0.001026</td>\n      <td>0.002913</td>\n      <td>-0.000989</td>\n      <td>-0.000690</td>\n      <td>0.000883</td>\n      <td>0.000029</td>\n      <td>0.001189</td>\n      <td>0.001921</td>\n      <td>0.000606</td>\n    </tr>\n  </tbody>\n</table>\n<p>101164 rows × 101 columns</p>\n</div>"
          },
          "metadata": {},
          "execution_count": 36
        }
      ],
      "source": [
        "titvec_df.to_csv('pretest_tit2vec.csv')\n",
        "titvec_df"
      ]
    },
    {
      "cell_type": "code",
      "execution_count": null,
      "metadata": {},
      "outputs": [],
      "source": []
    }
  ]
}