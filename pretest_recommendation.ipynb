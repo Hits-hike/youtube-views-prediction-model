{
  "nbformat": 4,
  "nbformat_minor": 0,
  "metadata": {
    "colab": {
      "name": "pretest_recommendation.ipynb",
      "provenance": [],
      "collapsed_sections": [
        "tvQkR6uaILop"
      ]
    },
    "kernelspec": {
      "name": "python385jvsc74a57bd06d46af94c2bbce495f1e668725902fa517c90b1782bcfe2fce0dd9868df553d3",
      "display_name": "Python 3.8.5 64-bit ('base': conda)"
    },
    "language_info": {
      "name": "python",
      "version": "3.8.5"
    },
    "accelerator": "GPU"
  },
  "cells": [
    {
      "cell_type": "code",
      "metadata": {
        "colab": {
          "base_uri": "https://localhost:8080/"
        },
        "id": "i54-riV5JEA6",
        "outputId": "2aeb6cf1-edcb-4b1a-f8b1-0ee80d987e97"
      },
      "source": [
        "from google.colab import drive\n",
        "drive.mount('/content/gdrive')"
      ],
      "execution_count": 1,
      "outputs": [
        {
          "output_type": "stream",
          "text": [
            "Mounted at /content/gdrive\n"
          ],
          "name": "stdout"
        }
      ]
    },
    {
      "cell_type": "code",
      "metadata": {
        "id": "m3JE9nLYJLxW"
      },
      "source": [
        "import os\n",
        "os.chdir('/content/gdrive/MyDrive/2021/졸업프로젝트 code')"
      ],
      "execution_count": 2,
      "outputs": []
    },
    {
      "cell_type": "code",
      "metadata": {
        "colab": {
          "base_uri": "https://localhost:8080/"
        },
        "id": "bOCI3msqAluD",
        "outputId": "023efe75-1fa3-448c-c9d8-637522039a0c"
      },
      "source": [
        "import torch  # torch version check\n",
        "print(\"Torch version:{}\".format(torch.__version__))\n",
        "print(\"cuda version: {}\".format(torch.version.cuda))\n",
        "print(\"cudnn version:{}\".format(torch.backends.cudnn.version()))"
      ],
      "execution_count": 3,
      "outputs": [
        {
          "output_type": "stream",
          "text": [
            "Torch version:1.8.1+cu101\n",
            "cuda version: 10.1\n",
            "cudnn version:7603\n"
          ],
          "name": "stdout"
        }
      ]
    },
    {
      "cell_type": "code",
      "metadata": {
        "colab": {
          "base_uri": "https://localhost:8080/"
        },
        "id": "slC0yNK7Axl9",
        "outputId": "35ac923b-a0b1-4753-df1e-60547f6975ae"
      },
      "source": [
        "# Python faiss 통해 벡터 유사도 구하기 -> scikit-learn에서 제공하는 것보다 빠름 + GPU제공\n",
        "!pip install faiss-gpu"
      ],
      "execution_count": 4,
      "outputs": [
        {
          "output_type": "stream",
          "text": [
            "Collecting faiss-gpu\n",
            "\u001b[?25l  Downloading https://files.pythonhosted.org/packages/5d/36/383911b8edf8c29cb7e9e8aee4e6b69b0f36c52237e3a06ce64a9551ef22/faiss_gpu-1.7.0-cp37-cp37m-manylinux2014_x86_64.whl (89.4MB)\n",
            "\u001b[K     |████████████████████████████████| 89.4MB 32kB/s \n",
            "\u001b[?25hInstalling collected packages: faiss-gpu\n",
            "Successfully installed faiss-gpu-1.7.0\n"
          ],
          "name": "stdout"
        }
      ]
    },
    {
      "cell_type": "code",
      "metadata": {
        "colab": {
          "base_uri": "https://localhost:8080/"
        },
        "id": "AqJMn0NQicC4",
        "outputId": "74cdf70b-fb18-4741-9c37-c5d898d3e26a"
      },
      "source": [
        "!pip install emoji  # 제목에 있는 이모티콘 출력시 사용"
      ],
      "execution_count": 5,
      "outputs": [
        {
          "output_type": "stream",
          "text": [
            "Collecting emoji\n",
            "\u001b[?25l  Downloading https://files.pythonhosted.org/packages/24/fa/b3368f41b95a286f8d300e323449ab4e86b85334c2e0b477e94422b8ed0f/emoji-1.2.0-py3-none-any.whl (131kB)\n",
            "\r\u001b[K     |██▌                             | 10kB 21.0MB/s eta 0:00:01\r\u001b[K     |█████                           | 20kB 28.0MB/s eta 0:00:01\r\u001b[K     |███████▌                        | 30kB 19.4MB/s eta 0:00:01\r\u001b[K     |██████████                      | 40kB 18.7MB/s eta 0:00:01\r\u001b[K     |████████████▌                   | 51kB 21.1MB/s eta 0:00:01\r\u001b[K     |███████████████                 | 61kB 19.9MB/s eta 0:00:01\r\u001b[K     |█████████████████▌              | 71kB 19.9MB/s eta 0:00:01\r\u001b[K     |████████████████████            | 81kB 21.2MB/s eta 0:00:01\r\u001b[K     |██████████████████████▌         | 92kB 19.0MB/s eta 0:00:01\r\u001b[K     |█████████████████████████       | 102kB 19.5MB/s eta 0:00:01\r\u001b[K     |███████████████████████████▌    | 112kB 19.5MB/s eta 0:00:01\r\u001b[K     |██████████████████████████████  | 122kB 19.5MB/s eta 0:00:01\r\u001b[K     |████████████████████████████████| 133kB 19.5MB/s \n",
            "\u001b[?25hInstalling collected packages: emoji\n",
            "Successfully installed emoji-1.2.0\n"
          ],
          "name": "stdout"
        }
      ]
    },
    {
      "cell_type": "code",
      "metadata": {
        "id": "OKJnV4sC7n_b"
      },
      "source": [
        "import warnings\n",
        "warnings.filterwarnings(action='ignore')"
      ],
      "execution_count": 6,
      "outputs": []
    },
    {
      "cell_type": "code",
      "metadata": {
        "id": "rWTCd41xJd1V"
      },
      "source": [
        "import numpy as np\n",
        "import pandas as pd\n",
        "\n",
        "import seaborn as sns\n",
        "import matplotlib.pyplot as plt\n",
        "\n",
        "import faiss\n",
        "from gensim.models import Word2Vec, FastText"
      ],
      "execution_count": 7,
      "outputs": []
    },
    {
      "cell_type": "code",
      "metadata": {
        "colab": {
          "base_uri": "https://localhost:8080/",
          "height": 194
        },
        "id": "lUTd5Rz2XWL6",
        "outputId": "cd52a6f5-d5c7-41ca-d2b7-6dab57a0b195"
      },
      "source": [
        "data = pd.read_csv('titles_preprocessed.csv', usecols = [5, 6])\n",
        "data.head()"
      ],
      "execution_count": 8,
      "outputs": [
        {
          "output_type": "execute_result",
          "data": {
            "text/html": [
              "<div>\n",
              "<style scoped>\n",
              "    .dataframe tbody tr th:only-of-type {\n",
              "        vertical-align: middle;\n",
              "    }\n",
              "\n",
              "    .dataframe tbody tr th {\n",
              "        vertical-align: top;\n",
              "    }\n",
              "\n",
              "    .dataframe thead th {\n",
              "        text-align: right;\n",
              "    }\n",
              "</style>\n",
              "<table border=\"1\" class=\"dataframe\">\n",
              "  <thead>\n",
              "    <tr style=\"text-align: right;\">\n",
              "      <th></th>\n",
              "      <th>views</th>\n",
              "      <th>preprocessed_title</th>\n",
              "    </tr>\n",
              "  </thead>\n",
              "  <tbody>\n",
              "    <tr>\n",
              "      <th>0</th>\n",
              "      <td>30038.0</td>\n",
              "      <td>만 19세 연봉 1억 친구와 레스토랑 브이로그</td>\n",
              "    </tr>\n",
              "    <tr>\n",
              "      <th>1</th>\n",
              "      <td>29102.0</td>\n",
              "      <td>bbq 신메뉴 체고치 순살 먹어봄</td>\n",
              "    </tr>\n",
              "    <tr>\n",
              "      <th>2</th>\n",
              "      <td>25022.0</td>\n",
              "      <td>구찌 라이톤이랑 시계 후기</td>\n",
              "    </tr>\n",
              "    <tr>\n",
              "      <th>3</th>\n",
              "      <td>49551.0</td>\n",
              "      <td>엽기 로제떡볶이랑 허니 콤보 혼내줌</td>\n",
              "    </tr>\n",
              "    <tr>\n",
              "      <th>4</th>\n",
              "      <td>74348.0</td>\n",
              "      <td>어림도 없지 바로 마라탕 먹어버림</td>\n",
              "    </tr>\n",
              "  </tbody>\n",
              "</table>\n",
              "</div>"
            ],
            "text/plain": [
              "     views         preprocessed_title\n",
              "0  30038.0  만 19세 연봉 1억 친구와 레스토랑 브이로그\n",
              "1  29102.0         bbq 신메뉴 체고치 순살 먹어봄\n",
              "2  25022.0             구찌 라이톤이랑 시계 후기\n",
              "3  49551.0        엽기 로제떡볶이랑 허니 콤보 혼내줌\n",
              "4  74348.0         어림도 없지 바로 마라탕 먹어버림"
            ]
          },
          "metadata": {
            "tags": []
          },
          "execution_count": 8
        }
      ]
    },
    {
      "cell_type": "code",
      "metadata": {
        "colab": {
          "base_uri": "https://localhost:8080/"
        },
        "id": "wSKQmi4q55tJ",
        "outputId": "dfa45358-3077-4129-98af-70582adedbf6"
      },
      "source": [
        "len(data)"
      ],
      "execution_count": 9,
      "outputs": [
        {
          "output_type": "execute_result",
          "data": {
            "text/plain": [
              "101164"
            ]
          },
          "metadata": {
            "tags": []
          },
          "execution_count": 9
        }
      ]
    },
    {
      "cell_type": "code",
      "metadata": {
        "id": "cymGOO9nXtn5",
        "colab": {
          "base_uri": "https://localhost:8080/"
        },
        "outputId": "c37abdb4-630c-4347-c4ef-7c9ef91d74e1"
      },
      "source": [
        "# title\n",
        "titles = data['preprocessed_title']\n",
        "titles.head()"
      ],
      "execution_count": 10,
      "outputs": [
        {
          "output_type": "execute_result",
          "data": {
            "text/plain": [
              "0    만 19세 연봉 1억 친구와 레스토랑 브이로그\n",
              "1           bbq 신메뉴 체고치 순살 먹어봄\n",
              "2               구찌 라이톤이랑 시계 후기\n",
              "3          엽기 로제떡볶이랑 허니 콤보 혼내줌\n",
              "4           어림도 없지 바로 마라탕 먹어버림\n",
              "Name: preprocessed_title, dtype: object"
            ]
          },
          "metadata": {
            "tags": []
          },
          "execution_count": 10
        }
      ]
    },
    {
      "cell_type": "code",
      "metadata": {
        "colab": {
          "base_uri": "https://localhost:8080/",
          "height": 315
        },
        "id": "__wEn30770xY",
        "outputId": "fb4672ef-095d-4bd7-c076-b7e82050f500"
      },
      "source": [
        "# 제목 길이 분포 \n",
        "print('제목의 최대 길이 :',max(len(l) for l in titles))\n",
        "print('제목의 평균 길이 :',sum(map(len, titles))/len(titles))\n",
        "plt.hist([len(s) for s in titles], bins=50)\n",
        "plt.xlabel('length of titles')\n",
        "plt.ylabel('number of titles')\n",
        "plt.show()"
      ],
      "execution_count": 11,
      "outputs": [
        {
          "output_type": "stream",
          "text": [
            "제목의 최대 길이 : 231\n",
            "제목의 평균 길이 : 54.892738523585464\n"
          ],
          "name": "stdout"
        },
        {
          "output_type": "display_data",
          "data": {
            "image/png": "[encoded data removed]",
            "text/plain": [
              "<Figure size 432x288 with 1 Axes>"
            ]
          },
          "metadata": {
            "tags": [],
            "needs_background": "light"
          }
        }
      ]
    },
    {
      "cell_type": "markdown",
      "metadata": {
        "id": "sOvN3Hi5oIqZ"
      },
      "source": [
        "## Load Model"
      ]
    },
    {
      "cell_type": "code",
      "metadata": {
        "id": "MJ2lLWq8h3P9"
      },
      "source": [
        "from gensim.models import KeyedVectors\n",
        "from gensim.models import Word2Vec\n",
        "\n",
        "# 벡터 임베딩한 모델 불러오기 -> 새로 들어오는 제목들에 대해 벡터 새로 계산해줘야 함\n",
        "model = KeyedVectors.load_word2vec_format(\"pretest_w2v_size10\")"
      ],
      "execution_count": 12,
      "outputs": []
    },
    {
      "cell_type": "code",
      "metadata": {
        "colab": {
          "base_uri": "https://localhost:8080/"
        },
        "id": "7buPskLA55tL",
        "outputId": "496ac748-90ef-4a65-cbb2-da6abbc14148"
      },
      "source": [
        "# 모델 잘 불러져왔는지 확인\n",
        "model.most_similar('브이로그', topn = 20)"
      ],
      "execution_count": 13,
      "outputs": [
        {
          "output_type": "execute_result",
          "data": {
            "text/plain": [
              "[('당면볶이', 0.941170871257782),\n",
              " ('에버랜드에', 0.9249781370162964),\n",
              " ('jmt', 0.9245656132698059),\n",
              " ('찡긋', 0.9127998948097229),\n",
              " ('yoohoo', 0.9112472534179688),\n",
              " ('위대한', 0.9065719842910767),\n",
              " ('폭망', 0.9053308963775635),\n",
              " ('윤두준이', 0.8952783346176147),\n",
              " ('러닝', 0.89508056640625),\n",
              " ('민낯', 0.88437819480896),\n",
              " ('문채원x이준기', 0.8841549158096313),\n",
              " ('갬성', 0.8774093389511108),\n",
              " ('잡담', 0.8758766651153564),\n",
              " ('공사', 0.8725690841674805),\n",
              " ('가리고', 0.8714513778686523),\n",
              " ('너가', 0.8705086708068848),\n",
              " ('아침은', 0.8648583889007568),\n",
              " ('gesture', 0.8622234463691711),\n",
              " ('망한', 0.8578324317932129),\n",
              " ('설레서', 0.8549869656562805)]"
            ]
          },
          "metadata": {
            "tags": []
          },
          "execution_count": 13
        }
      ]
    },
    {
      "cell_type": "markdown",
      "metadata": {
        "id": "JCYR0rbg55tM"
      },
      "source": [
        "## Load Title Vectors"
      ]
    },
    {
      "cell_type": "code",
      "metadata": {
        "id": "66VgML8hJBoD",
        "colab": {
          "base_uri": "https://localhost:8080/",
          "height": 194
        },
        "outputId": "afa2c5f1-ccdc-4031-d18f-874a3638c0ea"
      },
      "source": [
        "# load title vector dataframe\n",
        "titvec_df = pd.read_csv('pretest_tit2vec_size10.csv')\n",
        "titvec_df.head()"
      ],
      "execution_count": 14,
      "outputs": [
        {
          "output_type": "execute_result",
          "data": {
            "text/html": [
              "<div>\n",
              "<style scoped>\n",
              "    .dataframe tbody tr th:only-of-type {\n",
              "        vertical-align: middle;\n",
              "    }\n",
              "\n",
              "    .dataframe tbody tr th {\n",
              "        vertical-align: top;\n",
              "    }\n",
              "\n",
              "    .dataframe thead th {\n",
              "        text-align: right;\n",
              "    }\n",
              "</style>\n",
              "<table border=\"1\" class=\"dataframe\">\n",
              "  <thead>\n",
              "    <tr style=\"text-align: right;\">\n",
              "      <th></th>\n",
              "      <th>title</th>\n",
              "      <th>0</th>\n",
              "      <th>1</th>\n",
              "      <th>2</th>\n",
              "      <th>3</th>\n",
              "      <th>4</th>\n",
              "      <th>5</th>\n",
              "      <th>6</th>\n",
              "      <th>7</th>\n",
              "      <th>8</th>\n",
              "      <th>9</th>\n",
              "    </tr>\n",
              "  </thead>\n",
              "  <tbody>\n",
              "    <tr>\n",
              "      <th>0</th>\n",
              "      <td>만 19세 연봉 1억 친구와 레스토랑 브이로그</td>\n",
              "      <td>0.017557</td>\n",
              "      <td>0.012482</td>\n",
              "      <td>0.015077</td>\n",
              "      <td>0.024598</td>\n",
              "      <td>-0.004465</td>\n",
              "      <td>-0.000330</td>\n",
              "      <td>-0.016802</td>\n",
              "      <td>-0.003626</td>\n",
              "      <td>0.007479</td>\n",
              "      <td>-0.003360</td>\n",
              "    </tr>\n",
              "    <tr>\n",
              "      <th>1</th>\n",
              "      <td>bbq 신메뉴 체고치 순살 먹어봄</td>\n",
              "      <td>-0.005993</td>\n",
              "      <td>0.002920</td>\n",
              "      <td>0.020980</td>\n",
              "      <td>-0.008480</td>\n",
              "      <td>-0.001205</td>\n",
              "      <td>0.002806</td>\n",
              "      <td>-0.007374</td>\n",
              "      <td>0.014888</td>\n",
              "      <td>-0.040411</td>\n",
              "      <td>0.011661</td>\n",
              "    </tr>\n",
              "    <tr>\n",
              "      <th>2</th>\n",
              "      <td>구찌 라이톤이랑 시계 후기</td>\n",
              "      <td>-0.006396</td>\n",
              "      <td>0.032850</td>\n",
              "      <td>0.020178</td>\n",
              "      <td>-0.004815</td>\n",
              "      <td>0.010401</td>\n",
              "      <td>-0.017471</td>\n",
              "      <td>-0.010927</td>\n",
              "      <td>-0.010326</td>\n",
              "      <td>-0.015712</td>\n",
              "      <td>-0.037203</td>\n",
              "    </tr>\n",
              "    <tr>\n",
              "      <th>3</th>\n",
              "      <td>엽기 로제떡볶이랑 허니 콤보 혼내줌</td>\n",
              "      <td>-0.012092</td>\n",
              "      <td>-0.006212</td>\n",
              "      <td>-0.002522</td>\n",
              "      <td>0.006414</td>\n",
              "      <td>-0.016705</td>\n",
              "      <td>-0.014267</td>\n",
              "      <td>0.007094</td>\n",
              "      <td>0.007751</td>\n",
              "      <td>0.032270</td>\n",
              "      <td>-0.002778</td>\n",
              "    </tr>\n",
              "    <tr>\n",
              "      <th>4</th>\n",
              "      <td>어림도 없지 바로 마라탕 먹어버림</td>\n",
              "      <td>-0.001421</td>\n",
              "      <td>0.020572</td>\n",
              "      <td>-0.001041</td>\n",
              "      <td>0.021219</td>\n",
              "      <td>0.031324</td>\n",
              "      <td>0.025298</td>\n",
              "      <td>-0.004882</td>\n",
              "      <td>0.017797</td>\n",
              "      <td>0.012707</td>\n",
              "      <td>-0.001971</td>\n",
              "    </tr>\n",
              "  </tbody>\n",
              "</table>\n",
              "</div>"
            ],
            "text/plain": [
              "                       title         0         1  ...         7         8         9\n",
              "0  만 19세 연봉 1억 친구와 레스토랑 브이로그  0.017557  0.012482  ... -0.003626  0.007479 -0.003360\n",
              "1         bbq 신메뉴 체고치 순살 먹어봄 -0.005993  0.002920  ...  0.014888 -0.040411  0.011661\n",
              "2             구찌 라이톤이랑 시계 후기 -0.006396  0.032850  ... -0.010326 -0.015712 -0.037203\n",
              "3        엽기 로제떡볶이랑 허니 콤보 혼내줌 -0.012092 -0.006212  ...  0.007751  0.032270 -0.002778\n",
              "4         어림도 없지 바로 마라탕 먹어버림 -0.001421  0.020572  ...  0.017797  0.012707 -0.001971\n",
              "\n",
              "[5 rows x 11 columns]"
            ]
          },
          "metadata": {
            "tags": []
          },
          "execution_count": 14
        }
      ]
    },
    {
      "cell_type": "code",
      "metadata": {
        "colab": {
          "base_uri": "https://localhost:8080/"
        },
        "id": "DO3YIlRJ55tM",
        "outputId": "fff0a1a5-4bf6-4fa3-bae7-215b0c308f7e"
      },
      "source": [
        "titvec_df_dropna = titvec_df.dropna()   # na 값 있는 column 제거\n",
        "titvec_df_dropna.isna().sum()           # 잘 제거되었는지 확인"
      ],
      "execution_count": 15,
      "outputs": [
        {
          "output_type": "execute_result",
          "data": {
            "text/plain": [
              "title    0\n",
              "0        0\n",
              "1        0\n",
              "2        0\n",
              "3        0\n",
              "4        0\n",
              "5        0\n",
              "6        0\n",
              "7        0\n",
              "8        0\n",
              "9        0\n",
              "dtype: int64"
            ]
          },
          "metadata": {
            "tags": []
          },
          "execution_count": 15
        }
      ]
    },
    {
      "cell_type": "code",
      "metadata": {
        "id": "B4QW1cQLUF30",
        "tags": []
      },
      "source": [
        "# 제목 벡터값만 따로 저장\n",
        "titvec_val = titvec_df_dropna.iloc[:, 1:]  "
      ],
      "execution_count": 16,
      "outputs": []
    },
    {
      "cell_type": "code",
      "metadata": {
        "colab": {
          "base_uri": "https://localhost:8080/"
        },
        "id": "vV3qnr1M55tN",
        "outputId": "39e22296-e7f1-4d71-c0a7-dd77cb85139d"
      },
      "source": [
        "titvec = titvec_val.to_numpy()\n",
        "print(titvec.shape) # 제목 벡터 array 크기\n",
        "print(titvec)       # 제목 벡터 array 출력"
      ],
      "execution_count": 17,
      "outputs": [
        {
          "output_type": "stream",
          "text": [
            "(100232, 10)\n",
            "[[ 0.01755693  0.01248215  0.01507709 ... -0.00362589  0.00747885\n",
            "  -0.00336046]\n",
            " [-0.00599256  0.00291986  0.02098002 ...  0.01488801 -0.04041109\n",
            "   0.01166066]\n",
            " [-0.00639585  0.0328501   0.0201778  ... -0.01032596 -0.01571215\n",
            "  -0.03720285]\n",
            " ...\n",
            " [-0.03919062  0.00802403 -0.01038154 ...  0.01351542  0.0014003\n",
            "  -0.00022172]\n",
            " [-0.0144567  -0.00923103  0.02350847 ... -0.01230007  0.01243668\n",
            "   0.00185214]\n",
            " [ 0.00331391  0.01265591  0.00374245 ...  0.00482195  0.01440532\n",
            "  -0.0009858 ]]\n"
          ],
          "name": "stdout"
        }
      ]
    },
    {
      "cell_type": "code",
      "metadata": {
        "colab": {
          "base_uri": "https://localhost:8080/"
        },
        "id": "Luz_eEHYGEAg",
        "outputId": "83bfb665-3fa7-4234-b890-f39d5c48a941"
      },
      "source": [
        "# titvec c-contiguous 로 만들어주기 (메모리에 연속되어 저장)\n",
        "titvec_c = np.ascontiguousarray(titvec, dtype = np.float32)\n",
        "print(titvec_c.shape) \n",
        "titvec_c.flags['C_CONTIGUOUS']  "
      ],
      "execution_count": 18,
      "outputs": [
        {
          "output_type": "stream",
          "text": [
            "(100232, 10)\n"
          ],
          "name": "stdout"
        },
        {
          "output_type": "execute_result",
          "data": {
            "text/plain": [
              "True"
            ]
          },
          "metadata": {
            "tags": []
          },
          "execution_count": 18
        }
      ]
    },
    {
      "cell_type": "markdown",
      "metadata": {
        "id": "tvQkR6uaILop"
      },
      "source": [
        "## Calculate Vector Distance - **FAISS INDEX 있을 시 실행X**\n",
        "\n",
        "중간중간에 제목 벡터가 할당되지 않은 제목들이 있음(결측치) <br>\n",
        "인덱스 연속적이지 않으므로 각 제목벡터당 인덱스 할당해 주어야 함 "
      ]
    },
    {
      "cell_type": "code",
      "metadata": {
        "colab": {
          "base_uri": "https://localhost:8080/"
        },
        "id": "cWpOmDJ6I3De",
        "outputId": "90230446-14c3-45bd-bdb9-f56fb2112e58"
      },
      "source": [
        "ids = titvec_df_dropna.index                  # 제목벡터의 인덱스 가져오기\n",
        "ids = np.ascontiguousarray(ids, dtype = int)  # 인덱스 메모리에 연속된 형태로 저장\n",
        "ids"
      ],
      "execution_count": 19,
      "outputs": [
        {
          "output_type": "execute_result",
          "data": {
            "text/plain": [
              "array([     0,      1,      2, ..., 101161, 101162, 101163])"
            ]
          },
          "metadata": {
            "tags": []
          },
          "execution_count": 19
        }
      ]
    },
    {
      "cell_type": "code",
      "metadata": {
        "colab": {
          "base_uri": "https://localhost:8080/"
        },
        "id": "7fzITBZ7I3Fi",
        "outputId": "9d587396-d650-4ac5-967f-a32c94b6fb5d"
      },
      "source": [
        "# 처음 3 개의 제목 벡터에 대한 데이터 출력\n",
        "for cnt, (id, vec) in enumerate(zip(ids, titvec_c)):\n",
        "  print(id, vec)  # 인덱스와 벡터 함께 출력 \n",
        "  if cnt > 2: break"
      ],
      "execution_count": 20,
      "outputs": [
        {
          "output_type": "stream",
          "text": [
            "0 [ 0.01755693  0.01248215  0.01507709  0.02459846 -0.00446537 -0.00032951\n",
            " -0.01680192 -0.00362589  0.00747885 -0.00336046]\n",
            "1 [-0.00599256  0.00291986  0.02098002 -0.00847964 -0.0012049   0.00280631\n",
            " -0.00737405  0.01488801 -0.04041109  0.01166066]\n",
            "2 [-0.00639585  0.0328501   0.0201778  -0.00481534  0.0104013  -0.01747055\n",
            " -0.01092726 -0.01032596 -0.01571215 -0.03720285]\n",
            "3 [-0.01209213 -0.0062116  -0.00252188  0.00641388 -0.01670505 -0.01426748\n",
            "  0.00709433  0.0077512   0.03227003 -0.00277786]\n"
          ],
          "name": "stdout"
        }
      ]
    },
    {
      "cell_type": "code",
      "metadata": {
        "id": "Md1ZMM-0I3Hg"
      },
      "source": [
        "# ID 값과 titvec 매핑시키기\n",
        "index = faiss.IndexFlatL2(titvec_c.shape[1])  \n",
        "index = faiss.IndexIDMap2(index)              # index를 ID와 매핑할 수 있게 만들어줌\n",
        "index.add_with_ids(titvec_c, ids)             # add() 함수 사용하여 벡터 값 넣어주기 -> 벡터간 거리 계산"
      ],
      "execution_count": 21,
      "outputs": []
    },
    {
      "cell_type": "code",
      "metadata": {
        "id": "pwDt2vzcNbQE"
      },
      "source": [
        "# faiss 저장\n",
        "faiss.write_index(index, 'titvec.index')"
      ],
      "execution_count": 22,
      "outputs": []
    },
    {
      "cell_type": "markdown",
      "metadata": {
        "id": "pweLvLbmi8Et"
      },
      "source": [
        "## Load Faiss Similarity Index"
      ]
    },
    {
      "cell_type": "code",
      "metadata": {
        "id": "r5VCDx9SNlq6"
      },
      "source": [
        "# faiss 불러오기\n",
        "faiss_id = faiss.read_index('titvec.index')"
      ],
      "execution_count": 23,
      "outputs": []
    },
    {
      "cell_type": "code",
      "metadata": {
        "colab": {
          "base_uri": "https://localhost:8080/"
        },
        "id": "VjaOTUbQN0_R",
        "outputId": "50ebe28b-de8c-402f-9101-debe54137ac7"
      },
      "source": [
        "faiss_id.reconstruct(0) # reconstruct 통해 id 값 넣으면 원래 벡터 구하기 가능"
      ],
      "execution_count": 24,
      "outputs": [
        {
          "output_type": "execute_result",
          "data": {
            "text/plain": [
              "array([ 0.01755693,  0.01248215,  0.01507709,  0.02459846, -0.00446537,\n",
              "       -0.00032951, -0.01680192, -0.00362589,  0.00747885, -0.00336046],\n",
              "      dtype=float32)"
            ]
          },
          "metadata": {
            "tags": []
          },
          "execution_count": 24
        }
      ]
    },
    {
      "cell_type": "markdown",
      "metadata": {
        "id": "lIjnLtd87EIi"
      },
      "source": [
        "## Recommendation System\n",
        "\n",
        "제목/키워드 입력 시 해당 제목과 가장 유사도 높은 5개의 제목 출력"
      ]
    },
    {
      "cell_type": "code",
      "metadata": {
        "id": "n5pg7XrKJoWM"
      },
      "source": [
        "# 검색\n",
        "import time\n",
        "def search(query):\n",
        "  t = time.time()\n",
        "  query_vec = None  # 새로 들어온 제목벡터\n",
        "\n",
        "  # 제목 벡터 계산하기\n",
        "  count = 0\n",
        "  for word in query.split():    # 입력 제목에 대해\n",
        "    if word in model.wv.vocab:  # 모델의 사전에 존재할 시\n",
        "      count+=1\n",
        "      # 제목에 있는 단어들의 벡터값 더하기\n",
        "      if query_vec is None: query_vec = model[word]\n",
        "      else: query_vec = query_vec + model[word]\n",
        "  if query_vec is not None:     # 단어 벡터의 합을 제목 단어 수로 나누기\n",
        "    query_vec = query_vec / count\n",
        "\n",
        "  k = 5 #유사값 k 개 만큼 가져오기\n",
        "  top_k = index.search(query_vec.reshape(1, -1), k) # 제목 유사도 계산\n",
        "  # print('total time: {}'.format(time.time()-t))     # 계산 시간\n",
        "  \n",
        "  print('Predicted Views:', sum(top_k[1].tolist()[0])/len(top_k[1].tolist()[0]))\n",
        "\n",
        "  # 유사도 높은 제목들 +조회수, 조회수만 담은 리스트 리턴\n",
        "  return [titles[id]+' ['+str(int(data['views'][id]))+']' for id in top_k[1].tolist()[0]]"
      ],
      "execution_count": 42,
      "outputs": []
    },
    {
      "cell_type": "code",
      "metadata": {
        "id": "-uElxf8oj9H9"
      },
      "source": [
        "import emoji\n",
        "\n",
        "# 입력된 제목과 유사도 높은 제목들 k개를 조회수와 함께 출력\n",
        "def show_result():\n",
        "  query = input()\n",
        "  results = search(query)\n",
        "  print('results:')\n",
        "  for result in results:\n",
        "    print('\\t\\t *', emoji.emojize(result),)"
      ],
      "execution_count": 43,
      "outputs": []
    },
    {
      "cell_type": "code",
      "metadata": {
        "colab": {
          "base_uri": "https://localhost:8080/"
        },
        "id": "xWxmbCdPkYEf",
        "outputId": "f67db6f8-7cdf-4bde-fe24-92538a65732b"
      },
      "source": [
        "show_result()"
      ],
      "execution_count": 44,
      "outputs": [
        {
          "output_type": "stream",
          "text": [
            "자취생 브이로그\n",
            "Predicted Views: 72028.0\n",
            "results:\n",
            "\t\t * 자취생 브이로그 고등어무조림∙카페∙야채곱창∙데리야끼막창∙우렁쌈장∙양배추쌈∙친구들만나기 [52047]\n",
            "\t\t * 자취생 브이로그 성수동 소바식당∙소영씨스토어∙차돌떡볶이∙마켓컬리∙다만 악에서 구하소서 [43459]\n",
            "\t\t * 자취생 브이로그 성북동 나들이∙예쁜 카페∙맛집탐방∙자라쇼핑∙1박2일 부산여행∙게장좋아 [48270]\n",
            "\t\t * 부캐 김교수의 첫강의 브이로그 [17945]\n",
            "\t\t * 시험관시술 브이로그 수건분리작업 [1138]\n"
          ],
          "name": "stdout"
        }
      ]
    },
    {
      "cell_type": "code",
      "metadata": {
        "colab": {
          "base_uri": "https://localhost:8080/"
        },
        "id": "P-X2F08ij16S",
        "outputId": "82a46056-200d-4e15-f1c5-2101f7054e14"
      },
      "source": [
        "show_result()"
      ],
      "execution_count": 45,
      "outputs": [
        {
          "output_type": "stream",
          "text": [
            "일상 브이로그\n",
            "Predicted Views: 28785.8\n",
            "results:\n",
            "\t\t * 아내없는 유부남의 일상 브이로그 [859717]\n",
            "\t\t * 일상 브이로그 🥐🥯🥖🥨 [147]\n",
            "\t\t * 일상 브이로그 오키나와여행 [461799]\n",
            "\t\t * 일상 브이로그 [1317499]\n",
            "\t\t * 마리스 브이로그 재택근무자의 일상 브이로그 [16423]\n"
          ],
          "name": "stdout"
        }
      ]
    },
    {
      "cell_type": "code",
      "metadata": {
        "colab": {
          "base_uri": "https://localhost:8080/"
        },
        "id": "9ouvIQ8vkcuK",
        "outputId": "6eae875c-9dd5-4cee-ccdf-5742eaab3da7"
      },
      "source": [
        "show_result()"
      ],
      "execution_count": 46,
      "outputs": [
        {
          "output_type": "stream",
          "text": [
            "공대생 브이로그\n",
            "Predicted Views: 47054.6\n",
            "results:\n",
            "\t\t * 임고생 브이로그 임용고시 준비생 첫 브이로그 🤍 [5806]\n",
            "\t\t * 데일리 브이로그 아토와 함께 애견동반카페 다녀오다 l 서울라이트 [87817]\n",
            "\t\t * dktv 우규민과 메이저리그 정말 가능 ? [1079]\n",
            "\t\t * 호주vlog 21 🥞 시드니일상브이로그 ft 마지막출근 농장계획 음주브이로그 시드니아울렛 팬케이크온더록스 셀프염색 서브웨이 네일아트 즉석떡볶이 민경vlog [1019]\n",
            "\t\t * 쌉니다천리마마트 문석구 제법 착해 ? 한없이 다정한 석구에게 치이는 영상 pegasus market diggle [499300]\n"
          ],
          "name": "stdout"
        }
      ]
    },
    {
      "cell_type": "code",
      "metadata": {
        "id": "sxyuGr4asK6b"
      },
      "source": [
        "# n 개의 제목을 입력 받아 각각의 예측 조회수 출력\n",
        "\n",
        "def get_titles(): \n",
        "  n = int(input('입력할 제목의 수: '))\n",
        "  for i in range(n):\n",
        "    query = input()\n",
        "    results = search(query)\n"
      ],
      "execution_count": 47,
      "outputs": []
    },
    {
      "cell_type": "code",
      "metadata": {
        "colab": {
          "base_uri": "https://localhost:8080/"
        },
        "id": "L1ItmIuNsjAO",
        "outputId": "088c513c-a08b-4ce3-a81f-f604a64dba78"
      },
      "source": [
        "get_titles()"
      ],
      "execution_count": 48,
      "outputs": [
        {
          "output_type": "stream",
          "text": [
            "입력할 제목의 수: 3\n",
            "자취생 브이로그\n",
            "Predicted Views: 72028.0\n",
            "공대생 브이로그\n",
            "Predicted Views: 47054.6\n",
            "일상 브이로그\n",
            "Predicted Views: 28785.8\n"
          ],
          "name": "stdout"
        }
      ]
    },
    {
      "cell_type": "markdown",
      "metadata": {
        "id": "7csA4scak4ZB"
      },
      "source": [
        "**개선해야 할 점들**\n",
        "- 예시 제목 입력값 전처리 -> 특수문자, 이모티콘 처리\n",
        "- !조회수! 연관성 \n",
        "- 구독자 수 고려\n",
        "  - 같은 제목이더라도 채널에 따라 조회수 편차가 심함 \n",
        "- 기본 데이터 전처리 \n",
        "  - 음악, 방송사 채널 제거 -> 음악과 방송사 채널은 제목보다는 컨텐츠와 가수, 연예인의 인기도 등의 변수들의 영향이 많이 들어가게 됨\n",
        "- 예상 조회수 계산시 평균의 오류 생기게 됨\n",
        "\n",
        "**시도해 볼 것**\n",
        "- KOBERT 임베딩\n",
        "- 딥러닝 -> 조회수 구간별로 나누어 Multiclass Classification"
      ]
    },
    {
      "cell_type": "code",
      "metadata": {
        "id": "d4wd-BRYkfYF"
      },
      "source": [
        ""
      ],
      "execution_count": 31,
      "outputs": []
    }
  ]
}